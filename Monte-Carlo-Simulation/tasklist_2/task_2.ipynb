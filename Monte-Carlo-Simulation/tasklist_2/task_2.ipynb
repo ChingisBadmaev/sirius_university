{
 "cells": [
  {
   "cell_type": "code",
   "execution_count": 1,
   "metadata": {},
   "outputs": [],
   "source": [
    "import numpy as np\n",
    "import pandas as pd\n",
    "import matplotlib.pyplot as plt\n",
    "import seaborn as sns\n",
    "from tqdm import tqdm\n",
    "import math\n",
    "from scipy.linalg import pascal\n",
    "from scipy.stats import norm\n",
    "import warnings\n",
    "import scipy\n",
    "from numba import njit\n",
    "warnings.filterwarnings(\"ignore\")"
   ]
  },
  {
   "attachments": {},
   "cell_type": "markdown",
   "metadata": {},
   "source": [
    "$$\\frac{\\partial u}{\\partial \\tau} = \\frac{\\partial^{2} u}{\\partial x^{2}} + \\frac{\\partial u}{\\partial x} \\left(1 + \\frac{2r}{\\sigma^{2}}\\right)$$\n",
    "$$ h = {X \\over M} $$\n",
    "$$ tau = {\\widetilde \\Tau \\over N} $$"
   ]
  },
  {
   "attachments": {},
   "cell_type": "markdown",
   "metadata": {},
   "source": [
    "\n",
    "$$ u_{m}^{n + 1}  = u_{m}^{n} + {\\tau \\over h^{2}}  (u_{m - 1}^{n} - 2u_{m}^{n} + u_{m + 1}^{n}) + {\\tau \\over h}(1 + D)(u_{m - 1}^{n} + u_{m}^{n})$$"
   ]
  },
  {
   "cell_type": "code",
   "execution_count": 20,
   "metadata": {},
   "outputs": [
    {
     "name": "stdout",
     "output_type": "stream",
     "text": [
      "tau: 6.250000000000001e-06\n",
      "h: 0.0014384103622589045\n",
      "\n",
      "U_shape: 40000\n",
      "6.0414948125848875\n"
     ]
    }
   ],
   "source": [
    "T, N = 1, 2 * 10 ** 2\n",
    "S_1, S_2, K = 300, 400, 350\n",
    "r, sigma= 0.1, 0.05\n",
    "M = N\n",
    "T_wave = (sigma ** 2) * T / 2\n",
    "D = (2 * r) / (sigma ** 2)\n",
    "X_1 = np.log(S_1 / K)\n",
    "X_2 = np.log(S_2 / K)\n",
    "X_arr = np.linspace(X_1, X_2, N)\n",
    "\n",
    "tau = T_wave / N\n",
    "h = abs(X_1 - X_2) / N\n",
    "print('tau:', tau)\n",
    "print('h:', h)\n",
    "print()\n",
    "U_shape = (N, N)\n",
    "print('U_shape:', N * N)\n",
    "U = np.zeros(U_shape)\n",
    "print(tau / (pow(h , 2) / 2))"
   ]
  },
  {
   "cell_type": "code",
   "execution_count": 3,
   "metadata": {},
   "outputs": [],
   "source": [
    "# инициализация, граничные условия\n",
    "D = (2 * r) / (sigma ** 2)\n",
    "\n",
    "for m in range(len(X_arr)):\n",
    "    if 1 - np.exp(-X_arr[m]) > 0:\n",
    "        U[0][m] = 1 - np.exp(-X_arr[m])\n",
    "    else:\n",
    "        U[0][m] = 0\n",
    "\n",
    "for n in range(N):\n",
    "    U[n, -1] = 1 - np.exp(-D * tau * n - X_arr[-1])"
   ]
  },
  {
   "cell_type": "code",
   "execution_count": 4,
   "metadata": {},
   "outputs": [],
   "source": [
    "def find_u(u_left, u_mid, u_right, tau, h, D):\n",
    "    # нахождение значения в узле\n",
    "    ans = u_mid + (tau / (h ** 2)) * (u_left - 2 * u_mid + u_right) + ((tau / h) * (1 + D)) * (u_right - u_mid)\n",
    "    if ans > 0:\n",
    "        return ans\n",
    "    return 0"
   ]
  },
  {
   "cell_type": "code",
   "execution_count": 5,
   "metadata": {},
   "outputs": [
    {
     "name": "stderr",
     "output_type": "stream",
     "text": [
      "100%|██████████| 199/199 [00:00<00:00, 2104.74it/s]\n"
     ]
    }
   ],
   "source": [
    "# поиск значений на сетке\n",
    "for n in tqdm(range(N - 1)):\n",
    "    for m in range(1, M - 1):\n",
    "        U[n + 1, m] = find_u(U[n, m - 1], U[n, m], U[n, m + 1], tau, h, D)\n",
    "V = U * np.linspace(S_1, S_2, M)\n",
    "V_numerical = pd.DataFrame(V)\n",
    "ans_numerical = V_numerical.sum(axis=0) / V_numerical.shape[0]\n",
    "ans_numerical = ans_numerical"
   ]
  },
  {
   "cell_type": "code",
   "execution_count": 6,
   "metadata": {},
   "outputs": [],
   "source": [
    "pd.DataFrame(U).to_csv('weight_matrix_U_2.csv')"
   ]
  },
  {
   "cell_type": "code",
   "execution_count": 7,
   "metadata": {},
   "outputs": [],
   "source": [
    "def d_plus(s, sigma, T, t, r, strike): \n",
    "    return ((math.log(s / strike)) + (T - t) * (r + (sigma ** 2) / 2)) / (sigma * math.sqrt(T - t))"
   ]
  },
  {
   "cell_type": "code",
   "execution_count": 8,
   "metadata": {},
   "outputs": [],
   "source": [
    "def d_minus(s, sigma, T, t, r, strike):\n",
    "    return ((math.log(s / strike)) + (T - t) * (r - (sigma ** 2) / 2)) / (sigma * math.sqrt(T - t))"
   ]
  },
  {
   "cell_type": "code",
   "execution_count": 9,
   "metadata": {},
   "outputs": [],
   "source": [
    "def price_call_option(s, sigma, T, t, r, strike):\n",
    "    I_plus = norm.cdf(d_plus(s, sigma, T, t, r, strike))\n",
    "    I_minus = norm.cdf(d_minus(s, sigma, T, t, r, strike))\n",
    "    ans = s * I_plus - strike * math.exp(-1 * r * (T - t)) * I_minus\n",
    "    return ans"
   ]
  },
  {
   "cell_type": "code",
   "execution_count": 10,
   "metadata": {},
   "outputs": [],
   "source": [
    "S_arr = K * np.exp(X_arr)\n",
    "t_arr = T - (2 / (sigma ** 2)) * np.linspace(0, T_wave, N)"
   ]
  },
  {
   "cell_type": "code",
   "execution_count": 11,
   "metadata": {},
   "outputs": [],
   "source": [
    "def get_exact():\n",
    "    exact = np.zeros((U_shape))\n",
    "    for i in tqdm(range(len(t_arr))):\n",
    "        for j in range(len(S_arr)):\n",
    "            exact[i][j] = price_call_option(S_arr[j], sigma, T, t_arr[i], r, K)\n",
    "    return exact"
   ]
  },
  {
   "cell_type": "code",
   "execution_count": 12,
   "metadata": {},
   "outputs": [
    {
     "name": "stderr",
     "output_type": "stream",
     "text": [
      "100%|██████████| 200/200 [00:09<00:00, 20.06it/s]\n"
     ]
    },
    {
     "data": {
      "text/plain": [
       "0       0.153985\n",
       "1       0.164988\n",
       "2       0.176676\n",
       "3       0.189083\n",
       "4       0.202246\n",
       "         ...    \n",
       "195    64.623224\n",
       "196    65.198561\n",
       "197    65.774730\n",
       "198    66.351732\n",
       "199    66.929570\n",
       "Length: 200, dtype: float64"
      ]
     },
     "execution_count": 12,
     "metadata": {},
     "output_type": "execute_result"
    }
   ],
   "source": [
    "V_exact = pd.DataFrame(get_exact())\n",
    "ans_exact = V_exact.sum(axis=0) / V_exact.shape[0]\n",
    "ans_exact"
   ]
  },
  {
   "cell_type": "code",
   "execution_count": 28,
   "metadata": {},
   "outputs": [
    {
     "data": {
      "text/plain": [
       "[<matplotlib.lines.Line2D at 0x7efeffc24430>]"
      ]
     },
     "execution_count": 28,
     "metadata": {},
     "output_type": "execute_result"
    },
    {
     "data": {
      "image/png": "[encoded data removed]",
      "text/plain": [
       "<Figure size 640x480 with 1 Axes>"
      ]
     },
     "metadata": {},
     "output_type": "display_data"
    }
   ],
   "source": [
    "plt.plot(V_numerical.iloc[-1])"
   ]
  }
 ],
 "metadata": {
  "kernelspec": {
   "display_name": "env",
   "language": "python",
   "name": "python3"
  },
  "language_info": {
   "codemirror_mode": {
    "name": "ipython",
    "version": 3
   },
   "file_extension": ".py",
   "mimetype": "text/x-python",
   "name": "python",
   "nbconvert_exporter": "python",
   "pygments_lexer": "ipython3",
   "version": "3.10.10"
  },
  "orig_nbformat": 4
 },
 "nbformat": 4,
 "nbformat_minor": 2
}
