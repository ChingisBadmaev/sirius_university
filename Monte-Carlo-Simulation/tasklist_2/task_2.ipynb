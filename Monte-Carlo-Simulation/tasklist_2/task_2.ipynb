{
 "cells": [
  {
   "cell_type": "code",
   "execution_count": 1,
   "metadata": {},
   "outputs": [],
   "source": [
    "import numpy as np\n",
    "import pandas as pd\n",
    "import matplotlib.pyplot as plt\n",
    "import seaborn as sns\n",
    "from tqdm import tqdm\n",
    "import math\n",
    "from scipy.linalg import pascal\n",
    "from scipy.stats import norm\n",
    "import warnings\n",
    "import scipy\n",
    "warnings.filterwarnings(\"ignore\")"
   ]
  },
  {
   "attachments": {},
   "cell_type": "markdown",
   "metadata": {},
   "source": [
    "$$\\frac{\\partial u}{\\partial \\tau} = \\frac{\\partial^{2} u}{\\partial x^{2}} + \\frac{\\partial u}{\\partial x} \\left(1 + \\frac{2r}{\\sigma^{2}}\\right)$$\n",
    "$$ h = {X \\over M} $$\n",
    "$$ tau = {\\widetilde \\Tau \\over N} $$"
   ]
  },
  {
   "attachments": {},
   "cell_type": "markdown",
   "metadata": {},
   "source": [
    "\n",
    "$$ u_{m}^{n + 1}  = u_{m}^{n} + {\\tau \\over h^{2}}  (u_{m - 1}^{n} - 2u_{m}^{n} + u_{m + 1}^{n}) + {\\tau \\over h}(1 + D)(u_{m - 1}^{n} + u_{m}^{n})$$"
   ]
  },
  {
   "cell_type": "code",
   "execution_count": 2,
   "metadata": {},
   "outputs": [
    {
     "name": "stdout",
     "output_type": "stream",
     "text": [
      "0.029590551774650833\n",
      "U_shape: 70000\n"
     ]
    }
   ],
   "source": [
    "T, N = 1, 7 * 10 ** 2\n",
    "S_1, S_2, K, M = 100, 300, 200, 10 ** 2\n",
    "r, sigma= 0.1, 0.05\n",
    "T_wave = (sigma ** 2) * T / 2\n",
    "D = (2 * r) / (sigma ** 2)\n",
    "X_1 = np.log(S_1 / K)\n",
    "X_2 = np.log(S_2 / K)\n",
    "X_arr = np.linspace(X_1, X_2, M)\n",
    "tau = T_wave / N\n",
    "h = abs(X_1 - X_2) / M\n",
    "print(tau / ((h ** 2) / 2))\n",
    "U_shape = (N, M)\n",
    "print('U_shape:', N * M)\n",
    "U = np.zeros(U_shape)"
   ]
  },
  {
   "cell_type": "code",
   "execution_count": 3,
   "metadata": {},
   "outputs": [],
   "source": [
    "# инициализация, граничные условия\n",
    "D = (2 * r) / (sigma ** 2)\n",
    "\n",
    "for m in range(len(X_arr)):\n",
    "    if 1 - np.exp(-X_arr[m]) > 0:\n",
    "        U[0][m] = 1 - np.exp(-X_arr[m])\n",
    "    else:\n",
    "        U[0][m] = 0\n",
    "\n",
    "for n in range(N):\n",
    "    U[n, -1] = 1 - np.exp(-D * tau * n - X_arr[-1])"
   ]
  },
  {
   "cell_type": "code",
   "execution_count": 4,
   "metadata": {},
   "outputs": [],
   "source": [
    "def find_u(u_left, u_mid, u_right, tau, h, D):\n",
    "    # нахождение значения в узле\n",
    "    ans = u_mid + (tau / (h ** 2)) * (u_left - 2 * u_mid + u_right) + ((tau / h) * (1 + D)) * (u_right - u_mid)\n",
    "    if ans > 0:\n",
    "        return ans\n",
    "    return 0"
   ]
  },
  {
   "cell_type": "code",
   "execution_count": 5,
   "metadata": {},
   "outputs": [
    {
     "name": "stderr",
     "output_type": "stream",
     "text": [
      "100%|██████████| 699/699 [00:00<00:00, 4590.40it/s]\n"
     ]
    }
   ],
   "source": [
    "# поиск значений на сетке\n",
    "for n in tqdm(range(N - 1)):\n",
    "    for m in range(1, M - 1):\n",
    "        U[n + 1, m] = find_u(U[n, m - 1], U[n, m], U[n, m + 1], tau, h, D)\n",
    "V = U * np.linspace(S_1, S_2, M)\n",
    "V_numerical = pd.DataFrame(V)\n",
    "ans_numerical = V_numerical.sum(axis=0) / V_numerical.shape[0]\n",
    "ans_numerical = ans_numerical"
   ]
  },
  {
   "cell_type": "code",
   "execution_count": 6,
   "metadata": {},
   "outputs": [],
   "source": [
    "def d_plus(s, sigma, T, t, r, strike): \n",
    "    return ((math.log(s / strike)) + (T - t) * (r + (sigma ** 2) / 2)) / (sigma * math.sqrt(T - t))"
   ]
  },
  {
   "cell_type": "code",
   "execution_count": 7,
   "metadata": {},
   "outputs": [],
   "source": [
    "def d_minus(s, sigma, T, t, r, strike):\n",
    "    return ((math.log(s / strike)) + (T - t) * (r - (sigma ** 2) / 2)) / (sigma * math.sqrt(T - t))"
   ]
  },
  {
   "cell_type": "code",
   "execution_count": 8,
   "metadata": {},
   "outputs": [],
   "source": [
    "def price_call_option(s, sigma, T, t, r, strike):\n",
    "    I_plus = norm.cdf(d_plus(s, sigma, T, t, r, strike))\n",
    "    I_minus = norm.cdf(d_minus(s, sigma, T, t, r, strike))\n",
    "    ans = s * I_plus - strike * math.exp(-1 * r * (T - t)) * I_minus\n",
    "    return ans"
   ]
  },
  {
   "cell_type": "code",
   "execution_count": 9,
   "metadata": {},
   "outputs": [],
   "source": [
    "S_arr = K * np.exp(X_arr)\n",
    "t_arr = T - (2 / (sigma ** 2)) * np.linspace(0, T_wave, N)"
   ]
  },
  {
   "cell_type": "code",
   "execution_count": 10,
   "metadata": {},
   "outputs": [
    {
     "name": "stderr",
     "output_type": "stream",
     "text": [
      "100%|██████████| 700/700 [00:17<00:00, 41.14it/s]\n"
     ]
    }
   ],
   "source": [
    "exact = np.zeros((U_shape))\n",
    "for i in tqdm(range(len(t_arr))):\n",
    "    for j in range(len(S_arr)):\n",
    "        exact[i][j] = price_call_option(S_arr[j], sigma, T, t_arr[i], r, K)\n"
   ]
  },
  {
   "cell_type": "code",
   "execution_count": 11,
   "metadata": {},
   "outputs": [
    {
     "data": {
      "text/plain": [
       "0     5.635939e-35\n",
       "1     8.222538e-34\n",
       "2     1.143349e-32\n",
       "3     1.515313e-31\n",
       "4     1.914234e-30\n",
       "          ...     \n",
       "95    9.664932e+01\n",
       "96    9.985164e+01\n",
       "97    1.030897e+02\n",
       "98    1.063639e+02\n",
       "99    1.096746e+02\n",
       "Length: 100, dtype: float64"
      ]
     },
     "execution_count": 11,
     "metadata": {},
     "output_type": "execute_result"
    }
   ],
   "source": [
    "V_exact = pd.DataFrame(exact)\n",
    "ans_exact = V_exact.sum(axis=0) / V_exact.shape[0]\n",
    "ans_exact"
   ]
  },
  {
   "cell_type": "code",
   "execution_count": 12,
   "metadata": {},
   "outputs": [
    {
     "data": {
      "text/plain": [
       "[<matplotlib.lines.Line2D at 0x7f7bf297a2c0>]"
      ]
     },
     "execution_count": 12,
     "metadata": {},
     "output_type": "execute_result"
    },
    {
     "data": {
      "image/png": "[encoded data removed]",
      "text/plain": [
       "<Figure size 640x480 with 1 Axes>"
      ]
     },
     "metadata": {},
     "output_type": "display_data"
    }
   ],
   "source": [
    "plt.plot(ans_exact)\n",
    "plt.plot(ans_numerical)"
   ]
  }
 ],
 "metadata": {
  "kernelspec": {
   "display_name": "env",
   "language": "python",
   "name": "python3"
  },
  "language_info": {
   "codemirror_mode": {
    "name": "ipython",
    "version": 3
   },
   "file_extension": ".py",
   "mimetype": "text/x-python",
   "name": "python",
   "nbconvert_exporter": "python",
   "pygments_lexer": "ipython3",
   "version": "3.10.10"
  },
  "orig_nbformat": 4
 },
 "nbformat": 4,
 "nbformat_minor": 2
}
