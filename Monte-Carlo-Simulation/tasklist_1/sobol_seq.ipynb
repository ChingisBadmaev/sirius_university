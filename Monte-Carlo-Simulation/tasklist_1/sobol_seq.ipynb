{
 "cells": [
  {
   "cell_type": "code",
   "execution_count": 40,
   "metadata": {},
   "outputs": [],
   "source": [
    "import numpy as np\n",
    "import matplotlib.pyplot as plt\n",
    "import seaborn as sns\n",
    "from tqdm import tqdm\n",
    "import math\n",
    "import galois\n",
    "from functools import reduce\n",
    "import warnings\n",
    "warnings.filterwarnings(\"ignore\")"
   ]
  },
  {
   "cell_type": "code",
   "execution_count": null,
   "metadata": {},
   "outputs": [],
   "source": [
    "primes = [1, 3, 7, 11, 13, 17, 19, 37, 59, 47, 61, 55, 41, 67, 97, 91, 109, 103, 115,\n",
    "          131, 193, 137, 145, 143, 241, 157, 185, 167, 229, 171, 213, 191, 253, 203, \n",
    "          211, 239, 247, 285, 369, 299, 425, 301, 361, 333, 357, 351, 501, 355, 397, 391, 451, 463, 487]"
   ]
  },
  {
   "cell_type": "code",
   "execution_count": 41,
   "metadata": {},
   "outputs": [],
   "source": [
    "def convert_number_system(number):\n",
    "    ans = []\n",
    "    temp = number\n",
    "    while number >= 2:\n",
    "        ans.append(number % 2)\n",
    "        number = number // 2\n",
    "    ans.append(number)\n",
    "    return ans"
   ]
  },
  {
   "cell_type": "code",
   "execution_count": 42,
   "metadata": {},
   "outputs": [],
   "source": [
    "def get_sobol_polynom(deg):\n",
    "    poly = galois.GF(2**deg).properties.split('\\n')[5].split()[1:]\n",
    "    for i in range(int(len(poly) / 2)):\n",
    "        poly.remove(\"+\")\n",
    "    poly = list(map(lambda x: x[-1], poly))\n",
    "    for i in poly:\n",
    "        if i == 'x':\n",
    "            poly[poly.index('x')] = 1.1\n",
    "    poly = list(map(float, poly))\n",
    "\n",
    "    degs_poly = np.zeros(deg + 1)\n",
    "    for i in poly:\n",
    "        if i == 1:\n",
    "            degs_poly[0] = 1\n",
    "        elif i == 1.1:\n",
    "            degs_poly[1] = 1\n",
    "        else:\n",
    "            degs_poly[int(i)] = 1\n",
    "    return degs_poly[::-1][1:]"
   ]
  },
  {
   "cell_type": "code",
   "execution_count": 43,
   "metadata": {},
   "outputs": [],
   "source": [
    "def get_primes(deg):\n",
    "    a = np.array([])\n",
    "    for number in range(1, deg + 1):\n",
    "        if number != 2: \n",
    "            for i in range(2, number): \n",
    "                if(number % i) == 0: \n",
    "                    break \n",
    "            else: \n",
    "                a = np.append(a, number)\n",
    "    return a"
   ]
  },
  {
   "cell_type": "code",
   "execution_count": 78,
   "metadata": {},
   "outputs": [],
   "source": [
    "def get_sobol_m(deg, max_j):\n",
    "    c = list(map(int, get_sobol_polynom(deg)))\n",
    "    m = list(map(int, get_primes(2 ** deg)))[:-1]\n",
    "    xor_list = []\n",
    "\n",
    "    for j in range(deg, max_j):\n",
    "        for k in range(j - deg, j):\n",
    "            xor_list.append(int(pow(2, k + 1 + deg - j) * c[k + deg - j] * m[j - k - 1 + j - deg]))\n",
    "        xor_list.append(m[j - deg])\n",
    "        res = reduce(lambda x, y: x ^ y, xor_list[-1: -(deg + 2): -1][::-1])\n",
    "        m.append(res)\n",
    "    return m"
   ]
  },
  {
   "cell_type": "code",
   "execution_count": 45,
   "metadata": {},
   "outputs": [],
   "source": [
    "def get_sobol_V(deg, r):\n",
    "    V = (list(map(convert_number_system, get_sobol_m(deg, r))))\n",
    "    for j in range(r):\n",
    "        if j + 1 > len(V[j]):\n",
    "            V[j] = list(np.zeros(j + 1 - len(V[j]))) + V[j]\n",
    "\n",
    "    for j in range(r):\n",
    "        V[j] = V[j] + list(np.zeros(r - len(V[j])))\n",
    "    return np.array(V)"
   ]
  },
  {
   "cell_type": "code",
   "execution_count": 118,
   "metadata": {},
   "outputs": [],
   "source": [
    "a = get_sobol_V(5, 9)\n",
    "b = get_sobol_V(6, 9)"
   ]
  },
  {
   "cell_type": "code",
   "execution_count": 125,
   "metadata": {},
   "outputs": [],
   "source": [
    "a = np.array(list(map(np.array, a)))\n",
    "b = np.array(list(map(np.array, b)))"
   ]
  },
  {
   "cell_type": "code",
   "execution_count": 46,
   "metadata": {},
   "outputs": [],
   "source": [
    "# max_j = r\n",
    "def get_sobol_many_y(deg, r):\n",
    "    V = get_sobol_V(deg, r)\n",
    "    max_k = 2 ** r\n",
    "    y = np.zeros((max_k, r))\n",
    "    for k in range(1, max_k):\n",
    "        a = convert_number_system(k)\n",
    "        a = a + list(np.zeros(r - len(a)))\n",
    "        temp = []\n",
    "        for j in range(r):\n",
    "            temp.append(np.array(V[j]).astype('float') * float(a[j]))\n",
    "        temp = np.array(temp).astype('int').T\n",
    "        for i in range(len(temp)):\n",
    "            y[k][i] = reduce(lambda x, y: x ^ y, temp[i])\n",
    "    return y[1:]"
   ]
  },
  {
   "cell_type": "code",
   "execution_count": 47,
   "metadata": {},
   "outputs": [],
   "source": [
    "# max_j = r\n",
    "def get_sobol_y(deg, r, k):\n",
    "    V = get_sobol_V(deg, r)\n",
    "    y = np.zeros(r)\n",
    "    a = convert_number_system(k)\n",
    "    a = a + list(np.zeros(r - len(a)))\n",
    "    temp = []\n",
    "    for j in range(r):\n",
    "        temp.append(np.array(V[j]).astype('float') * float(a[j]))\n",
    "    temp = np.array(temp).astype('int').T\n",
    "    for i in range(len(temp)):\n",
    "        y[i] = reduce(lambda x, y: x ^ y, temp[i])\n",
    "    return y"
   ]
  },
  {
   "cell_type": "code",
   "execution_count": 48,
   "metadata": {},
   "outputs": [],
   "source": [
    "def get_sobol_x(deg, r, k):\n",
    "    y = get_sobol_y(deg, r, k)\n",
    "    ans = 0\n",
    "    for i in range(r):\n",
    "        ans += y[i] / pow(2, i + 1)\n",
    "    return ans"
   ]
  },
  {
   "cell_type": "code",
   "execution_count": 88,
   "metadata": {},
   "outputs": [],
   "source": [
    "def get_sobol_seq_4(deg, r):\n",
    "    sobol_seq = np.zeros(2 ** r - 1)\n",
    "    for i in range(1, 2 ** r):\n",
    "        sobol_seq[i - 1] = get_sobol_x(deg, r, i)\n",
    "        #sobol_seq.append(get_sobol_x(deg, r, i))\n",
    "    return sobol_seq"
   ]
  },
  {
   "cell_type": "code",
   "execution_count": 80,
   "metadata": {},
   "outputs": [],
   "source": [
    "def get_sobol(deg_min, deg_max, r):\n",
    "    ans = []\n",
    "    for deg in tqdm(range(deg_min, deg_max + 1)):\n",
    "        ans.append(get_sobol_seq_4(deg, r))\n",
    "    return ans"
   ]
  },
  {
   "cell_type": "code",
   "execution_count": 154,
   "metadata": {},
   "outputs": [
    {
     "name": "stderr",
     "output_type": "stream",
     "text": [
      "100%|██████████| 6/6 [00:20<00:00,  3.34s/it]\n"
     ]
    }
   ],
   "source": [
    "s_sobol = get_sobol(3, 8, 11)"
   ]
  },
  {
   "cell_type": "code",
   "execution_count": 155,
   "metadata": {},
   "outputs": [
    {
     "data": {
      "text/plain": [
       "<matplotlib.collections.PathCollection at 0x7fbbd080e6b0>"
      ]
     },
     "execution_count": 155,
     "metadata": {},
     "output_type": "execute_result"
    },
    {
     "data": {
      "image/png": "[encoded data removed]",
      "text/plain": [
       "<Figure size 640x480 with 1 Axes>"
      ]
     },
     "metadata": {},
     "output_type": "display_data"
    }
   ],
   "source": [
    "plt.scatter(s_sobol[0], s_sobol[3], 1)"
   ]
  },
  {
   "cell_type": "code",
   "execution_count": 148,
   "metadata": {},
   "outputs": [],
   "source": [
    "a = get_sobol_seq_4(4, 9)\n",
    "b = get_sobol_seq_4(5, 9)"
   ]
  },
  {
   "cell_type": "code",
   "execution_count": 149,
   "metadata": {},
   "outputs": [
    {
     "data": {
      "text/plain": [
       "<matplotlib.collections.PathCollection at 0x7fbbd083f640>"
      ]
     },
     "execution_count": 149,
     "metadata": {},
     "output_type": "execute_result"
    },
    {
     "data": {
      "image/png": "[encoded data removed]",
      "text/plain": [
       "<Figure size 640x480 with 1 Axes>"
      ]
     },
     "metadata": {},
     "output_type": "display_data"
    }
   ],
   "source": [
    "plt.scatter(a, b, 1)"
   ]
  }
 ],
 "metadata": {
  "kernelspec": {
   "display_name": "env",
   "language": "python",
   "name": "python3"
  },
  "language_info": {
   "codemirror_mode": {
    "name": "ipython",
    "version": 3
   },
   "file_extension": ".py",
   "mimetype": "text/x-python",
   "name": "python",
   "nbconvert_exporter": "python",
   "pygments_lexer": "ipython3",
   "version": "3.10.10"
  },
  "orig_nbformat": 4
 },
 "nbformat": 4,
 "nbformat_minor": 2
}
