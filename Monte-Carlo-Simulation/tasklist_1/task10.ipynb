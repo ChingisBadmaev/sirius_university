{
 "cells": [
  {
   "cell_type": "code",
   "execution_count": 1,
   "metadata": {},
   "outputs": [],
   "source": [
    "import numpy as np\n",
    "import pandas as pd\n",
    "import matplotlib.pyplot as plt\n",
    "import seaborn as sns\n",
    "from tqdm import tqdm\n",
    "import math\n",
    "from scipy.linalg import pascal\n",
    "from scipy.stats import norm"
   ]
  },
  {
   "cell_type": "code",
   "execution_count": 2,
   "metadata": {},
   "outputs": [],
   "source": [
    "from faure_seq import get_faure_seq\n",
    "from sobol_seq import get_sobol_seq"
   ]
  },
  {
   "cell_type": "code",
   "execution_count": 3,
   "metadata": {},
   "outputs": [],
   "source": [
    "import warnings\n",
    "warnings.filterwarnings(\"ignore\")"
   ]
  },
  {
   "cell_type": "code",
   "execution_count": 75,
   "metadata": {},
   "outputs": [],
   "source": [
    "def discrepancy(sequence):\n",
    "    min_index_0 = np.argmin(sequence[0])\n",
    "    min_index_1 = np.argmin(sequence[1])\n",
    "\n",
    "    vol_0 = sequence[0][min_index_0] * sequence[1][min_index_0]\n",
    "    vol_1 = sequence[0][min_index_1] * sequence[1][min_index_1]\n",
    "\n",
    "    vol_A = max(vol_0, vol_1)\n",
    "    sup = abs(vol_A - 1 / len(sequence[0]))\n",
    "    return sup"
   ]
  },
  {
   "cell_type": "code",
   "execution_count": 4,
   "metadata": {},
   "outputs": [],
   "source": [
    "def BSM_payoff(S):\n",
    "    global strike\n",
    "    if S > strike:\n",
    "        return S - strike\n",
    "    return 0"
   ]
  },
  {
   "cell_type": "code",
   "execution_count": 5,
   "metadata": {},
   "outputs": [],
   "source": [
    "def BSM_two_methods(S, r, sigma, T, dt):\n",
    "    z = np.random.normal(0, np.sqrt(dt))\n",
    "    return r * S * dt + sigma * S * z, S * np.exp((r - (sigma ** 2) / 2) * T + sigma * np.sqrt(T) * z)"
   ]
  },
  {
   "cell_type": "code",
   "execution_count": 6,
   "metadata": {},
   "outputs": [],
   "source": [
    "def BS_exact(S_0, sigma, T, r, K):\n",
    "    d_plus = norm.cdf((np.log(S_0 / K) + (r + (sigma ** 2) / 2) * T) / (sigma * np.sqrt(T))) \n",
    "    d_minus = norm.cdf((np.log(S_0 / K) + (r - (sigma ** 2) / 2) * T) / (sigma * np.sqrt(T)))\n",
    "    return S_0 * d_plus - np.exp(-r * T) * K * d_minus"
   ]
  },
  {
   "cell_type": "code",
   "execution_count": 7,
   "metadata": {},
   "outputs": [],
   "source": [
    "def BSM_quasi(S, r, sigma, dt, random_values):\n",
    "    return r * S * dt + sigma * S * dt * norm.ppf(random_values), S * np.exp((r - (sigma ** 2) / 2) * dt + sigma * np.sqrt(dt)* norm.ppf(random_values))"
   ]
  },
  {
   "cell_type": "code",
   "execution_count": 58,
   "metadata": {},
   "outputs": [
    {
     "name": "stdout",
     "output_type": "stream",
     "text": [
      "exact solution: 2.0616301851268855\n"
     ]
    },
    {
     "data": {
      "text/html": [
       "<div>\n",
       "<style scoped>\n",
       "    .dataframe tbody tr th:only-of-type {\n",
       "        vertical-align: middle;\n",
       "    }\n",
       "\n",
       "    .dataframe tbody tr th {\n",
       "        vertical-align: top;\n",
       "    }\n",
       "\n",
       "    .dataframe thead th {\n",
       "        text-align: right;\n",
       "    }\n",
       "</style>\n",
       "<table border=\"1\" class=\"dataframe\">\n",
       "  <thead>\n",
       "    <tr style=\"text-align: right;\">\n",
       "      <th></th>\n",
       "      <th>monte_carlo</th>\n",
       "      <th>quasi_faure</th>\n",
       "      <th>quasi_sobol</th>\n",
       "    </tr>\n",
       "  </thead>\n",
       "  <tbody>\n",
       "    <tr>\n",
       "      <th>numerical</th>\n",
       "      <td>1.937828</td>\n",
       "      <td>1.958433</td>\n",
       "      <td>1.960123</td>\n",
       "    </tr>\n",
       "    <tr>\n",
       "      <th>analutical</th>\n",
       "      <td>2.008555</td>\n",
       "      <td>2.059129</td>\n",
       "      <td>2.061154</td>\n",
       "    </tr>\n",
       "  </tbody>\n",
       "</table>\n",
       "</div>"
      ],
      "text/plain": [
       "            monte_carlo  quasi_faure  quasi_sobol\n",
       "numerical      1.937828     1.958433     1.960123\n",
       "analutical     2.008555     2.059129     2.061154"
      ]
     },
     "execution_count": 58,
     "metadata": {},
     "output_type": "execute_result"
    }
   ],
   "source": [
    "count_of_dimension = 10\n",
    "count_of_values = 13\n",
    "s_faure = get_faure_seq(count_of_dimension, 2 ** count_of_values - 1, 3)\n",
    "s_sobol = get_sobol_seq(count_of_dimension, count_of_values)\n",
    "\n",
    "S_0, r, sigma, T = 20, 0.1, 0.1, 1\n",
    "strike, N = 20, 2 ** count_of_values - 1\n",
    "ans = np.mean([np.vectorize(BSM_payoff)\n",
    "               (np.array([S_0 + BSM_two_methods(S_0, r, sigma, T, T)[0], \n",
    "                          BSM_two_methods(S_0, r, sigma, T, T)[1]]))  for i in range(N)], axis=0) * np.exp(-r * T)\n",
    "\n",
    "\n",
    "numerical_quasi_sobol = np.mean(np.vectorize(BSM_payoff)([S_0 + BSM_quasi(S_0, r, sigma, T, i)[0] for i in s_sobol[0]])) * np.exp(-r * T)\n",
    "analytical_quasi_sobol = np.mean(np.vectorize(BSM_payoff)([BSM_quasi(S_0, r, sigma, T, i)[1] for i in s_sobol[0]])) * np.exp(-r * T)\n",
    "\n",
    "numerical_quasi_faure = np.mean(np.vectorize(BSM_payoff)([S_0 + BSM_quasi(S_0, r, sigma, T, i)[0] for i in s_faure[0]])) * np.exp(-r * T)\n",
    "analytical_quasi_faure = np.mean(np.vectorize(BSM_payoff)([BSM_quasi(S_0, r, sigma, T, i)[1] for i in s_faure[0]])) * np.exp(-r * T)\n",
    "\n",
    "stats = pd.DataFrame(data={'monte_carlo': [ans[0], ans[1]], \n",
    "                    'quasi_faure': [numerical_quasi_faure, analytical_quasi_faure], \n",
    "                    'quasi_sobol': [numerical_quasi_sobol, analytical_quasi_sobol]}, index=['numerical', 'analutical'])\n",
    "\n",
    "\n",
    "print('exact solution:', BS_exact(S_0, sigma, T, r, strike))\n",
    "stats"
   ]
  },
  {
   "cell_type": "code",
   "execution_count": 49,
   "metadata": {},
   "outputs": [
    {
     "name": "stderr",
     "output_type": "stream",
     "text": [
      "100%|██████████| 16383/16383 [00:14<00:00, 1114.87it/s]\n",
      "100%|██████████| 4/4 [01:25<00:00, 21.26s/it]\n"
     ]
    }
   ],
   "source": [
    "count_of_dimension = 4\n",
    "count_of_values = 14\n",
    "s_faure = get_faure_seq(count_of_dimension, 2 ** count_of_values - 1, 3)\n",
    "s_sobol = get_sobol_seq(count_of_dimension, count_of_values)\n",
    "\n",
    "S_0, r, sigma, T = 20, 0.1, 0.1, 1\n",
    "strike, N = 20, 2 ** count_of_values - 1\n"
   ]
  },
  {
   "cell_type": "code",
   "execution_count": 84,
   "metadata": {},
   "outputs": [
    {
     "data": {
      "text/plain": [
       "<matplotlib.collections.PathCollection at 0x7f1475116fb0>"
      ]
     },
     "execution_count": 84,
     "metadata": {},
     "output_type": "execute_result"
    },
    {
     "data": {
      "image/png": "[encoded data removed]",
      "text/plain": [
       "<Figure size 640x480 with 1 Axes>"
      ]
     },
     "metadata": {},
     "output_type": "display_data"
    }
   ],
   "source": [
    "plt.scatter(s_sobol[2], s_sobol[3], 1)"
   ]
  },
  {
   "cell_type": "code",
   "execution_count": 77,
   "metadata": {},
   "outputs": [
    {
     "name": "stdout",
     "output_type": "stream",
     "text": [
      "sobol discrepancy: 5.021691549714213e-06\n",
      "faure discrepancy: 2.928785065482198e-05\n"
     ]
    }
   ],
   "source": [
    "print('sobol discrepancy:', discrepancy(s_sobol))\n",
    "print('faure discrepancy:', discrepancy(s_faure))"
   ]
  }
 ],
 "metadata": {
  "kernelspec": {
   "display_name": "env",
   "language": "python",
   "name": "python3"
  },
  "language_info": {
   "codemirror_mode": {
    "name": "ipython",
    "version": 3
   },
   "file_extension": ".py",
   "mimetype": "text/x-python",
   "name": "python",
   "nbconvert_exporter": "python",
   "pygments_lexer": "ipython3",
   "version": "3.10.10"
  },
  "orig_nbformat": 4
 },
 "nbformat": 4,
 "nbformat_minor": 2
}
