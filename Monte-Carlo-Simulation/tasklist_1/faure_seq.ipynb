{
 "cells": [
  {
   "cell_type": "code",
   "execution_count": 2,
   "metadata": {},
   "outputs": [],
   "source": [
    "import pandas as pd\n",
    "import numpy as np\n",
    "from scipy import stats\n",
    "from scipy.stats import norm\n",
    "import matplotlib.pyplot as plt\n",
    "import seaborn as sns\n",
    "from scipy.stats import norm\n",
    "from tqdm import tqdm\n",
    "import math\n",
    "from scipy.linalg import pascal"
   ]
  },
  {
   "cell_type": "code",
   "execution_count": 3,
   "metadata": {},
   "outputs": [],
   "source": [
    "def convert_number_system(number, base):\n",
    "    ans = []\n",
    "    temp = number\n",
    "    while number >= base:\n",
    "        ans.append(number % base)\n",
    "        number = number // base\n",
    "    ans.append(number)\n",
    "    return temp, ans, sum([ans[i] / base ** (i + 1) for i in range(len(ans))])"
   ]
  },
  {
   "cell_type": "code",
   "execution_count": 4,
   "metadata": {},
   "outputs": [
    {
     "name": "stdout",
     "output_type": "stream",
     "text": [
      "k: 100\n",
      "k_test: 100\n"
     ]
    }
   ],
   "source": [
    "k = 100\n",
    "base = 3\n",
    "a = convert_number_system(k, base)[1]\n",
    "r = len(a)\n",
    "k_test = sum([a[i] * base ** i for i in range(r)])\n",
    "print('k:', k)\n",
    "print('k_test:', k_test)"
   ]
  },
  {
   "cell_type": "code",
   "execution_count": 106,
   "metadata": {},
   "outputs": [],
   "source": [
    "def get_faure_c_matrix(i, k, base):\n",
    "    r = len(convert_number_system(k, base)[1])\n",
    "    C = np.zeros((r, r))\n",
    "    pascal_matrix = pascal(r, kind='upper')\n",
    "    for j in range(r):\n",
    "        C_vector = []\n",
    "        for l in range(r):\n",
    "            if l >= j:\n",
    "                C_vector.append(pascal_matrix[j][l] * (i ** (l - j)))\n",
    "            else:\n",
    "                C_vector.append(0)\n",
    "        C[j] = C_vector\n",
    "    return C"
   ]
  },
  {
   "cell_type": "code",
   "execution_count": 81,
   "metadata": {},
   "outputs": [
    {
     "name": "stdout",
     "output_type": "stream",
     "text": [
      "[[1. 1.]\n",
      " [0. 1.]]\n",
      "\n",
      "[[1. 2.]\n",
      " [0. 1.]]\n",
      "\n",
      "[[1. 3.]\n",
      " [0. 1.]]\n",
      "\n",
      "====\n",
      "[[1. 1. 1.]\n",
      " [0. 1. 2.]\n",
      " [0. 0. 1.]]\n",
      "\n",
      "[[1. 2. 4.]\n",
      " [0. 1. 4.]\n",
      " [0. 0. 1.]]\n",
      "\n",
      "[[1. 3. 9.]\n",
      " [0. 1. 6.]\n",
      " [0. 0. 1.]]\n",
      "\n",
      "====\n"
     ]
    }
   ],
   "source": [
    "for r in range(2, 4):\n",
    "    for i in range(1, 4):\n",
    "        print(get_faure_c_matrix(i, r ** 2 , base))\n",
    "        print()\n",
    "    print('====')"
   ]
  },
  {
   "cell_type": "code",
   "execution_count": 65,
   "metadata": {},
   "outputs": [],
   "source": [
    "# надо правильно считать y\n",
    "def get_faure_y(i, k, base):\n",
    "    a = convert_number_system(k, base)[1]\n",
    "    r = len(a)\n",
    "    return  np.apply_along_axis(lambda x: x % base, 0, get_faure_c_matrix(i - 1, k, base).dot(a))"
   ]
  },
  {
   "cell_type": "code",
   "execution_count": 102,
   "metadata": {},
   "outputs": [],
   "source": [
    "def get_faure_x(d, max_number, base):\n",
    "    faure_sequence = np.zeros((max_number, d))\n",
    "    for k in tqdm(range(1, max_number + 1)):\n",
    "        a = convert_number_system(k, base)[1]\n",
    "        r = len(a)\n",
    "        x = np.zeros(d)\n",
    "        for i in range(1, d + 1):\n",
    "            y = get_faure_y(i, k, base)\n",
    "            x[i - 1] = sum([y[j] * pow(base, -j - 1) for j in range(r)])\n",
    "            faure_sequence[k - 1][i - 1] = x[i - 1]\n",
    "    return faure_sequence.T"
   ]
  },
  {
   "cell_type": "code",
   "execution_count": 118,
   "metadata": {},
   "outputs": [
    {
     "name": "stderr",
     "output_type": "stream",
     "text": [
      "100%|██████████| 961/961 [00:02<00:00, 385.31it/s]\n"
     ]
    }
   ],
   "source": [
    "a = get_faure_x(31, 961, 31)"
   ]
  },
  {
   "cell_type": "code",
   "execution_count": 133,
   "metadata": {},
   "outputs": [
    {
     "data": {
      "text/plain": [
       "<matplotlib.collections.PathCollection at 0x7f86a6d6fee0>"
      ]
     },
     "execution_count": 133,
     "metadata": {},
     "output_type": "execute_result"
    },
    {
     "data": {
      "image/png": "[encoded data removed]",
      "text/plain": [
       "<Figure size 640x480 with 1 Axes>"
      ]
     },
     "metadata": {},
     "output_type": "display_data"
    }
   ],
   "source": [
    "plt.scatter(a[1], a[30], 1)"
   ]
  }
 ],
 "metadata": {
  "kernelspec": {
   "display_name": "env",
   "language": "python",
   "name": "python3"
  },
  "language_info": {
   "codemirror_mode": {
    "name": "ipython",
    "version": 3
   },
   "file_extension": ".py",
   "mimetype": "text/x-python",
   "name": "python",
   "nbconvert_exporter": "python",
   "pygments_lexer": "ipython3",
   "version": "3.10.10"
  },
  "orig_nbformat": 4
 },
 "nbformat": 4,
 "nbformat_minor": 2
}
