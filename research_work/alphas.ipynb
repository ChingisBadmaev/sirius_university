{
 "cells": [
  {
   "cell_type": "code",
   "execution_count": 1,
   "metadata": {},
   "outputs": [],
   "source": [
    "import yfinance as yf\n",
    "import numpy as np\n",
    "import pandas as pd\n",
    "from scipy import stats"
   ]
  },
  {
   "cell_type": "code",
   "execution_count": 2,
   "metadata": {},
   "outputs": [],
   "source": [
    "aapl = np.flip(np.array(yf.Ticker(\"AAPL\").history(period=\"3mo\").Close))\n",
    "amzn = np.flip(np.array(yf.Ticker(\"AMZN\").history(period=\"3mo\").Close))\n",
    "nke = np.flip(np.array(yf.Ticker(\"NKE\").history(period=\"3mo\").Close))\n",
    "mcd = np.flip(np.array(yf.Ticker(\"MCD\").history(period=\"3mo\").Close))\n",
    "koss = np.flip(np.array(yf.Ticker(\"KOSS\").history(period=\"3mo\").Close))\n",
    "ko = np.flip(np.array(yf.Ticker(\"KO\").history(period=\"3mo\").Close))\n",
    "pg = np.flip(np.array(yf.Ticker(\"PG\").history(period=\"3mo\").Close))\n",
    "eman = np.flip(np.array(yf.Ticker(\"EMAN\").history(period=\"3mo\").Close))\n",
    "ba = np.flip(np.array(yf.Ticker(\"BA\").history(period=\"3mo\").Close))\n",
    "msft = np.flip(np.array(yf.Ticker(\"MSFT\").history(period=\"3mo\").Close))\n",
    "\n",
    "data = np.array([aapl, amzn, nke, mcd, koss, ko, pg, eman, ba, msft])"
   ]
  },
  {
   "attachments": {},
   "cell_type": "markdown",
   "metadata": {},
   "source": [
    "### Alphas from Zura Kakushadze, 101 alphas, 2015"
   ]
  },
  {
   "attachments": {},
   "cell_type": "markdown",
   "metadata": {},
   "source": [
    "##### Alpha#1"
   ]
  },
  {
   "cell_type": "code",
   "execution_count": 3,
   "metadata": {},
   "outputs": [],
   "source": [
    "def f_returns(data, comp_id):\n",
    "    return [data[comp_id][t] / data[comp_id][t + 1] - 1 for t in range(data.shape[1] - 1)]"
   ]
  },
  {
   "cell_type": "code",
   "execution_count": 4,
   "metadata": {},
   "outputs": [],
   "source": [
    "def f_stddev(returns):\n",
    "    return np.std(returns)"
   ]
  },
  {
   "cell_type": "code",
   "execution_count": 5,
   "metadata": {},
   "outputs": [],
   "source": [
    "def kernel(data, comp_id):\n",
    "    if data[comp_id][0] < data[comp_id][1]:\n",
    "        return np.power(f_stddev(f_returns(data, comp_id)), 2)\n",
    "    else:\n",
    "        return np.power(data[comp_id][0], 2)\n"
   ]
  },
  {
   "cell_type": "code",
   "execution_count": 6,
   "metadata": {},
   "outputs": [],
   "source": [
    "def ts_argmax(data, comp_id):\n",
    "    ts = [kernel(np.lib.stride_tricks.sliding_window_view(data[comp_id], 20)[:5], i) for i in range(5)]\n",
    "    return np.argmax(ts)"
   ]
  },
  {
   "cell_type": "code",
   "execution_count": 7,
   "metadata": {},
   "outputs": [],
   "source": [
    "def alpha1(data):\n",
    "    rank = stats.rankdata([ts_argmax(data, i) for i in range(len(data))], method='ordinal') / len(data)\n",
    "    alpha = (rank - np.mean(rank)) / sum(abs(rank - np.mean(rank)))\n",
    "    return alpha"
   ]
  },
  {
   "cell_type": "code",
   "execution_count": 8,
   "metadata": {},
   "outputs": [
    {
     "data": {
      "text/html": [
       "<div>\n",
       "<style scoped>\n",
       "    .dataframe tbody tr th:only-of-type {\n",
       "        vertical-align: middle;\n",
       "    }\n",
       "\n",
       "    .dataframe tbody tr th {\n",
       "        vertical-align: top;\n",
       "    }\n",
       "\n",
       "    .dataframe thead th {\n",
       "        text-align: right;\n",
       "    }\n",
       "</style>\n",
       "<table border=\"1\" class=\"dataframe\">\n",
       "  <thead>\n",
       "    <tr style=\"text-align: right;\">\n",
       "      <th></th>\n",
       "      <th>aapl</th>\n",
       "      <th>amzn</th>\n",
       "      <th>nke</th>\n",
       "      <th>mcd</th>\n",
       "      <th>koss</th>\n",
       "      <th>ko</th>\n",
       "      <th>pg</th>\n",
       "      <th>eman</th>\n",
       "      <th>ba</th>\n",
       "      <th>msft</th>\n",
       "    </tr>\n",
       "  </thead>\n",
       "  <tbody>\n",
       "    <tr>\n",
       "      <th>0</th>\n",
       "      <td>-0.18</td>\n",
       "      <td>0.14</td>\n",
       "      <td>-0.02</td>\n",
       "      <td>0.18</td>\n",
       "      <td>-0.14</td>\n",
       "      <td>0.02</td>\n",
       "      <td>0.06</td>\n",
       "      <td>-0.1</td>\n",
       "      <td>0.1</td>\n",
       "      <td>-0.06</td>\n",
       "    </tr>\n",
       "  </tbody>\n",
       "</table>\n",
       "</div>"
      ],
      "text/plain": [
       "   aapl  amzn   nke   mcd  koss    ko    pg  eman   ba  msft\n",
       "0 -0.18  0.14 -0.02  0.18 -0.14  0.02  0.06  -0.1  0.1 -0.06"
      ]
     },
     "execution_count": 8,
     "metadata": {},
     "output_type": "execute_result"
    }
   ],
   "source": [
    "alphas_dataframe = pd.DataFrame()\n",
    "alphas_dataframe = alphas_dataframe.reindex(columns=alphas_dataframe.columns.tolist() + ['aapl', 'amzn', 'nke', 'mcd', 'koss', 'ko', 'pg', 'eman', 'ba', 'msft'])\n",
    "alphas_dataframe.loc[len(alphas_dataframe.index)] = alpha1(data)\n",
    "alphas_dataframe"
   ]
  }
 ],
 "metadata": {
  "kernelspec": {
   "display_name": "env",
   "language": "python",
   "name": "python3"
  },
  "language_info": {
   "codemirror_mode": {
    "name": "ipython",
    "version": 3
   },
   "file_extension": ".py",
   "mimetype": "text/x-python",
   "name": "python",
   "nbconvert_exporter": "python",
   "pygments_lexer": "ipython3",
   "version": "3.10.8"
  },
  "orig_nbformat": 4,
  "vscode": {
   "interpreter": {
    "hash": "597253f7c8c9d882863a553db912fd1a630173054389163196e6bbd7bba43f86"
   }
  }
 },
 "nbformat": 4,
 "nbformat_minor": 2
}
