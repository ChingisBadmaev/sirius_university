{
 "cells": [
  {
   "cell_type": "code",
   "execution_count": 2,
   "metadata": {},
   "outputs": [],
   "source": [
    "import pandas as pd\n",
    "import numpy as np\n",
    "from scipy import stats\n",
    "import matplotlib.pyplot as plt\n",
    "import seaborn as sns\n",
    "from tqdm import tqdm\n",
    "import metrics as mtr\n",
    "import operations as op\n",
    "from operations import neutralize\n",
    "from operations import normalize\n",
    "pd.options.display.expand_frame_repr = False"
   ]
  },
  {
   "cell_type": "code",
   "execution_count": 3,
   "metadata": {},
   "outputs": [],
   "source": [
    "data_close = pd.read_csv('../data/Close.csv', index_col='date')\n",
    "data_close.index = data_close.index.astype('datetime64')\n",
    "data_close.drop(columns='Unnamed: 0', inplace=True)\n",
    "data_close = data_close.astype('float64')\n",
    "\n",
    "data_open = pd.read_csv('../data/Open.csv', index_col='date')\n",
    "data_open.index = data_open.index.astype('datetime64')\n",
    "data_open.drop(columns='Unnamed: 0', inplace=True)\n",
    "data_open = data_open.astype('float64')\n",
    "\n",
    "data_high = pd.read_csv('../data/High.csv', index_col='date')\n",
    "data_high.index = data_high.index.astype('datetime64')\n",
    "data_high.drop(columns='Unnamed: 0', inplace=True)\n",
    "data_high = data_high.astype('float64')\n",
    "\n",
    "data_low = pd.read_csv('../data/Low.csv', index_col='date')\n",
    "data_low.index = data_low.index.astype('datetime64')\n",
    "data_low.drop(columns='Unnamed: 0', inplace=True)\n",
    "data_low = data_low.astype('float64')\n",
    "\n",
    "data_volume = pd.read_csv('../data/Volume.csv').T.iloc[1:].reset_index()\n",
    "data_volume.index = data_volume['index'].astype('datetime64')\n",
    "data_volume.drop(data_volume.columns [0], axis=1, inplace=True)\n",
    "data_volume = data_volume.astype('float64')\n",
    "data_volume.columns = data_volume.columns.astype(str)\n",
    "\n",
    "data_returns = pd.read_csv('../data/returns.csv', index_col='date')\n",
    "data_returns.index = data_returns.index.astype('datetime64')\n",
    "data_returns = data_returns.astype('float64')\n",
    "\n",
    "ts_rank_close_20 = pd.read_csv('../data/ts_rank_volume_20.csv', index_col='date')\n",
    "ts_rank_close_20.index = ts_rank_close_20.index.astype('datetime64')\n",
    "ts_rank_close_20 = ts_rank_close_20.astype('float64')\n",
    "\n",
    "ts_rank_volume_20 = pd.read_csv('../data/ts_rank_volume_20.csv', index_col='date')\n",
    "ts_rank_volume_20.index = ts_rank_volume_20.index.astype('datetime64')\n",
    "ts_rank_volume_20 = ts_rank_volume_20.astype('float64')\n",
    "\n",
    "ts_rank_returns_20 = pd.read_csv('../data/ts_rank_returns_20.csv', index_col='date')\n",
    "ts_rank_returns_20.index = ts_rank_returns_20.index.astype('datetime64')\n",
    "ts_rank_returns_20 = ts_rank_returns_20.astype('float64')"
   ]
  },
  {
   "cell_type": "code",
   "execution_count": 4,
   "metadata": {},
   "outputs": [],
   "source": [
    "def alpha1(n=1, data_close=0, data_open=0, data_high=0, data_low=0, data_volume=0):\n",
    "    kernel = (data_close - data_close.shift(n)) / (data_close.shift(n) + data_close)\n",
    "    alpha = -kernel\n",
    "    return normalize(neutralize(alpha)).fillna(0)"
   ]
  },
  {
   "cell_type": "code",
   "execution_count": 5,
   "metadata": {},
   "outputs": [],
   "source": [
    "def alpha2(n=1, data_close=0, data_open=0, data_high=0, data_low=0, data_volume=0):\n",
    "    kernel = (data_high - data_low) * data_close  \n",
    "    alpha = kernel / data_close.shift(n)\n",
    "    return normalize(neutralize(alpha)).fillna(0)"
   ]
  },
  {
   "cell_type": "code",
   "execution_count": 6,
   "metadata": {},
   "outputs": [],
   "source": [
    "def alpha31(n=1, data_close=0, data_open=0, data_high=0, data_low=0, data_volume=0):\n",
    "    kernel = data_high + data_low - 2 * data_close\n",
    "    alpha = kernel / data_open.shift(n)\n",
    "    return normalize(neutralize(alpha)).fillna(0)"
   ]
  },
  {
   "cell_type": "code",
   "execution_count": 7,
   "metadata": {},
   "outputs": [],
   "source": [
    "def alpha32(n=1, data_close=0, data_open=0, data_high=0, data_low=0, data_volume=0):\n",
    "    kernel = (data_high + data_low < 2 * data_close.shift(n)).replace({True: 1, False: -1})\n",
    "    alpha = kernel\n",
    "    return normalize(neutralize(alpha)).fillna(0)"
   ]
  },
  {
   "cell_type": "code",
   "execution_count": 8,
   "metadata": {},
   "outputs": [],
   "source": [
    "def alpha33(n=1, data_close=0, data_open=0, data_high=0, data_low=0, data_volume=0):\n",
    "    kernel = ((data_high * data_low) / data_close.shift(n) ** 2).copy()\n",
    "    alpha = kernel\n",
    "    return normalize(neutralize(alpha)).fillna(0)"
   ]
  },
  {
   "cell_type": "code",
   "execution_count": 9,
   "metadata": {},
   "outputs": [],
   "source": [
    "def alpha41(n=1, data_close=0, data_open=0, data_high=0, data_low=0, data_volume=0):\n",
    "    kernel = data_open / data_close.shift(n)\n",
    "    alpha = kernel\n",
    "    return normalize(neutralize(alpha)).fillna(0)"
   ]
  },
  {
   "cell_type": "code",
   "execution_count": 10,
   "metadata": {},
   "outputs": [],
   "source": [
    "def alpha42(n=1, data_close=0, data_open=0, data_high=0, data_low=0, data_volume=0):\n",
    "    kernel = (data_high - data_low) / data_close.shift(n)\n",
    "    alpha = kernel\n",
    "    return normalize(neutralize(alpha)).fillna(0)"
   ]
  },
  {
   "cell_type": "code",
   "execution_count": 11,
   "metadata": {},
   "outputs": [],
   "source": [
    "def alpha51(n=1, data_close=0, data_open=0, data_high=0, data_low=0, data_volume=0):\n",
    "    kernel = (data_close - data_low.shift(n)) / (data_high - data_low.shift(n))\n",
    "    alpha = kernel\n",
    "    return normalize(neutralize(alpha)).fillna(0)"
   ]
  },
  {
   "cell_type": "code",
   "execution_count": 12,
   "metadata": {},
   "outputs": [],
   "source": [
    "def alpha52(n=1, data_close=0, data_open=0, data_high=0, data_low=0, data_volume=0):\n",
    "    kernel = ((data_close - data_low.shift(n)) / (data_high - data_low.shift(n)) < 0.5).replace({True: 1, False: -1})\n",
    "    alpha = kernel\n",
    "    return normalize(neutralize(alpha)).fillna(0)"
   ]
  },
  {
   "cell_type": "code",
   "execution_count": 13,
   "metadata": {},
   "outputs": [],
   "source": [
    "def alpha61(n=1, data_close=0, data_open=0, data_high=0, data_low=0, data_volume=0):\n",
    "    kernel = (data_low - data_high)\n",
    "    alpha = (data_close.shift(n) - data_open) / (kernel + 0.001)\n",
    "    return normalize(neutralize(alpha)).fillna(0)"
   ]
  },
  {
   "cell_type": "code",
   "execution_count": 13,
   "metadata": {},
   "outputs": [],
   "source": [
    "def generate_alphas(data_returns, algh_alpha, max_n=1, data_close=0, data_open=0, data_high=0, data_low=0, data_volume=0):\n",
    "    pnls_matrix = pd.DataFrame()\n",
    "    pnls_matrix[0] = mtr.get_pnl(data_returns,  (alpha61(2, data_close, data_open, data_high, data_low, data_volume)), 1).fillna(0)\n",
    "    alpha_number = 1        # будем запоминать номер альфы, которая есть в pnls_matrix (матрице корреляций) \n",
    "    pnl_init = 0\n",
    "    for n in tqdm(range(1, max_n + 1)):\n",
    "        alpha_base = algh_alpha(n, data_close, data_open, data_high, data_low, data_volume)     # alpha_base - альфа без усиляющих множителей, \"просто ядро\"\n",
    "        days_pnl = mtr.get_pnl(data_returns, alpha_base, 1).fillna(0)['pnl']\n",
    "        if abs(days_pnl.sum()) > 0.4:        # рассматриваем только те альфы, у которых суммарный за все время pnl > 0.4\n",
    "            if stats.pearsonr(pnls_matrix[alpha_number - 1], days_pnl)[0] < 0.6:\n",
    "                if type(pnl_init) is type(0):       # если тип данных pnl_init == int, то запоминаем первую альфу, у которой pnl > 0.4\n",
    "                    pnl_init = days_pnl\n",
    "                    pnls_matrix[alpha_number] = days_pnl\n",
    "                    alpha_number += 1\n",
    "                    print('alpha_base', 'n =', n, alpha_number)\n",
    "                    print('\\n')\n",
    "            else:       # если есть альфа, у которой pnl > 0.5, то считаем корреляцию между новой альфой и первой\n",
    "                if stats.pearsonr(pnls_matrix[alpha_number - 1], days_pnl)[0] < 0.6:        #если нашлась альфа с pnl > 0.4 и corr < 0.6 (между нынешней и последней добавленной), то запоминаем\n",
    "                    pnls_matrix[alpha_number] = days_pnl\n",
    "                    alpha_number += 1\n",
    "                    print('alpha_base', 'n =', n, alpha_number)\n",
    "                    print('\\n')\n",
    "\n",
    "        days_pnl = mtr.get_pnl(data_returns, op.get_alpha_mul_ts_tank_data(alpha_base, ts_rank_volume_20), 1).fillna(0)['pnl']\n",
    "        if abs(days_pnl.sum()) > 0.4:\n",
    "            if stats.pearsonr(pnls_matrix[alpha_number - 1], days_pnl)[0] < 0.6:\n",
    "                if type(pnl_init) is type(0):\n",
    "                    pnl_init = days_pnl\n",
    "                    pnls_matrix[alpha_number] = days_pnl\n",
    "                    alpha_number += 1\n",
    "                    print('alpha_ts_rank_volume', 'n =', n)\n",
    "                    print('\\n')\n",
    "            else:\n",
    "                if stats.pearsonr(pnls_matrix[alpha_number - 1], days_pnl)[0] < 0.6:\n",
    "                    pnls_matrix[alpha_number] = days_pnl\n",
    "                    alpha_number += 1\n",
    "                    print('alpha_ts_rank_volume', 'n =', n, alpha_number)\n",
    "                    print('\\n')\n",
    "\n",
    "        days_pnl = mtr.get_pnl(data_returns, op.get_alpha_mul_ts_tank_data(alpha_base, ts_rank_close_20), 1).fillna(0)['pnl']\n",
    "        if abs(days_pnl.sum()) > 0.4:\n",
    "            if stats.pearsonr(pnls_matrix[alpha_number - 1], days_pnl)[0] < 0.6:\n",
    "                if type(pnl_init) is type(0):\n",
    "                    pnl_init = days_pnl\n",
    "                    pnls_matrix[alpha_number] = days_pnl\n",
    "                    alpha_number += 1\n",
    "                    print('alpha_ts_rank_close', 'n =', n)\n",
    "                    print('\\n')\n",
    "            else:\n",
    "                if stats.pearsonr(pnls_matrix[alpha_number - 1], days_pnl)[0] < 0.6:\n",
    "                    pnls_matrix[alpha_number] = days_pnl\n",
    "                    alpha_number += 1\n",
    "                    print('alpha_ts_rank_close', 'n =', n, alpha_number)\n",
    "                    print('\\n')\n",
    "\n",
    "        days_pnl = mtr.get_pnl(data_returns, op.get_alpha_mul_ts_tank_data(alpha_base, ts_rank_returns_20), 1).fillna(0)['pnl']\n",
    "        if abs(days_pnl.sum()) > 0.4:\n",
    "            if stats.pearsonr(pnls_matrix[alpha_number - 1], days_pnl)[0] < 0.6:\n",
    "                if type(pnl_init) is type(0):\n",
    "                    pnl_init = days_pnl\n",
    "                    pnls_matrix[alpha_number] = days_pnl\n",
    "                    alpha_number += 1\n",
    "                    print('alpha_ts_rank_returns', 'n =', n)\n",
    "                    print('\\n')\n",
    "            else:\n",
    "                if stats.pearsonr(pnls_matrix[alpha_number - 1], days_pnl)[0] < 0.6:\n",
    "                    pnls_matrix[alpha_number] = days_pnl\n",
    "                    alpha_number += 1\n",
    "                    print('alpha_ts_rank_returns', 'n =', n, alpha_number)\n",
    "                    print('\\n')\n",
    "\n",
    "\n",
    "        days_pnl = mtr.get_pnl(data_returns, op.ranking(alpha_base), 1).fillna(0)['pnl']\n",
    "        if abs(days_pnl.sum()) > 0.4:\n",
    "            if stats.pearsonr(pnls_matrix[alpha_number - 1], days_pnl)[0] < 0.6:\n",
    "                if type(pnl_init) is type(0):\n",
    "                    pnl_init = days_pnl\n",
    "                    pnls_matrix[alpha_number] = days_pnl\n",
    "                    alpha_number += 1\n",
    "                    print('alpha_rank', 'n =', n)\n",
    "                    print('\\n')\n",
    "            else:\n",
    "                if stats.pearsonr(pnls_matrix[alpha_number - 1], days_pnl)[0] < 0.6:\n",
    "                    pnls_matrix[alpha_number] = days_pnl\n",
    "                    alpha_number += 1\n",
    "                    print('alpha_rank', 'n =', n, alpha_number)\n",
    "                    print('\\n')\n",
    "        \n",
    "        for j in range(1, 11):\n",
    "            days_pnl = mtr.get_pnl(data_returns, op.get_decay_alpha(alpha_base, j + 1, j), 1).fillna(0)['pnl']\n",
    "            if abs(days_pnl.sum()) > 0.4:\n",
    "                if stats.pearsonr(pnls_matrix[alpha_number - 1], days_pnl)[0] < 0.6:\n",
    "                    if type(pnl_init) is type(0):\n",
    "                        pnl_init = days_pnl\n",
    "                        pnls_matrix[alpha_number] = days_pnl\n",
    "                        alpha_number += 1\n",
    "                        print('alpha_dec', 'n =', n,  alpha_number, 'd =', j + 1, 'k =', j)\n",
    "                        print('\\n')\n",
    "                else:\n",
    "                    if stats.pearsonr(pnls_matrix[alpha_number - 1], days_pnl)[0] < 0.6:\n",
    "                        pnls_matrix[alpha_number] = days_pnl\n",
    "                        alpha_number += 1\n",
    "                        print('alpha_dec', 'n =', n,  alpha_number, 'd =', j + 1, 'k =', j)\n",
    "                        print('\\n')\n",
    "\n",
    "    return pnls_matrix"
   ]
  },
  {
   "cell_type": "code",
   "execution_count": 14,
   "metadata": {},
   "outputs": [
    {
     "name": "stderr",
     "output_type": "stream",
     "text": [
      "  5%|▌         | 1/20 [02:13<42:14, 133.39s/it]"
     ]
    },
    {
     "name": "stdout",
     "output_type": "stream",
     "text": [
      "alpha_dec n = 2 2 d = 8 k = 7\n",
      "\n",
      "\n"
     ]
    },
    {
     "name": "stderr",
     "output_type": "stream",
     "text": [
      "100%|██████████| 20/20 [42:22<00:00, 127.10s/it]\n"
     ]
    }
   ],
   "source": [
    "a61 = generate_alphas(data_returns, alpha61, max_n=20, data_close=data_close, data_open=data_open, data_high=data_high, data_low=data_low, data_volume=data_volume)"
   ]
  },
  {
   "cell_type": "code",
   "execution_count": 15,
   "metadata": {},
   "outputs": [
    {
     "name": "stderr",
     "output_type": "stream",
     "text": [
      "  0%|          | 0/20 [00:00<?, ?it/s]"
     ]
    },
    {
     "name": "stdout",
     "output_type": "stream",
     "text": [
      "alpha_base n = 1 2\n",
      "\n",
      "\n"
     ]
    },
    {
     "name": "stderr",
     "output_type": "stream",
     "text": [
      "100%|██████████| 20/20 [44:37<00:00, 133.89s/it]\n"
     ]
    }
   ],
   "source": [
    "a2 = generate_alphas(data_returns, alpha2, max_n=20, data_close=data_close, data_open=data_open, data_high=data_high, data_low=data_low, data_volume=data_volume)"
   ]
  },
  {
   "cell_type": "code",
   "execution_count": 16,
   "metadata": {},
   "outputs": [
    {
     "name": "stderr",
     "output_type": "stream",
     "text": [
      "  0%|          | 0/20 [00:00<?, ?it/s]"
     ]
    },
    {
     "name": "stdout",
     "output_type": "stream",
     "text": [
      "alpha_base n = 1 2\n",
      "\n",
      "\n"
     ]
    },
    {
     "name": "stderr",
     "output_type": "stream",
     "text": [
      "100%|██████████| 20/20 [44:11<00:00, 132.58s/it]\n"
     ]
    }
   ],
   "source": [
    "a31 = generate_alphas(data_returns, alpha31, max_n=20, data_close=data_close, data_open=data_open, data_high=data_high, data_low=data_low, data_volume=data_volume)"
   ]
  },
  {
   "cell_type": "code",
   "execution_count": 17,
   "metadata": {},
   "outputs": [
    {
     "name": "stderr",
     "output_type": "stream",
     "text": [
      "100%|██████████| 20/20 [43:13<00:00, 129.70s/it]\n"
     ]
    }
   ],
   "source": [
    "a32 = generate_alphas(data_returns, alpha32, max_n=20, data_close=data_close, data_open=data_open, data_high=data_high, data_low=data_low, data_volume=data_volume)"
   ]
  },
  {
   "cell_type": "code",
   "execution_count": 18,
   "metadata": {},
   "outputs": [
    {
     "name": "stderr",
     "output_type": "stream",
     "text": [
      " 10%|█         | 2/20 [04:14<38:05, 126.97s/it]"
     ]
    },
    {
     "name": "stdout",
     "output_type": "stream",
     "text": [
      "alpha_ts_rank_volume n = 3\n",
      "\n",
      "\n"
     ]
    },
    {
     "name": "stderr",
     "output_type": "stream",
     "text": [
      "100%|██████████| 20/20 [42:31<00:00, 127.58s/it]\n"
     ]
    }
   ],
   "source": [
    "a33 = generate_alphas(data_returns, alpha33, max_n=20, data_close=data_close, data_open=data_open, data_high=data_high, data_low=data_low, data_volume=data_volume)"
   ]
  },
  {
   "cell_type": "code",
   "execution_count": 19,
   "metadata": {},
   "outputs": [
    {
     "name": "stderr",
     "output_type": "stream",
     "text": [
      " 10%|█         | 2/20 [04:14<38:07, 127.11s/it]"
     ]
    },
    {
     "name": "stdout",
     "output_type": "stream",
     "text": [
      "alpha_ts_rank_volume n = 3\n",
      "\n",
      "\n"
     ]
    },
    {
     "name": "stderr",
     "output_type": "stream",
     "text": [
      "100%|██████████| 20/20 [31:23<00:00, 94.18s/it]\n"
     ]
    }
   ],
   "source": [
    "a41 = generate_alphas(data_returns, alpha41, max_n=20, data_close=data_close, data_open=data_open, data_high=data_high, data_low=data_low, data_volume=data_volume)"
   ]
  },
  {
   "cell_type": "code",
   "execution_count": 20,
   "metadata": {},
   "outputs": [
    {
     "name": "stderr",
     "output_type": "stream",
     "text": [
      "100%|██████████| 20/20 [25:41<00:00, 77.06s/it]\n"
     ]
    }
   ],
   "source": [
    "a42 = generate_alphas(data_returns, alpha42, max_n=20, data_close=data_close, data_open=data_open, data_high=data_high, data_low=data_low, data_volume=data_volume)"
   ]
  },
  {
   "cell_type": "code",
   "execution_count": 21,
   "metadata": {},
   "outputs": [
    {
     "name": "stderr",
     "output_type": "stream",
     "text": [
      "100%|██████████| 20/20 [29:18<00:00, 87.90s/it]\n"
     ]
    }
   ],
   "source": [
    "a51 = generate_alphas(data_returns, alpha51, max_n=20, data_close=data_close, data_open=data_open, data_high=data_high, data_low=data_low, data_volume=data_volume)"
   ]
  },
  {
   "cell_type": "code",
   "execution_count": 22,
   "metadata": {},
   "outputs": [
    {
     "name": "stderr",
     "output_type": "stream",
     "text": [
      "  0%|          | 0/20 [00:00<?, ?it/s]"
     ]
    },
    {
     "name": "stdout",
     "output_type": "stream",
     "text": [
      "alpha_dec n = 1 2 d = 6 k = 5\n",
      "\n",
      "\n"
     ]
    },
    {
     "name": "stderr",
     "output_type": "stream",
     "text": [
      "100%|██████████| 20/20 [26:24<00:00, 79.21s/it]\n"
     ]
    }
   ],
   "source": [
    "a52 = generate_alphas(data_returns, alpha52, max_n=20, data_close=data_close, data_open=data_open, data_high=data_high, data_low=data_low, data_volume=data_volume)"
   ]
  },
  {
   "cell_type": "code",
   "execution_count": 23,
   "metadata": {},
   "outputs": [
    {
     "name": "stderr",
     "output_type": "stream",
     "text": [
      "  5%|▌         | 1/20 [01:14<23:38, 74.68s/it]"
     ]
    },
    {
     "name": "stdout",
     "output_type": "stream",
     "text": [
      "alpha_dec n = 2 2 d = 8 k = 7\n",
      "\n",
      "\n"
     ]
    },
    {
     "name": "stderr",
     "output_type": "stream",
     "text": [
      "100%|██████████| 20/20 [25:02<00:00, 75.13s/it]\n"
     ]
    }
   ],
   "source": [
    "a61 = generate_alphas(data_returns, alpha61, max_n=20, data_close=data_close, data_open=data_open, data_high=data_high, data_low=data_low, data_volume=data_volume)"
   ]
  }
 ],
 "metadata": {
  "kernelspec": {
   "display_name": "env",
   "language": "python",
   "name": "python3"
  },
  "language_info": {
   "codemirror_mode": {
    "name": "ipython",
    "version": 3
   },
   "file_extension": ".py",
   "mimetype": "text/x-python",
   "name": "python",
   "nbconvert_exporter": "python",
   "pygments_lexer": "ipython3",
   "version": "3.10.10"
  },
  "orig_nbformat": 4
 },
 "nbformat": 4,
 "nbformat_minor": 2
}
