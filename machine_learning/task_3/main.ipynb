{
 "cells": [
  {
   "cell_type": "code",
   "execution_count": 1,
   "metadata": {},
   "outputs": [
    {
     "name": "stderr",
     "output_type": "stream",
     "text": [
      "/home/chingisbadmaev/.local/lib/python3.10/site-packages/tqdm/auto.py:22: TqdmWarning: IProgress not found. Please update jupyter and ipywidgets. See https://ipywidgets.readthedocs.io/en/stable/user_install.html\n",
      "  from .autonotebook import tqdm as notebook_tqdm\n"
     ]
    }
   ],
   "source": [
    "import numpy as np\n",
    "import pandas as pd\n",
    "import seaborn as sns\n",
    "import matplotlib.pyplot as plt\n",
    "\n",
    "from sklearn.inspection import permutation_importance\n",
    "from sklearn.model_selection import train_test_split\n",
    "from sklearn.linear_model import LogisticRegression\n",
    "from sklearn.preprocessing import RobustScaler, MinMaxScaler, StandardScaler, QuantileTransformer, normalize\n",
    "\n",
    "import lightgbm as lgb\n",
    "import optuna\n",
    "\n",
    "from sklearn import metrics"
   ]
  },
  {
   "cell_type": "code",
   "execution_count": 2,
   "metadata": {},
   "outputs": [],
   "source": [
    "import warnings\n",
    "warnings.filterwarnings(\"ignore\")"
   ]
  },
  {
   "attachments": {},
   "cell_type": "markdown",
   "metadata": {},
   "source": [
    "#### Gradient decent"
   ]
  },
  {
   "cell_type": "code",
   "execution_count": 3,
   "metadata": {},
   "outputs": [
    {
     "data": {
      "text/html": [
       "<div>\n",
       "<style scoped>\n",
       "    .dataframe tbody tr th:only-of-type {\n",
       "        vertical-align: middle;\n",
       "    }\n",
       "\n",
       "    .dataframe tbody tr th {\n",
       "        vertical-align: top;\n",
       "    }\n",
       "\n",
       "    .dataframe thead th {\n",
       "        text-align: right;\n",
       "    }\n",
       "</style>\n",
       "<table border=\"1\" class=\"dataframe\">\n",
       "  <thead>\n",
       "    <tr style=\"text-align: right;\">\n",
       "      <th></th>\n",
       "      <th>Pregnancies</th>\n",
       "      <th>Glucose</th>\n",
       "      <th>BloodPressure</th>\n",
       "      <th>SkinThickness</th>\n",
       "      <th>Insulin</th>\n",
       "      <th>BMI</th>\n",
       "      <th>DiabetesPedigreeFunction</th>\n",
       "      <th>Age</th>\n",
       "      <th>Outcome</th>\n",
       "    </tr>\n",
       "  </thead>\n",
       "  <tbody>\n",
       "    <tr>\n",
       "      <th>0</th>\n",
       "      <td>6</td>\n",
       "      <td>148</td>\n",
       "      <td>72</td>\n",
       "      <td>35</td>\n",
       "      <td>0</td>\n",
       "      <td>33.6</td>\n",
       "      <td>0.627</td>\n",
       "      <td>50</td>\n",
       "      <td>1</td>\n",
       "    </tr>\n",
       "    <tr>\n",
       "      <th>1</th>\n",
       "      <td>1</td>\n",
       "      <td>85</td>\n",
       "      <td>66</td>\n",
       "      <td>29</td>\n",
       "      <td>0</td>\n",
       "      <td>26.6</td>\n",
       "      <td>0.351</td>\n",
       "      <td>31</td>\n",
       "      <td>0</td>\n",
       "    </tr>\n",
       "    <tr>\n",
       "      <th>2</th>\n",
       "      <td>8</td>\n",
       "      <td>183</td>\n",
       "      <td>64</td>\n",
       "      <td>0</td>\n",
       "      <td>0</td>\n",
       "      <td>23.3</td>\n",
       "      <td>0.672</td>\n",
       "      <td>32</td>\n",
       "      <td>1</td>\n",
       "    </tr>\n",
       "    <tr>\n",
       "      <th>3</th>\n",
       "      <td>1</td>\n",
       "      <td>89</td>\n",
       "      <td>66</td>\n",
       "      <td>23</td>\n",
       "      <td>94</td>\n",
       "      <td>28.1</td>\n",
       "      <td>0.167</td>\n",
       "      <td>21</td>\n",
       "      <td>0</td>\n",
       "    </tr>\n",
       "    <tr>\n",
       "      <th>4</th>\n",
       "      <td>0</td>\n",
       "      <td>137</td>\n",
       "      <td>40</td>\n",
       "      <td>35</td>\n",
       "      <td>168</td>\n",
       "      <td>43.1</td>\n",
       "      <td>2.288</td>\n",
       "      <td>33</td>\n",
       "      <td>1</td>\n",
       "    </tr>\n",
       "    <tr>\n",
       "      <th>...</th>\n",
       "      <td>...</td>\n",
       "      <td>...</td>\n",
       "      <td>...</td>\n",
       "      <td>...</td>\n",
       "      <td>...</td>\n",
       "      <td>...</td>\n",
       "      <td>...</td>\n",
       "      <td>...</td>\n",
       "      <td>...</td>\n",
       "    </tr>\n",
       "    <tr>\n",
       "      <th>763</th>\n",
       "      <td>10</td>\n",
       "      <td>101</td>\n",
       "      <td>76</td>\n",
       "      <td>48</td>\n",
       "      <td>180</td>\n",
       "      <td>32.9</td>\n",
       "      <td>0.171</td>\n",
       "      <td>63</td>\n",
       "      <td>0</td>\n",
       "    </tr>\n",
       "    <tr>\n",
       "      <th>764</th>\n",
       "      <td>2</td>\n",
       "      <td>122</td>\n",
       "      <td>70</td>\n",
       "      <td>27</td>\n",
       "      <td>0</td>\n",
       "      <td>36.8</td>\n",
       "      <td>0.340</td>\n",
       "      <td>27</td>\n",
       "      <td>0</td>\n",
       "    </tr>\n",
       "    <tr>\n",
       "      <th>765</th>\n",
       "      <td>5</td>\n",
       "      <td>121</td>\n",
       "      <td>72</td>\n",
       "      <td>23</td>\n",
       "      <td>112</td>\n",
       "      <td>26.2</td>\n",
       "      <td>0.245</td>\n",
       "      <td>30</td>\n",
       "      <td>0</td>\n",
       "    </tr>\n",
       "    <tr>\n",
       "      <th>766</th>\n",
       "      <td>1</td>\n",
       "      <td>126</td>\n",
       "      <td>60</td>\n",
       "      <td>0</td>\n",
       "      <td>0</td>\n",
       "      <td>30.1</td>\n",
       "      <td>0.349</td>\n",
       "      <td>47</td>\n",
       "      <td>1</td>\n",
       "    </tr>\n",
       "    <tr>\n",
       "      <th>767</th>\n",
       "      <td>1</td>\n",
       "      <td>93</td>\n",
       "      <td>70</td>\n",
       "      <td>31</td>\n",
       "      <td>0</td>\n",
       "      <td>30.4</td>\n",
       "      <td>0.315</td>\n",
       "      <td>23</td>\n",
       "      <td>0</td>\n",
       "    </tr>\n",
       "  </tbody>\n",
       "</table>\n",
       "<p>768 rows × 9 columns</p>\n",
       "</div>"
      ],
      "text/plain": [
       "     Pregnancies  Glucose  BloodPressure  SkinThickness  Insulin   BMI  \\\n",
       "0              6      148             72             35        0  33.6   \n",
       "1              1       85             66             29        0  26.6   \n",
       "2              8      183             64              0        0  23.3   \n",
       "3              1       89             66             23       94  28.1   \n",
       "4              0      137             40             35      168  43.1   \n",
       "..           ...      ...            ...            ...      ...   ...   \n",
       "763           10      101             76             48      180  32.9   \n",
       "764            2      122             70             27        0  36.8   \n",
       "765            5      121             72             23      112  26.2   \n",
       "766            1      126             60              0        0  30.1   \n",
       "767            1       93             70             31        0  30.4   \n",
       "\n",
       "     DiabetesPedigreeFunction  Age  Outcome  \n",
       "0                       0.627   50        1  \n",
       "1                       0.351   31        0  \n",
       "2                       0.672   32        1  \n",
       "3                       0.167   21        0  \n",
       "4                       2.288   33        1  \n",
       "..                        ...  ...      ...  \n",
       "763                     0.171   63        0  \n",
       "764                     0.340   27        0  \n",
       "765                     0.245   30        0  \n",
       "766                     0.349   47        1  \n",
       "767                     0.315   23        0  \n",
       "\n",
       "[768 rows x 9 columns]"
      ]
     },
     "execution_count": 3,
     "metadata": {},
     "output_type": "execute_result"
    }
   ],
   "source": [
    "data = pd.read_csv('diabetes.csv')\n",
    "data"
   ]
  },
  {
   "cell_type": "code",
   "execution_count": 4,
   "metadata": {},
   "outputs": [
    {
     "name": "stdout",
     "output_type": "stream",
     "text": [
      "<class 'pandas.core.frame.DataFrame'>\n",
      "RangeIndex: 768 entries, 0 to 767\n",
      "Data columns (total 9 columns):\n",
      " #   Column                    Non-Null Count  Dtype  \n",
      "---  ------                    --------------  -----  \n",
      " 0   Pregnancies               768 non-null    int64  \n",
      " 1   Glucose                   768 non-null    int64  \n",
      " 2   BloodPressure             768 non-null    int64  \n",
      " 3   SkinThickness             768 non-null    int64  \n",
      " 4   Insulin                   768 non-null    int64  \n",
      " 5   BMI                       768 non-null    float64\n",
      " 6   DiabetesPedigreeFunction  768 non-null    float64\n",
      " 7   Age                       768 non-null    int64  \n",
      " 8   Outcome                   768 non-null    int64  \n",
      "dtypes: float64(2), int64(7)\n",
      "memory usage: 54.1 KB\n"
     ]
    }
   ],
   "source": [
    "data.info()"
   ]
  },
  {
   "cell_type": "code",
   "execution_count": 5,
   "metadata": {},
   "outputs": [
    {
     "data": {
      "text/html": [
       "<div>\n",
       "<style scoped>\n",
       "    .dataframe tbody tr th:only-of-type {\n",
       "        vertical-align: middle;\n",
       "    }\n",
       "\n",
       "    .dataframe tbody tr th {\n",
       "        vertical-align: top;\n",
       "    }\n",
       "\n",
       "    .dataframe thead th {\n",
       "        text-align: right;\n",
       "    }\n",
       "</style>\n",
       "<table border=\"1\" class=\"dataframe\">\n",
       "  <thead>\n",
       "    <tr style=\"text-align: right;\">\n",
       "      <th></th>\n",
       "      <th>Pregnancies</th>\n",
       "      <th>Glucose</th>\n",
       "      <th>BloodPressure</th>\n",
       "      <th>SkinThickness</th>\n",
       "      <th>Insulin</th>\n",
       "      <th>BMI</th>\n",
       "      <th>DiabetesPedigreeFunction</th>\n",
       "      <th>Age</th>\n",
       "      <th>Outcome</th>\n",
       "    </tr>\n",
       "  </thead>\n",
       "  <tbody>\n",
       "    <tr>\n",
       "      <th>0</th>\n",
       "      <td>6</td>\n",
       "      <td>148</td>\n",
       "      <td>72</td>\n",
       "      <td>35</td>\n",
       "      <td>0</td>\n",
       "      <td>33.6</td>\n",
       "      <td>0.627</td>\n",
       "      <td>50</td>\n",
       "      <td>1</td>\n",
       "    </tr>\n",
       "    <tr>\n",
       "      <th>2</th>\n",
       "      <td>8</td>\n",
       "      <td>183</td>\n",
       "      <td>64</td>\n",
       "      <td>0</td>\n",
       "      <td>0</td>\n",
       "      <td>23.3</td>\n",
       "      <td>0.672</td>\n",
       "      <td>32</td>\n",
       "      <td>1</td>\n",
       "    </tr>\n",
       "    <tr>\n",
       "      <th>4</th>\n",
       "      <td>0</td>\n",
       "      <td>137</td>\n",
       "      <td>40</td>\n",
       "      <td>35</td>\n",
       "      <td>168</td>\n",
       "      <td>43.1</td>\n",
       "      <td>2.288</td>\n",
       "      <td>33</td>\n",
       "      <td>1</td>\n",
       "    </tr>\n",
       "    <tr>\n",
       "      <th>6</th>\n",
       "      <td>3</td>\n",
       "      <td>78</td>\n",
       "      <td>50</td>\n",
       "      <td>32</td>\n",
       "      <td>88</td>\n",
       "      <td>31.0</td>\n",
       "      <td>0.248</td>\n",
       "      <td>26</td>\n",
       "      <td>1</td>\n",
       "    </tr>\n",
       "    <tr>\n",
       "      <th>8</th>\n",
       "      <td>2</td>\n",
       "      <td>197</td>\n",
       "      <td>70</td>\n",
       "      <td>45</td>\n",
       "      <td>543</td>\n",
       "      <td>30.5</td>\n",
       "      <td>0.158</td>\n",
       "      <td>53</td>\n",
       "      <td>1</td>\n",
       "    </tr>\n",
       "    <tr>\n",
       "      <th>...</th>\n",
       "      <td>...</td>\n",
       "      <td>...</td>\n",
       "      <td>...</td>\n",
       "      <td>...</td>\n",
       "      <td>...</td>\n",
       "      <td>...</td>\n",
       "      <td>...</td>\n",
       "      <td>...</td>\n",
       "      <td>...</td>\n",
       "    </tr>\n",
       "    <tr>\n",
       "      <th>755</th>\n",
       "      <td>1</td>\n",
       "      <td>128</td>\n",
       "      <td>88</td>\n",
       "      <td>39</td>\n",
       "      <td>110</td>\n",
       "      <td>36.5</td>\n",
       "      <td>1.057</td>\n",
       "      <td>37</td>\n",
       "      <td>1</td>\n",
       "    </tr>\n",
       "    <tr>\n",
       "      <th>757</th>\n",
       "      <td>0</td>\n",
       "      <td>123</td>\n",
       "      <td>72</td>\n",
       "      <td>0</td>\n",
       "      <td>0</td>\n",
       "      <td>36.3</td>\n",
       "      <td>0.258</td>\n",
       "      <td>52</td>\n",
       "      <td>1</td>\n",
       "    </tr>\n",
       "    <tr>\n",
       "      <th>759</th>\n",
       "      <td>6</td>\n",
       "      <td>190</td>\n",
       "      <td>92</td>\n",
       "      <td>0</td>\n",
       "      <td>0</td>\n",
       "      <td>35.5</td>\n",
       "      <td>0.278</td>\n",
       "      <td>66</td>\n",
       "      <td>1</td>\n",
       "    </tr>\n",
       "    <tr>\n",
       "      <th>761</th>\n",
       "      <td>9</td>\n",
       "      <td>170</td>\n",
       "      <td>74</td>\n",
       "      <td>31</td>\n",
       "      <td>0</td>\n",
       "      <td>44.0</td>\n",
       "      <td>0.403</td>\n",
       "      <td>43</td>\n",
       "      <td>1</td>\n",
       "    </tr>\n",
       "    <tr>\n",
       "      <th>766</th>\n",
       "      <td>1</td>\n",
       "      <td>126</td>\n",
       "      <td>60</td>\n",
       "      <td>0</td>\n",
       "      <td>0</td>\n",
       "      <td>30.1</td>\n",
       "      <td>0.349</td>\n",
       "      <td>47</td>\n",
       "      <td>1</td>\n",
       "    </tr>\n",
       "  </tbody>\n",
       "</table>\n",
       "<p>268 rows × 9 columns</p>\n",
       "</div>"
      ],
      "text/plain": [
       "     Pregnancies  Glucose  BloodPressure  SkinThickness  Insulin   BMI  \\\n",
       "0              6      148             72             35        0  33.6   \n",
       "2              8      183             64              0        0  23.3   \n",
       "4              0      137             40             35      168  43.1   \n",
       "6              3       78             50             32       88  31.0   \n",
       "8              2      197             70             45      543  30.5   \n",
       "..           ...      ...            ...            ...      ...   ...   \n",
       "755            1      128             88             39      110  36.5   \n",
       "757            0      123             72              0        0  36.3   \n",
       "759            6      190             92              0        0  35.5   \n",
       "761            9      170             74             31        0  44.0   \n",
       "766            1      126             60              0        0  30.1   \n",
       "\n",
       "     DiabetesPedigreeFunction  Age  Outcome  \n",
       "0                       0.627   50        1  \n",
       "2                       0.672   32        1  \n",
       "4                       2.288   33        1  \n",
       "6                       0.248   26        1  \n",
       "8                       0.158   53        1  \n",
       "..                        ...  ...      ...  \n",
       "755                     1.057   37        1  \n",
       "757                     0.258   52        1  \n",
       "759                     0.278   66        1  \n",
       "761                     0.403   43        1  \n",
       "766                     0.349   47        1  \n",
       "\n",
       "[268 rows x 9 columns]"
      ]
     },
     "execution_count": 5,
     "metadata": {},
     "output_type": "execute_result"
    }
   ],
   "source": [
    "data[data.Outcome == 1]"
   ]
  },
  {
   "cell_type": "code",
   "execution_count": 6,
   "metadata": {},
   "outputs": [],
   "source": [
    "X_train, X_test, y_train, y_test = train_test_split(data.drop(columns=['Outcome']), data['Outcome'], test_size=0.2, random_state=1)"
   ]
  },
  {
   "cell_type": "code",
   "execution_count": 7,
   "metadata": {},
   "outputs": [
    {
     "data": {
      "text/plain": [
       "0.35714285714285715"
      ]
     },
     "execution_count": 7,
     "metadata": {},
     "output_type": "execute_result"
    }
   ],
   "source": [
    "y_test.mean()"
   ]
  },
  {
   "attachments": {},
   "cell_type": "markdown",
   "metadata": {},
   "source": [
    "loss function = cross-entropy"
   ]
  },
  {
   "cell_type": "code",
   "execution_count": 8,
   "metadata": {},
   "outputs": [],
   "source": [
    "def cross_entropy(y, y_pred):\n",
    "    return - sum((y * np.log(y_pred) + (1 - y) * np.log(1 - y_pred)))"
   ]
  },
  {
   "cell_type": "code",
   "execution_count": 9,
   "metadata": {},
   "outputs": [],
   "source": [
    "def cross_entropy_grad(y, y_pred, x):\n",
    "    return np.dot((y_pred - y), x)"
   ]
  },
  {
   "cell_type": "code",
   "execution_count": 10,
   "metadata": {},
   "outputs": [],
   "source": [
    "def predict(x, w):\n",
    "    z = np.dot(x, w)\n",
    "    return 1/(1 + np.exp(-z))"
   ]
  },
  {
   "cell_type": "code",
   "execution_count": 11,
   "metadata": {},
   "outputs": [],
   "source": [
    "minmax_scaler = MinMaxScaler().fit(X_train)\n",
    "X_train_minmax = minmax_scaler.transform(X_train)"
   ]
  },
  {
   "attachments": {},
   "cell_type": "markdown",
   "metadata": {},
   "source": [
    "train"
   ]
  },
  {
   "cell_type": "code",
   "execution_count": 12,
   "metadata": {},
   "outputs": [
    {
     "name": "stdout",
     "output_type": "stream",
     "text": [
      "init weight: [0.69951929 0.22564858 0.77277157 0.28587929 0.43285466 0.77791002\n",
      " 0.21043203 0.58518908]\n",
      "i = 0, loss = 665.8138767011376\n",
      "i = 100, loss = 386.08357589126786\n",
      "i = 200, loss = 375.63039478099165\n",
      "i = 300, loss = 370.4865454312763\n",
      "i = 400, loss = 367.7720420986219\n",
      "i = 500, loss = 366.2708798433527\n",
      "i = 600, loss = 365.41048732237994\n",
      "i = 700, loss = 364.9028205902831\n",
      "i = 800, loss = 364.5958366785709\n",
      "i = 900, loss = 364.4061844272422\n",
      "i = 1000, loss = 364.28673942067974\n",
      "i = 1100, loss = 364.2101652004143\n",
      "i = 1200, loss = 364.16025234688544\n",
      "i = 1300, loss = 364.1272027487357\n",
      "i = 1400, loss = 364.1049903350501\n",
      "i = 1500, loss = 364.089849196558\n",
      "i = 1600, loss = 364.07939007291714\n",
      "i = 1700, loss = 364.0720749643033\n",
      "i = 1800, loss = 364.06689979792515\n",
      "i = 1900, loss = 364.0632000047664\n",
      "i = 2000, loss = 364.0605297955754\n",
      "i = 2100, loss = 364.0585862308473\n",
      "i = 2200, loss = 364.05716086186266\n",
      "i = 2300, loss = 364.05610854720373\n",
      "i = 2400, loss = 364.05532709466195\n",
      "i = 2500, loss = 364.0547438056303\n",
      "i = 2600, loss = 364.0543064719434\n",
      "i = 2700, loss = 364.05397727845997\n",
      "i = 2800, loss = 364.0537286243879\n",
      "i = 2900, loss = 364.05354022666813\n",
      "i = 3000, loss = 364.05339709006887\n",
      "i = 3100, loss = 364.0532880700692\n",
      "i = 3200, loss = 364.0532048457221\n",
      "i = 3300, loss = 364.0531411791618\n",
      "i = 3400, loss = 364.0530923775669\n",
      "i = 3500, loss = 364.0530548994847\n",
      "i = 3600, loss = 364.05302606498526\n",
      "i = 3700, loss = 364.05300384109705\n",
      "i = 3800, loss = 364.05298668220775\n",
      "i = 3900, loss = 364.0529734108551\n",
      "i = 4000, loss = 364.052963128358\n",
      "i = 4100, loss = 364.05295514760496\n",
      "i = 4200, loss = 364.05294894237085\n",
      "i = 4300, loss = 364.0529441089934\n",
      "i = 4400, loss = 364.05294033734185\n",
      "i = 4500, loss = 364.0529373887744\n",
      "i = 4600, loss = 364.05293507937097\n",
      "i = 4700, loss = 364.05293326716895\n",
      "i = 4800, loss = 364.052931842415\n",
      "i = 4900, loss = 364.05293072012574\n",
      "i = 5000, loss = 364.0529298343863\n",
      "i = 5100, loss = 364.05292913398716\n",
      "i = 5200, loss = 364.0529285790789\n",
      "i = 5300, loss = 364.05292813859324\n",
      "i = 5400, loss = 364.0529277882711\n",
      "i = 5500, loss = 364.05292750913077\n",
      "i = 5600, loss = 364.0529272862968\n",
      "i = 5700, loss = 364.0529271080857\n",
      "i = 5800, loss = 364.05292696530773\n",
      "i = 5900, loss = 364.0529268507183\n",
      "i = 6000, loss = 364.0529267585963\n",
      "i = 6100, loss = 364.05292668441507\n",
      "i = 6200, loss = 364.05292662458606\n",
      "i = 6300, loss = 364.05292657625876\n",
      "i = 6400, loss = 364.052926537165\n",
      "i = 6500, loss = 364.05292650549575\n",
      "i = 6600, loss = 364.0529264798072\n",
      "i = 6700, loss = 364.0529264589427\n",
      "i = 6800, loss = 364.052926441976\n",
      "i = 6900, loss = 364.05292642816335\n",
      "i = 7000, loss = 364.052926416906\n",
      "i = 7100, loss = 364.052926407722\n",
      "i = 7200, loss = 364.05292640022174\n",
      "i = 7300, loss = 364.05292639409197\n",
      "i = 7400, loss = 364.0529263890771\n",
      "i = 7500, loss = 364.0529263849718\n",
      "i = 7600, loss = 364.052926381608\n",
      "i = 7700, loss = 364.0529263788496\n",
      "i = 7800, loss = 364.0529263765876\n",
      "i = 7900, loss = 364.05292637472974\n",
      "i = 8000, loss = 364.0529263732044\n",
      "i = 8100, loss = 364.05292637195083\n",
      "i = 8200, loss = 364.0529263709194\n",
      "i = 8300, loss = 364.0529263700719\n",
      "i = 8400, loss = 364.05292636937395\n",
      "i = 8500, loss = 364.0529263688\n",
      "i = 8600, loss = 364.052926368327\n",
      "i = 8700, loss = 364.0529263679372\n",
      "i = 8800, loss = 364.05292636761607\n",
      "i = 8900, loss = 364.0529263673519\n",
      "i = 9000, loss = 364.0529263671334\n",
      "i = 9100, loss = 364.05292636695333\n",
      "i = 9200, loss = 364.0529263668049\n",
      "i = 9300, loss = 364.0529263666825\n",
      "i = 9400, loss = 364.05292636658123\n",
      "i = 9500, loss = 364.0529263664985\n",
      "i = 9600, loss = 364.0529263664295\n",
      "i = 9700, loss = 364.05292636637245\n",
      "i = 9800, loss = 364.05292636632583\n",
      "i = 9900, loss = 364.0529263662875\n"
     ]
    }
   ],
   "source": [
    "w = np.random.rand(X_train_minmax.shape[1])\n",
    "print('init weight:', w)\n",
    "alpha = 1e-3\n",
    "for i in range(10000):\n",
    "    y_pred = predict(X_train_minmax, w)\n",
    "    loss = cross_entropy(y_train, y_pred)\n",
    "    \n",
    "    if i % 100 == 0:\n",
    "        print (f'i = {i}, loss = {loss}')    \n",
    "    w -= alpha * cross_entropy_grad(y_train, y_pred, X_train_minmax)"
   ]
  },
  {
   "attachments": {},
   "cell_type": "markdown",
   "metadata": {},
   "source": [
    "predict"
   ]
  },
  {
   "cell_type": "code",
   "execution_count": 13,
   "metadata": {},
   "outputs": [],
   "source": [
    "X_test_minmax = minmax_scaler.transform(X_test)\n",
    "y_pred = predict(X_test_minmax, w) > 0.5"
   ]
  },
  {
   "cell_type": "code",
   "execution_count": 14,
   "metadata": {},
   "outputs": [
    {
     "name": "stdout",
     "output_type": "stream",
     "text": [
      "0.6428571428571429\n"
     ]
    }
   ],
   "source": [
    "from sklearn.metrics import accuracy_score\n",
    "print(accuracy_score(y_pred, y_test))"
   ]
  },
  {
   "attachments": {},
   "cell_type": "markdown",
   "metadata": {},
   "source": [
    "#### Logistic regression"
   ]
  },
  {
   "cell_type": "code",
   "execution_count": 15,
   "metadata": {},
   "outputs": [
    {
     "name": "stdout",
     "output_type": "stream",
     "text": [
      "accuracy_score: 0.7792207792207793\n",
      "roc_auc_score: 0.7313131313131312\n"
     ]
    }
   ],
   "source": [
    "# логичтическая регрессия\n",
    "model_LR = LogisticRegression(max_iter=5000)\n",
    "model_LR.fit(X_train, y_train)\n",
    "y_pred_LR = model_LR.predict(X_test)\n",
    "\n",
    "print('accuracy_score:', metrics.accuracy_score(y_test, y_pred_LR))\n",
    "print('roc_auc_score:', metrics.roc_auc_score(y_test, y_pred_LR))"
   ]
  },
  {
   "cell_type": "code",
   "execution_count": 16,
   "metadata": {},
   "outputs": [
    {
     "data": {
      "text/plain": [
       "<AxesSubplot: >"
      ]
     },
     "execution_count": 16,
     "metadata": {},
     "output_type": "execute_result"
    },
    {
     "data": {
      "image/png": "[encoded data removed]",
      "text/plain": [
       "<Figure size 640x480 with 1 Axes>"
      ]
     },
     "metadata": {},
     "output_type": "display_data"
    }
   ],
   "source": [
    "result_LR = permutation_importance(model_LR, X_train, y_train, n_repeats=10,random_state=23)\n",
    "sns.boxplot(pd.DataFrame(result_LR['importances'].T,columns=X_train.columns),orient='h')"
   ]
  },
  {
   "cell_type": "code",
   "execution_count": 17,
   "metadata": {},
   "outputs": [
    {
     "name": "stdout",
     "output_type": "stream",
     "text": [
      "accuracy_score: 0.7792207792207793\n",
      "roc_auc_score: 0.7313131313131312\n"
     ]
    }
   ],
   "source": [
    "# логичтическая регрессия\n",
    "model_LR = LogisticRegression(max_iter=5000)\n",
    "model_LR.fit(X_train.drop(columns=['Age']), y_train)\n",
    "y_pred_LR = model_LR.predict(X_test.drop(columns=['Age']))\n",
    "\n",
    "print('accuracy_score:', metrics.accuracy_score(y_test, y_pred_LR))\n",
    "print('roc_auc_score:', metrics.roc_auc_score(y_test, y_pred_LR))"
   ]
  },
  {
   "attachments": {},
   "cell_type": "markdown",
   "metadata": {},
   "source": [
    "#### lightgbm"
   ]
  },
  {
   "cell_type": "code",
   "execution_count": 18,
   "metadata": {},
   "outputs": [
    {
     "name": "stdout",
     "output_type": "stream",
     "text": [
      "accuracy_score: 0.7857142857142857\n",
      "roc_auc_score: 0.7565656565656566\n",
      "classification_report: \n",
      "               precision    recall  f1-score   support\n",
      "\n",
      "           0       0.82      0.86      0.84        99\n",
      "           1       0.72      0.65      0.69        55\n",
      "\n",
      "    accuracy                           0.79       154\n",
      "   macro avg       0.77      0.76      0.76       154\n",
      "weighted avg       0.78      0.79      0.78       154\n",
      "\n"
     ]
    }
   ],
   "source": [
    "model_lgb = lgb.LGBMClassifier()\n",
    "model_lgb.fit(X_train, y_train)\n",
    "y_pred_lgb = model_lgb.predict(X_test)\n",
    "\n",
    "print('accuracy_score:', metrics.accuracy_score(y_test, y_pred_lgb))\n",
    "print('roc_auc_score:', metrics.roc_auc_score(y_test, y_pred_lgb))\n",
    "print('classification_report:', '\\n', metrics.classification_report(y_test, y_pred_lgb))"
   ]
  },
  {
   "cell_type": "code",
   "execution_count": 19,
   "metadata": {},
   "outputs": [
    {
     "data": {
      "text/plain": [
       "<AxesSubplot: >"
      ]
     },
     "execution_count": 19,
     "metadata": {},
     "output_type": "execute_result"
    },
    {
     "data": {
      "image/png": "[encoded data removed]",
      "text/plain": [
       "<Figure size 640x480 with 1 Axes>"
      ]
     },
     "metadata": {},
     "output_type": "display_data"
    }
   ],
   "source": [
    "result_lgb = permutation_importance(model_lgb, X_train, y_train, n_repeats=10,random_state=23)\n",
    "sns.boxplot(pd.DataFrame(result_lgb['importances'].T,columns=X_train.columns),orient='h')\n"
   ]
  }
 ],
 "metadata": {
  "kernelspec": {
   "display_name": "Python 3",
   "language": "python",
   "name": "python3"
  },
  "language_info": {
   "codemirror_mode": {
    "name": "ipython",
    "version": 3
   },
   "file_extension": ".py",
   "mimetype": "text/x-python",
   "name": "python",
   "nbconvert_exporter": "python",
   "pygments_lexer": "ipython3",
   "version": "3.10.10"
  },
  "orig_nbformat": 4
 },
 "nbformat": 4,
 "nbformat_minor": 2
}
