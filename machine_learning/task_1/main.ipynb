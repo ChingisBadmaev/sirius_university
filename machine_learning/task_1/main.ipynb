{
 "cells": [
  {
   "cell_type": "code",
   "execution_count": 1,
   "metadata": {},
   "outputs": [],
   "source": [
    "import numpy as np\n",
    "import matplotlib.pyplot as plt\n",
    "from sklearn.ensemble import GradientBoostingRegressor"
   ]
  },
  {
   "cell_type": "code",
   "execution_count": 2,
   "metadata": {},
   "outputs": [],
   "source": [
    "sales_path = '/home/chingisbadmaev/Desktop/sirius_university/machine_learning/task_1/sales.txt'"
   ]
  },
  {
   "cell_type": "code",
   "execution_count": 3,
   "metadata": {},
   "outputs": [],
   "source": [
    "sales = np.asarray(np.genfromtxt(sales_path, delimiter=',', usemask=True))"
   ]
  },
  {
   "cell_type": "code",
   "execution_count": 4,
   "metadata": {},
   "outputs": [
    {
     "data": {
      "text/plain": [
       "array([[2.10400e+03, 3.00000e+00, 3.99900e+05],\n",
       "       [1.60000e+03, 3.00000e+00, 3.29900e+05],\n",
       "       [2.40000e+03, 3.00000e+00, 3.69000e+05],\n",
       "       [1.41600e+03, 2.00000e+00, 2.32000e+05],\n",
       "       [3.00000e+03, 4.00000e+00, 5.39900e+05],\n",
       "       [1.98500e+03, 4.00000e+00, 2.99900e+05],\n",
       "       [1.53400e+03, 3.00000e+00, 3.14900e+05],\n",
       "       [1.42700e+03, 3.00000e+00, 1.98999e+05],\n",
       "       [1.38000e+03, 3.00000e+00, 2.12000e+05],\n",
       "       [1.49400e+03, 3.00000e+00, 2.42500e+05],\n",
       "       [1.94000e+03, 4.00000e+00, 2.39999e+05],\n",
       "       [2.00000e+03, 3.00000e+00, 3.47000e+05],\n",
       "       [1.89000e+03, 3.00000e+00, 3.29999e+05],\n",
       "       [4.47800e+03, 5.00000e+00, 6.99900e+05],\n",
       "       [1.26800e+03, 3.00000e+00, 2.59900e+05],\n",
       "       [2.30000e+03, 4.00000e+00, 4.49900e+05],\n",
       "       [1.32000e+03, 2.00000e+00, 2.99900e+05],\n",
       "       [1.23600e+03, 3.00000e+00, 1.99900e+05],\n",
       "       [2.60900e+03, 4.00000e+00, 4.99998e+05],\n",
       "       [3.03100e+03, 4.00000e+00, 5.99000e+05],\n",
       "       [1.76700e+03, 3.00000e+00, 2.52900e+05],\n",
       "       [1.88800e+03, 2.00000e+00, 2.55000e+05],\n",
       "       [1.60400e+03, 3.00000e+00, 2.42900e+05],\n",
       "       [1.96200e+03, 4.00000e+00, 2.59900e+05],\n",
       "       [3.89000e+03, 3.00000e+00, 5.73900e+05],\n",
       "       [1.10000e+03, 3.00000e+00, 2.49900e+05],\n",
       "       [1.45800e+03, 3.00000e+00, 4.64500e+05],\n",
       "       [2.52600e+03, 3.00000e+00, 4.69000e+05],\n",
       "       [2.20000e+03, 3.00000e+00, 4.75000e+05],\n",
       "       [2.63700e+03, 3.00000e+00, 2.99900e+05],\n",
       "       [1.83900e+03, 2.00000e+00, 3.49900e+05],\n",
       "       [1.00000e+03, 1.00000e+00, 1.69900e+05],\n",
       "       [2.04000e+03, 4.00000e+00, 3.14900e+05],\n",
       "       [3.13700e+03, 3.00000e+00, 5.79900e+05],\n",
       "       [1.81100e+03, 4.00000e+00, 2.85900e+05],\n",
       "       [1.43700e+03, 3.00000e+00, 2.49900e+05],\n",
       "       [1.23900e+03, 3.00000e+00, 2.29900e+05],\n",
       "       [2.13200e+03, 4.00000e+00, 3.45000e+05],\n",
       "       [4.21500e+03, 4.00000e+00, 5.49000e+05],\n",
       "       [2.16200e+03, 4.00000e+00, 2.87000e+05],\n",
       "       [1.66400e+03, 2.00000e+00, 3.68500e+05],\n",
       "       [2.23800e+03, 3.00000e+00, 3.29900e+05],\n",
       "       [2.56700e+03, 4.00000e+00, 3.14000e+05],\n",
       "       [1.20000e+03, 3.00000e+00, 2.99000e+05],\n",
       "       [8.52000e+02, 2.00000e+00, 1.79900e+05],\n",
       "       [1.85200e+03, 4.00000e+00, 2.99900e+05],\n",
       "       [1.20300e+03, 3.00000e+00, 2.39500e+05]])"
      ]
     },
     "execution_count": 4,
     "metadata": {},
     "output_type": "execute_result"
    }
   ],
   "source": [
    "sales"
   ]
  },
  {
   "cell_type": "code",
   "execution_count": 5,
   "metadata": {},
   "outputs": [
    {
     "data": {
      "text/plain": [
       "array([[2.104e+03, 3.000e+00],\n",
       "       [1.600e+03, 3.000e+00],\n",
       "       [2.400e+03, 3.000e+00],\n",
       "       [1.416e+03, 2.000e+00],\n",
       "       [3.000e+03, 4.000e+00],\n",
       "       [1.985e+03, 4.000e+00],\n",
       "       [1.534e+03, 3.000e+00],\n",
       "       [1.427e+03, 3.000e+00],\n",
       "       [1.380e+03, 3.000e+00],\n",
       "       [1.494e+03, 3.000e+00],\n",
       "       [1.940e+03, 4.000e+00],\n",
       "       [2.000e+03, 3.000e+00],\n",
       "       [1.890e+03, 3.000e+00],\n",
       "       [4.478e+03, 5.000e+00],\n",
       "       [1.268e+03, 3.000e+00],\n",
       "       [2.300e+03, 4.000e+00],\n",
       "       [1.320e+03, 2.000e+00],\n",
       "       [1.236e+03, 3.000e+00],\n",
       "       [2.609e+03, 4.000e+00],\n",
       "       [3.031e+03, 4.000e+00],\n",
       "       [1.767e+03, 3.000e+00],\n",
       "       [1.888e+03, 2.000e+00],\n",
       "       [1.604e+03, 3.000e+00],\n",
       "       [1.962e+03, 4.000e+00],\n",
       "       [3.890e+03, 3.000e+00],\n",
       "       [1.100e+03, 3.000e+00],\n",
       "       [1.458e+03, 3.000e+00],\n",
       "       [2.526e+03, 3.000e+00],\n",
       "       [2.200e+03, 3.000e+00],\n",
       "       [2.637e+03, 3.000e+00],\n",
       "       [1.839e+03, 2.000e+00],\n",
       "       [1.000e+03, 1.000e+00],\n",
       "       [2.040e+03, 4.000e+00],\n",
       "       [3.137e+03, 3.000e+00],\n",
       "       [1.811e+03, 4.000e+00],\n",
       "       [1.437e+03, 3.000e+00],\n",
       "       [1.239e+03, 3.000e+00],\n",
       "       [2.132e+03, 4.000e+00],\n",
       "       [4.215e+03, 4.000e+00],\n",
       "       [2.162e+03, 4.000e+00],\n",
       "       [1.664e+03, 2.000e+00],\n",
       "       [2.238e+03, 3.000e+00],\n",
       "       [2.567e+03, 4.000e+00],\n",
       "       [1.200e+03, 3.000e+00],\n",
       "       [8.520e+02, 2.000e+00],\n",
       "       [1.852e+03, 4.000e+00],\n",
       "       [1.203e+03, 3.000e+00]])"
      ]
     },
     "execution_count": 5,
     "metadata": {},
     "output_type": "execute_result"
    }
   ],
   "source": [
    "sales[:,:2]"
   ]
  },
  {
   "cell_type": "code",
   "execution_count": 6,
   "metadata": {},
   "outputs": [
    {
     "data": {
      "text/plain": [
       "array([[1.],\n",
       "       [1.],\n",
       "       [1.],\n",
       "       [1.],\n",
       "       [1.],\n",
       "       [1.],\n",
       "       [1.],\n",
       "       [1.],\n",
       "       [1.],\n",
       "       [1.],\n",
       "       [1.],\n",
       "       [1.],\n",
       "       [1.],\n",
       "       [1.],\n",
       "       [1.],\n",
       "       [1.],\n",
       "       [1.],\n",
       "       [1.],\n",
       "       [1.],\n",
       "       [1.],\n",
       "       [1.],\n",
       "       [1.],\n",
       "       [1.],\n",
       "       [1.],\n",
       "       [1.],\n",
       "       [1.],\n",
       "       [1.],\n",
       "       [1.],\n",
       "       [1.],\n",
       "       [1.],\n",
       "       [1.],\n",
       "       [1.],\n",
       "       [1.],\n",
       "       [1.],\n",
       "       [1.],\n",
       "       [1.],\n",
       "       [1.],\n",
       "       [1.],\n",
       "       [1.],\n",
       "       [1.],\n",
       "       [1.],\n",
       "       [1.],\n",
       "       [1.],\n",
       "       [1.],\n",
       "       [1.],\n",
       "       [1.],\n",
       "       [1.]])"
      ]
     },
     "execution_count": 6,
     "metadata": {},
     "output_type": "execute_result"
    }
   ],
   "source": [
    "np.ones(sales.shape[0]).reshape((sales.shape[0],1))"
   ]
  },
  {
   "cell_type": "code",
   "execution_count": 7,
   "metadata": {},
   "outputs": [],
   "source": [
    "X = np.hstack((np.ones(sales.shape[0]).reshape((sales.shape[0],1)),sales[:,:2]))\n",
    "y = sales[:,-1]"
   ]
  },
  {
   "cell_type": "code",
   "execution_count": 8,
   "metadata": {},
   "outputs": [
    {
     "data": {
      "text/plain": [
       "array([89597.9095428 ,   139.21067402, -8738.01911233])"
      ]
     },
     "execution_count": 8,
     "metadata": {},
     "output_type": "execute_result"
    }
   ],
   "source": [
    "w = np.dot( np.dot( np.linalg.inv(np.dot(X.T,X)), X.T ), y )\n",
    "w"
   ]
  },
  {
   "attachments": {},
   "cell_type": "markdown",
   "metadata": {},
   "source": [
    "### Ordinary least squares method"
   ]
  },
  {
   "cell_type": "code",
   "execution_count": 9,
   "metadata": {},
   "outputs": [],
   "source": [
    "# ordinary least squares method \n",
    "def predict_price_ols(data):\n",
    "    return np.dot(w,[1, data[:, 0], data[:, 1]])"
   ]
  },
  {
   "cell_type": "code",
   "execution_count": 10,
   "metadata": {},
   "outputs": [
    {
     "name": "stderr",
     "output_type": "stream",
     "text": [
      "<__array_function__ internals>:180: VisibleDeprecationWarning: Creating an ndarray from ragged nested sequences (which is a list-or-tuple of lists-or-tuples-or ndarrays with different lengths or shapes) is deprecated. If you meant to do this, you must specify 'dtype=object' when creating the ndarray.\n"
     ]
    },
    {
     "data": {
      "text/plain": [
       "array([356283.1103389 , 286120.93063401, 397489.46984811, 269244.1857271 ,\n",
       "       472277.85514636, 330979.02101847, 276933.02614885, 262037.48402897,\n",
       "       255494.58235014, 271364.59918815, 324714.54068768, 341805.20024106,\n",
       "       326492.02609913, 669293.21223209, 239902.98686016, 374830.38333402,\n",
       "       255879.96102141, 235448.2452916 , 417846.48160547, 476593.38604091,\n",
       "       309369.11319496, 334951.62386342, 286677.77333009, 327777.17551607,\n",
       "       604913.37413438, 216515.5936252 , 266353.01492351, 415030.01477434,\n",
       "       369647.33504459, 430482.39959029, 328130.30083655, 220070.56444809,\n",
       "       338635.60808944, 500087.7365991 , 306756.36373941, 263429.59076914,\n",
       "       235865.87731365, 351442.99009906, 641418.82407778, 355619.31031959,\n",
       "       303768.43288347, 374937.34065726, 411999.63329673, 230436.66102696,\n",
       "       190729.36558116, 312464.00137413, 230854.29304902])"
      ]
     },
     "execution_count": 10,
     "metadata": {},
     "output_type": "execute_result"
    }
   ],
   "source": [
    "predicted_price = predict_price_ols(sales)\n",
    "actual_price = sales[:, 2]\n",
    "predicted_price"
   ]
  },
  {
   "attachments": {},
   "cell_type": "markdown",
   "metadata": {},
   "source": [
    "### Gradient descent"
   ]
  },
  {
   "cell_type": "code",
   "execution_count": 11,
   "metadata": {},
   "outputs": [],
   "source": [
    "N = sales.shape[0]\n",
    "\n",
    "# starting point\n",
    "def gradient(w):\n",
    "    return np.array([\n",
    "        2 * ((X*w[None,:]).sum(axis=1)-y).mean(),\n",
    "        2 * (((X*w[None,:]).sum(axis=1)-y)*X[:,1]).mean(),\n",
    "        2 * (((X*w[None,:]).sum(axis=1)-y)*X[:,2]).mean(),\n",
    "    ])\n",
    "def find_optimal_alpha(w):\n",
    "    r = y-np.dot(X,w)\n",
    "    z = np.dot(X,gradient(w))\n",
    "    return -np.dot(r,z)/np.dot(z,z)"
   ]
  },
  {
   "cell_type": "code",
   "execution_count": 12,
   "metadata": {},
   "outputs": [
    {
     "name": "stdout",
     "output_type": "stream",
     "text": [
      "i = 0, loss = 362192.07088631147\n",
      "i = 100, loss = 65947.46127925024\n",
      "i = 200, loss = 65452.823401808026\n",
      "i = 300, loss = 65078.183631159714\n",
      "i = 400, loss = 64794.87308248784\n",
      "i = 500, loss = 64580.88820454657\n",
      "i = 600, loss = 64419.415354550765\n",
      "i = 700, loss = 64297.65432447897\n",
      "i = 800, loss = 64205.88792582788\n",
      "i = 900, loss = 64136.7554692892\n",
      "i = 1000, loss = 64084.690393760415\n",
      "i = 1100, loss = 64045.48824846875\n",
      "i = 1200, loss = 64015.97636197362\n",
      "i = 1300, loss = 63993.76236524645\n",
      "i = 1400, loss = 63977.04325320364\n",
      "i = 1500, loss = 63964.46074618533\n",
      "i = 1600, loss = 63954.99191447298\n",
      "i = 1700, loss = 63947.866552243475\n",
      "i = 1800, loss = 63942.50484074056\n",
      "i = 1900, loss = 63938.47033989177\n",
      "i = 2000, loss = 63935.43457392054\n",
      "i = 2100, loss = 63933.15034087034\n",
      "i = 2200, loss = 63931.43161203846\n",
      "i = 2300, loss = 63930.13839469041\n",
      "i = 2400, loss = 63929.16534703688\n",
      "i = 2500, loss = 63928.43320766091\n",
      "i = 2600, loss = 63927.88233413556\n",
      "i = 2700, loss = 63927.46784937934\n",
      "i = 2800, loss = 63927.15598625678\n",
      "i = 2900, loss = 63926.9213370443\n",
      "i = 3000, loss = 63926.74478465113\n",
      "i = 3100, loss = 63926.61194482264\n",
      "i = 3200, loss = 63926.51199472453\n",
      "i = 3300, loss = 63926.43679104015\n",
      "i = 3400, loss = 63926.380206323556\n",
      "i = 3500, loss = 63926.33763096963\n",
      "i = 3600, loss = 63926.305596995706\n",
      "i = 3700, loss = 63926.2814947864\n",
      "i = 3800, loss = 63926.26336045022\n",
      "i = 3900, loss = 63926.2497157579\n",
      "i = 4000, loss = 63926.23944929315\n",
      "i = 4100, loss = 63926.2317247515\n",
      "i = 4200, loss = 63926.22591250217\n",
      "i = 4300, loss = 63926.22153926138\n",
      "i = 4400, loss = 63926.21824883635\n",
      "i = 4500, loss = 63926.215773153526\n",
      "i = 4600, loss = 63926.21391028973\n",
      "i = 4700, loss = 63926.21250860761\n",
      "i = 4800, loss = 63926.211454039505\n",
      "i = 4900, loss = 63926.210660547375\n",
      "i = 5000, loss = 63926.21006355157\n",
      "i = 5100, loss = 63926.20961436892\n",
      "i = 5200, loss = 63926.209276440546\n",
      "i = 5300, loss = 63926.20902217472\n",
      "i = 5400, loss = 63926.20883084864\n",
      "i = 5500, loss = 63926.20868690838\n",
      "i = 5600, loss = 63926.208578610356\n",
      "i = 5700, loss = 63926.208497152176\n",
      "i = 5800, loss = 63926.20843588211\n",
      "i = 5900, loss = 63926.20838980771\n",
      "i = 6000, loss = 63926.20835515209\n",
      "i = 6100, loss = 63926.20832908141\n",
      "i = 6200, loss = 63926.2083094561\n",
      "i = 6300, loss = 63926.20829469697\n",
      "i = 6400, loss = 63926.20828359277\n",
      "i = 6500, loss = 63926.208275248086\n",
      "i = 6600, loss = 63926.20826896744\n",
      "i = 6700, loss = 63926.20826423867\n",
      "i = 6800, loss = 63926.20826067877\n",
      "i = 6900, loss = 63926.208258001934\n",
      "i = 7000, loss = 63926.20825598838\n",
      "i = 7100, loss = 63926.208254473575\n",
      "i = 7200, loss = 63926.208253334844\n",
      "i = 7300, loss = 63926.20825247645\n",
      "i = 7400, loss = 63926.20825182931\n",
      "i = 7500, loss = 63926.208251343196\n",
      "i = 7600, loss = 63926.208250978365\n",
      "i = 7700, loss = 63926.20825070502\n",
      "i = 7800, loss = 63926.208250497744\n",
      "i = 7900, loss = 63926.208250341224\n",
      "i = 8000, loss = 63926.20825022309\n",
      "i = 8100, loss = 63926.2082501341\n",
      "i = 8200, loss = 63926.20825006767\n",
      "i = 8300, loss = 63926.20825001801\n",
      "i = 8400, loss = 63926.20824998115\n",
      "i = 8500, loss = 63926.208249953415\n",
      "i = 8600, loss = 63926.20824993253\n",
      "i = 8700, loss = 63926.2082499169\n",
      "i = 8800, loss = 63926.2082499054\n",
      "i = 8900, loss = 63926.20824989668\n",
      "i = 9000, loss = 63926.208249890224\n",
      "i = 9100, loss = 63926.20824988539\n",
      "i = 9200, loss = 63926.20824988173\n",
      "i = 9300, loss = 63926.20824987878\n",
      "i = 9400, loss = 63926.20824987642\n",
      "i = 9500, loss = 63926.20824987455\n",
      "i = 9600, loss = 63926.20824987307\n",
      "i = 9700, loss = 63926.20824987198\n",
      "i = 9800, loss = 63926.208249871044\n",
      "i = 9900, loss = 63926.20824987044\n"
     ]
    }
   ],
   "source": [
    "wcurr = np.array([0.,0.,0.])\n",
    "\n",
    "def predict_price(data, w):\n",
    "    return np.dot(w,[1, data[:, 0], data[:, 1]])\n",
    "\n",
    "for i in range(10000):\n",
    "    if not i % 100:\n",
    "        loss = np.sqrt(((actual_price - predict_price(sales, wcurr))**2).mean())\n",
    "        print (f'i = {i}, loss = {loss}')\n",
    "    alpha = find_optimal_alpha(wcurr)\n",
    "    wcurr -= alpha * gradient(wcurr)"
   ]
  },
  {
   "cell_type": "code",
   "execution_count": 13,
   "metadata": {},
   "outputs": [
    {
     "data": {
      "text/plain": [
       "array([89597.86919644,   139.21067355, -8738.00692122])"
      ]
     },
     "execution_count": 13,
     "metadata": {},
     "output_type": "execute_result"
    }
   ],
   "source": [
    "wcurr"
   ]
  },
  {
   "attachments": {},
   "cell_type": "markdown",
   "metadata": {},
   "source": [
    "### Predict sklearn\n",
    "built-in python lib"
   ]
  },
  {
   "cell_type": "code",
   "execution_count": 14,
   "metadata": {},
   "outputs": [],
   "source": [
    "# что тут нужно писать?\n",
    "def predict_price_gd(sqfeet,nbedrooms):\n",
    "    pass"
   ]
  },
  {
   "cell_type": "code",
   "execution_count": 32,
   "metadata": {},
   "outputs": [
    {
     "data": {
      "text/plain": [
       "0.4575335515735741"
      ]
     },
     "execution_count": 32,
     "metadata": {},
     "output_type": "execute_result"
    }
   ],
   "source": [
    "from sklearn.ensemble import GradientBoostingRegressor\n",
    "from sklearn.model_selection import train_test_split\n",
    "\n",
    "X_train, X_test, y_train, y_test = train_test_split(sales[:, :2], sales[:, 2], random_state=0)\n",
    "reg = GradientBoostingRegressor(random_state=0).fit(X_train, y_train)\n",
    "reg.predict(X_test)\n",
    "reg.score(X_test, y_test)"
   ]
  },
  {
   "cell_type": "code",
   "execution_count": 42,
   "metadata": {},
   "outputs": [
    {
     "name": "stdout",
     "output_type": "stream",
     "text": [
      "mse: 8587941755.840939\n",
      "MSE built-in python lib: 8587941755.8409\n"
     ]
    }
   ],
   "source": [
    "from sklearn.metrics import mean_squared_error\n",
    "mse = mean_squared_error(y_test, reg.predict(X_test))\n",
    "\n",
    "print('mse:', ((y_test - reg.predict(X_test))**2).mean())\n",
    "\n",
    "\n",
    "print(\"MSE built-in python lib: {:.4f}\".format(mse))\n",
    "\n"
   ]
  },
  {
   "cell_type": "code",
   "execution_count": 37,
   "metadata": {},
   "outputs": [
    {
     "data": {
      "text/plain": [
       "[<matplotlib.lines.Line2D at 0x7f39b3eae650>]"
      ]
     },
     "execution_count": 37,
     "metadata": {},
     "output_type": "execute_result"
    },
    {
     "data": {
      "image/png": "[encoded data removed]",
      "text/plain": [
       "<Figure size 640x480 with 1 Axes>"
      ]
     },
     "metadata": {},
     "output_type": "display_data"
    }
   ],
   "source": [
    "plt.plot(reg.predict(X_test))\n",
    "plt.plot(y_test)"
   ]
  }
 ],
 "metadata": {
  "kernelspec": {
   "display_name": "Python 3",
   "language": "python",
   "name": "python3"
  },
  "language_info": {
   "codemirror_mode": {
    "name": "ipython",
    "version": 3
   },
   "file_extension": ".py",
   "mimetype": "text/x-python",
   "name": "python",
   "nbconvert_exporter": "python",
   "pygments_lexer": "ipython3",
   "version": "3.10.10"
  },
  "orig_nbformat": 4
 },
 "nbformat": 4,
 "nbformat_minor": 2
}
