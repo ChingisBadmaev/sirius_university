{
 "cells": [
  {
   "cell_type": "code",
   "execution_count": 18,
   "metadata": {},
   "outputs": [],
   "source": [
    "import os\n",
    "import numpy as np\n",
    "import pandas as pd\n",
    "import matplotlib.pyplot as plt\n",
    "import seaborn as sns\n",
    "from tqdm import tqdm\n",
    "\n",
    "from sklearn.inspection import permutation_importance\n",
    "from sklearn.metrics import accuracy_score, confusion_matrix\n",
    "from sklearn.preprocessing import MinMaxScaler, QuantileTransformer\n",
    "from sklearn.model_selection import GridSearchCV\n",
    "\n",
    "import lightgbm as lgb\n",
    "from lightgbm import LGBMClassifier\n",
    "from lightgbm import plot_metric\n",
    "from lightgbm import plot_importance\n",
    "\n",
    "%matplotlib inline"
   ]
  },
  {
   "cell_type": "code",
   "execution_count": 3,
   "metadata": {},
   "outputs": [],
   "source": [
    "MDATA_PATH = '/home/chingisbadmaev/Desktop/sirius_university/machine_learning/task_4_preprocessing/mdata'"
   ]
  },
  {
   "cell_type": "code",
   "execution_count": 4,
   "metadata": {},
   "outputs": [],
   "source": [
    "def get_dates():\n",
    "    return sorted(os.listdir(MDATA_PATH))\n",
    "\n",
    "def get_tickers(date):\n",
    "    return sorted(os.listdir(os.path.join(MDATA_PATH,date)))"
   ]
  },
  {
   "cell_type": "code",
   "execution_count": 5,
   "metadata": {},
   "outputs": [],
   "source": [
    "dates = get_dates()\n",
    "\n",
    "date_tickers = dict([(date,get_tickers(date)) for date in dates])\n",
    "tickers = np.unique(np.concatenate(list(date_tickers.values()))).tolist()"
   ]
  },
  {
   "cell_type": "code",
   "execution_count": 6,
   "metadata": {},
   "outputs": [],
   "source": [
    "def get_market_data(ticker):\n",
    "    data = []\n",
    "    for date in tqdm(dates):\n",
    "        #print (date)\n",
    "        if not os.path.exists(os.path.join(MDATA_PATH,date,ticker)):\n",
    "            continue\n",
    "        df = pd.read_csv(\n",
    "            os.path.join(MDATA_PATH,date,ticker),\n",
    "            compression='gzip',\n",
    "            dtype={'bar_time':float,'TIMESTAMP':float},\n",
    "            index_col=0,\n",
    "            parse_dates=[2,3],\n",
    "            date_parser=pd.to_datetime,\n",
    "        )\n",
    "        df.drop([\n",
    "                'TIMESTAMP','WEEKDAY','MINUTE','HOUR','ZERO_SPREAD_ON_TRADE','EMPTY_LOB_SIDE_AFTER_UPDATE','NEGATIVE_SPREAD_AFTER_UPDATE',\n",
    "                'ZERO_SPREAD_AFTER_UPDATE','EMPTY_LOB_SIDE_ON_TRADE','NEGATIVE_SPREAD_ON_TRADE','bar_count','BAR_DURATION'\n",
    "            ], axis = 1, inplace = True\n",
    "        )\n",
    "        df = df[df.columns[~df.columns.str.startswith('EXEC')]]\n",
    "        data.append(df)\n",
    "    data = pd.concat(data).set_index('bar_time').sort_index()\n",
    "    \n",
    "    price_grid = data.filter(like='PRICE_GRID')\n",
    "    vol_grid = data.filter(like='VOL_GRID')\n",
    "    \n",
    "    data = data[ data.columns[ ~data.columns.str.startswith('PRICE_GRID') & ~data.columns.str.startswith('VOL_GRID') ] ]\n",
    "    \n",
    "    return data,price_grid,vol_grid"
   ]
  },
  {
   "cell_type": "code",
   "execution_count": 7,
   "metadata": {},
   "outputs": [],
   "source": [
    "ticker = 'Z.BNB'"
   ]
  },
  {
   "cell_type": "code",
   "execution_count": 8,
   "metadata": {},
   "outputs": [
    {
     "name": "stderr",
     "output_type": "stream",
     "text": [
      "100%|██████████| 292/292 [00:32<00:00,  8.93it/s]\n"
     ]
    }
   ],
   "source": [
    "mdata,pgrid,vgrid = get_market_data(ticker)"
   ]
  },
  {
   "cell_type": "code",
   "execution_count": 9,
   "metadata": {},
   "outputs": [],
   "source": [
    "returns_ahead = mdata['LAST'].pct_change().shift(-1).fillna(0)"
   ]
  },
  {
   "cell_type": "code",
   "execution_count": 10,
   "metadata": {},
   "outputs": [],
   "source": [
    "returns_ahead = (returns_ahead > 0).values.astype(int)"
   ]
  },
  {
   "cell_type": "code",
   "execution_count": 11,
   "metadata": {},
   "outputs": [],
   "source": [
    "# EXCLUDING NON-STATIONARY DATA HARD-CODED.\n",
    "mdata.drop(['BEST_BID','BEST_ASK','LAST','HIGH','LOW','VWAP'],axis=1,inplace=True)"
   ]
  },
  {
   "attachments": {},
   "cell_type": "markdown",
   "metadata": {},
   "source": [
    "split data and targets"
   ]
  },
  {
   "cell_type": "code",
   "execution_count": 20,
   "metadata": {},
   "outputs": [],
   "source": [
    "train_size = int(len(mdata) * 0.7)\n",
    "val_size = int(len(mdata) * 0.9)\n",
    "\n",
    "mdata_train = mdata.iloc[:train_size]\n",
    "mdata_val = mdata.iloc[train_size:val_size]\n",
    "mdata_test = mdata.iloc[val_size:]\n",
    "\n",
    "returns_ahead_train = returns_ahead[:train_size]\n",
    "returns_ahead_val = returns_ahead[train_size:val_size]\n",
    "returns_ahead_test = returns_ahead[val_size:]"
   ]
  },
  {
   "attachments": {},
   "cell_type": "markdown",
   "metadata": {},
   "source": [
    "lightGBM"
   ]
  },
  {
   "cell_type": "code",
   "execution_count": 35,
   "metadata": {},
   "outputs": [],
   "source": [
    "params = {\n",
    "    'boosting_type': 'gbdt', # параметр по умолчанию\n",
    "    'n_estimators': 500, # 500 деревьев\n",
    "    #'learning_rate': 0.05665229811400253,\n",
    "    'num_leaves': 3, # деревья из 3ех листьев\n",
    "    #'reg_alpha': 12.490690707542772,\n",
    "    #'reg_lambda': 82.913989266283,\n",
    "    'subsample_freq': 0, # без положительного subsample_freq подвыборки браться не будут!\n",
    "    'subsample': 1, # используем всю выборку\n",
    "    'n_jobs': 4, # обучаемся на 4 ядрах\n",
    "    'random_state': 23 # для воспроизводимости результата\n",
    "}\n",
    "\n",
    "boosting = LGBMClassifier(**params)"
   ]
  },
  {
   "cell_type": "code",
   "execution_count": 39,
   "metadata": {},
   "outputs": [
    {
     "name": "stdout",
     "output_type": "stream",
     "text": [
      "Training until validation scores don't improve for 100 rounds\n",
      "[50]\ttraining's auc: 0.794838\ttraining's binary_logloss: 0.412048\tvalid_1's auc: 0.508266\tvalid_1's binary_logloss: 0.69315\n",
      "[100]\ttraining's auc: 0.796911\ttraining's binary_logloss: 0.411185\tvalid_1's auc: 0.51266\tvalid_1's binary_logloss: 0.693027\n",
      "[150]\ttraining's auc: 0.799764\ttraining's binary_logloss: 0.410963\tvalid_1's auc: 0.514039\tvalid_1's binary_logloss: 0.692883\n",
      "[200]\ttraining's auc: 0.801382\ttraining's binary_logloss: 0.410788\tvalid_1's auc: 0.514934\tvalid_1's binary_logloss: 0.692794\n",
      "[250]\ttraining's auc: 0.802638\ttraining's binary_logloss: 0.410634\tvalid_1's auc: 0.515508\tvalid_1's binary_logloss: 0.692762\n",
      "[300]\ttraining's auc: 0.80368\ttraining's binary_logloss: 0.410502\tvalid_1's auc: 0.515706\tvalid_1's binary_logloss: 0.69277\n",
      "[350]\ttraining's auc: 0.80471\ttraining's binary_logloss: 0.410369\tvalid_1's auc: 0.515594\tvalid_1's binary_logloss: 0.692785\n",
      "[400]\ttraining's auc: 0.805473\ttraining's binary_logloss: 0.410248\tvalid_1's auc: 0.515333\tvalid_1's binary_logloss: 0.692829\n",
      "Early stopping, best iteration is:\n",
      "[324]\ttraining's auc: 0.804098\ttraining's binary_logloss: 0.410437\tvalid_1's auc: 0.515942\tvalid_1's binary_logloss: 0.692764\n",
      "Evaluated only: auc\n"
     ]
    },
    {
     "data": {
      "text/html": [
       "<style>#sk-container-id-3 {color: black;background-color: white;}#sk-container-id-3 pre{padding: 0;}#sk-container-id-3 div.sk-toggleable {background-color: white;}#sk-container-id-3 label.sk-toggleable__label {cursor: pointer;display: block;width: 100%;margin-bottom: 0;padding: 0.3em;box-sizing: border-box;text-align: center;}#sk-container-id-3 label.sk-toggleable__label-arrow:before {content: \"▸\";float: left;margin-right: 0.25em;color: #696969;}#sk-container-id-3 label.sk-toggleable__label-arrow:hover:before {color: black;}#sk-container-id-3 div.sk-estimator:hover label.sk-toggleable__label-arrow:before {color: black;}#sk-container-id-3 div.sk-toggleable__content {max-height: 0;max-width: 0;overflow: hidden;text-align: left;background-color: #f0f8ff;}#sk-container-id-3 div.sk-toggleable__content pre {margin: 0.2em;color: black;border-radius: 0.25em;background-color: #f0f8ff;}#sk-container-id-3 input.sk-toggleable__control:checked~div.sk-toggleable__content {max-height: 200px;max-width: 100%;overflow: auto;}#sk-container-id-3 input.sk-toggleable__control:checked~label.sk-toggleable__label-arrow:before {content: \"▾\";}#sk-container-id-3 div.sk-estimator input.sk-toggleable__control:checked~label.sk-toggleable__label {background-color: #d4ebff;}#sk-container-id-3 div.sk-label input.sk-toggleable__control:checked~label.sk-toggleable__label {background-color: #d4ebff;}#sk-container-id-3 input.sk-hidden--visually {border: 0;clip: rect(1px 1px 1px 1px);clip: rect(1px, 1px, 1px, 1px);height: 1px;margin: -1px;overflow: hidden;padding: 0;position: absolute;width: 1px;}#sk-container-id-3 div.sk-estimator {font-family: monospace;background-color: #f0f8ff;border: 1px dotted black;border-radius: 0.25em;box-sizing: border-box;margin-bottom: 0.5em;}#sk-container-id-3 div.sk-estimator:hover {background-color: #d4ebff;}#sk-container-id-3 div.sk-parallel-item::after {content: \"\";width: 100%;border-bottom: 1px solid gray;flex-grow: 1;}#sk-container-id-3 div.sk-label:hover label.sk-toggleable__label {background-color: #d4ebff;}#sk-container-id-3 div.sk-serial::before {content: \"\";position: absolute;border-left: 1px solid gray;box-sizing: border-box;top: 0;bottom: 0;left: 50%;z-index: 0;}#sk-container-id-3 div.sk-serial {display: flex;flex-direction: column;align-items: center;background-color: white;padding-right: 0.2em;padding-left: 0.2em;position: relative;}#sk-container-id-3 div.sk-item {position: relative;z-index: 1;}#sk-container-id-3 div.sk-parallel {display: flex;align-items: stretch;justify-content: center;background-color: white;position: relative;}#sk-container-id-3 div.sk-item::before, #sk-container-id-3 div.sk-parallel-item::before {content: \"\";position: absolute;border-left: 1px solid gray;box-sizing: border-box;top: 0;bottom: 0;left: 50%;z-index: -1;}#sk-container-id-3 div.sk-parallel-item {display: flex;flex-direction: column;z-index: 1;position: relative;background-color: white;}#sk-container-id-3 div.sk-parallel-item:first-child::after {align-self: flex-end;width: 50%;}#sk-container-id-3 div.sk-parallel-item:last-child::after {align-self: flex-start;width: 50%;}#sk-container-id-3 div.sk-parallel-item:only-child::after {width: 0;}#sk-container-id-3 div.sk-dashed-wrapped {border: 1px dashed gray;margin: 0 0.4em 0.5em 0.4em;box-sizing: border-box;padding-bottom: 0.4em;background-color: white;}#sk-container-id-3 div.sk-label label {font-family: monospace;font-weight: bold;display: inline-block;line-height: 1.2em;}#sk-container-id-3 div.sk-label-container {text-align: center;}#sk-container-id-3 div.sk-container {/* jupyter's `normalize.less` sets `[hidden] { display: none; }` but bootstrap.min.css set `[hidden] { display: none !important; }` so we also need the `!important` here to be able to override the default hidden behavior on the sphinx rendered scikit-learn.org. See: https://github.com/scikit-learn/scikit-learn/issues/21755 */display: inline-block !important;position: relative;}#sk-container-id-3 div.sk-text-repr-fallback {display: none;}</style><div id=\"sk-container-id-3\" class=\"sk-top-container\"><div class=\"sk-text-repr-fallback\"><pre>LGBMClassifier(n_estimators=500, n_jobs=4, num_leaves=3, random_state=23,\n",
       "               subsample=1)</pre><b>In a Jupyter environment, please rerun this cell to show the HTML representation or trust the notebook. <br />On GitHub, the HTML representation is unable to render, please try loading this page with nbviewer.org.</b></div><div class=\"sk-container\" hidden><div class=\"sk-item\"><div class=\"sk-estimator sk-toggleable\"><input class=\"sk-toggleable__control sk-hidden--visually\" id=\"sk-estimator-id-3\" type=\"checkbox\" checked><label for=\"sk-estimator-id-3\" class=\"sk-toggleable__label sk-toggleable__label-arrow\">LGBMClassifier</label><div class=\"sk-toggleable__content\"><pre>LGBMClassifier(n_estimators=500, n_jobs=4, num_leaves=3, random_state=23,\n",
       "               subsample=1)</pre></div></div></div></div></div>"
      ],
      "text/plain": [
       "LGBMClassifier(n_estimators=500, n_jobs=4, num_leaves=3, random_state=23,\n",
       "               subsample=1)"
      ]
     },
     "execution_count": 39,
     "metadata": {},
     "output_type": "execute_result"
    }
   ],
   "source": [
    "boosting.fit(\n",
    "    X=mdata_train,\n",
    "    y=returns_ahead_train,\n",
    "    eval_set=[(mdata_train, returns_ahead_train), (mdata_val, returns_ahead_val)],\n",
    "    eval_metric='auc', \n",
    "    callbacks=[lgb.early_stopping(stopping_rounds=100, first_metric_only=True),\n",
    "              lgb.log_evaluation(50)]\n",
    ")"
   ]
  },
  {
   "cell_type": "code",
   "execution_count": 40,
   "metadata": {},
   "outputs": [
    {
     "data": {
      "image/png": "[encoded data removed]",
      "text/plain": [
       "<Figure size 1000x400 with 2 Axes>"
      ]
     },
     "metadata": {},
     "output_type": "display_data"
    }
   ],
   "source": [
    "fig, ax = plt.subplots(figsize=(10, 4), nrows=1, ncols=2)\n",
    "\n",
    "plot_metric(\n",
    "    boosting,\n",
    "    metric='auc',\n",
    "    dataset_names=['training', 'valid_1'],\n",
    "    ax=ax[0],\n",
    "    title='Boosting AUC')\n",
    "plot_metric(\n",
    "    boosting,\n",
    "    metric='binary_logloss',\n",
    "    dataset_names=['training', 'valid_1'],\n",
    "    ax=ax[1],\n",
    "    title='Boosting Logloss')\n",
    "plt.show()"
   ]
  },
  {
   "cell_type": "code",
   "execution_count": 47,
   "metadata": {},
   "outputs": [
    {
     "name": "stdout",
     "output_type": "stream",
     "text": [
      "accuracy_score: 0.5111834166523014\n"
     ]
    }
   ],
   "source": [
    "y_pred = boosting.predict(mdata_test)\n",
    "print('accuracy_score:', accuracy_score(returns_ahead_test, y_pred))"
   ]
  },
  {
   "attachments": {},
   "cell_type": "markdown",
   "metadata": {},
   "source": [
    "Подбор гиперпараметров с помощью optuna"
   ]
  },
  {
   "cell_type": "code",
   "execution_count": 48,
   "metadata": {},
   "outputs": [
    {
     "name": "stderr",
     "output_type": "stream",
     "text": [
      "/home/chingisbadmaev/.local/lib/python3.10/site-packages/tqdm/auto.py:22: TqdmWarning: IProgress not found. Please update jupyter and ipywidgets. See https://ipywidgets.readthedocs.io/en/stable/user_install.html\n",
      "  from .autonotebook import tqdm as notebook_tqdm\n",
      "\u001b[32m[I 2023-09-28 01:55:17,232]\u001b[0m A new study created in memory with name: no-name-d1e436f3-963f-4be1-8cb9-7ec3c5fddcce\u001b[0m\n"
     ]
    },
    {
     "name": "stdout",
     "output_type": "stream",
     "text": [
      "Training until validation scores don't improve for 100 rounds\n"
     ]
    },
    {
     "name": "stderr",
     "output_type": "stream",
     "text": [
      "\u001b[32m[I 2023-09-28 01:55:31,063]\u001b[0m Trial 0 finished with value: 0.5158571619204112 and parameters: {'reg_lambda': 48.002030099987294, 'reg_alpha': 2.4701246031729185, 'num_leaves': 18, 'learning_rate': 0.03201190450042272}. Best is trial 0 with value: 0.5158571619204112.\u001b[0m\n"
     ]
    },
    {
     "name": "stdout",
     "output_type": "stream",
     "text": [
      "Early stopping, best iteration is:\n",
      "[205]\ttraining's auc: 0.818085\ttraining's binary_logloss: 0.40968\tvalid_1's auc: 0.516676\tvalid_1's binary_logloss: 0.69279\n",
      "Evaluated only: auc\n",
      "Training until validation scores don't improve for 100 rounds\n"
     ]
    },
    {
     "name": "stderr",
     "output_type": "stream",
     "text": [
      "\u001b[32m[I 2023-09-28 01:56:20,808]\u001b[0m Trial 1 finished with value: 0.5165536478920391 and parameters: {'reg_lambda': 0.6766589422199847, 'reg_alpha': 0.1808841541890915, 'num_leaves': 7, 'learning_rate': 0.005105247879180745}. Best is trial 1 with value: 0.5165536478920391.\u001b[0m\n"
     ]
    },
    {
     "name": "stdout",
     "output_type": "stream",
     "text": [
      "Early stopping, best iteration is:\n",
      "[1042]\ttraining's auc: 0.804408\ttraining's binary_logloss: 0.411194\tvalid_1's auc: 0.516613\tvalid_1's binary_logloss: 0.69285\n",
      "Evaluated only: auc\n",
      "Training until validation scores don't improve for 100 rounds\n"
     ]
    },
    {
     "name": "stderr",
     "output_type": "stream",
     "text": [
      "\u001b[32m[I 2023-09-28 01:56:30,558]\u001b[0m Trial 2 finished with value: 0.5142958428679151 and parameters: {'reg_lambda': 39.55018318177926, 'reg_alpha': 1.4481336313279622, 'num_leaves': 16, 'learning_rate': 0.06780842324411632}. Best is trial 1 with value: 0.5165536478920391.\u001b[0m\n"
     ]
    },
    {
     "name": "stdout",
     "output_type": "stream",
     "text": [
      "Early stopping, best iteration is:\n",
      "[111]\ttraining's auc: 0.818318\ttraining's binary_logloss: 0.409437\tvalid_1's auc: 0.515706\tvalid_1's binary_logloss: 0.692866\n",
      "Evaluated only: auc\n",
      "Training until validation scores don't improve for 100 rounds\n"
     ]
    },
    {
     "name": "stderr",
     "output_type": "stream",
     "text": [
      "\u001b[32m[I 2023-09-28 01:56:39,124]\u001b[0m Trial 3 finished with value: 0.5144721755626407 and parameters: {'reg_lambda': 40.5668431251549, 'reg_alpha': 1.2350622463527183, 'num_leaves': 43, 'learning_rate': 0.020211044103024288}. Best is trial 1 with value: 0.5165536478920391.\u001b[0m\n"
     ]
    },
    {
     "name": "stdout",
     "output_type": "stream",
     "text": [
      "Early stopping, best iteration is:\n",
      "[74]\ttraining's auc: 0.811322\ttraining's binary_logloss: 0.440961\tvalid_1's auc: 0.514612\tvalid_1's binary_logloss: 0.697846\n",
      "Evaluated only: auc\n",
      "Training until validation scores don't improve for 100 rounds\n"
     ]
    },
    {
     "name": "stderr",
     "output_type": "stream",
     "text": [
      "\u001b[32m[I 2023-09-28 01:56:51,351]\u001b[0m Trial 4 finished with value: 0.5158642613536217 and parameters: {'reg_lambda': 69.54562763044345, 'reg_alpha': 2.9335306895778186, 'num_leaves': 26, 'learning_rate': 0.012055786959399023}. Best is trial 1 with value: 0.5165536478920391.\u001b[0m\n"
     ]
    },
    {
     "name": "stdout",
     "output_type": "stream",
     "text": [
      "Early stopping, best iteration is:\n",
      "[192]\ttraining's auc: 0.809449\ttraining's binary_logloss: 0.423259\tvalid_1's auc: 0.51606\tvalid_1's binary_logloss: 0.694076\n",
      "Evaluated only: auc\n",
      "Training until validation scores don't improve for 100 rounds\n"
     ]
    },
    {
     "name": "stderr",
     "output_type": "stream",
     "text": [
      "\u001b[32m[I 2023-09-28 01:57:02,525]\u001b[0m Trial 5 finished with value: 0.5137218655329694 and parameters: {'reg_lambda': 0.17600611504044325, 'reg_alpha': 71.12017981953993, 'num_leaves': 37, 'learning_rate': 0.068375532041822}. Best is trial 1 with value: 0.5165536478920391.\u001b[0m\n"
     ]
    },
    {
     "name": "stdout",
     "output_type": "stream",
     "text": [
      "Early stopping, best iteration is:\n",
      "[127]\ttraining's auc: 0.816982\ttraining's binary_logloss: 0.409501\tvalid_1's auc: 0.51423\tvalid_1's binary_logloss: 0.69293\n",
      "Evaluated only: auc\n",
      "Training until validation scores don't improve for 100 rounds\n"
     ]
    },
    {
     "name": "stderr",
     "output_type": "stream",
     "text": [
      "\u001b[32m[I 2023-09-28 01:57:35,605]\u001b[0m Trial 6 finished with value: 0.5162274194174805 and parameters: {'reg_lambda': 43.79208848594636, 'reg_alpha': 0.12397477523250372, 'num_leaves': 50, 'learning_rate': 0.008331074767995602}. Best is trial 1 with value: 0.5165536478920391.\u001b[0m\n"
     ]
    },
    {
     "name": "stdout",
     "output_type": "stream",
     "text": [
      "Early stopping, best iteration is:\n",
      "[501]\ttraining's auc: 0.8323\ttraining's binary_logloss: 0.410143\tvalid_1's auc: 0.516679\tvalid_1's binary_logloss: 0.692866\n",
      "Evaluated only: auc\n",
      "Training until validation scores don't improve for 100 rounds\n"
     ]
    },
    {
     "name": "stderr",
     "output_type": "stream",
     "text": [
      "\u001b[32m[I 2023-09-28 01:57:57,042]\u001b[0m Trial 7 finished with value: 0.5151780372899981 and parameters: {'reg_lambda': 0.10367284882241044, 'reg_alpha': 4.4053055233231095, 'num_leaves': 20, 'learning_rate': 0.005624764849257149}. Best is trial 1 with value: 0.5165536478920391.\u001b[0m\n"
     ]
    },
    {
     "name": "stdout",
     "output_type": "stream",
     "text": [
      "Early stopping, best iteration is:\n",
      "[393]\ttraining's auc: 0.812163\ttraining's binary_logloss: 0.424284\tvalid_1's auc: 0.515483\tvalid_1's binary_logloss: 0.694284\n",
      "Evaluated only: auc\n",
      "Training until validation scores don't improve for 100 rounds\n"
     ]
    },
    {
     "name": "stderr",
     "output_type": "stream",
     "text": [
      "\u001b[32m[I 2023-09-28 01:58:11,359]\u001b[0m Trial 8 finished with value: 0.51436647503142 and parameters: {'reg_lambda': 0.852649557267768, 'reg_alpha': 1.5133328806960835, 'num_leaves': 44, 'learning_rate': 0.024535775310078164}. Best is trial 1 with value: 0.5165536478920391.\u001b[0m\n"
     ]
    },
    {
     "name": "stdout",
     "output_type": "stream",
     "text": [
      "Early stopping, best iteration is:\n",
      "[175]\ttraining's auc: 0.842844\ttraining's binary_logloss: 0.408581\tvalid_1's auc: 0.515588\tvalid_1's binary_logloss: 0.692976\n",
      "Evaluated only: auc\n",
      "Training until validation scores don't improve for 100 rounds\n"
     ]
    },
    {
     "name": "stderr",
     "output_type": "stream",
     "text": [
      "\u001b[32m[I 2023-09-28 01:58:27,590]\u001b[0m Trial 9 finished with value: 0.5158112688904037 and parameters: {'reg_lambda': 1.111710673620821, 'reg_alpha': 0.23118562185341227, 'num_leaves': 25, 'learning_rate': 0.006257819734883918}. Best is trial 1 with value: 0.5165536478920391.\u001b[0m\n"
     ]
    },
    {
     "name": "stdout",
     "output_type": "stream",
     "text": [
      "Early stopping, best iteration is:\n",
      "[260]\ttraining's auc: 0.81295\ttraining's binary_logloss: 0.436398\tvalid_1's auc: 0.516122\tvalid_1's binary_logloss: 0.696635\n",
      "Evaluated only: auc\n",
      "Training until validation scores don't improve for 100 rounds\n"
     ]
    },
    {
     "name": "stderr",
     "output_type": "stream",
     "text": [
      "\u001b[32m[I 2023-09-28 01:58:32,613]\u001b[0m Trial 10 finished with value: 0.5063440238005503 and parameters: {'reg_lambda': 5.877582784297332, 'reg_alpha': 0.3138925742259583, 'num_leaves': 6, 'learning_rate': 0.001713991087704667}. Best is trial 1 with value: 0.5165536478920391.\u001b[0m\n"
     ]
    },
    {
     "name": "stdout",
     "output_type": "stream",
     "text": [
      "Early stopping, best iteration is:\n",
      "[54]\ttraining's auc: 0.792908\ttraining's binary_logloss: 0.583037\tvalid_1's auc: 0.506767\tvalid_1's binary_logloss: 0.768471\n",
      "Evaluated only: auc\n",
      "Training until validation scores don't improve for 100 rounds\n"
     ]
    },
    {
     "name": "stderr",
     "output_type": "stream",
     "text": [
      "\u001b[32m[I 2023-09-28 01:58:51,257]\u001b[0m Trial 11 finished with value: 0.5150001895232931 and parameters: {'reg_lambda': 6.387132943281998, 'reg_alpha': 0.12582204910349046, 'num_leaves': 54, 'learning_rate': 0.0033894693810495938}. Best is trial 1 with value: 0.5165536478920391.\u001b[0m\n"
     ]
    },
    {
     "name": "stdout",
     "output_type": "stream",
     "text": [
      "Early stopping, best iteration is:\n",
      "[276]\ttraining's auc: 0.821258\ttraining's binary_logloss: 0.467852\tvalid_1's auc: 0.51509\tvalid_1's binary_logloss: 0.707224\n",
      "Evaluated only: auc\n",
      "Training until validation scores don't improve for 100 rounds\n"
     ]
    },
    {
     "name": "stderr",
     "output_type": "stream",
     "text": [
      "\u001b[32m[I 2023-09-28 01:58:55,649]\u001b[0m Trial 12 finished with value: 0.5025101186018358 and parameters: {'reg_lambda': 13.553454031852779, 'reg_alpha': 0.13558326233342388, 'num_leaves': 3, 'learning_rate': 0.002433449579921865}. Best is trial 1 with value: 0.5165536478920391.\u001b[0m\n"
     ]
    },
    {
     "name": "stdout",
     "output_type": "stream",
     "text": [
      "Early stopping, best iteration is:\n",
      "[44]\ttraining's auc: 0.791676\ttraining's binary_logloss: 0.579543\tvalid_1's auc: 0.502923\tvalid_1's binary_logloss: 0.765995\n",
      "Evaluated only: auc\n",
      "Training until validation scores don't improve for 100 rounds\n"
     ]
    },
    {
     "name": "stderr",
     "output_type": "stream",
     "text": [
      "\u001b[32m[I 2023-09-28 01:59:31,534]\u001b[0m Trial 13 finished with value: 0.514858827457193 and parameters: {'reg_lambda': 2.0081862913149346, 'reg_alpha': 0.4795836064813055, 'num_leaves': 54, 'learning_rate': 0.0011328479586368225}. Best is trial 1 with value: 0.5165536478920391.\u001b[0m\n"
     ]
    },
    {
     "name": "stdout",
     "output_type": "stream",
     "text": [
      "Early stopping, best iteration is:\n",
      "[593]\ttraining's auc: 0.81799\ttraining's binary_logloss: 0.489933\tvalid_1's auc: 0.514916\tvalid_1's binary_logloss: 0.71667\n",
      "Evaluated only: auc\n",
      "Training until validation scores don't improve for 100 rounds\n"
     ]
    },
    {
     "name": "stderr",
     "output_type": "stream",
     "text": [
      "\u001b[32m[I 2023-09-28 01:59:51,860]\u001b[0m Trial 14 finished with value: 0.5149779198689016 and parameters: {'reg_lambda': 0.40513942572725564, 'reg_alpha': 0.10472300486017476, 'num_leaves': 35, 'learning_rate': 0.008613104859413365}. Best is trial 1 with value: 0.5165536478920391.\u001b[0m\n"
     ]
    },
    {
     "name": "stdout",
     "output_type": "stream",
     "text": [
      "Early stopping, best iteration is:\n",
      "[337]\ttraining's auc: 0.827907\ttraining's binary_logloss: 0.415513\tvalid_1's auc: 0.515497\tvalid_1's binary_logloss: 0.693299\n",
      "Evaluated only: auc\n",
      "Training until validation scores don't improve for 100 rounds\n"
     ]
    },
    {
     "name": "stderr",
     "output_type": "stream",
     "text": [
      "\u001b[32m[I 2023-09-28 02:00:17,698]\u001b[0m Trial 15 finished with value: 0.5157263456932121 and parameters: {'reg_lambda': 12.917464462841126, 'reg_alpha': 0.4951508151366643, 'num_leaves': 11, 'learning_rate': 0.003582771631859076}. Best is trial 1 with value: 0.5165536478920391.\u001b[0m\n"
     ]
    },
    {
     "name": "stdout",
     "output_type": "stream",
     "text": [
      "Early stopping, best iteration is:\n",
      "[542]\ttraining's auc: 0.803591\ttraining's binary_logloss: 0.429501\tvalid_1's auc: 0.515901\tvalid_1's binary_logloss: 0.695073\n",
      "Evaluated only: auc\n",
      "Training until validation scores don't improve for 100 rounds\n"
     ]
    },
    {
     "name": "stderr",
     "output_type": "stream",
     "text": [
      "\u001b[32m[I 2023-09-28 02:00:28,536]\u001b[0m Trial 16 finished with value: 0.5158216849522227 and parameters: {'reg_lambda': 2.3897411553780743, 'reg_alpha': 0.20942268836854322, 'num_leaves': 32, 'learning_rate': 0.012159218314990318}. Best is trial 1 with value: 0.5165536478920391.\u001b[0m\n"
     ]
    },
    {
     "name": "stdout",
     "output_type": "stream",
     "text": [
      "Early stopping, best iteration is:\n",
      "[108]\ttraining's auc: 0.8155\ttraining's binary_logloss: 0.447297\tvalid_1's auc: 0.515934\tvalid_1's binary_logloss: 0.699688\n",
      "Evaluated only: auc\n",
      "Training until validation scores don't improve for 100 rounds\n"
     ]
    },
    {
     "name": "stderr",
     "output_type": "stream",
     "text": [
      "\u001b[32m[I 2023-09-28 02:00:52,673]\u001b[0m Trial 17 finished with value: 0.5161254025588154 and parameters: {'reg_lambda': 99.65339715547103, 'reg_alpha': 0.10649669793761413, 'num_leaves': 45, 'learning_rate': 0.005279128344787726}. Best is trial 1 with value: 0.5165536478920391.\u001b[0m\n"
     ]
    },
    {
     "name": "stdout",
     "output_type": "stream",
     "text": [
      "Early stopping, best iteration is:\n",
      "[448]\ttraining's auc: 0.815787\ttraining's binary_logloss: 0.422305\tvalid_1's auc: 0.516135\tvalid_1's binary_logloss: 0.694016\n",
      "Evaluated only: auc\n",
      "Training until validation scores don't improve for 100 rounds\n"
     ]
    },
    {
     "name": "stderr",
     "output_type": "stream",
     "text": [
      "\u001b[32m[I 2023-09-28 02:01:17,438]\u001b[0m Trial 18 finished with value: 0.5166021257843542 and parameters: {'reg_lambda': 0.4256605479844049, 'reg_alpha': 0.5626318685933469, 'num_leaves': 12, 'learning_rate': 0.008617558213073863}. Best is trial 18 with value: 0.5166021257843542.\u001b[0m\n"
     ]
    },
    {
     "name": "stdout",
     "output_type": "stream",
     "text": [
      "Early stopping, best iteration is:\n",
      "[481]\ttraining's auc: 0.81023\ttraining's binary_logloss: 0.412085\tvalid_1's auc: 0.516762\tvalid_1's binary_logloss: 0.692871\n",
      "Evaluated only: auc\n",
      "Training until validation scores don't improve for 100 rounds\n"
     ]
    },
    {
     "name": "stderr",
     "output_type": "stream",
     "text": [
      "\u001b[32m[I 2023-09-28 02:01:42,149]\u001b[0m Trial 19 finished with value: 0.5156089568668828 and parameters: {'reg_lambda': 0.42102278694017276, 'reg_alpha': 0.6244908644040207, 'num_leaves': 11, 'learning_rate': 0.003430020356893136}. Best is trial 18 with value: 0.5166021257843542.\u001b[0m\n"
     ]
    },
    {
     "name": "stdout",
     "output_type": "stream",
     "text": [
      "Early stopping, best iteration is:\n",
      "[522]\ttraining's auc: 0.80382\ttraining's binary_logloss: 0.432743\tvalid_1's auc: 0.515627\tvalid_1's binary_logloss: 0.695686\n",
      "Evaluated only: auc\n",
      "Training until validation scores don't improve for 100 rounds\n"
     ]
    },
    {
     "name": "stderr",
     "output_type": "stream",
     "text": [
      "\u001b[32m[I 2023-09-28 02:02:10,301]\u001b[0m Trial 20 finished with value: 0.5167829424049473 and parameters: {'reg_lambda': 0.34389622232252653, 'reg_alpha': 0.792308393824651, 'num_leaves': 14, 'learning_rate': 0.014079858274221329}. Best is trial 20 with value: 0.5167829424049473.\u001b[0m\n"
     ]
    },
    {
     "name": "stdout",
     "output_type": "stream",
     "text": [
      "Early stopping, best iteration is:\n",
      "[509]\ttraining's auc: 0.818757\ttraining's binary_logloss: 0.409269\tvalid_1's auc: 0.517104\tvalid_1's binary_logloss: 0.692826\n",
      "Evaluated only: auc\n",
      "Training until validation scores don't improve for 100 rounds\n"
     ]
    },
    {
     "name": "stderr",
     "output_type": "stream",
     "text": [
      "\u001b[32m[I 2023-09-28 02:02:24,738]\u001b[0m Trial 21 finished with value: 0.5165598082406408 and parameters: {'reg_lambda': 0.33861394853210397, 'reg_alpha': 0.5993139405353721, 'num_leaves': 10, 'learning_rate': 0.016438230889630135}. Best is trial 20 with value: 0.5167829424049473.\u001b[0m\n"
     ]
    },
    {
     "name": "stdout",
     "output_type": "stream",
     "text": [
      "Early stopping, best iteration is:\n",
      "[227]\ttraining's auc: 0.806758\ttraining's binary_logloss: 0.413376\tvalid_1's auc: 0.516743\tvalid_1's binary_logloss: 0.69294\n",
      "Evaluated only: auc\n",
      "Training until validation scores don't improve for 100 rounds\n"
     ]
    },
    {
     "name": "stderr",
     "output_type": "stream",
     "text": [
      "\u001b[32m[I 2023-09-28 02:02:41,523]\u001b[0m Trial 22 finished with value: 0.51640036583579 and parameters: {'reg_lambda': 0.264600299401165, 'reg_alpha': 0.6620953549790243, 'num_leaves': 12, 'learning_rate': 0.018773355625290894}. Best is trial 20 with value: 0.5167829424049473.\u001b[0m\n"
     ]
    },
    {
     "name": "stdout",
     "output_type": "stream",
     "text": [
      "Early stopping, best iteration is:\n",
      "[227]\ttraining's auc: 0.810535\ttraining's binary_logloss: 0.411832\tvalid_1's auc: 0.516892\tvalid_1's binary_logloss: 0.69288\n",
      "Evaluated only: auc\n",
      "Training until validation scores don't improve for 100 rounds\n"
     ]
    },
    {
     "name": "stderr",
     "output_type": "stream",
     "text": [
      "\u001b[32m[I 2023-09-28 02:02:59,131]\u001b[0m Trial 23 finished with value: 0.5169475166924379 and parameters: {'reg_lambda': 0.2022339262305108, 'reg_alpha': 0.9315351785009054, 'num_leaves': 21, 'learning_rate': 0.013662759690844429}. Best is trial 23 with value: 0.5169475166924379.\u001b[0m\n"
     ]
    },
    {
     "name": "stdout",
     "output_type": "stream",
     "text": [
      "Early stopping, best iteration is:\n",
      "[240]\ttraining's auc: 0.817576\ttraining's binary_logloss: 0.414207\tvalid_1's auc: 0.517183\tvalid_1's binary_logloss: 0.693036\n",
      "Evaluated only: auc\n",
      "Training until validation scores don't improve for 100 rounds\n"
     ]
    },
    {
     "name": "stderr",
     "output_type": "stream",
     "text": [
      "\u001b[32m[I 2023-09-28 02:03:12,547]\u001b[0m Trial 24 finished with value: 0.5164901214300475 and parameters: {'reg_lambda': 0.14494791224392248, 'reg_alpha': 0.9091997180399846, 'num_leaves': 21, 'learning_rate': 0.013681948383087322}. Best is trial 23 with value: 0.5169475166924379.\u001b[0m\n"
     ]
    },
    {
     "name": "stdout",
     "output_type": "stream",
     "text": [
      "Early stopping, best iteration is:\n",
      "[208]\ttraining's auc: 0.815802\ttraining's binary_logloss: 0.416975\tvalid_1's auc: 0.516669\tvalid_1's binary_logloss: 0.693257\n",
      "Evaluated only: auc\n",
      "Training until validation scores don't improve for 100 rounds\n"
     ]
    },
    {
     "name": "stderr",
     "output_type": "stream",
     "text": [
      "\u001b[32m[I 2023-09-28 02:03:29,850]\u001b[0m Trial 25 finished with value: 0.5165728574539142 and parameters: {'reg_lambda': 0.20055127430246913, 'reg_alpha': 0.41035749096257956, 'num_leaves': 15, 'learning_rate': 0.009722067204930136}. Best is trial 23 with value: 0.5169475166924379.\u001b[0m\n"
     ]
    },
    {
     "name": "stdout",
     "output_type": "stream",
     "text": [
      "Early stopping, best iteration is:\n",
      "[373]\ttraining's auc: 0.813024\ttraining's binary_logloss: 0.413222\tvalid_1's auc: 0.516777\tvalid_1's binary_logloss: 0.692959\n",
      "Evaluated only: auc\n",
      "Training until validation scores don't improve for 100 rounds\n"
     ]
    },
    {
     "name": "stderr",
     "output_type": "stream",
     "text": [
      "\u001b[32m[I 2023-09-28 02:03:40,888]\u001b[0m Trial 26 finished with value: 0.5159011152589709 and parameters: {'reg_lambda': 0.567275173884137, 'reg_alpha': 0.2878382039314844, 'num_leaves': 24, 'learning_rate': 0.028400588731230712}. Best is trial 23 with value: 0.5169475166924379.\u001b[0m\n"
     ]
    },
    {
     "name": "stdout",
     "output_type": "stream",
     "text": [
      "Early stopping, best iteration is:\n",
      "[100]\ttraining's auc: 0.817664\ttraining's binary_logloss: 0.41678\tvalid_1's auc: 0.516712\tvalid_1's binary_logloss: 0.693278\n",
      "Evaluated only: auc\n",
      "Training until validation scores don't improve for 100 rounds\n"
     ]
    },
    {
     "name": "stderr",
     "output_type": "stream",
     "text": [
      "\u001b[32m[I 2023-09-28 02:03:57,216]\u001b[0m Trial 27 finished with value: 0.5157392572359852 and parameters: {'reg_lambda': 0.24687266310780037, 'reg_alpha': 0.9322013073913221, 'num_leaves': 29, 'learning_rate': 0.009064964781938446}. Best is trial 23 with value: 0.5169475166924379.\u001b[0m\n"
     ]
    },
    {
     "name": "stdout",
     "output_type": "stream",
     "text": [
      "Early stopping, best iteration is:\n",
      "[172]\ttraining's auc: 0.815509\ttraining's binary_logloss: 0.438275\tvalid_1's auc: 0.516292\tvalid_1's binary_logloss: 0.697135\n",
      "Evaluated only: auc\n",
      "Training until validation scores don't improve for 100 rounds\n"
     ]
    },
    {
     "name": "stderr",
     "output_type": "stream",
     "text": [
      "\u001b[32m[I 2023-09-28 02:04:09,606]\u001b[0m Trial 28 finished with value: 0.5157345741173874 and parameters: {'reg_lambda': 0.11728332821289654, 'reg_alpha': 4.804121150036243, 'num_leaves': 14, 'learning_rate': 0.015121218474073505}. Best is trial 23 with value: 0.5169475166924379.\u001b[0m\n"
     ]
    },
    {
     "name": "stdout",
     "output_type": "stream",
     "text": [
      "Early stopping, best iteration is:\n",
      "[161]\ttraining's auc: 0.807779\ttraining's binary_logloss: 0.421568\tvalid_1's auc: 0.516522\tvalid_1's binary_logloss: 0.693802\n",
      "Evaluated only: auc\n",
      "Training until validation scores don't improve for 100 rounds\n"
     ]
    },
    {
     "name": "stderr",
     "output_type": "stream",
     "text": [
      "\u001b[32m[I 2023-09-28 02:04:18,482]\u001b[0m Trial 29 finished with value: 0.5162410130444517 and parameters: {'reg_lambda': 0.20578651775510856, 'reg_alpha': 2.173388414161823, 'num_leaves': 19, 'learning_rate': 0.03126078090699633}. Best is trial 23 with value: 0.5169475166924379.\u001b[0m\n"
     ]
    },
    {
     "name": "stdout",
     "output_type": "stream",
     "text": [
      "Early stopping, best iteration is:\n",
      "[82]\ttraining's auc: 0.812541\ttraining's binary_logloss: 0.419688\tvalid_1's auc: 0.517087\tvalid_1's binary_logloss: 0.693517\n",
      "Evaluated only: auc\n",
      "Training until validation scores don't improve for 100 rounds\n"
     ]
    },
    {
     "name": "stderr",
     "output_type": "stream",
     "text": [
      "\u001b[32m[I 2023-09-28 02:04:26,381]\u001b[0m Trial 30 finished with value: 0.5147528409056416 and parameters: {'reg_lambda': 1.144989175415464, 'reg_alpha': 0.34116216087355267, 'num_leaves': 22, 'learning_rate': 0.05373277691976333}. Best is trial 23 with value: 0.5169475166924379.\u001b[0m\n"
     ]
    },
    {
     "name": "stdout",
     "output_type": "stream",
     "text": [
      "Early stopping, best iteration is:\n",
      "[63]\ttraining's auc: 0.817312\ttraining's binary_logloss: 0.413571\tvalid_1's auc: 0.515925\tvalid_1's binary_logloss: 0.693063\n",
      "Evaluated only: auc\n",
      "Training until validation scores don't improve for 100 rounds\n"
     ]
    },
    {
     "name": "stderr",
     "output_type": "stream",
     "text": [
      "\u001b[32m[I 2023-09-28 02:04:48,769]\u001b[0m Trial 31 finished with value: 0.5169058733395042 and parameters: {'reg_lambda': 0.179254043010548, 'reg_alpha': 0.35577989243959884, 'num_leaves': 16, 'learning_rate': 0.01025724444251392}. Best is trial 23 with value: 0.5169475166924379.\u001b[0m\n"
     ]
    },
    {
     "name": "stdout",
     "output_type": "stream",
     "text": [
      "Early stopping, best iteration is:\n",
      "[291]\ttraining's auc: 0.811755\ttraining's binary_logloss: 0.416343\tvalid_1's auc: 0.517052\tvalid_1's binary_logloss: 0.693163\n",
      "Evaluated only: auc\n",
      "Training until validation scores don't improve for 100 rounds\n"
     ]
    },
    {
     "name": "stderr",
     "output_type": "stream",
     "text": [
      "\u001b[32m[I 2023-09-28 02:05:02,090]\u001b[0m Trial 32 finished with value: 0.5162287285641082 and parameters: {'reg_lambda': 0.5063200258571258, 'reg_alpha': 0.8040899678478665, 'num_leaves': 7, 'learning_rate': 0.021368197955828474}. Best is trial 23 with value: 0.5169475166924379.\u001b[0m\n"
     ]
    },
    {
     "name": "stdout",
     "output_type": "stream",
     "text": [
      "Early stopping, best iteration is:\n",
      "[164]\ttraining's auc: 0.802217\ttraining's binary_logloss: 0.414469\tvalid_1's auc: 0.51668\tvalid_1's binary_logloss: 0.692994\n",
      "Evaluated only: auc\n",
      "Training until validation scores don't improve for 100 rounds\n"
     ]
    },
    {
     "name": "stderr",
     "output_type": "stream",
     "text": [
      "\u001b[32m[I 2023-09-28 02:05:18,370]\u001b[0m Trial 33 finished with value: 0.5152559731869498 and parameters: {'reg_lambda': 0.28459785809205546, 'reg_alpha': 0.36089265309492835, 'num_leaves': 17, 'learning_rate': 0.007059762223279422}. Best is trial 23 with value: 0.5169475166924379.\u001b[0m\n"
     ]
    },
    {
     "name": "stdout",
     "output_type": "stream",
     "text": [
      "Early stopping, best iteration is:\n",
      "[211]\ttraining's auc: 0.80716\ttraining's binary_logloss: 0.441117\tvalid_1's auc: 0.515547\tvalid_1's binary_logloss: 0.697725\n",
      "Evaluated only: auc\n",
      "Training until validation scores don't improve for 100 rounds\n"
     ]
    },
    {
     "name": "stderr",
     "output_type": "stream",
     "text": [
      "\u001b[32m[I 2023-09-28 02:05:40,047]\u001b[0m Trial 34 finished with value: 0.5160989217658039 and parameters: {'reg_lambda': 0.10186570256994333, 'reg_alpha': 0.2189600587970157, 'num_leaves': 16, 'learning_rate': 0.011305405481903437}. Best is trial 23 with value: 0.5169475166924379.\u001b[0m\n"
     ]
    },
    {
     "name": "stdout",
     "output_type": "stream",
     "text": [
      "Early stopping, best iteration is:\n",
      "[345]\ttraining's auc: 0.814435\ttraining's binary_logloss: 0.412251\tvalid_1's auc: 0.516593\tvalid_1's binary_logloss: 0.692911\n",
      "Evaluated only: auc\n",
      "Training until validation scores don't improve for 100 rounds\n"
     ]
    },
    {
     "name": "stderr",
     "output_type": "stream",
     "text": [
      "\u001b[32m[I 2023-09-28 02:05:55,118]\u001b[0m Trial 35 finished with value: 0.5166962631543611 and parameters: {'reg_lambda': 0.15198721354222736, 'reg_alpha': 1.3410419790917423, 'num_leaves': 7, 'learning_rate': 0.016622808563717135}. Best is trial 23 with value: 0.5169475166924379.\u001b[0m\n"
     ]
    },
    {
     "name": "stdout",
     "output_type": "stream",
     "text": [
      "Early stopping, best iteration is:\n",
      "[246]\ttraining's auc: 0.803096\ttraining's binary_logloss: 0.412769\tvalid_1's auc: 0.516962\tvalid_1's binary_logloss: 0.692875\n",
      "Evaluated only: auc\n",
      "Training until validation scores don't improve for 100 rounds\n"
     ]
    },
    {
     "name": "stderr",
     "output_type": "stream",
     "text": [
      "\u001b[32m[I 2023-09-28 02:06:57,768]\u001b[0m Trial 36 finished with value: 0.5162141294549515 and parameters: {'reg_lambda': 0.1669954287752901, 'reg_alpha': 1.2476051377530473, 'num_leaves': 3, 'learning_rate': 0.014892189372737284}. Best is trial 23 with value: 0.5169475166924379.\u001b[0m\n"
     ]
    },
    {
     "name": "stdout",
     "output_type": "stream",
     "text": [
      "Early stopping, best iteration is:\n",
      "[1485]\ttraining's auc: 0.801839\ttraining's binary_logloss: 0.410744\tvalid_1's auc: 0.516257\tvalid_1's binary_logloss: 0.692772\n",
      "Evaluated only: auc\n",
      "Training until validation scores don't improve for 100 rounds\n"
     ]
    },
    {
     "name": "stderr",
     "output_type": "stream",
     "text": [
      "\u001b[32m[I 2023-09-28 02:07:10,746]\u001b[0m Trial 37 finished with value: 0.5165595133982545 and parameters: {'reg_lambda': 0.15610746254008617, 'reg_alpha': 1.9270062719762175, 'num_leaves': 7, 'learning_rate': 0.01896175687775206}. Best is trial 23 with value: 0.5169475166924379.\u001b[0m\n"
     ]
    },
    {
     "name": "stdout",
     "output_type": "stream",
     "text": [
      "Early stopping, best iteration is:\n",
      "[194]\ttraining's auc: 0.802638\ttraining's binary_logloss: 0.413864\tvalid_1's auc: 0.517163\tvalid_1's binary_logloss: 0.692921\n",
      "Evaluated only: auc\n",
      "Training until validation scores don't improve for 100 rounds\n"
     ]
    },
    {
     "name": "stderr",
     "output_type": "stream",
     "text": [
      "\u001b[32m[I 2023-09-28 02:07:18,798]\u001b[0m Trial 38 finished with value: 0.5160714259720729 and parameters: {'reg_lambda': 0.2920904050600466, 'reg_alpha': 0.9598562243675408, 'num_leaves': 28, 'learning_rate': 0.04072826210456818}. Best is trial 23 with value: 0.5169475166924379.\u001b[0m\n"
     ]
    },
    {
     "name": "stdout",
     "output_type": "stream",
     "text": [
      "Early stopping, best iteration is:\n",
      "[44]\ttraining's auc: 0.81484\ttraining's binary_logloss: 0.431613\tvalid_1's auc: 0.516758\tvalid_1's binary_logloss: 0.695468\n",
      "Evaluated only: auc\n",
      "Training until validation scores don't improve for 100 rounds\n"
     ]
    },
    {
     "name": "stderr",
     "output_type": "stream",
     "text": [
      "\u001b[32m[I 2023-09-28 02:07:35,314]\u001b[0m Trial 39 finished with value: 0.5163793036422267 and parameters: {'reg_lambda': 0.1414298762285625, 'reg_alpha': 1.7228504113701781, 'num_leaves': 18, 'learning_rate': 0.023898003257434863}. Best is trial 23 with value: 0.5169475166924379.\u001b[0m\n"
     ]
    },
    {
     "name": "stdout",
     "output_type": "stream",
     "text": [
      "Early stopping, best iteration is:\n",
      "[240]\ttraining's auc: 0.821698\ttraining's binary_logloss: 0.409394\tvalid_1's auc: 0.516779\tvalid_1's binary_logloss: 0.692797\n",
      "Evaluated only: auc\n",
      "Training until validation scores don't improve for 100 rounds\n"
     ]
    },
    {
     "name": "stderr",
     "output_type": "stream",
     "text": [
      "\u001b[32m[I 2023-09-28 02:07:56,451]\u001b[0m Trial 40 finished with value: 0.5162598077375515 and parameters: {'reg_lambda': 0.21313046546087366, 'reg_alpha': 3.0795706366021407, 'num_leaves': 9, 'learning_rate': 0.011544200238339528}. Best is trial 23 with value: 0.5169475166924379.\u001b[0m\n"
     ]
    },
    {
     "name": "stdout",
     "output_type": "stream",
     "text": [
      "Early stopping, best iteration is:\n",
      "[353]\ttraining's auc: 0.806034\ttraining's binary_logloss: 0.412603\tvalid_1's auc: 0.516464\tvalid_1's binary_logloss: 0.692897\n",
      "Evaluated only: auc\n",
      "Training until validation scores don't improve for 100 rounds\n"
     ]
    },
    {
     "name": "stderr",
     "output_type": "stream",
     "text": [
      "\u001b[32m[I 2023-09-28 02:08:21,831]\u001b[0m Trial 41 finished with value: 0.5167429401865253 and parameters: {'reg_lambda': 0.3871121550317955, 'reg_alpha': 1.204298124042017, 'num_leaves': 15, 'learning_rate': 0.007800534600712281}. Best is trial 23 with value: 0.5169475166924379.\u001b[0m\n"
     ]
    },
    {
     "name": "stdout",
     "output_type": "stream",
     "text": [
      "Early stopping, best iteration is:\n",
      "[466]\ttraining's auc: 0.812368\ttraining's binary_logloss: 0.413238\tvalid_1's auc: 0.516787\tvalid_1's binary_logloss: 0.692922\n",
      "Evaluated only: auc\n",
      "Training until validation scores don't improve for 100 rounds\n"
     ]
    },
    {
     "name": "stderr",
     "output_type": "stream",
     "text": [
      "\u001b[32m[I 2023-09-28 02:08:56,044]\u001b[0m Trial 42 finished with value: 0.516715690249556 and parameters: {'reg_lambda': 0.6715897397054521, 'reg_alpha': 1.2066209657477474, 'num_leaves': 14, 'learning_rate': 0.006682961246675385}. Best is trial 23 with value: 0.5169475166924379.\u001b[0m\n"
     ]
    },
    {
     "name": "stdout",
     "output_type": "stream",
     "text": [
      "Early stopping, best iteration is:\n",
      "[600]\ttraining's auc: 0.81227\ttraining's binary_logloss: 0.412214\tvalid_1's auc: 0.516836\tvalid_1's binary_logloss: 0.692882\n",
      "Evaluated only: auc\n",
      "Training until validation scores don't improve for 100 rounds\n"
     ]
    },
    {
     "name": "stderr",
     "output_type": "stream",
     "text": [
      "\u001b[32m[I 2023-09-28 02:09:25,142]\u001b[0m Trial 43 finished with value: 0.5168651955373464 and parameters: {'reg_lambda': 0.6851954118588495, 'reg_alpha': 1.2794287296707099, 'num_leaves': 14, 'learning_rate': 0.006795868926175237}. Best is trial 23 with value: 0.5169475166924379.\u001b[0m\n"
     ]
    },
    {
     "name": "stdout",
     "output_type": "stream",
     "text": [
      "Early stopping, best iteration is:\n",
      "[463]\ttraining's auc: 0.810221\ttraining's binary_logloss: 0.415539\tvalid_1's auc: 0.517064\tvalid_1's binary_logloss: 0.693094\n",
      "Evaluated only: auc\n",
      "Training until validation scores don't improve for 100 rounds\n"
     ]
    },
    {
     "name": "stderr",
     "output_type": "stream",
     "text": [
      "\u001b[32m[I 2023-09-28 02:09:46,155]\u001b[0m Trial 44 finished with value: 0.5163057892202749 and parameters: {'reg_lambda': 0.7774910271650495, 'reg_alpha': 2.4256980163270367, 'num_leaves': 22, 'learning_rate': 0.007340512973420404}. Best is trial 23 with value: 0.5169475166924379.\u001b[0m\n"
     ]
    },
    {
     "name": "stdout",
     "output_type": "stream",
     "text": [
      "Early stopping, best iteration is:\n",
      "[264]\ttraining's auc: 0.813039\ttraining's binary_logloss: 0.428921\tvalid_1's auc: 0.516618\tvalid_1's binary_logloss: 0.695051\n",
      "Evaluated only: auc\n",
      "Training until validation scores don't improve for 100 rounds\n"
     ]
    },
    {
     "name": "stderr",
     "output_type": "stream",
     "text": [
      "\u001b[32m[I 2023-09-28 02:09:58,297]\u001b[0m Trial 45 finished with value: 0.5163439891855899 and parameters: {'reg_lambda': 0.35024523987062683, 'reg_alpha': 0.7425525717066167, 'num_leaves': 19, 'learning_rate': 0.010607794632829131}. Best is trial 23 with value: 0.5169475166924379.\u001b[0m\n"
     ]
    },
    {
     "name": "stdout",
     "output_type": "stream",
     "text": [
      "Early stopping, best iteration is:\n",
      "[136]\ttraining's auc: 0.808275\ttraining's binary_logloss: 0.442671\tvalid_1's auc: 0.516618\tvalid_1's binary_logloss: 0.6981\n",
      "Evaluated only: auc\n",
      "Training until validation scores don't improve for 100 rounds\n"
     ]
    },
    {
     "name": "stderr",
     "output_type": "stream",
     "text": [
      "\u001b[32m[I 2023-09-28 02:10:18,456]\u001b[0m Trial 46 finished with value: 0.5155820971897966 and parameters: {'reg_lambda': 0.5275350262576352, 'reg_alpha': 1.6122082679035636, 'num_leaves': 23, 'learning_rate': 0.004696365705276644}. Best is trial 23 with value: 0.5169475166924379.\u001b[0m\n"
     ]
    },
    {
     "name": "stdout",
     "output_type": "stream",
     "text": [
      "Early stopping, best iteration is:\n",
      "[298]\ttraining's auc: 0.810618\ttraining's binary_logloss: 0.444221\tvalid_1's auc: 0.515812\tvalid_1's binary_logloss: 0.698694\n",
      "Evaluated only: auc\n",
      "Training until validation scores don't improve for 100 rounds\n"
     ]
    },
    {
     "name": "stderr",
     "output_type": "stream",
     "text": [
      "\u001b[32m[I 2023-09-28 02:10:34,275]\u001b[0m Trial 47 finished with value: 0.5164063841028638 and parameters: {'reg_lambda': 0.9904149914406187, 'reg_alpha': 0.4242243885568806, 'num_leaves': 15, 'learning_rate': 0.01268698410312461}. Best is trial 23 with value: 0.5169475166924379.\u001b[0m\n"
     ]
    },
    {
     "name": "stdout",
     "output_type": "stream",
     "text": [
      "Early stopping, best iteration is:\n",
      "[235]\ttraining's auc: 0.810763\ttraining's binary_logloss: 0.416456\tvalid_1's auc: 0.516663\tvalid_1's binary_logloss: 0.693189\n",
      "Evaluated only: auc\n",
      "Training until validation scores don't improve for 100 rounds\n"
     ]
    },
    {
     "name": "stderr",
     "output_type": "stream",
     "text": [
      "\u001b[32m[I 2023-09-28 02:10:50,673]\u001b[0m Trial 48 finished with value: 0.5144303070151285 and parameters: {'reg_lambda': 0.24132290127788875, 'reg_alpha': 3.7969440283392455, 'num_leaves': 27, 'learning_rate': 0.009874910286631315}. Best is trial 23 with value: 0.5169475166924379.\u001b[0m\n"
     ]
    },
    {
     "name": "stdout",
     "output_type": "stream",
     "text": [
      "Early stopping, best iteration is:\n",
      "[236]\ttraining's auc: 0.817184\ttraining's binary_logloss: 0.422157\tvalid_1's auc: 0.515288\tvalid_1's binary_logloss: 0.69406\n",
      "Evaluated only: auc\n",
      "Training until validation scores don't improve for 100 rounds\n"
     ]
    },
    {
     "name": "stderr",
     "output_type": "stream",
     "text": [
      "\u001b[32m[I 2023-09-28 02:11:06,988]\u001b[0m Trial 49 finished with value: 0.516295412625547 and parameters: {'reg_lambda': 0.3396368396168962, 'reg_alpha': 1.0307476472472878, 'num_leaves': 25, 'learning_rate': 0.007454984127682828}. Best is trial 23 with value: 0.5169475166924379.\u001b[0m\n"
     ]
    },
    {
     "name": "stdout",
     "output_type": "stream",
     "text": [
      "Early stopping, best iteration is:\n",
      "[218]\ttraining's auc: 0.81305\ttraining's binary_logloss: 0.436457\tvalid_1's auc: 0.516489\tvalid_1's binary_logloss: 0.696661\n",
      "Evaluated only: auc\n",
      "Training until validation scores don't improve for 100 rounds\n"
     ]
    },
    {
     "name": "stderr",
     "output_type": "stream",
     "text": [
      "\u001b[32m[I 2023-09-28 02:11:25,836]\u001b[0m Trial 50 finished with value: 0.5154351437976847 and parameters: {'reg_lambda': 0.6879092335362545, 'reg_alpha': 0.1656106810340155, 'num_leaves': 31, 'learning_rate': 0.0052620321762915}. Best is trial 23 with value: 0.5169475166924379.\u001b[0m\n"
     ]
    },
    {
     "name": "stdout",
     "output_type": "stream",
     "text": [
      "Early stopping, best iteration is:\n",
      "[271]\ttraining's auc: 0.815862\ttraining's binary_logloss: 0.442824\tvalid_1's auc: 0.51566\tvalid_1's binary_logloss: 0.698368\n",
      "Evaluated only: auc\n",
      "Training until validation scores don't improve for 100 rounds\n"
     ]
    },
    {
     "name": "stderr",
     "output_type": "stream",
     "text": [
      "\u001b[32m[I 2023-09-28 02:11:55,485]\u001b[0m Trial 51 finished with value: 0.5167784742659163 and parameters: {'reg_lambda': 0.6941066143759809, 'reg_alpha': 1.1977669915132323, 'num_leaves': 13, 'learning_rate': 0.006066151984103918}. Best is trial 23 with value: 0.5169475166924379.\u001b[0m\n"
     ]
    },
    {
     "name": "stdout",
     "output_type": "stream",
     "text": [
      "Early stopping, best iteration is:\n",
      "[484]\ttraining's auc: 0.808238\ttraining's binary_logloss: 0.416961\tvalid_1's auc: 0.516822\tvalid_1's binary_logloss: 0.693198\n",
      "Evaluated only: auc\n",
      "Training until validation scores don't improve for 100 rounds\n"
     ]
    },
    {
     "name": "stderr",
     "output_type": "stream",
     "text": [
      "\u001b[32m[I 2023-09-28 02:12:20,134]\u001b[0m Trial 52 finished with value: 0.5170136349815179 and parameters: {'reg_lambda': 0.42323999396093775, 'reg_alpha': 0.7762279101310304, 'num_leaves': 13, 'learning_rate': 0.0078106917077734725}. Best is trial 52 with value: 0.5170136349815179.\u001b[0m\n"
     ]
    },
    {
     "name": "stdout",
     "output_type": "stream",
     "text": [
      "Early stopping, best iteration is:\n",
      "[441]\ttraining's auc: 0.809644\ttraining's binary_logloss: 0.414145\tvalid_1's auc: 0.517159\tvalid_1's binary_logloss: 0.692978\n",
      "Evaluated only: auc\n",
      "53\n",
      "best trial\n",
      "Value: 0.5170136349815179\n",
      "Params: \n",
      "reg_lambda: 0.42323999396093775\n",
      "reg_alpha: 0.7762279101310304\n",
      "num_leaves: 13\n",
      "learning_rate: 0.0078106917077734725\n"
     ]
    }
   ],
   "source": [
    "import optuna\n",
    "def objective(trial):\n",
    "    param = {\n",
    "        'reg_lambda':trial.suggest_float('reg_lambda', 1e-1, 100, log=True), # Можем указать логшкалу\n",
    "        'reg_alpha':trial.suggest_float('reg_alpha', 1e-1, 100, log=True),\n",
    "        'num_leaves':trial.suggest_int('num_leaves', 3, 55), # Для целочисленных аналогично, но через функцию suggest_int\n",
    "        'learning_rate':trial.suggest_float('learning_rate', 1e-3, 1e-1, log=True),        \n",
    "        'n_estimators': 2000,\n",
    "        'n_jobs': -1,\n",
    "        'random_state': 4242\n",
    "     }\n",
    "     \n",
    "    clf = LGBMClassifier(**param)\n",
    " \n",
    "    clf.fit(mdata_train, returns_ahead_train,\n",
    "            eval_set = [(mdata_train, returns_ahead_train), (mdata_val, returns_ahead_val)],\n",
    "            eval_metric='auc',\n",
    "            callbacks = [\n",
    "                lgb.early_stopping(stopping_rounds=100, first_metric_only=True)\n",
    "            ]\n",
    "        )\n",
    "    \n",
    "    auc_val = clf.evals_result_['valid_1']['auc'][-1]\n",
    "    auc_train = clf.evals_result_['training']['auc'][-1]\n",
    "    \n",
    "    # возвращаем метрики которые хотим оптимизировать\n",
    "    return auc_val\n",
    " \n",
    "study = optuna.create_study(direction='maximize') # Задаем направление в котором надо оптимизировать\n",
    "study.optimize(objective, timeout=1000) # запускаем оптимизацию на 1000 секунд, можно задать n_trials чтобы ограничить число итераций\n",
    "\n",
    "\n",
    "print(len(study.trials))\n",
    "print('best trial')\n",
    "trial = study.best_trial\n",
    "\n",
    "print(\"Value: {}\".format(trial.value))\n",
    "print( 'Params: ')\n",
    "for key, value in trial.params.items():\n",
    "    print(f'{key}: {value}')"
   ]
  },
  {
   "cell_type": "code",
   "execution_count": 49,
   "metadata": {},
   "outputs": [],
   "source": [
    "best_optuna_params = trial.params\n",
    "\n",
    "best_optuna_boosting = LGBMClassifier(**best_optuna_params)"
   ]
  },
  {
   "cell_type": "code",
   "execution_count": 50,
   "metadata": {},
   "outputs": [
    {
     "name": "stdout",
     "output_type": "stream",
     "text": [
      "Training until validation scores don't improve for 1000 rounds\n",
      "Did not meet early stopping. Best iteration is:\n",
      "[100]\ttraining's auc: 0.801281\ttraining's binary_logloss: 0.480572\tvalid_1's auc: 0.513211\tvalid_1's binary_logloss: 0.711629\n",
      "Evaluated only: auc\n"
     ]
    },
    {
     "data": {
      "text/html": [
       "<style>#sk-container-id-4 {color: black;background-color: white;}#sk-container-id-4 pre{padding: 0;}#sk-container-id-4 div.sk-toggleable {background-color: white;}#sk-container-id-4 label.sk-toggleable__label {cursor: pointer;display: block;width: 100%;margin-bottom: 0;padding: 0.3em;box-sizing: border-box;text-align: center;}#sk-container-id-4 label.sk-toggleable__label-arrow:before {content: \"▸\";float: left;margin-right: 0.25em;color: #696969;}#sk-container-id-4 label.sk-toggleable__label-arrow:hover:before {color: black;}#sk-container-id-4 div.sk-estimator:hover label.sk-toggleable__label-arrow:before {color: black;}#sk-container-id-4 div.sk-toggleable__content {max-height: 0;max-width: 0;overflow: hidden;text-align: left;background-color: #f0f8ff;}#sk-container-id-4 div.sk-toggleable__content pre {margin: 0.2em;color: black;border-radius: 0.25em;background-color: #f0f8ff;}#sk-container-id-4 input.sk-toggleable__control:checked~div.sk-toggleable__content {max-height: 200px;max-width: 100%;overflow: auto;}#sk-container-id-4 input.sk-toggleable__control:checked~label.sk-toggleable__label-arrow:before {content: \"▾\";}#sk-container-id-4 div.sk-estimator input.sk-toggleable__control:checked~label.sk-toggleable__label {background-color: #d4ebff;}#sk-container-id-4 div.sk-label input.sk-toggleable__control:checked~label.sk-toggleable__label {background-color: #d4ebff;}#sk-container-id-4 input.sk-hidden--visually {border: 0;clip: rect(1px 1px 1px 1px);clip: rect(1px, 1px, 1px, 1px);height: 1px;margin: -1px;overflow: hidden;padding: 0;position: absolute;width: 1px;}#sk-container-id-4 div.sk-estimator {font-family: monospace;background-color: #f0f8ff;border: 1px dotted black;border-radius: 0.25em;box-sizing: border-box;margin-bottom: 0.5em;}#sk-container-id-4 div.sk-estimator:hover {background-color: #d4ebff;}#sk-container-id-4 div.sk-parallel-item::after {content: \"\";width: 100%;border-bottom: 1px solid gray;flex-grow: 1;}#sk-container-id-4 div.sk-label:hover label.sk-toggleable__label {background-color: #d4ebff;}#sk-container-id-4 div.sk-serial::before {content: \"\";position: absolute;border-left: 1px solid gray;box-sizing: border-box;top: 0;bottom: 0;left: 50%;z-index: 0;}#sk-container-id-4 div.sk-serial {display: flex;flex-direction: column;align-items: center;background-color: white;padding-right: 0.2em;padding-left: 0.2em;position: relative;}#sk-container-id-4 div.sk-item {position: relative;z-index: 1;}#sk-container-id-4 div.sk-parallel {display: flex;align-items: stretch;justify-content: center;background-color: white;position: relative;}#sk-container-id-4 div.sk-item::before, #sk-container-id-4 div.sk-parallel-item::before {content: \"\";position: absolute;border-left: 1px solid gray;box-sizing: border-box;top: 0;bottom: 0;left: 50%;z-index: -1;}#sk-container-id-4 div.sk-parallel-item {display: flex;flex-direction: column;z-index: 1;position: relative;background-color: white;}#sk-container-id-4 div.sk-parallel-item:first-child::after {align-self: flex-end;width: 50%;}#sk-container-id-4 div.sk-parallel-item:last-child::after {align-self: flex-start;width: 50%;}#sk-container-id-4 div.sk-parallel-item:only-child::after {width: 0;}#sk-container-id-4 div.sk-dashed-wrapped {border: 1px dashed gray;margin: 0 0.4em 0.5em 0.4em;box-sizing: border-box;padding-bottom: 0.4em;background-color: white;}#sk-container-id-4 div.sk-label label {font-family: monospace;font-weight: bold;display: inline-block;line-height: 1.2em;}#sk-container-id-4 div.sk-label-container {text-align: center;}#sk-container-id-4 div.sk-container {/* jupyter's `normalize.less` sets `[hidden] { display: none; }` but bootstrap.min.css set `[hidden] { display: none !important; }` so we also need the `!important` here to be able to override the default hidden behavior on the sphinx rendered scikit-learn.org. See: https://github.com/scikit-learn/scikit-learn/issues/21755 */display: inline-block !important;position: relative;}#sk-container-id-4 div.sk-text-repr-fallback {display: none;}</style><div id=\"sk-container-id-4\" class=\"sk-top-container\"><div class=\"sk-text-repr-fallback\"><pre>LGBMClassifier(learning_rate=0.0078106917077734725, num_leaves=13,\n",
       "               reg_alpha=0.7762279101310304, reg_lambda=0.42323999396093775)</pre><b>In a Jupyter environment, please rerun this cell to show the HTML representation or trust the notebook. <br />On GitHub, the HTML representation is unable to render, please try loading this page with nbviewer.org.</b></div><div class=\"sk-container\" hidden><div class=\"sk-item\"><div class=\"sk-estimator sk-toggleable\"><input class=\"sk-toggleable__control sk-hidden--visually\" id=\"sk-estimator-id-4\" type=\"checkbox\" checked><label for=\"sk-estimator-id-4\" class=\"sk-toggleable__label sk-toggleable__label-arrow\">LGBMClassifier</label><div class=\"sk-toggleable__content\"><pre>LGBMClassifier(learning_rate=0.0078106917077734725, num_leaves=13,\n",
       "               reg_alpha=0.7762279101310304, reg_lambda=0.42323999396093775)</pre></div></div></div></div></div>"
      ],
      "text/plain": [
       "LGBMClassifier(learning_rate=0.0078106917077734725, num_leaves=13,\n",
       "               reg_alpha=0.7762279101310304, reg_lambda=0.42323999396093775)"
      ]
     },
     "execution_count": 50,
     "metadata": {},
     "output_type": "execute_result"
    }
   ],
   "source": [
    "best_optuna_boosting.fit(\n",
    "    mdata_train, returns_ahead_train,\n",
    "    eval_set = [(mdata_train, returns_ahead_train), (mdata_val, returns_ahead_val)],\n",
    "    eval_metric='auc',\n",
    "    callbacks = [\n",
    "        lgb.early_stopping(stopping_rounds=1000, first_metric_only=True),\n",
    "        lgb.log_evaluation(1000)\n",
    "    ]\n",
    ")"
   ]
  },
  {
   "cell_type": "code",
   "execution_count": 62,
   "metadata": {},
   "outputs": [
    {
     "name": "stdout",
     "output_type": "stream",
     "text": [
      "accuracy_score: 0.5000215480089639\n"
     ]
    }
   ],
   "source": [
    "y_pred = best_optuna_boosting.predict(mdata_test)\n",
    "print('accuracy_score:', accuracy_score(returns_ahead_test, y_pred))"
   ]
  },
  {
   "attachments": {},
   "cell_type": "markdown",
   "metadata": {},
   "source": [
    "из списка результата оптуны руками выбераем паарметры"
   ]
  },
  {
   "cell_type": "code",
   "execution_count": 66,
   "metadata": {},
   "outputs": [
    {
     "name": "stdout",
     "output_type": "stream",
     "text": [
      "Training until validation scores don't improve for 300 rounds\n",
      "[50]\ttraining's auc: 0.799043\ttraining's binary_logloss: 0.525255\tvalid_1's auc: 0.511717\tvalid_1's binary_logloss: 0.733568\n",
      "[100]\ttraining's auc: 0.800953\ttraining's binary_logloss: 0.480575\tvalid_1's auc: 0.51272\tvalid_1's binary_logloss: 0.711589\n",
      "[150]\ttraining's auc: 0.802822\ttraining's binary_logloss: 0.454655\tvalid_1's auc: 0.514444\tvalid_1's binary_logloss: 0.70168\n",
      "[200]\ttraining's auc: 0.804142\ttraining's binary_logloss: 0.438922\tvalid_1's auc: 0.514989\tvalid_1's binary_logloss: 0.69711\n",
      "[250]\ttraining's auc: 0.805252\ttraining's binary_logloss: 0.429048\tvalid_1's auc: 0.515261\tvalid_1's binary_logloss: 0.69495\n",
      "[300]\ttraining's auc: 0.806355\ttraining's binary_logloss: 0.422694\tvalid_1's auc: 0.515823\tvalid_1's binary_logloss: 0.693904\n",
      "[350]\ttraining's auc: 0.807297\ttraining's binary_logloss: 0.418525\tvalid_1's auc: 0.5162\tvalid_1's binary_logloss: 0.693381\n",
      "[400]\ttraining's auc: 0.808388\ttraining's binary_logloss: 0.415748\tvalid_1's auc: 0.516264\tvalid_1's binary_logloss: 0.693113\n",
      "[450]\ttraining's auc: 0.809425\ttraining's binary_logloss: 0.413873\tvalid_1's auc: 0.516336\tvalid_1's binary_logloss: 0.692972\n",
      "[500]\ttraining's auc: 0.810501\ttraining's binary_logloss: 0.412584\tvalid_1's auc: 0.516137\tvalid_1's binary_logloss: 0.692908\n",
      "Did not meet early stopping. Best iteration is:\n",
      "[500]\ttraining's auc: 0.810501\ttraining's binary_logloss: 0.412584\tvalid_1's auc: 0.516137\tvalid_1's binary_logloss: 0.692908\n",
      "Evaluated only: auc\n"
     ]
    },
    {
     "data": {
      "image/png": "[encoded data removed]",
      "text/plain": [
       "<Figure size 1000x400 with 2 Axes>"
      ]
     },
     "metadata": {},
     "output_type": "display_data"
    },
    {
     "name": "stdout",
     "output_type": "stream",
     "text": [
      "accuracy_score: 0.5065721427340114\n"
     ]
    }
   ],
   "source": [
    "params = {\n",
    "    'boosting_type': 'gbdt', # параметр по умолчанию\n",
    "    'n_estimators': 500, # 500 деревьев\n",
    "    'learning_rate': 0.0078106917077734725,\n",
    "    'num_leaves': 13, # деревья из 13 листьев\n",
    "    'reg_alpha': 0.7762279101310304,\n",
    "    'reg_lambda': 0.42323999396093775,\n",
    "    'subsample_freq': 0, # без положительного subsample_freq подвыборки браться не будут!\n",
    "    'subsample': 1, # используем всю выборку\n",
    "    'n_jobs': -1, # обучаемся на 4 ядрах\n",
    "    'random_state': 23 # для воспроизводимости результата\n",
    "}\n",
    "\n",
    "boosting = LGBMClassifier(**params)\n",
    "\n",
    "boosting.fit(\n",
    "    X=mdata_train,\n",
    "    y=returns_ahead_train,\n",
    "    eval_set=[(mdata_train, returns_ahead_train), (mdata_val, returns_ahead_val)],\n",
    "    eval_metric='auc', \n",
    "    callbacks=[lgb.early_stopping(stopping_rounds=300, first_metric_only=True),\n",
    "              lgb.log_evaluation(50)]\n",
    ")\n",
    "\n",
    "fig, ax = plt.subplots(figsize=(10, 4), nrows=1, ncols=2)\n",
    "\n",
    "plot_metric(\n",
    "    boosting,\n",
    "    metric='auc',\n",
    "    dataset_names=['training', 'valid_1'],\n",
    "    ax=ax[0],\n",
    "    title='Boosting AUC')\n",
    "plot_metric(\n",
    "    boosting,\n",
    "    metric='binary_logloss',\n",
    "    dataset_names=['training', 'valid_1'],\n",
    "    ax=ax[1],\n",
    "    title='Boosting Logloss')\n",
    "plt.show()\n",
    "\n",
    "y_pred = boosting.predict(mdata_test)\n",
    "print('accuracy_score:', accuracy_score(returns_ahead_test, y_pred))"
   ]
  },
  {
   "cell_type": "code",
   "execution_count": 99,
   "metadata": {},
   "outputs": [],
   "source": [
    "temp = pd.DataFrame(boosting.predict_proba(mdata_test))"
   ]
  },
  {
   "cell_type": "code",
   "execution_count": 100,
   "metadata": {},
   "outputs": [],
   "source": [
    "long_pos = temp.loc[temp[1] > temp[1].quantile(0.99)].index\n",
    "short_pos = temp.loc[temp[1] < temp[1].quantile(0.01)].index"
   ]
  },
  {
   "cell_type": "code",
   "execution_count": 102,
   "metadata": {},
   "outputs": [],
   "source": [
    "temp.loc[temp[1] > temp[1].quantile(0.99)] = 1\n",
    "temp.loc[temp[1] < temp[1].quantile(0.01)] = -1\n",
    "temp.loc[(temp[1] > temp[1].quantile(0.01)) & (temp[1] < temp[1].quantile(0.99))] = 0"
   ]
  },
  {
   "cell_type": "code",
   "execution_count": 104,
   "metadata": {},
   "outputs": [
    {
     "data": {
      "text/plain": [
       "0     1   \n",
       " 0.0   0.0    45478\n",
       "-1.0  -1.0      465\n",
       " 1.0   1.0      465\n",
       "dtype: int64"
      ]
     },
     "execution_count": 104,
     "metadata": {},
     "output_type": "execute_result"
    }
   ],
   "source": [
    "temp.value_counts()"
   ]
  },
  {
   "cell_type": "code",
   "execution_count": 109,
   "metadata": {},
   "outputs": [
    {
     "name": "stderr",
     "output_type": "stream",
     "text": [
      "100%|██████████| 292/292 [00:45<00:00,  6.40it/s]\n"
     ]
    }
   ],
   "source": [
    "returns = get_market_data(ticker)[0]['LAST'].pct_change().shift(-1).fillna(0)\n",
    "returns_test = returns.iloc[val_size:]"
   ]
  },
  {
   "cell_type": "code",
   "execution_count": 121,
   "metadata": {},
   "outputs": [
    {
     "data": {
      "text/plain": [
       "[<matplotlib.lines.Line2D at 0x7feb9e919090>]"
      ]
     },
     "execution_count": 121,
     "metadata": {},
     "output_type": "execute_result"
    },
    {
     "data": {
      "image/png": "[encoded data removed]",
      "text/plain": [
       "<Figure size 640x480 with 1 Axes>"
      ]
     },
     "metadata": {},
     "output_type": "display_data"
    }
   ],
   "source": [
    "plt.plot((np.asarray(returns_test) * np.asarray(temp[1])).cumsum())"
   ]
  },
  {
   "cell_type": "code",
   "execution_count": null,
   "metadata": {},
   "outputs": [],
   "source": []
  }
 ],
 "metadata": {
  "kernelspec": {
   "display_name": "Python 3",
   "language": "python",
   "name": "python3"
  },
  "language_info": {
   "codemirror_mode": {
    "name": "ipython",
    "version": 3
   },
   "file_extension": ".py",
   "mimetype": "text/x-python",
   "name": "python",
   "nbconvert_exporter": "python",
   "pygments_lexer": "ipython3",
   "version": "3.10.10"
  },
  "orig_nbformat": 4
 },
 "nbformat": 4,
 "nbformat_minor": 2
}
