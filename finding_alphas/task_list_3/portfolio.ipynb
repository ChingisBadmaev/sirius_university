{
 "cells": [
  {
   "cell_type": "code",
   "execution_count": 1,
   "metadata": {},
   "outputs": [],
   "source": [
    "import pandas as pd\n",
    "import numpy as np\n",
    "from scipy import stats\n",
    "import matplotlib.pyplot as plt\n",
    "import matplotlib.ticker as ticker\n",
    "import scipy\n",
    "from tqdm import tqdm\n",
    "import seaborn as sns\n",
    "pd.options.display.expand_frame_repr = False"
   ]
  },
  {
   "cell_type": "code",
   "execution_count": 2,
   "metadata": {},
   "outputs": [],
   "source": [
    "import warnings\n",
    "warnings.filterwarnings(\"ignore\")"
   ]
  },
  {
   "cell_type": "code",
   "execution_count": 3,
   "metadata": {},
   "outputs": [],
   "source": [
    "data_close = pd.read_csv('../data_correct/Close_correct.csv', index_col='date')\n",
    "data_close.index = data_close.index.astype('datetime64').rename('date')\n",
    "\n",
    "data_open = pd.read_csv('../data_correct/Open_correct.csv', index_col='date')\n",
    "data_open.index = data_open.index.astype('datetime64').rename('date')\n",
    "\n",
    "data_low = pd.read_csv('../data_correct/Low_correct.csv', index_col='date')\n",
    "data_low.index = data_low.index.astype('datetime64').rename('date')\n",
    "\n",
    "data_high = pd.read_csv('../data_correct/High_correct.csv', index_col='date')\n",
    "data_high.index = data_high.index.astype('datetime64').rename('date')\n",
    "\n",
    "data_volume = pd.read_csv('../data/Volume.csv').T[1:]\n",
    "data_volume.index = data_volume.index.astype('datetime64').rename('date')\n",
    "data_volume = data_volume.astype('float64')"
   ]
  },
  {
   "cell_type": "code",
   "execution_count": 4,
   "metadata": {},
   "outputs": [],
   "source": [
    "data_returns = pd.read_csv('../data/data_returns.csv', index_col='date')\n",
    "data_returns.index = data_returns.index.astype('datetime64').rename('date')\n",
    "data_returns = data_returns.fillna(0)"
   ]
  },
  {
   "cell_type": "code",
   "execution_count": 5,
   "metadata": {},
   "outputs": [],
   "source": [
    "ts_rank_close_20 = pd.read_csv('ts_rank_volume_20.csv', index_col='date')\n",
    "ts_rank_close_20.index = ts_rank_close_20.index.astype('datetime64')\n",
    "ts_rank_close_20 = ts_rank_close_20.astype('float64')\n",
    "\n",
    "ts_rank_volume_20 = pd.read_csv('ts_rank_volume_20.csv', index_col='date')\n",
    "ts_rank_volume_20.index = ts_rank_volume_20.index.astype('datetime64')\n",
    "ts_rank_volume_20 = ts_rank_volume_20.astype('float64')\n",
    "\n",
    "ts_rank_returns_20 = pd.read_csv('ts_rank_returns_20.csv', index_col='date')\n",
    "ts_rank_returns_20.index = ts_rank_returns_20.index.astype('datetime64')\n",
    "ts_rank_returns_20 = ts_rank_returns_20.astype('float64')"
   ]
  },
  {
   "cell_type": "code",
   "execution_count": 6,
   "metadata": {},
   "outputs": [],
   "source": [
    "crr_vol_cls = pd.read_csv('../task_list_2/corr_volume_close.csv', index_col='date')\n",
    "crr_vol_cls.index = crr_vol_cls.index.astype('datetime64').rename('date')"
   ]
  },
  {
   "cell_type": "code",
   "execution_count": 7,
   "metadata": {},
   "outputs": [],
   "source": [
    "def neutralize(alpha):\n",
    "    return alpha - np.mean(alpha)\n",
    "\n",
    "\n",
    "def normalize(alpha):\n",
    "    return alpha / np.sum(np.abs(alpha))\n",
    "\n",
    "\n",
    "def get_rank(alpha):\n",
    "    return scipy.stats.rankdata(alpha, method='ordinal') / (len(alpha) - 1)\n",
    "\n",
    "\n",
    "def cut_outliers(alpha, coef=0.01):\n",
    "    alpha[alpha < np.quantile(alpha, coef)] = 0\n",
    "    alpha[alpha > np.quantile(alpha, 1 - coef)] = 0\n",
    "    return alpha\n",
    "\n",
    "\n",
    "def cut_middle(alpha, coef=0.01):\n",
    "    alpha[(alpha < np.quantile(alpha, 0.5 + coef)) & (alpha > np.quantile(alpha, 0.5 - coef))] = 0\n",
    "    return alpha\n",
    "\n",
    "\n",
    "def get_decay_vect(alpha, d, k):\n",
    "    if d < k:\n",
    "        return 'Error'\n",
    "    temp = np.zeros(alpha.shape[1])\n",
    "    for i in range(k):\n",
    "        temp += ((k - i) / k) * alpha.iloc[d - i]\n",
    "    return temp\n",
    "\n",
    "\n",
    "def get_decay_alpha(alpha, d, k):\n",
    "    alpha_new = alpha.copy().iloc[0 : d]\n",
    "    for i in range(d, len(alpha)):\n",
    "        alpha_new.loc[len(alpha_new.index)] = get_decay_vect(alpha, i, k)\n",
    "    alpha_new.index = alpha.iloc[0:len(alpha_new.index)].index\n",
    "    return alpha_new"
   ]
  },
  {
   "attachments": {},
   "cell_type": "markdown",
   "metadata": {},
   "source": [
    "### Metrics"
   ]
  },
  {
   "cell_type": "code",
   "execution_count": 8,
   "metadata": {},
   "outputs": [],
   "source": [
    "def turnover(alphas, option=0):\n",
    "    turnover_days = abs(alphas.diff(periods=1)).sum(axis=1)\n",
    "    if option == 1:\n",
    "        return turnover_days\n",
    "    return turnover_days.groupby(alphas.index.year).mean()\n",
    "\n",
    "\n",
    "def get_sharpe_coef(days_pnl):\n",
    "    ans = pd.DataFrame()\n",
    "    ans['coef_sharpe'] = days_pnl.groupby(days_pnl.index.year).apply(lambda x : np.sqrt(len(x) - 1) * np.mean(x) / np.std(x))\n",
    "    return ans\n",
    "\n",
    "\n",
    "def get_drawdown_t_2(pnl_cum):\n",
    "    pnl_cum_index =  pnl_cum.index\n",
    "    pnl_cum = np.array(pnl_cum)\n",
    "    max_drawdown = -1\n",
    "    for i in range(0, len(pnl_cum)):\n",
    "        for j in range(i + 1, len(pnl_cum)):\n",
    "            if ((pnl_cum[i] - pnl_cum[j]) > max_drawdown) and (pnl_cum[i] - pnl_cum[j]) > 0:\n",
    "                if (pnl_cum[i] - pnl_cum[j]) != np.inf:\n",
    "                    max_drawdown = (pnl_cum[i] - pnl_cum[j])\n",
    "                    days_i = i\n",
    "                    days_j = j\n",
    "    return max_drawdown, pnl_cum_index[days_i].strftime(\"%d.%m.%Y\"), pnl_cum_index[days_j].strftime(\"%d.%m.%Y\")\n",
    "\n",
    "\n",
    "def get_drawdown_years(pnl_cum):\n",
    "    return pnl_cum.groupby(pnl_cum.index.year).apply(lambda x: get_drawdown_t_2(x))\n",
    "\n",
    "\n",
    "def get_pnl(data_returns, alpha, option=0):\n",
    "    data_returns = data_returns.iloc[2:]\n",
    "    pnl = alpha.reset_index(drop=True).mul(data_returns.reset_index(drop=True), axis=0).sum(axis=1)\n",
    "    ans = pd.DataFrame()\n",
    "    ans['pnl'] = pnl\n",
    "    ans = ans.set_index(alpha.index).shift(2)\n",
    "    if option == 1:\n",
    "        return ans.set_index(alpha.index).groupby(alpha.index.year).sum()\n",
    "    return ans\n",
    "\n",
    "\n",
    "def alpha_stats(data_returns, alpha):\n",
    "    days_pnl = get_pnl(data_returns, alpha).fillna(0)['pnl']\n",
    "    print(sum(days_pnl))\n",
    "    returns_table = pd.DataFrame()\n",
    "    returns_table['years_pnl_cum'] = get_pnl(data_returns, alpha, 1)\n",
    "    returns_table['turnover'] = turnover(alpha)\n",
    "    returns_table['sharpe_coef'] = get_sharpe_coef(days_pnl)\n",
    "    returns_table['drawdown'] = get_drawdown_years(days_pnl.cumsum()).apply(lambda x: x[0])\n",
    "    returns_table['drawdown_day_start'] = get_drawdown_years(days_pnl.cumsum()).apply(lambda x: x[1])\n",
    "    returns_table['drawdown_day_end'] = get_drawdown_years(days_pnl.cumsum()).apply(lambda x: x[2])\n",
    "    days_pnl.cumsum().plot()\n",
    "    plt.grid()\n",
    "    plt.show()\n",
    "    return returns_table"
   ]
  },
  {
   "attachments": {},
   "cell_type": "markdown",
   "metadata": {},
   "source": [
    "Alpha rank\n",
    "### $$ ts\\_rank(data, k) $$"
   ]
  },
  {
   "attachments": {},
   "cell_type": "markdown",
   "metadata": {},
   "source": [
    "$$ ts\\_rank(close, 20) $$"
   ]
  },
  {
   "cell_type": "code",
   "execution_count": 9,
   "metadata": {},
   "outputs": [],
   "source": [
    "#def ts_rank(data, k):\n",
    "#    ans = data.copy().iloc[:0]\n",
    "#    for i in tqdm(range(len(data) - k)):\n",
    "#        ans.loc[len(ans)] = data.iloc[i : k + i].apply(get_rank).iloc[-1]\n",
    "#    return ans"
   ]
  },
  {
   "cell_type": "code",
   "execution_count": 10,
   "metadata": {},
   "outputs": [],
   "source": [
    "#ts_rank_close_20 = ts_rank(data_close, 20)\n",
    "#ts_rank_close_20.index = data_close.iloc[20:].index\n",
    "#ts_rank_close_20.to_csv('ts_rank_close_20.csv')\n",
    "\n",
    "#a = pd.DataFrame(np.zeros((20,2436)))\n",
    "#a.index = data_close.iloc[:20].index\n",
    "#a.columns = ts_rank_close_20.columns\n",
    "#ts_rank_close_20 = a.append(ts_rank_close_20)\n",
    "#ts_rank_close_20.to_csv('ts_rank_close_20.csv')"
   ]
  },
  {
   "cell_type": "code",
   "execution_count": 11,
   "metadata": {},
   "outputs": [],
   "source": [
    "#ts_rank_volume_20 = ts_rank(data_volume, 20)\n",
    "#ts_rank_volume_20.index = data_volume.iloc[20:].index\n",
    "\n",
    "#a = pd.DataFrame(np.zeros((20,2436)))\n",
    "#a.index = data_volume.iloc[:20].index\n",
    "#a.columns = ts_rank_volume_20.columns\n",
    "#ts_rank_volume_20 = a.append(ts_rank_volume_20)\n",
    "#ts_rank_volume_20.to_csv('ts_rank_volume_20.csv')"
   ]
  },
  {
   "cell_type": "code",
   "execution_count": 12,
   "metadata": {},
   "outputs": [],
   "source": [
    "#ts_rank_returns_20 = ts_rank(data_volume, 20)\n",
    "#ts_rank_returns_20.index = data_volume.iloc[20:].index\n",
    "\n",
    "#a = pd.DataFrame(np.zeros((20,2436)))\n",
    "#a.index = data_returns.iloc[:20].index\n",
    "#a.columns = ts_rank_returns_20.columns\n",
    "#ts_rank_returns_20 = a.append(ts_rank_returns_20)\n",
    "#ts_rank_returns_20.to_csv('ts_rank_returns_20.csv')"
   ]
  },
  {
   "cell_type": "code",
   "execution_count": 13,
   "metadata": {},
   "outputs": [],
   "source": [
    "def algh_high_minus_low_over_close(n=1, data_close=0, data_open=0, data_high=0, data_low=0, volume=0,cut_middle_coef=0, cut_outliers_coef=0, ranking=False, decaying=False, decay_d=0, decay_k=0):\n",
    "    kernel = (data_low - data_high)\n",
    "    alpha = (data_close.shift(n) - data_open) / (kernel + 0.001)\n",
    "    if decaying == True:\n",
    "        alpha = get_decay_alpha(alpha, decay_d, decay_k)\n",
    "    if ranking ==True:\n",
    "        alpha = alpha.T.apply(lambda x: get_rank(x)).T\n",
    "    alpha = alpha.T.apply(lambda x: cut_outliers(x, cut_outliers_coef)).apply(lambda x: cut_middle(x, cut_middle_coef)).apply(neutralize).apply(normalize).T\n",
    "    return -alpha"
   ]
  },
  {
   "cell_type": "code",
   "execution_count": 14,
   "metadata": {},
   "outputs": [
    {
     "name": "stdout",
     "output_type": "stream",
     "text": [
      "0.5425696352175059\n"
     ]
    },
    {
     "data": {
      "image/png": "[encoded data removed]",
      "text/plain": [
       "<Figure size 640x480 with 1 Axes>"
      ]
     },
     "metadata": {},
     "output_type": "display_data"
    },
    {
     "data": {
      "text/html": [
       "<div>\n",
       "<style scoped>\n",
       "    .dataframe tbody tr th:only-of-type {\n",
       "        vertical-align: middle;\n",
       "    }\n",
       "\n",
       "    .dataframe tbody tr th {\n",
       "        vertical-align: top;\n",
       "    }\n",
       "\n",
       "    .dataframe thead th {\n",
       "        text-align: right;\n",
       "    }\n",
       "</style>\n",
       "<table border=\"1\" class=\"dataframe\">\n",
       "  <thead>\n",
       "    <tr style=\"text-align: right;\">\n",
       "      <th></th>\n",
       "      <th>years_pnl_cum</th>\n",
       "      <th>turnover</th>\n",
       "      <th>sharpe_coef</th>\n",
       "      <th>drawdown</th>\n",
       "      <th>drawdown_day_start</th>\n",
       "      <th>drawdown_day_end</th>\n",
       "    </tr>\n",
       "    <tr>\n",
       "      <th>date</th>\n",
       "      <th></th>\n",
       "      <th></th>\n",
       "      <th></th>\n",
       "      <th></th>\n",
       "      <th></th>\n",
       "      <th></th>\n",
       "    </tr>\n",
       "  </thead>\n",
       "  <tbody>\n",
       "    <tr>\n",
       "      <th>2010</th>\n",
       "      <td>0.086569</td>\n",
       "      <td>0.669487</td>\n",
       "      <td>1.184552</td>\n",
       "      <td>0.047970</td>\n",
       "      <td>03.09.2010</td>\n",
       "      <td>18.10.2010</td>\n",
       "    </tr>\n",
       "    <tr>\n",
       "      <th>2011</th>\n",
       "      <td>0.170447</td>\n",
       "      <td>0.700705</td>\n",
       "      <td>2.018270</td>\n",
       "      <td>0.036225</td>\n",
       "      <td>22.06.2011</td>\n",
       "      <td>18.07.2011</td>\n",
       "    </tr>\n",
       "    <tr>\n",
       "      <th>2012</th>\n",
       "      <td>0.056604</td>\n",
       "      <td>0.701401</td>\n",
       "      <td>0.357856</td>\n",
       "      <td>0.111197</td>\n",
       "      <td>06.11.2012</td>\n",
       "      <td>14.11.2012</td>\n",
       "    </tr>\n",
       "    <tr>\n",
       "      <th>2013</th>\n",
       "      <td>0.223720</td>\n",
       "      <td>0.696128</td>\n",
       "      <td>1.308615</td>\n",
       "      <td>0.088689</td>\n",
       "      <td>30.05.2013</td>\n",
       "      <td>09.07.2013</td>\n",
       "    </tr>\n",
       "    <tr>\n",
       "      <th>2014</th>\n",
       "      <td>0.005230</td>\n",
       "      <td>0.602263</td>\n",
       "      <td>0.112871</td>\n",
       "      <td>0.041098</td>\n",
       "      <td>11.09.2014</td>\n",
       "      <td>15.12.2014</td>\n",
       "    </tr>\n",
       "  </tbody>\n",
       "</table>\n",
       "</div>"
      ],
      "text/plain": [
       "      years_pnl_cum  turnover  sharpe_coef  drawdown drawdown_day_start drawdown_day_end\n",
       "date                                                                                    \n",
       "2010       0.086569  0.669487     1.184552  0.047970         03.09.2010       18.10.2010\n",
       "2011       0.170447  0.700705     2.018270  0.036225         22.06.2011       18.07.2011\n",
       "2012       0.056604  0.701401     0.357856  0.111197         06.11.2012       14.11.2012\n",
       "2013       0.223720  0.696128     1.308615  0.088689         30.05.2013       09.07.2013\n",
       "2014       0.005230  0.602263     0.112871  0.041098         11.09.2014       15.12.2014"
      ]
     },
     "execution_count": 14,
     "metadata": {},
     "output_type": "execute_result"
    }
   ],
   "source": [
    "alpha_stats(data_returns, algh_high_minus_low_over_close(n=15, data_close=data_close, data_open=data_open, data_high=data_high, data_low=data_low, cut_middle_coef=0, cut_outliers_coef=0, ranking=False, decaying=False))"
   ]
  },
  {
   "cell_type": "code",
   "execution_count": 15,
   "metadata": {},
   "outputs": [],
   "source": [
    "def algh_high_minus_low_over_close_ts_rank(n=1, ts_rank_data=0, data_close=0, data_open=0, data_high=0, data_low=0, volume=0,cut_middle_coef=0, cut_outliers_coef=0, ranking=False, decaying=False, decay_d=0, decay_k=0):\n",
    "    kernel = (data_low - data_high)\n",
    "    alpha = -ts_rank_data * ((data_close.shift(n) - data_open) / (kernel + 0.001))\n",
    "    if decaying == True:\n",
    "        alpha = get_decay_alpha(alpha, decay_d, decay_k)\n",
    "    if ranking ==True:\n",
    "        alpha = alpha.T.apply(lambda x: get_rank(x)).T\n",
    "    alpha = alpha.T.apply(lambda x: cut_outliers(x, cut_outliers_coef)).apply(lambda x: cut_middle(x, cut_middle_coef)).apply(neutralize).apply(normalize).T\n",
    "    return alpha"
   ]
  },
  {
   "cell_type": "code",
   "execution_count": 16,
   "metadata": {},
   "outputs": [
    {
     "name": "stdout",
     "output_type": "stream",
     "text": [
      "0.3966189234045001\n"
     ]
    },
    {
     "data": {
      "image/png": "[encoded data removed]",
      "text/plain": [
       "<Figure size 640x480 with 1 Axes>"
      ]
     },
     "metadata": {},
     "output_type": "display_data"
    },
    {
     "data": {
      "text/html": [
       "<div>\n",
       "<style scoped>\n",
       "    .dataframe tbody tr th:only-of-type {\n",
       "        vertical-align: middle;\n",
       "    }\n",
       "\n",
       "    .dataframe tbody tr th {\n",
       "        vertical-align: top;\n",
       "    }\n",
       "\n",
       "    .dataframe thead th {\n",
       "        text-align: right;\n",
       "    }\n",
       "</style>\n",
       "<table border=\"1\" class=\"dataframe\">\n",
       "  <thead>\n",
       "    <tr style=\"text-align: right;\">\n",
       "      <th></th>\n",
       "      <th>years_pnl_cum</th>\n",
       "      <th>turnover</th>\n",
       "      <th>sharpe_coef</th>\n",
       "      <th>drawdown</th>\n",
       "      <th>drawdown_day_start</th>\n",
       "      <th>drawdown_day_end</th>\n",
       "    </tr>\n",
       "    <tr>\n",
       "      <th>date</th>\n",
       "      <th></th>\n",
       "      <th></th>\n",
       "      <th></th>\n",
       "      <th></th>\n",
       "      <th></th>\n",
       "      <th></th>\n",
       "    </tr>\n",
       "  </thead>\n",
       "  <tbody>\n",
       "    <tr>\n",
       "      <th>2010</th>\n",
       "      <td>0.136211</td>\n",
       "      <td>0.295317</td>\n",
       "      <td>1.951579</td>\n",
       "      <td>0.033146</td>\n",
       "      <td>10.08.2010</td>\n",
       "      <td>30.08.2010</td>\n",
       "    </tr>\n",
       "    <tr>\n",
       "      <th>2011</th>\n",
       "      <td>0.077497</td>\n",
       "      <td>0.325607</td>\n",
       "      <td>1.171261</td>\n",
       "      <td>0.042273</td>\n",
       "      <td>03.01.2011</td>\n",
       "      <td>13.01.2011</td>\n",
       "    </tr>\n",
       "    <tr>\n",
       "      <th>2012</th>\n",
       "      <td>0.158533</td>\n",
       "      <td>0.312831</td>\n",
       "      <td>0.980875</td>\n",
       "      <td>0.095837</td>\n",
       "      <td>22.03.2012</td>\n",
       "      <td>07.08.2012</td>\n",
       "    </tr>\n",
       "    <tr>\n",
       "      <th>2013</th>\n",
       "      <td>0.032736</td>\n",
       "      <td>0.307476</td>\n",
       "      <td>0.237249</td>\n",
       "      <td>0.096398</td>\n",
       "      <td>08.01.2013</td>\n",
       "      <td>05.04.2013</td>\n",
       "    </tr>\n",
       "    <tr>\n",
       "      <th>2014</th>\n",
       "      <td>-0.008359</td>\n",
       "      <td>0.303266</td>\n",
       "      <td>-0.190166</td>\n",
       "      <td>0.043047</td>\n",
       "      <td>02.04.2014</td>\n",
       "      <td>15.12.2014</td>\n",
       "    </tr>\n",
       "  </tbody>\n",
       "</table>\n",
       "</div>"
      ],
      "text/plain": [
       "      years_pnl_cum  turnover  sharpe_coef  drawdown drawdown_day_start drawdown_day_end\n",
       "date                                                                                    \n",
       "2010       0.136211  0.295317     1.951579  0.033146         10.08.2010       30.08.2010\n",
       "2011       0.077497  0.325607     1.171261  0.042273         03.01.2011       13.01.2011\n",
       "2012       0.158533  0.312831     0.980875  0.095837         22.03.2012       07.08.2012\n",
       "2013       0.032736  0.307476     0.237249  0.096398         08.01.2013       05.04.2013\n",
       "2014      -0.008359  0.303266    -0.190166  0.043047         02.04.2014       15.12.2014"
      ]
     },
     "execution_count": 16,
     "metadata": {},
     "output_type": "execute_result"
    }
   ],
   "source": [
    "alpha_stats(data_returns, algh_high_minus_low_over_close_ts_rank(n=5, ts_rank_data=ts_rank_close_20, data_close=data_close, data_open=data_open, data_high=data_high, data_low=data_low, cut_middle_coef=0.01, cut_outliers_coef=0, ranking=False, decaying=True, decay_d=10, decay_k=10))"
   ]
  },
  {
   "cell_type": "code",
   "execution_count": 17,
   "metadata": {},
   "outputs": [
    {
     "name": "stdout",
     "output_type": "stream",
     "text": [
      "0.7111543742284457\n"
     ]
    },
    {
     "data": {
      "image/png": "[encoded data removed]",
      "text/plain": [
       "<Figure size 640x480 with 1 Axes>"
      ]
     },
     "metadata": {},
     "output_type": "display_data"
    },
    {
     "data": {
      "text/html": [
       "<div>\n",
       "<style scoped>\n",
       "    .dataframe tbody tr th:only-of-type {\n",
       "        vertical-align: middle;\n",
       "    }\n",
       "\n",
       "    .dataframe tbody tr th {\n",
       "        vertical-align: top;\n",
       "    }\n",
       "\n",
       "    .dataframe thead th {\n",
       "        text-align: right;\n",
       "    }\n",
       "</style>\n",
       "<table border=\"1\" class=\"dataframe\">\n",
       "  <thead>\n",
       "    <tr style=\"text-align: right;\">\n",
       "      <th></th>\n",
       "      <th>years_pnl_cum</th>\n",
       "      <th>turnover</th>\n",
       "      <th>sharpe_coef</th>\n",
       "      <th>drawdown</th>\n",
       "      <th>drawdown_day_start</th>\n",
       "      <th>drawdown_day_end</th>\n",
       "    </tr>\n",
       "    <tr>\n",
       "      <th>date</th>\n",
       "      <th></th>\n",
       "      <th></th>\n",
       "      <th></th>\n",
       "      <th></th>\n",
       "      <th></th>\n",
       "      <th></th>\n",
       "    </tr>\n",
       "  </thead>\n",
       "  <tbody>\n",
       "    <tr>\n",
       "      <th>2010</th>\n",
       "      <td>0.224693</td>\n",
       "      <td>0.955138</td>\n",
       "      <td>3.359980</td>\n",
       "      <td>0.018911</td>\n",
       "      <td>04.08.2010</td>\n",
       "      <td>27.08.2010</td>\n",
       "    </tr>\n",
       "    <tr>\n",
       "      <th>2011</th>\n",
       "      <td>0.267656</td>\n",
       "      <td>1.055936</td>\n",
       "      <td>3.723775</td>\n",
       "      <td>0.019324</td>\n",
       "      <td>21.07.2011</td>\n",
       "      <td>08.08.2011</td>\n",
       "    </tr>\n",
       "    <tr>\n",
       "      <th>2012</th>\n",
       "      <td>0.182973</td>\n",
       "      <td>1.031400</td>\n",
       "      <td>1.087052</td>\n",
       "      <td>0.077985</td>\n",
       "      <td>22.03.2012</td>\n",
       "      <td>18.10.2012</td>\n",
       "    </tr>\n",
       "    <tr>\n",
       "      <th>2013</th>\n",
       "      <td>0.015894</td>\n",
       "      <td>1.028904</td>\n",
       "      <td>0.168823</td>\n",
       "      <td>0.052162</td>\n",
       "      <td>13.05.2013</td>\n",
       "      <td>16.05.2013</td>\n",
       "    </tr>\n",
       "    <tr>\n",
       "      <th>2014</th>\n",
       "      <td>0.019938</td>\n",
       "      <td>0.975504</td>\n",
       "      <td>0.514055</td>\n",
       "      <td>0.039119</td>\n",
       "      <td>16.07.2014</td>\n",
       "      <td>15.12.2014</td>\n",
       "    </tr>\n",
       "  </tbody>\n",
       "</table>\n",
       "</div>"
      ],
      "text/plain": [
       "      years_pnl_cum  turnover  sharpe_coef  drawdown drawdown_day_start drawdown_day_end\n",
       "date                                                                                    \n",
       "2010       0.224693  0.955138     3.359980  0.018911         04.08.2010       27.08.2010\n",
       "2011       0.267656  1.055936     3.723775  0.019324         21.07.2011       08.08.2011\n",
       "2012       0.182973  1.031400     1.087052  0.077985         22.03.2012       18.10.2012\n",
       "2013       0.015894  1.028904     0.168823  0.052162         13.05.2013       16.05.2013\n",
       "2014       0.019938  0.975504     0.514055  0.039119         16.07.2014       15.12.2014"
      ]
     },
     "execution_count": 17,
     "metadata": {},
     "output_type": "execute_result"
    }
   ],
   "source": [
    "alpha_stats(data_returns, algh_high_minus_low_over_close_ts_rank(n=5, ts_rank_data=ts_rank_volume_20, data_close=data_close, data_open=data_open, data_high=data_high, data_low=data_low, cut_middle_coef=0.01, cut_outliers_coef=0, ranking=False, decaying=False))"
   ]
  },
  {
   "cell_type": "code",
   "execution_count": 18,
   "metadata": {},
   "outputs": [
    {
     "name": "stdout",
     "output_type": "stream",
     "text": [
      "0.7111543742284457\n"
     ]
    },
    {
     "data": {
      "image/png": "[encoded data removed]",
      "text/plain": [
       "<Figure size 640x480 with 1 Axes>"
      ]
     },
     "metadata": {},
     "output_type": "display_data"
    },
    {
     "data": {
      "text/html": [
       "<div>\n",
       "<style scoped>\n",
       "    .dataframe tbody tr th:only-of-type {\n",
       "        vertical-align: middle;\n",
       "    }\n",
       "\n",
       "    .dataframe tbody tr th {\n",
       "        vertical-align: top;\n",
       "    }\n",
       "\n",
       "    .dataframe thead th {\n",
       "        text-align: right;\n",
       "    }\n",
       "</style>\n",
       "<table border=\"1\" class=\"dataframe\">\n",
       "  <thead>\n",
       "    <tr style=\"text-align: right;\">\n",
       "      <th></th>\n",
       "      <th>years_pnl_cum</th>\n",
       "      <th>turnover</th>\n",
       "      <th>sharpe_coef</th>\n",
       "      <th>drawdown</th>\n",
       "      <th>drawdown_day_start</th>\n",
       "      <th>drawdown_day_end</th>\n",
       "    </tr>\n",
       "    <tr>\n",
       "      <th>date</th>\n",
       "      <th></th>\n",
       "      <th></th>\n",
       "      <th></th>\n",
       "      <th></th>\n",
       "      <th></th>\n",
       "      <th></th>\n",
       "    </tr>\n",
       "  </thead>\n",
       "  <tbody>\n",
       "    <tr>\n",
       "      <th>2010</th>\n",
       "      <td>0.224693</td>\n",
       "      <td>0.955138</td>\n",
       "      <td>3.359980</td>\n",
       "      <td>0.018911</td>\n",
       "      <td>04.08.2010</td>\n",
       "      <td>27.08.2010</td>\n",
       "    </tr>\n",
       "    <tr>\n",
       "      <th>2011</th>\n",
       "      <td>0.267656</td>\n",
       "      <td>1.055936</td>\n",
       "      <td>3.723775</td>\n",
       "      <td>0.019324</td>\n",
       "      <td>21.07.2011</td>\n",
       "      <td>08.08.2011</td>\n",
       "    </tr>\n",
       "    <tr>\n",
       "      <th>2012</th>\n",
       "      <td>0.182973</td>\n",
       "      <td>1.031400</td>\n",
       "      <td>1.087052</td>\n",
       "      <td>0.077985</td>\n",
       "      <td>22.03.2012</td>\n",
       "      <td>18.10.2012</td>\n",
       "    </tr>\n",
       "    <tr>\n",
       "      <th>2013</th>\n",
       "      <td>0.015894</td>\n",
       "      <td>1.028904</td>\n",
       "      <td>0.168823</td>\n",
       "      <td>0.052162</td>\n",
       "      <td>13.05.2013</td>\n",
       "      <td>16.05.2013</td>\n",
       "    </tr>\n",
       "    <tr>\n",
       "      <th>2014</th>\n",
       "      <td>0.019938</td>\n",
       "      <td>0.975504</td>\n",
       "      <td>0.514055</td>\n",
       "      <td>0.039119</td>\n",
       "      <td>16.07.2014</td>\n",
       "      <td>15.12.2014</td>\n",
       "    </tr>\n",
       "  </tbody>\n",
       "</table>\n",
       "</div>"
      ],
      "text/plain": [
       "      years_pnl_cum  turnover  sharpe_coef  drawdown drawdown_day_start drawdown_day_end\n",
       "date                                                                                    \n",
       "2010       0.224693  0.955138     3.359980  0.018911         04.08.2010       27.08.2010\n",
       "2011       0.267656  1.055936     3.723775  0.019324         21.07.2011       08.08.2011\n",
       "2012       0.182973  1.031400     1.087052  0.077985         22.03.2012       18.10.2012\n",
       "2013       0.015894  1.028904     0.168823  0.052162         13.05.2013       16.05.2013\n",
       "2014       0.019938  0.975504     0.514055  0.039119         16.07.2014       15.12.2014"
      ]
     },
     "execution_count": 18,
     "metadata": {},
     "output_type": "execute_result"
    }
   ],
   "source": [
    "alpha_stats(data_returns, algh_high_minus_low_over_close_ts_rank(n=5, ts_rank_data=ts_rank_returns_20, data_close=data_close, data_open=data_open, data_high=data_high, data_low=data_low, cut_middle_coef=0.01, cut_outliers_coef=0, ranking=False, decaying=False))"
   ]
  },
  {
   "cell_type": "code",
   "execution_count": 19,
   "metadata": {},
   "outputs": [],
   "source": [
    "def algh_ts_rank(ts_rank_data=0, cut_middle_coef=0, cut_outliers_coef=0, ranking=False, decaying=False, decay_d=0, decay_k=0):\n",
    "    kernel = ts_rank_data\n",
    "    alpha = -kernel\n",
    "    if decaying == True:\n",
    "        alpha = get_decay_alpha(alpha, decay_d, decay_k)\n",
    "    if ranking ==True:\n",
    "        alpha = alpha.T.apply(lambda x: get_rank(x)).T\n",
    "    alpha = alpha.T.apply(lambda x: cut_outliers(x, cut_outliers_coef)).apply(lambda x: cut_middle(x, cut_middle_coef)).apply(neutralize).apply(normalize).T\n",
    "    return alpha"
   ]
  },
  {
   "cell_type": "code",
   "execution_count": 20,
   "metadata": {},
   "outputs": [],
   "source": [
    "def algh_ts_rank_close(ts_rank_data_1=0, ts_rank_data_2=0, cut_middle_coef=0, cut_outliers_coef=0, ranking=False, decaying=False, decay_d=0, decay_k=0):\n",
    "    kernel = (ts_rank_data_1 / ts_rank_data_2) * (data_close / data_close.shift(5) - 1)\n",
    "    alpha = -kernel\n",
    "    if decaying == True:\n",
    "        alpha = get_decay_alpha(alpha, decay_d, decay_k)\n",
    "    if ranking ==True:\n",
    "        alpha = alpha.T.apply(lambda x: get_rank(x)).T\n",
    "    alpha = alpha.T.apply(lambda x: cut_outliers(x, cut_outliers_coef)).apply(lambda x: cut_middle(x, cut_middle_coef)).apply(neutralize).apply(normalize).T\n",
    "    return alpha"
   ]
  },
  {
   "cell_type": "code",
   "execution_count": 21,
   "metadata": {},
   "outputs": [],
   "source": [
    "def algh_alpha_high_plus_low_minus_two_close(n=1, data_close=0, data_open=0, data_high=0, data_low=0, volume=0,cut_middle_coef=0, cut_outliers_coef=0, ranking=False, decaying=False, decay_d=0, decay_k=0):\n",
    "    kernel = (data_high + data_low - 2 * data_close).copy()\n",
    "    alpha = kernel / data_close\n",
    "    if decaying==True:\n",
    "        alpha = get_decay_alpha(alpha, decay_d, decay_k)\n",
    "    if ranking ==True:\n",
    "        alpha = alpha.T.apply(lambda x: get_rank(x)).T\n",
    "    alpha = alpha.T.apply(lambda x: cut_outliers(x, cut_outliers_coef)).apply(lambda x: cut_middle(x, cut_middle_coef)).apply(neutralize).apply(normalize).T\n",
    "    return alpha"
   ]
  },
  {
   "cell_type": "code",
   "execution_count": 22,
   "metadata": {},
   "outputs": [
    {
     "name": "stdout",
     "output_type": "stream",
     "text": [
      "0.6875175342474718\n"
     ]
    },
    {
     "data": {
      "image/png": "[encoded data removed]",
      "text/plain": [
       "<Figure size 640x480 with 1 Axes>"
      ]
     },
     "metadata": {},
     "output_type": "display_data"
    },
    {
     "data": {
      "text/html": [
       "<div>\n",
       "<style scoped>\n",
       "    .dataframe tbody tr th:only-of-type {\n",
       "        vertical-align: middle;\n",
       "    }\n",
       "\n",
       "    .dataframe tbody tr th {\n",
       "        vertical-align: top;\n",
       "    }\n",
       "\n",
       "    .dataframe thead th {\n",
       "        text-align: right;\n",
       "    }\n",
       "</style>\n",
       "<table border=\"1\" class=\"dataframe\">\n",
       "  <thead>\n",
       "    <tr style=\"text-align: right;\">\n",
       "      <th></th>\n",
       "      <th>years_pnl_cum</th>\n",
       "      <th>turnover</th>\n",
       "      <th>sharpe_coef</th>\n",
       "      <th>drawdown</th>\n",
       "      <th>drawdown_day_start</th>\n",
       "      <th>drawdown_day_end</th>\n",
       "    </tr>\n",
       "    <tr>\n",
       "      <th>date</th>\n",
       "      <th></th>\n",
       "      <th></th>\n",
       "      <th></th>\n",
       "      <th></th>\n",
       "      <th></th>\n",
       "      <th></th>\n",
       "    </tr>\n",
       "  </thead>\n",
       "  <tbody>\n",
       "    <tr>\n",
       "      <th>2010</th>\n",
       "      <td>0.167315</td>\n",
       "      <td>0.902549</td>\n",
       "      <td>3.456106</td>\n",
       "      <td>0.019822</td>\n",
       "      <td>15.10.2010</td>\n",
       "      <td>10.12.2010</td>\n",
       "    </tr>\n",
       "    <tr>\n",
       "      <th>2011</th>\n",
       "      <td>0.198500</td>\n",
       "      <td>0.899981</td>\n",
       "      <td>2.550237</td>\n",
       "      <td>0.044218</td>\n",
       "      <td>13.07.2011</td>\n",
       "      <td>19.08.2011</td>\n",
       "    </tr>\n",
       "    <tr>\n",
       "      <th>2012</th>\n",
       "      <td>0.149061</td>\n",
       "      <td>0.883446</td>\n",
       "      <td>3.810478</td>\n",
       "      <td>0.014334</td>\n",
       "      <td>23.02.2012</td>\n",
       "      <td>19.03.2012</td>\n",
       "    </tr>\n",
       "    <tr>\n",
       "      <th>2013</th>\n",
       "      <td>0.095080</td>\n",
       "      <td>0.887939</td>\n",
       "      <td>2.633957</td>\n",
       "      <td>0.013249</td>\n",
       "      <td>06.02.2013</td>\n",
       "      <td>04.03.2013</td>\n",
       "    </tr>\n",
       "    <tr>\n",
       "      <th>2014</th>\n",
       "      <td>0.077561</td>\n",
       "      <td>0.902576</td>\n",
       "      <td>1.603889</td>\n",
       "      <td>0.053033</td>\n",
       "      <td>28.08.2014</td>\n",
       "      <td>15.12.2014</td>\n",
       "    </tr>\n",
       "  </tbody>\n",
       "</table>\n",
       "</div>"
      ],
      "text/plain": [
       "      years_pnl_cum  turnover  sharpe_coef  drawdown drawdown_day_start drawdown_day_end\n",
       "date                                                                                    \n",
       "2010       0.167315  0.902549     3.456106  0.019822         15.10.2010       10.12.2010\n",
       "2011       0.198500  0.899981     2.550237  0.044218         13.07.2011       19.08.2011\n",
       "2012       0.149061  0.883446     3.810478  0.014334         23.02.2012       19.03.2012\n",
       "2013       0.095080  0.887939     2.633957  0.013249         06.02.2013       04.03.2013\n",
       "2014       0.077561  0.902576     1.603889  0.053033         28.08.2014       15.12.2014"
      ]
     },
     "execution_count": 22,
     "metadata": {},
     "output_type": "execute_result"
    }
   ],
   "source": [
    "alpha_stats(data_returns, algh_alpha_high_plus_low_minus_two_close(data_close=data_close, data_high=data_high, data_low=data_low, cut_middle_coef=0, cut_outliers_coef=0, ranking=False, decaying=True, decay_d=4, decay_k=3))"
   ]
  },
  {
   "cell_type": "code",
   "execution_count": 23,
   "metadata": {},
   "outputs": [],
   "source": [
    "def algh_alpha_reversion(n=1, data_close=0, data_open=0, data_high=0, data_low=0, volume=0, cut_middle_coef=0, cut_outliers_coef=0, ranking=False, decaying=False, decay_d=0, decay_k=0):\n",
    "    kernel = (data_close / data_close.shift(n) - 1)\n",
    "    alpha = -kernel\n",
    "    if decaying == True:\n",
    "        alpha = get_decay_alpha(alpha, decay_d, decay_k)\n",
    "    if ranking == True:\n",
    "        alpha = alpha.T.apply(lambda x: get_rank(x)).T\n",
    "\n",
    "    alpha = alpha.T.apply(lambda x: cut_outliers(x, cut_outliers_coef)).apply(lambda x: cut_middle(x, cut_middle_coef)).apply(neutralize).apply(normalize).T\n",
    "    return alpha"
   ]
  },
  {
   "cell_type": "code",
   "execution_count": 24,
   "metadata": {},
   "outputs": [
    {
     "name": "stdout",
     "output_type": "stream",
     "text": [
      "0.5891173213561448\n"
     ]
    },
    {
     "data": {
      "image/png": "[encoded data removed]",
      "text/plain": [
       "<Figure size 640x480 with 1 Axes>"
      ]
     },
     "metadata": {},
     "output_type": "display_data"
    },
    {
     "data": {
      "text/html": [
       "<div>\n",
       "<style scoped>\n",
       "    .dataframe tbody tr th:only-of-type {\n",
       "        vertical-align: middle;\n",
       "    }\n",
       "\n",
       "    .dataframe tbody tr th {\n",
       "        vertical-align: top;\n",
       "    }\n",
       "\n",
       "    .dataframe thead th {\n",
       "        text-align: right;\n",
       "    }\n",
       "</style>\n",
       "<table border=\"1\" class=\"dataframe\">\n",
       "  <thead>\n",
       "    <tr style=\"text-align: right;\">\n",
       "      <th></th>\n",
       "      <th>years_pnl_cum</th>\n",
       "      <th>turnover</th>\n",
       "      <th>sharpe_coef</th>\n",
       "      <th>drawdown</th>\n",
       "      <th>drawdown_day_start</th>\n",
       "      <th>drawdown_day_end</th>\n",
       "    </tr>\n",
       "    <tr>\n",
       "      <th>date</th>\n",
       "      <th></th>\n",
       "      <th></th>\n",
       "      <th></th>\n",
       "      <th></th>\n",
       "      <th></th>\n",
       "      <th></th>\n",
       "    </tr>\n",
       "  </thead>\n",
       "  <tbody>\n",
       "    <tr>\n",
       "      <th>2010</th>\n",
       "      <td>0.161662</td>\n",
       "      <td>0.626295</td>\n",
       "      <td>2.859316</td>\n",
       "      <td>0.042312</td>\n",
       "      <td>05.10.2010</td>\n",
       "      <td>16.11.2010</td>\n",
       "    </tr>\n",
       "    <tr>\n",
       "      <th>2011</th>\n",
       "      <td>0.154295</td>\n",
       "      <td>0.647937</td>\n",
       "      <td>1.913424</td>\n",
       "      <td>0.055726</td>\n",
       "      <td>03.01.2011</td>\n",
       "      <td>14.02.2011</td>\n",
       "    </tr>\n",
       "    <tr>\n",
       "      <th>2012</th>\n",
       "      <td>0.123747</td>\n",
       "      <td>0.639653</td>\n",
       "      <td>2.905585</td>\n",
       "      <td>0.019038</td>\n",
       "      <td>18.09.2012</td>\n",
       "      <td>04.10.2012</td>\n",
       "    </tr>\n",
       "    <tr>\n",
       "      <th>2013</th>\n",
       "      <td>0.093617</td>\n",
       "      <td>0.636498</td>\n",
       "      <td>2.039114</td>\n",
       "      <td>0.017237</td>\n",
       "      <td>09.08.2013</td>\n",
       "      <td>07.10.2013</td>\n",
       "    </tr>\n",
       "    <tr>\n",
       "      <th>2014</th>\n",
       "      <td>0.055797</td>\n",
       "      <td>0.633862</td>\n",
       "      <td>0.878671</td>\n",
       "      <td>0.059483</td>\n",
       "      <td>22.10.2014</td>\n",
       "      <td>15.12.2014</td>\n",
       "    </tr>\n",
       "  </tbody>\n",
       "</table>\n",
       "</div>"
      ],
      "text/plain": [
       "      years_pnl_cum  turnover  sharpe_coef  drawdown drawdown_day_start drawdown_day_end\n",
       "date                                                                                    \n",
       "2010       0.161662  0.626295     2.859316  0.042312         05.10.2010       16.11.2010\n",
       "2011       0.154295  0.647937     1.913424  0.055726         03.01.2011       14.02.2011\n",
       "2012       0.123747  0.639653     2.905585  0.019038         18.09.2012       04.10.2012\n",
       "2013       0.093617  0.636498     2.039114  0.017237         09.08.2013       07.10.2013\n",
       "2014       0.055797  0.633862     0.878671  0.059483         22.10.2014       15.12.2014"
      ]
     },
     "execution_count": 24,
     "metadata": {},
     "output_type": "execute_result"
    }
   ],
   "source": [
    "alpha_stats(data_returns, algh_alpha_reversion(n=5, data_close=data_close, cut_middle_coef=0, cut_outliers_coef=0, decaying=False))"
   ]
  },
  {
   "cell_type": "code",
   "execution_count": 25,
   "metadata": {},
   "outputs": [],
   "source": [
    "def algh_alpha_rank_over_rank(n=1, data_volume=0, data_close=0, data_open=0, data_high=0, data_low=0, volume=0, cut_middle_coef=0, cut_outliers_coef=0, ranking=False, decaying=False, decay_d=0, decay_k=0):\n",
    "    kernel = np.log(data_close / data_close.shift(5)).T.apply(lambda x: get_rank(x)).T * np.log(data_open / data_open.shift(5)).T.apply(lambda x: get_rank(x)).T\n",
    "    alpha = -kernel * ts_rank_returns_20 * ts_rank_close_20\n",
    "    if ranking == True:\n",
    "        alpha = alpha.T.apply(lambda x: get_rank(x)).T\n",
    "    if decaying == True:\n",
    "        alpha = get_decay_alpha(alpha, decay_d, decay_k)\n",
    "    alpha = alpha.T.apply(lambda x: cut_outliers(x, cut_outliers_coef)).apply(lambda x: cut_middle(x, cut_middle_coef)).apply(neutralize).apply(normalize).T\n",
    "    return alpha"
   ]
  },
  {
   "cell_type": "code",
   "execution_count": 26,
   "metadata": {},
   "outputs": [
    {
     "name": "stdout",
     "output_type": "stream",
     "text": [
      "0.2746213045656599\n"
     ]
    },
    {
     "data": {
      "image/png": "[encoded data removed]",
      "text/plain": [
       "<Figure size 640x480 with 1 Axes>"
      ]
     },
     "metadata": {},
     "output_type": "display_data"
    },
    {
     "data": {
      "text/html": [
       "<div>\n",
       "<style scoped>\n",
       "    .dataframe tbody tr th:only-of-type {\n",
       "        vertical-align: middle;\n",
       "    }\n",
       "\n",
       "    .dataframe tbody tr th {\n",
       "        vertical-align: top;\n",
       "    }\n",
       "\n",
       "    .dataframe thead th {\n",
       "        text-align: right;\n",
       "    }\n",
       "</style>\n",
       "<table border=\"1\" class=\"dataframe\">\n",
       "  <thead>\n",
       "    <tr style=\"text-align: right;\">\n",
       "      <th></th>\n",
       "      <th>years_pnl_cum</th>\n",
       "      <th>turnover</th>\n",
       "      <th>sharpe_coef</th>\n",
       "      <th>drawdown</th>\n",
       "      <th>drawdown_day_start</th>\n",
       "      <th>drawdown_day_end</th>\n",
       "    </tr>\n",
       "    <tr>\n",
       "      <th>date</th>\n",
       "      <th></th>\n",
       "      <th></th>\n",
       "      <th></th>\n",
       "      <th></th>\n",
       "      <th></th>\n",
       "      <th></th>\n",
       "    </tr>\n",
       "  </thead>\n",
       "  <tbody>\n",
       "    <tr>\n",
       "      <th>2010</th>\n",
       "      <td>0.085186</td>\n",
       "      <td>0.736884</td>\n",
       "      <td>2.460491</td>\n",
       "      <td>0.024187</td>\n",
       "      <td>04.08.2010</td>\n",
       "      <td>14.12.2010</td>\n",
       "    </tr>\n",
       "    <tr>\n",
       "      <th>2011</th>\n",
       "      <td>0.110338</td>\n",
       "      <td>0.798306</td>\n",
       "      <td>2.087095</td>\n",
       "      <td>0.033280</td>\n",
       "      <td>21.07.2011</td>\n",
       "      <td>08.08.2011</td>\n",
       "    </tr>\n",
       "    <tr>\n",
       "      <th>2012</th>\n",
       "      <td>0.048312</td>\n",
       "      <td>0.800952</td>\n",
       "      <td>1.871497</td>\n",
       "      <td>0.021803</td>\n",
       "      <td>23.02.2012</td>\n",
       "      <td>17.05.2012</td>\n",
       "    </tr>\n",
       "    <tr>\n",
       "      <th>2013</th>\n",
       "      <td>0.032415</td>\n",
       "      <td>0.793495</td>\n",
       "      <td>1.621036</td>\n",
       "      <td>0.008013</td>\n",
       "      <td>12.08.2013</td>\n",
       "      <td>04.10.2013</td>\n",
       "    </tr>\n",
       "    <tr>\n",
       "      <th>2014</th>\n",
       "      <td>-0.001630</td>\n",
       "      <td>0.791966</td>\n",
       "      <td>-0.046135</td>\n",
       "      <td>0.049134</td>\n",
       "      <td>14.07.2014</td>\n",
       "      <td>15.12.2014</td>\n",
       "    </tr>\n",
       "  </tbody>\n",
       "</table>\n",
       "</div>"
      ],
      "text/plain": [
       "      years_pnl_cum  turnover  sharpe_coef  drawdown drawdown_day_start drawdown_day_end\n",
       "date                                                                                    \n",
       "2010       0.085186  0.736884     2.460491  0.024187         04.08.2010       14.12.2010\n",
       "2011       0.110338  0.798306     2.087095  0.033280         21.07.2011       08.08.2011\n",
       "2012       0.048312  0.800952     1.871497  0.021803         23.02.2012       17.05.2012\n",
       "2013       0.032415  0.793495     1.621036  0.008013         12.08.2013       04.10.2013\n",
       "2014      -0.001630  0.791966    -0.046135  0.049134         14.07.2014       15.12.2014"
      ]
     },
     "execution_count": 26,
     "metadata": {},
     "output_type": "execute_result"
    }
   ],
   "source": [
    "alpha_stats(data_returns, algh_alpha_rank_over_rank(n=1, data_volume=data_volume, data_close=data_close, data_open=data_open, cut_middle_coef=0, cut_outliers_coef=0, ranking=True, decaying=False))"
   ]
  },
  {
   "attachments": {},
   "cell_type": "markdown",
   "metadata": {},
   "source": [
    "### corr"
   ]
  },
  {
   "cell_type": "code",
   "execution_count": 27,
   "metadata": {},
   "outputs": [],
   "source": [
    "#alpha_1 = algh_high_minus_low_over_close(n=15, data_close=data_close, data_open=data_open, data_high=data_high, data_low=data_low, cut_middle_coef=0, cut_outliers_coef=0, ranking=False, decaying=False).fillna(0)\n",
    "#alpha_2 = algh_high_minus_low_over_close_ts_rank(n=5, ts_rank_data=ts_rank_close_20, data_close=data_close, data_open=data_open, data_high=data_high, data_low=data_low, cut_middle_coef=0.01, cut_outliers_coef=0, ranking=False, decaying=True, decay_d=10, decay_k=10).fillna(0)\n",
    "#alpha_3 = algh_high_minus_low_over_close_ts_rank(n=5, ts_rank_data=ts_rank_returns_20, data_close=data_close, data_open=data_open, data_high=data_high, data_low=data_low, cut_middle_coef=0.01, cut_outliers_coef=0, ranking=False, decaying=False).fillna(0)\n",
    "#alpha_4 = algh_alpha_high_plus_low_minus_two_close(data_close=data_close, data_high=data_high, data_low=data_low, cut_middle_coef=0, cut_outliers_coef=0, ranking=False, decaying=True, decay_d=4, decay_k=3).fillna(0)\n",
    "#alpha_5 = algh_alpha_reversion(n=5, data_close=data_close, cut_middle_coef=0, cut_outliers_coef=0, decaying=False).fillna(0)\n",
    "#alpha_6 = algh_alpha_rank_over_rank(n=1, data_volume=data_volume, data_close=data_close, data_open=data_open, cut_middle_coef=0, cut_outliers_coef=0, ranking=False, decaying=False).fillna(0)"
   ]
  },
  {
   "cell_type": "code",
   "execution_count": 28,
   "metadata": {},
   "outputs": [],
   "source": [
    "#alpha_1.to_csv('../best_alphas/high_minus_low_over_close_n_15.csv')\n",
    "#alpha_2.to_csv('../best_alphas/algh_high_minus_low_over_close_ts_rankclose20_n_5_cutmid_decay_10.csv')\n",
    "#alpha_3.to_csv('../best_alphas/algh_high_minus_low_over_close_ts_rankreturns20_n_5_cutmid_.csv')\n",
    "#alpha_4.to_csv('../best_alphas/algh_alpha_high_plus_low_minus_two_close_decay_4_3.csv')\n",
    "#alpha_5.to_csv('../best_alphas/algh_alpha_reversion_n_5_.csv')"
   ]
  },
  {
   "cell_type": "code",
   "execution_count": 29,
   "metadata": {},
   "outputs": [],
   "source": [
    "alpha_1 = pd.read_csv('../best_alphas/high_minus_low_over_close_n_15.csv', index_col='date')\n",
    "alpha_1.index = alpha_1.index.astype('datetime64')\n",
    "\n",
    "alpha_2 = pd.read_csv('../best_alphas/algh_high_minus_low_over_close_ts_rankclose20_n_5_cutmid_decay_10.csv', index_col='date')\n",
    "alpha_2.index = alpha_2.index.astype('datetime64')\n",
    "\n",
    "alpha_3 = pd.read_csv('../best_alphas/algh_high_minus_low_over_close_ts_rankreturns20_n_5_cutmid_.csv', index_col='date')\n",
    "alpha_3.index = alpha_3.index.astype('datetime64')\n",
    "\n",
    "alpha_4 = pd.read_csv('../best_alphas/algh_alpha_high_plus_low_minus_two_close_decay_4_3.csv', index_col='date')\n",
    "alpha_4.index = alpha_4.index.astype('datetime64')\n",
    "\n",
    "alpha_5 = pd.read_csv('../best_alphas/algh_alpha_reversion_n_5_.csv', index_col='date')\n",
    "alpha_5.index = alpha_5.index.astype('datetime64')\n"
   ]
  },
  {
   "cell_type": "code",
   "execution_count": 30,
   "metadata": {},
   "outputs": [],
   "source": [
    "pnl_1 = get_pnl(data_returns, alpha_1)\n",
    "pnl_2 = get_pnl(data_returns, alpha_2)\n",
    "pnl_3 = get_pnl(data_returns, alpha_3)\n",
    "pnl_4 = get_pnl(data_returns, alpha_4)\n",
    "pnl_5 = get_pnl(data_returns, alpha_5)\n",
    "pnl_6 = get_pnl(data_returns, algh_alpha_rank_over_rank(n=1, data_volume=data_volume, data_close=data_close, data_open=data_open, cut_middle_coef=0, cut_outliers_coef=0, ranking=False, decaying=False))"
   ]
  },
  {
   "cell_type": "code",
   "execution_count": 43,
   "metadata": {},
   "outputs": [
    {
     "data": {
      "text/html": [
       "<div>\n",
       "<style scoped>\n",
       "    .dataframe tbody tr th:only-of-type {\n",
       "        vertical-align: middle;\n",
       "    }\n",
       "\n",
       "    .dataframe tbody tr th {\n",
       "        vertical-align: top;\n",
       "    }\n",
       "\n",
       "    .dataframe thead th {\n",
       "        text-align: right;\n",
       "    }\n",
       "</style>\n",
       "<table border=\"1\" class=\"dataframe\">\n",
       "  <thead>\n",
       "    <tr style=\"text-align: right;\">\n",
       "      <th></th>\n",
       "      <th>pnl_1</th>\n",
       "      <th>pnl_2</th>\n",
       "      <th>pnl_3</th>\n",
       "      <th>pnl_4</th>\n",
       "      <th>pnl_5</th>\n",
       "    </tr>\n",
       "    <tr>\n",
       "      <th>date</th>\n",
       "      <th></th>\n",
       "      <th></th>\n",
       "      <th></th>\n",
       "      <th></th>\n",
       "      <th></th>\n",
       "    </tr>\n",
       "  </thead>\n",
       "  <tbody>\n",
       "    <tr>\n",
       "      <th>2010-01-04</th>\n",
       "      <td>NaN</td>\n",
       "      <td>NaN</td>\n",
       "      <td>NaN</td>\n",
       "      <td>NaN</td>\n",
       "      <td>NaN</td>\n",
       "    </tr>\n",
       "    <tr>\n",
       "      <th>2010-01-05</th>\n",
       "      <td>NaN</td>\n",
       "      <td>NaN</td>\n",
       "      <td>NaN</td>\n",
       "      <td>NaN</td>\n",
       "      <td>NaN</td>\n",
       "    </tr>\n",
       "    <tr>\n",
       "      <th>2010-01-06</th>\n",
       "      <td>0.000000</td>\n",
       "      <td>0.000000</td>\n",
       "      <td>0.000000</td>\n",
       "      <td>0.000944</td>\n",
       "      <td>0.000000</td>\n",
       "    </tr>\n",
       "    <tr>\n",
       "      <th>2010-01-07</th>\n",
       "      <td>0.000000</td>\n",
       "      <td>0.000000</td>\n",
       "      <td>0.000000</td>\n",
       "      <td>0.003137</td>\n",
       "      <td>0.000000</td>\n",
       "    </tr>\n",
       "    <tr>\n",
       "      <th>2010-01-08</th>\n",
       "      <td>0.000000</td>\n",
       "      <td>0.000000</td>\n",
       "      <td>0.000000</td>\n",
       "      <td>0.000999</td>\n",
       "      <td>0.000000</td>\n",
       "    </tr>\n",
       "    <tr>\n",
       "      <th>...</th>\n",
       "      <td>...</td>\n",
       "      <td>...</td>\n",
       "      <td>...</td>\n",
       "      <td>...</td>\n",
       "      <td>...</td>\n",
       "    </tr>\n",
       "    <tr>\n",
       "      <th>2014-12-24</th>\n",
       "      <td>0.000673</td>\n",
       "      <td>0.001276</td>\n",
       "      <td>0.001785</td>\n",
       "      <td>0.003663</td>\n",
       "      <td>0.003065</td>\n",
       "    </tr>\n",
       "    <tr>\n",
       "      <th>2014-12-26</th>\n",
       "      <td>0.000412</td>\n",
       "      <td>-0.000862</td>\n",
       "      <td>0.001475</td>\n",
       "      <td>0.006001</td>\n",
       "      <td>0.001020</td>\n",
       "    </tr>\n",
       "    <tr>\n",
       "      <th>2014-12-29</th>\n",
       "      <td>-0.001274</td>\n",
       "      <td>0.001868</td>\n",
       "      <td>0.001282</td>\n",
       "      <td>-0.001963</td>\n",
       "      <td>0.001190</td>\n",
       "    </tr>\n",
       "    <tr>\n",
       "      <th>2014-12-30</th>\n",
       "      <td>0.000101</td>\n",
       "      <td>0.000353</td>\n",
       "      <td>0.000711</td>\n",
       "      <td>0.000873</td>\n",
       "      <td>0.001368</td>\n",
       "    </tr>\n",
       "    <tr>\n",
       "      <th>2014-12-31</th>\n",
       "      <td>0.002459</td>\n",
       "      <td>0.003536</td>\n",
       "      <td>0.001845</td>\n",
       "      <td>0.002065</td>\n",
       "      <td>0.004167</td>\n",
       "    </tr>\n",
       "  </tbody>\n",
       "</table>\n",
       "<p>1257 rows × 5 columns</p>\n",
       "</div>"
      ],
      "text/plain": [
       "               pnl_1     pnl_2     pnl_3     pnl_4     pnl_5\n",
       "date                                                        \n",
       "2010-01-04       NaN       NaN       NaN       NaN       NaN\n",
       "2010-01-05       NaN       NaN       NaN       NaN       NaN\n",
       "2010-01-06  0.000000  0.000000  0.000000  0.000944  0.000000\n",
       "2010-01-07  0.000000  0.000000  0.000000  0.003137  0.000000\n",
       "2010-01-08  0.000000  0.000000  0.000000  0.000999  0.000000\n",
       "...              ...       ...       ...       ...       ...\n",
       "2014-12-24  0.000673  0.001276  0.001785  0.003663  0.003065\n",
       "2014-12-26  0.000412 -0.000862  0.001475  0.006001  0.001020\n",
       "2014-12-29 -0.001274  0.001868  0.001282 -0.001963  0.001190\n",
       "2014-12-30  0.000101  0.000353  0.000711  0.000873  0.001368\n",
       "2014-12-31  0.002459  0.003536  0.001845  0.002065  0.004167\n",
       "\n",
       "[1257 rows x 5 columns]"
      ]
     },
     "execution_count": 43,
     "metadata": {},
     "output_type": "execute_result"
    }
   ],
   "source": [
    "pnls_matrix = pd.DataFrame()\n",
    "pnls_matrix['pnl_1'] = pnl_1\n",
    "pnls_matrix['pnl_2'] = pnl_2\n",
    "pnls_matrix['pnl_3'] = pnl_3\n",
    "pnls_matrix['pnl_4'] = pnl_4\n",
    "pnls_matrix['pnl_5'] = pnl_5\n",
    "#pnls_matrix['pnl_6'] = pnl_6\n",
    "pnls_matrix"
   ]
  },
  {
   "cell_type": "code",
   "execution_count": 44,
   "metadata": {},
   "outputs": [
    {
     "data": {
      "image/png": "[encoded data removed]",
      "text/plain": [
       "<Figure size 1200x800 with 2 Axes>"
      ]
     },
     "metadata": {},
     "output_type": "display_data"
    }
   ],
   "source": [
    "plt.figure(figsize=(15,10), dpi=80)\n",
    "sns.heatmap(pnls_matrix.corr(), annot=True)\n",
    "plt.title('Correlogram of mtcars', fontsize=25)\n",
    "plt.xticks(fontsize=15)\n",
    "plt.yticks(fontsize=15)\n",
    "plt.show()"
   ]
  },
  {
   "attachments": {},
   "cell_type": "markdown",
   "metadata": {},
   "source": [
    "### Uniform portfolio"
   ]
  },
  {
   "cell_type": "code",
   "execution_count": 45,
   "metadata": {},
   "outputs": [],
   "source": [
    "portfolio_uniform = (alpha_1 + alpha_2 + alpha_3 + alpha_4 + alpha_5) / 5"
   ]
  },
  {
   "cell_type": "code",
   "execution_count": 46,
   "metadata": {},
   "outputs": [
    {
     "name": "stdout",
     "output_type": "stream",
     "text": [
      "0.5853955576907907\n"
     ]
    },
    {
     "data": {
      "image/png": "[encoded data removed]",
      "text/plain": [
       "<Figure size 640x480 with 1 Axes>"
      ]
     },
     "metadata": {},
     "output_type": "display_data"
    },
    {
     "data": {
      "text/html": [
       "<div>\n",
       "<style scoped>\n",
       "    .dataframe tbody tr th:only-of-type {\n",
       "        vertical-align: middle;\n",
       "    }\n",
       "\n",
       "    .dataframe tbody tr th {\n",
       "        vertical-align: top;\n",
       "    }\n",
       "\n",
       "    .dataframe thead th {\n",
       "        text-align: right;\n",
       "    }\n",
       "</style>\n",
       "<table border=\"1\" class=\"dataframe\">\n",
       "  <thead>\n",
       "    <tr style=\"text-align: right;\">\n",
       "      <th></th>\n",
       "      <th>years_pnl_cum</th>\n",
       "      <th>turnover</th>\n",
       "      <th>sharpe_coef</th>\n",
       "      <th>drawdown</th>\n",
       "      <th>drawdown_day_start</th>\n",
       "      <th>drawdown_day_end</th>\n",
       "    </tr>\n",
       "    <tr>\n",
       "      <th>date</th>\n",
       "      <th></th>\n",
       "      <th></th>\n",
       "      <th></th>\n",
       "      <th></th>\n",
       "      <th></th>\n",
       "      <th></th>\n",
       "    </tr>\n",
       "  </thead>\n",
       "  <tbody>\n",
       "    <tr>\n",
       "      <th>2010</th>\n",
       "      <td>0.155290</td>\n",
       "      <td>0.448493</td>\n",
       "      <td>3.967029</td>\n",
       "      <td>0.018224</td>\n",
       "      <td>28.10.2010</td>\n",
       "      <td>11.11.2010</td>\n",
       "    </tr>\n",
       "    <tr>\n",
       "      <th>2011</th>\n",
       "      <td>0.173679</td>\n",
       "      <td>0.467343</td>\n",
       "      <td>3.162428</td>\n",
       "      <td>0.024529</td>\n",
       "      <td>03.01.2011</td>\n",
       "      <td>13.01.2011</td>\n",
       "    </tr>\n",
       "    <tr>\n",
       "      <th>2012</th>\n",
       "      <td>0.134184</td>\n",
       "      <td>0.465794</td>\n",
       "      <td>1.708085</td>\n",
       "      <td>0.038800</td>\n",
       "      <td>12.11.2012</td>\n",
       "      <td>15.11.2012</td>\n",
       "    </tr>\n",
       "    <tr>\n",
       "      <th>2013</th>\n",
       "      <td>0.092209</td>\n",
       "      <td>0.464791</td>\n",
       "      <td>1.280589</td>\n",
       "      <td>0.032262</td>\n",
       "      <td>22.03.2013</td>\n",
       "      <td>17.04.2013</td>\n",
       "    </tr>\n",
       "    <tr>\n",
       "      <th>2014</th>\n",
       "      <td>0.030034</td>\n",
       "      <td>0.437866</td>\n",
       "      <td>0.737930</td>\n",
       "      <td>0.043917</td>\n",
       "      <td>27.08.2014</td>\n",
       "      <td>15.12.2014</td>\n",
       "    </tr>\n",
       "  </tbody>\n",
       "</table>\n",
       "</div>"
      ],
      "text/plain": [
       "      years_pnl_cum  turnover  sharpe_coef  drawdown drawdown_day_start drawdown_day_end\n",
       "date                                                                                    \n",
       "2010       0.155290  0.448493     3.967029  0.018224         28.10.2010       11.11.2010\n",
       "2011       0.173679  0.467343     3.162428  0.024529         03.01.2011       13.01.2011\n",
       "2012       0.134184  0.465794     1.708085  0.038800         12.11.2012       15.11.2012\n",
       "2013       0.092209  0.464791     1.280589  0.032262         22.03.2013       17.04.2013\n",
       "2014       0.030034  0.437866     0.737930  0.043917         27.08.2014       15.12.2014"
      ]
     },
     "execution_count": 46,
     "metadata": {},
     "output_type": "execute_result"
    }
   ],
   "source": [
    "alpha_stats(data_returns, portfolio_uniform)"
   ]
  },
  {
   "attachments": {},
   "cell_type": "markdown",
   "metadata": {},
   "source": [
    "### X ~ sharpe"
   ]
  },
  {
   "attachments": {},
   "cell_type": "markdown",
   "metadata": {},
   "source": [
    "$$ X_{i}(y) = {sharpe(\\alpha_{i}, y-1) \\over k(y-1)}$$\n",
    "$$ k(y) = \\sum_{i=1}^{n} sharpe(\\alpha_{i}, y) $$"
   ]
  },
  {
   "cell_type": "code",
   "execution_count": 47,
   "metadata": {},
   "outputs": [],
   "source": [
    "def get_portfolio_sharpe(data_returns, *args):\n",
    "    years = np.array((data_returns.groupby(data_returns.index.year).size())).cumsum()\n",
    "    portfolio_sharpe = pd.DataFrame(np.zeros(data_returns.shape))\n",
    "    portfolio_sharpe.index = data_returns.index\n",
    "    portfolio_sharpe.columns = data_returns.columns\n",
    "    portfolio_sharpe.iloc[:years[0]] = (sum(args) / 5).iloc[:years[0]]\n",
    "    # проход по годам\n",
    "    for i in range(1, len(years)):\n",
    "        X = np.zeros(len(args))\n",
    "        # проход по альфам\n",
    "        for j in range(len(args)):\n",
    "            X[j] = get_sharpe_coef(get_pnl(data_returns, args[j])).iloc[i - 1]\n",
    "            portfolio_sharpe.iloc[years[i - 1] : years[i]] += args[j].iloc[years[i - 1] : years[i]] * X[j]\n",
    "        portfolio_sharpe.iloc[years[i - 1] : years[i]] /= X.sum()\n",
    "    return portfolio_sharpe"
   ]
  },
  {
   "cell_type": "code",
   "execution_count": 48,
   "metadata": {},
   "outputs": [
    {
     "name": "stdout",
     "output_type": "stream",
     "text": [
      "0.6149978488322203\n"
     ]
    },
    {
     "data": {
      "image/png": "[encoded data removed]",
      "text/plain": [
       "<Figure size 640x480 with 1 Axes>"
      ]
     },
     "metadata": {},
     "output_type": "display_data"
    },
    {
     "data": {
      "text/html": [
       "<div>\n",
       "<style scoped>\n",
       "    .dataframe tbody tr th:only-of-type {\n",
       "        vertical-align: middle;\n",
       "    }\n",
       "\n",
       "    .dataframe tbody tr th {\n",
       "        vertical-align: top;\n",
       "    }\n",
       "\n",
       "    .dataframe thead th {\n",
       "        text-align: right;\n",
       "    }\n",
       "</style>\n",
       "<table border=\"1\" class=\"dataframe\">\n",
       "  <thead>\n",
       "    <tr style=\"text-align: right;\">\n",
       "      <th></th>\n",
       "      <th>years_pnl_cum</th>\n",
       "      <th>turnover</th>\n",
       "      <th>sharpe_coef</th>\n",
       "      <th>drawdown</th>\n",
       "      <th>drawdown_day_start</th>\n",
       "      <th>drawdown_day_end</th>\n",
       "    </tr>\n",
       "    <tr>\n",
       "      <th>date</th>\n",
       "      <th></th>\n",
       "      <th></th>\n",
       "      <th></th>\n",
       "      <th></th>\n",
       "      <th></th>\n",
       "      <th></th>\n",
       "    </tr>\n",
       "  </thead>\n",
       "  <tbody>\n",
       "    <tr>\n",
       "      <th>2010</th>\n",
       "      <td>0.155290</td>\n",
       "      <td>0.448493</td>\n",
       "      <td>3.967029</td>\n",
       "      <td>0.018224</td>\n",
       "      <td>28.10.2010</td>\n",
       "      <td>11.11.2010</td>\n",
       "    </tr>\n",
       "    <tr>\n",
       "      <th>2011</th>\n",
       "      <td>0.185011</td>\n",
       "      <td>0.521334</td>\n",
       "      <td>3.394931</td>\n",
       "      <td>0.023562</td>\n",
       "      <td>03.01.2011</td>\n",
       "      <td>14.01.2011</td>\n",
       "    </tr>\n",
       "    <tr>\n",
       "      <th>2012</th>\n",
       "      <td>0.139741</td>\n",
       "      <td>0.545395</td>\n",
       "      <td>1.736387</td>\n",
       "      <td>0.030711</td>\n",
       "      <td>11.07.2012</td>\n",
       "      <td>07.08.2012</td>\n",
       "    </tr>\n",
       "    <tr>\n",
       "      <th>2013</th>\n",
       "      <td>0.083909</td>\n",
       "      <td>0.547541</td>\n",
       "      <td>2.168258</td>\n",
       "      <td>0.019155</td>\n",
       "      <td>22.03.2013</td>\n",
       "      <td>17.04.2013</td>\n",
       "    </tr>\n",
       "    <tr>\n",
       "      <th>2014</th>\n",
       "      <td>0.051047</td>\n",
       "      <td>0.527507</td>\n",
       "      <td>1.138626</td>\n",
       "      <td>0.049336</td>\n",
       "      <td>28.08.2014</td>\n",
       "      <td>15.12.2014</td>\n",
       "    </tr>\n",
       "  </tbody>\n",
       "</table>\n",
       "</div>"
      ],
      "text/plain": [
       "      years_pnl_cum  turnover  sharpe_coef  drawdown drawdown_day_start drawdown_day_end\n",
       "date                                                                                    \n",
       "2010       0.155290  0.448493     3.967029  0.018224         28.10.2010       11.11.2010\n",
       "2011       0.185011  0.521334     3.394931  0.023562         03.01.2011       14.01.2011\n",
       "2012       0.139741  0.545395     1.736387  0.030711         11.07.2012       07.08.2012\n",
       "2013       0.083909  0.547541     2.168258  0.019155         22.03.2013       17.04.2013\n",
       "2014       0.051047  0.527507     1.138626  0.049336         28.08.2014       15.12.2014"
      ]
     },
     "execution_count": 48,
     "metadata": {},
     "output_type": "execute_result"
    }
   ],
   "source": [
    "alpha_stats(data_returns, get_portfolio_sharpe(data_returns, alpha_1, alpha_2, alpha_3, alpha_4, alpha_5))"
   ]
  },
  {
   "attachments": {},
   "cell_type": "markdown",
   "metadata": {},
   "source": [
    "### X ~ returns (cumpnl)\n",
    "\n",
    "$$ X_{i}(y) = {cumPnl(\\alpha_{i}, y-1) \\over k(y-1)}$$\n",
    "$$ k(y) = \\sum_{i=1}^{n} cumPnl(\\alpha_{i}, y) $$"
   ]
  },
  {
   "cell_type": "code",
   "execution_count": 49,
   "metadata": {},
   "outputs": [],
   "source": [
    "def get_portfolio_cumpnl(data_returns, *args):\n",
    "    years = np.array((data_returns.groupby(data_returns.index.year).size())).cumsum()\n",
    "    portfolio_sharpe = pd.DataFrame(np.zeros(data_returns.shape))\n",
    "    portfolio_sharpe.index = data_returns.index\n",
    "    portfolio_sharpe.columns = data_returns.columns\n",
    "    portfolio_sharpe.iloc[:years[0]] = (sum(args) / 5).iloc[:years[0]]\n",
    "    # проход по годам\n",
    "    for i in range(1, len(years)):\n",
    "        X = np.zeros(len(args))\n",
    "        # проход по альфам\n",
    "        for j in range(len(args)):\n",
    "            X[j] = get_pnl(data_returns, args[j], 1).iloc[i - 1]\n",
    "            portfolio_sharpe.iloc[years[i - 1] : years[i]] += args[j].iloc[years[i - 1] : years[i]] * X[j]\n",
    "        portfolio_sharpe.iloc[years[i - 1] : years[i]] /= X.sum()\n",
    "    return portfolio_sharpe"
   ]
  },
  {
   "cell_type": "code",
   "execution_count": 50,
   "metadata": {},
   "outputs": [
    {
     "name": "stdout",
     "output_type": "stream",
     "text": [
      "0.575353740606511\n"
     ]
    },
    {
     "data": {
      "image/png": "[encoded data removed]",
      "text/plain": [
       "<Figure size 640x480 with 1 Axes>"
      ]
     },
     "metadata": {},
     "output_type": "display_data"
    },
    {
     "data": {
      "text/html": [
       "<div>\n",
       "<style scoped>\n",
       "    .dataframe tbody tr th:only-of-type {\n",
       "        vertical-align: middle;\n",
       "    }\n",
       "\n",
       "    .dataframe tbody tr th {\n",
       "        vertical-align: top;\n",
       "    }\n",
       "\n",
       "    .dataframe thead th {\n",
       "        text-align: right;\n",
       "    }\n",
       "</style>\n",
       "<table border=\"1\" class=\"dataframe\">\n",
       "  <thead>\n",
       "    <tr style=\"text-align: right;\">\n",
       "      <th></th>\n",
       "      <th>years_pnl_cum</th>\n",
       "      <th>turnover</th>\n",
       "      <th>sharpe_coef</th>\n",
       "      <th>drawdown</th>\n",
       "      <th>drawdown_day_start</th>\n",
       "      <th>drawdown_day_end</th>\n",
       "    </tr>\n",
       "    <tr>\n",
       "      <th>date</th>\n",
       "      <th></th>\n",
       "      <th></th>\n",
       "      <th></th>\n",
       "      <th></th>\n",
       "      <th></th>\n",
       "      <th></th>\n",
       "    </tr>\n",
       "  </thead>\n",
       "  <tbody>\n",
       "    <tr>\n",
       "      <th>2010</th>\n",
       "      <td>0.155290</td>\n",
       "      <td>0.448493</td>\n",
       "      <td>3.967029</td>\n",
       "      <td>0.018224</td>\n",
       "      <td>28.10.2010</td>\n",
       "      <td>11.11.2010</td>\n",
       "    </tr>\n",
       "    <tr>\n",
       "      <th>2011</th>\n",
       "      <td>0.184521</td>\n",
       "      <td>0.517947</td>\n",
       "      <td>3.403676</td>\n",
       "      <td>0.023198</td>\n",
       "      <td>03.01.2011</td>\n",
       "      <td>13.01.2011</td>\n",
       "    </tr>\n",
       "    <tr>\n",
       "      <th>2012</th>\n",
       "      <td>0.136670</td>\n",
       "      <td>0.540852</td>\n",
       "      <td>1.748531</td>\n",
       "      <td>0.030735</td>\n",
       "      <td>12.11.2012</td>\n",
       "      <td>15.11.2012</td>\n",
       "    </tr>\n",
       "    <tr>\n",
       "      <th>2013</th>\n",
       "      <td>0.068968</td>\n",
       "      <td>0.492053</td>\n",
       "      <td>1.052115</td>\n",
       "      <td>0.030575</td>\n",
       "      <td>22.03.2013</td>\n",
       "      <td>17.04.2013</td>\n",
       "    </tr>\n",
       "    <tr>\n",
       "      <th>2014</th>\n",
       "      <td>0.029906</td>\n",
       "      <td>0.438897</td>\n",
       "      <td>0.711149</td>\n",
       "      <td>0.043854</td>\n",
       "      <td>11.09.2014</td>\n",
       "      <td>15.12.2014</td>\n",
       "    </tr>\n",
       "  </tbody>\n",
       "</table>\n",
       "</div>"
      ],
      "text/plain": [
       "      years_pnl_cum  turnover  sharpe_coef  drawdown drawdown_day_start drawdown_day_end\n",
       "date                                                                                    \n",
       "2010       0.155290  0.448493     3.967029  0.018224         28.10.2010       11.11.2010\n",
       "2011       0.184521  0.517947     3.403676  0.023198         03.01.2011       13.01.2011\n",
       "2012       0.136670  0.540852     1.748531  0.030735         12.11.2012       15.11.2012\n",
       "2013       0.068968  0.492053     1.052115  0.030575         22.03.2013       17.04.2013\n",
       "2014       0.029906  0.438897     0.711149  0.043854         11.09.2014       15.12.2014"
      ]
     },
     "execution_count": 50,
     "metadata": {},
     "output_type": "execute_result"
    }
   ],
   "source": [
    "alpha_stats(data_returns, get_portfolio_cumpnl(data_returns, alpha_1, alpha_2, alpha_3, alpha_4, alpha_5))"
   ]
  },
  {
   "attachments": {},
   "cell_type": "markdown",
   "metadata": {},
   "source": [
    "### X ~ sharpe \\over corr"
   ]
  },
  {
   "cell_type": "code",
   "execution_count": 39,
   "metadata": {},
   "outputs": [],
   "source": [
    "alphas = [alpha_1, alpha_2, alpha_3, alpha_4, alpha_5]"
   ]
  },
  {
   "cell_type": "code",
   "execution_count": 40,
   "metadata": {},
   "outputs": [],
   "source": [
    "years = np.array((data_returns.groupby(data_returns.index.year).size())).cumsum()\n",
    "portfolio_sharpe = pd.DataFrame(np.zeros(data_returns.shape))\n",
    "portfolio_sharpe.index = data_returns.index\n",
    "portfolio_sharpe.columns = data_returns.columns\n",
    "portfolio_sharpe.iloc[:years[0]] = (sum(alphas) / 5).iloc[:years[0]]\n",
    "# проход по годам\n",
    "for i in range(1, len(years)):\n",
    "    X = np.zeros(len(alphas))\n",
    "    # проход по альфам\n",
    "    for j in range(len(alphas)):\n",
    "        X[j] = get_pnl(data_returns, alphas[j], 1).iloc[i]\n",
    "        portfolio_sharpe.iloc[years[i - 1] : years[i]] += alphas[j].iloc[years[i - 1] : years[i]] * X[j]\n",
    "    portfolio_sharpe.iloc[years[i - 1] : years[i]] /= X.sum()"
   ]
  }
 ],
 "metadata": {
  "kernelspec": {
   "display_name": "env",
   "language": "python",
   "name": "python3"
  },
  "language_info": {
   "codemirror_mode": {
    "name": "ipython",
    "version": 3
   },
   "file_extension": ".py",
   "mimetype": "text/x-python",
   "name": "python",
   "nbconvert_exporter": "python",
   "pygments_lexer": "ipython3",
   "version": "3.10.9"
  },
  "orig_nbformat": 4,
  "vscode": {
   "interpreter": {
    "hash": "6adf11b20df8b67667ce4d679979abaa8bc2408a2827d6efeadc4d9618f7bafb"
   }
  }
 },
 "nbformat": 4,
 "nbformat_minor": 2
}
