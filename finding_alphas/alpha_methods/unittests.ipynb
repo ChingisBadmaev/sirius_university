{
 "cells": [
  {
   "cell_type": "code",
   "execution_count": 1,
   "metadata": {},
   "outputs": [],
   "source": [
    "import pandas as pd\n",
    "import numpy as np\n",
    "from scipy import stats\n",
    "import matplotlib.pyplot as plt\n",
    "import matplotlib.ticker as ticker\n",
    "import alphamethods as am"
   ]
  },
  {
   "cell_type": "code",
   "execution_count": 2,
   "metadata": {},
   "outputs": [
    {
     "data": {
      "text/plain": [
       "array([[    nan,     nan,     nan, ...,     nan,     nan,     nan],\n",
       "       [    nan,  20.225,  20.858, ...,  47.72 ,  47.682,  47.295],\n",
       "       [    nan,  22.355,  22.589, ...,  41.219,  40.509,  40.116],\n",
       "       ...,\n",
       "       [    nan,  18.69 ,  18.78 , ...,  27.525,  27.465,  27.088],\n",
       "       [    nan, 303.66 , 301.2  , ...,  34.65 ,  31.5  ,  32.55 ],\n",
       "       [    nan,  12.231,  12.305, ...,  14.463,  14.493,  14.532]])"
      ]
     },
     "execution_count": 2,
     "metadata": {},
     "output_type": "execute_result"
    }
   ],
   "source": [
    "data_arr = np.genfromtxt(\"../data/Close.csv\", delimiter=',')\n",
    "data_arr"
   ]
  },
  {
   "cell_type": "code",
   "execution_count": 3,
   "metadata": {},
   "outputs": [
    {
     "data": {
      "text/plain": [
       "array([[ 20.225 ,  20.858 ,  20.612 , ...,  47.72  ,  47.682 ,  47.295 ],\n",
       "       [ 22.355 ,  22.589 ,  22.637 , ...,  41.219 ,  40.509 ,  40.116 ],\n",
       "       [  9.3094,   9.1551,   9.0008, ...,  17.816 ,  17.388 ,  17.529 ],\n",
       "       ...,\n",
       "       [ 18.69  ,  18.78  ,  18.89  , ...,  27.525 ,  27.465 ,  27.088 ],\n",
       "       [303.66  , 301.2   , 302.01  , ...,  34.65  ,  31.5   ,  32.55  ],\n",
       "       [ 12.231 ,  12.305 ,  12.395 , ...,  14.463 ,  14.493 ,  14.532 ]])"
      ]
     },
     "execution_count": 3,
     "metadata": {},
     "output_type": "execute_result"
    }
   ],
   "source": [
    "data_arr = np.delete(np.delete(data_arr, 0, 0), 0, 1)\n",
    "data_arr"
   ]
  },
  {
   "cell_type": "code",
   "execution_count": 4,
   "metadata": {},
   "outputs": [
    {
     "data": {
      "text/plain": [
       "array([[1.0312979 , 0.98820596, 1.0034446 , ..., 0.99561861, 0.99920369,\n",
       "        0.99188373],\n",
       "       [1.01046746, 1.00212493, 0.98374343, ..., 0.99934539, 0.98277493,\n",
       "        0.99029845],\n",
       "       [0.98342536, 0.98314601, 1.00218869, ..., 1.00462389, 0.97597665,\n",
       "        1.00810904],\n",
       "       ...,\n",
       "       [1.00481541, 1.00585729, 1.01508735, ..., 1.00728244, 0.99782016,\n",
       "        0.98627344],\n",
       "       [0.99189883, 1.00268924, 0.96923943, ..., 0.97058824, 0.90909091,\n",
       "        1.03333333],\n",
       "       [1.0060502 , 1.0073141 , 0.99596612, ..., 0.99724195, 1.00207426,\n",
       "        1.00269095]])"
      ]
     },
     "execution_count": 4,
     "metadata": {},
     "output_type": "execute_result"
    }
   ],
   "source": [
    "am.get_returns(data_arr)"
   ]
  },
  {
   "cell_type": "code",
   "execution_count": 5,
   "metadata": {},
   "outputs": [
    {
     "name": "stdout",
     "output_type": "stream",
     "text": [
      "[ 178  185  565  569  592  592  772 1315 1528 1657 1805 2144 2313]\n",
      "[ 901  679 1046  255  177  747  273  566  154  305  855  982  903]\n",
      "correct wrong values\n",
      "[569 772]\n",
      "[254 272]\n"
     ]
    }
   ],
   "source": [
    "print(np.where(am.get_returns(data_arr) >= 8)[0])\n",
    "print(np.where(am.get_returns(data_arr) >= 8)[1])\n",
    "print('correct wrong values')\n",
    "am.correct_wrong_values(data_arr)\n",
    "print(np.where(am.get_returns(data_arr) >= 8)[0])\n",
    "print(np.where(am.get_returns(data_arr) >= 8)[1])"
   ]
  }
 ],
 "metadata": {
  "kernelspec": {
   "display_name": "env",
   "language": "python",
   "name": "python3"
  },
  "language_info": {
   "codemirror_mode": {
    "name": "ipython",
    "version": 3
   },
   "file_extension": ".py",
   "mimetype": "text/x-python",
   "name": "python",
   "nbconvert_exporter": "python",
   "pygments_lexer": "ipython3",
   "version": "3.10.9"
  },
  "orig_nbformat": 4,
  "vscode": {
   "interpreter": {
    "hash": "6adf11b20df8b67667ce4d679979abaa8bc2408a2827d6efeadc4d9618f7bafb"
   }
  }
 },
 "nbformat": 4,
 "nbformat_minor": 2
}
