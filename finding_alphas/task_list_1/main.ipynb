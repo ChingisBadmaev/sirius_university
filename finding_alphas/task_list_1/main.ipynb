{
 "cells": [
  {
   "cell_type": "code",
   "execution_count": 1,
   "metadata": {},
   "outputs": [],
   "source": [
    "import pandas as pd\n",
    "import numpy as np\n",
    "from scipy import stats\n",
    "import matplotlib.pyplot as plt\n",
    "import matplotlib.ticker as ticker\n",
    "import scipy"
   ]
  },
  {
   "cell_type": "code",
   "execution_count": 2,
   "metadata": {},
   "outputs": [
    {
     "data": {
      "text/plain": [
       "array([[    nan,     nan,     nan, ...,     nan,     nan,     nan],\n",
       "       [    nan,  20.225,  20.858, ...,  47.72 ,  47.682,  47.295],\n",
       "       [    nan,  22.355,  22.589, ...,  41.219,  40.509,  40.116],\n",
       "       ...,\n",
       "       [    nan,  18.69 ,  18.78 , ...,  27.525,  27.465,  27.088],\n",
       "       [    nan, 303.66 , 301.2  , ...,  34.65 ,  31.5  ,  32.55 ],\n",
       "       [    nan,  12.231,  12.305, ...,  14.463,  14.493,  14.532]])"
      ]
     },
     "execution_count": 2,
     "metadata": {},
     "output_type": "execute_result"
    }
   ],
   "source": [
    "data_arr = np.genfromtxt(\"../data/Close.csv\", delimiter=',')\n",
    "data_arr"
   ]
  },
  {
   "cell_type": "code",
   "execution_count": 3,
   "metadata": {},
   "outputs": [
    {
     "data": {
      "text/plain": [
       "array([[ 20.225 ,  20.858 ,  20.612 , ...,  47.72  ,  47.682 ,  47.295 ],\n",
       "       [ 22.355 ,  22.589 ,  22.637 , ...,  41.219 ,  40.509 ,  40.116 ],\n",
       "       [  9.3094,   9.1551,   9.0008, ...,  17.816 ,  17.388 ,  17.529 ],\n",
       "       ...,\n",
       "       [ 18.69  ,  18.78  ,  18.89  , ...,  27.525 ,  27.465 ,  27.088 ],\n",
       "       [303.66  , 301.2   , 302.01  , ...,  34.65  ,  31.5   ,  32.55  ],\n",
       "       [ 12.231 ,  12.305 ,  12.395 , ...,  14.463 ,  14.493 ,  14.532 ]])"
      ]
     },
     "execution_count": 3,
     "metadata": {},
     "output_type": "execute_result"
    }
   ],
   "source": [
    "data_arr = np.delete(np.delete(data_arr, 0, 0), 0, 1)\n",
    "data_arr"
   ]
  },
  {
   "attachments": {},
   "cell_type": "markdown",
   "metadata": {},
   "source": [
    "### Task 0"
   ]
  },
  {
   "cell_type": "code",
   "execution_count": 4,
   "metadata": {},
   "outputs": [],
   "source": [
    "def get_returns(data):\n",
    "    temp = np.lib.stride_tricks.sliding_window_view(data, (1,2))\n",
    "    lambda_returns = lambda x: x[..., 1] / x[..., 0]\n",
    "    returns = lambda_returns(temp).reshape(data_arr.shape[0], data_arr.shape[1] - 1)\n",
    "    return returns"
   ]
  },
  {
   "cell_type": "code",
   "execution_count": 5,
   "metadata": {},
   "outputs": [],
   "source": [
    "def correct_wrong_values(data, scale):\n",
    "    err_coord_low = np.where(get_returns(data) <= (1 / scale))\n",
    "    err_coord_high = np.where(get_returns(data) >= scale)\n",
    "    for i in range(len(err_coord_low[0])):\n",
    "        id_low_0 = err_coord_low[0][i]\n",
    "        id_low_1 = err_coord_low[1][i]\n",
    "        \n",
    "        id_high_0 = err_coord_high[0][i]\n",
    "        id_high_1 = err_coord_high[1][i]\n",
    "\n",
    "        if 0.5 < data[id_high_0][id_low_1] / data[id_high_0][id_high_1 + 1] < 2:        # if the price has dropped\n",
    "            data[id_high_0][id_high_1] = data[id_high_0][id_high_1 + 1]\n",
    "\n",
    "        if 0.5 < data[id_high_0][id_high_1] / data[id_high_0][id_low_1 + 1] < 2:        # If the price went up\n",
    "            data[id_high_0][id_low_1] = data[id_high_0][id_low_1 + 1]"
   ]
  },
  {
   "attachments": {},
   "cell_type": "markdown",
   "metadata": {},
   "source": [
    "##### test "
   ]
  },
  {
   "cell_type": "code",
   "execution_count": 6,
   "metadata": {},
   "outputs": [
    {
     "data": {
      "text/plain": [
       "array([[1.0312979 , 0.98820596, 1.0034446 , ..., 0.99561861, 0.99920369,\n",
       "        0.99188373],\n",
       "       [1.01046746, 1.00212493, 0.98374343, ..., 0.99934539, 0.98277493,\n",
       "        0.99029845],\n",
       "       [0.98342536, 0.98314601, 1.00218869, ..., 1.00462389, 0.97597665,\n",
       "        1.00810904],\n",
       "       ...,\n",
       "       [1.00481541, 1.00585729, 1.01508735, ..., 1.00728244, 0.99782016,\n",
       "        0.98627344],\n",
       "       [0.99189883, 1.00268924, 0.96923943, ..., 0.97058824, 0.90909091,\n",
       "        1.03333333],\n",
       "       [1.0060502 , 1.0073141 , 0.99596612, ..., 0.99724195, 1.00207426,\n",
       "        1.00269095]])"
      ]
     },
     "execution_count": 6,
     "metadata": {},
     "output_type": "execute_result"
    }
   ],
   "source": [
    "data_returns = get_returns(data_arr)\n",
    "data_returns"
   ]
  },
  {
   "cell_type": "code",
   "execution_count": 9,
   "metadata": {},
   "outputs": [
    {
     "name": "stdout",
     "output_type": "stream",
     "text": [
      "[ 178  185  565  569  592  592  772 1315 1528 1657 1805 2144 2313]\n",
      "[ 901  679 1046  255  177  747  273  566  154  305  855  982  903]\n",
      "correct wrong values\n",
      "[569 772]\n",
      "[254 272]\n"
     ]
    }
   ],
   "source": [
    "scale = 9\n",
    "print(np.where(get_returns(data_arr) >= scale)[0])\n",
    "print(np.where(get_returns(data_arr) >= scale)[1])\n",
    "print('correct wrong values')\n",
    "correct_wrong_values(data_arr, scale)\n",
    "print(np.where(get_returns(data_arr) >= scale)[0])\n",
    "print(np.where(get_returns(data_arr) >= scale)[1])"
   ]
  },
  {
   "attachments": {},
   "cell_type": "markdown",
   "metadata": {},
   "source": [
    "### Task 1"
   ]
  },
  {
   "cell_type": "code",
   "execution_count": 12,
   "metadata": {},
   "outputs": [],
   "source": [
    "def neutralize(alpha):\n",
    "    return alpha - np.mean(alpha)"
   ]
  },
  {
   "attachments": {},
   "cell_type": "markdown",
   "metadata": {},
   "source": [
    "##### test"
   ]
  },
  {
   "cell_type": "code",
   "execution_count": 67,
   "metadata": {},
   "outputs": [
    {
     "name": "stdout",
     "output_type": "stream",
     "text": [
      "[-11.    3.1   2.   10.    4.    5.    6.    7.   10. ]\n",
      "neutralize\n",
      "0.0\n"
     ]
    }
   ],
   "source": [
    "alpha = np.array([-11, 3.1, 2, 10, 4, 5, 6, 7, 10])\n",
    "print(alpha)\n",
    "print('neutralize')\n",
    "print(sum(neutralize(alpha)))"
   ]
  },
  {
   "attachments": {},
   "cell_type": "markdown",
   "metadata": {},
   "source": [
    "### Task 2"
   ]
  },
  {
   "cell_type": "code",
   "execution_count": 14,
   "metadata": {},
   "outputs": [],
   "source": [
    "def normalize(alpha):\n",
    "    return alpha / np.sum(alpha)"
   ]
  },
  {
   "attachments": {},
   "cell_type": "markdown",
   "metadata": {},
   "source": [
    "test"
   ]
  },
  {
   "cell_type": "code",
   "execution_count": 68,
   "metadata": {},
   "outputs": [
    {
     "name": "stdout",
     "output_type": "stream",
     "text": [
      "[-11.    3.1   2.   10.    4.    5.    6.    7.   10. ]\n",
      "normalize\n",
      "1.0\n"
     ]
    }
   ],
   "source": [
    "alpha = np.array([-11, 3.1, 2, 10, 4, 5, 6, 7, 10])\n",
    "print(alpha)\n",
    "print('normalize')\n",
    "print(sum(normalize(alpha)))"
   ]
  },
  {
   "attachments": {},
   "cell_type": "markdown",
   "metadata": {},
   "source": [
    "### Task 3"
   ]
  },
  {
   "cell_type": "code",
   "execution_count": 64,
   "metadata": {},
   "outputs": [],
   "source": [
    "def truncate(alpha, coef):\n",
    "    max_weight = max(np.abs(alpha))\n",
    "    signs = (alpha / np.abs(alpha))\n",
    "    alpha[np.abs(alpha) > max_weight * coef] = max_weight * coef\n",
    "    alpha = alpha * signs\n",
    "    return alpha"
   ]
  },
  {
   "cell_type": "code",
   "execution_count": 19,
   "metadata": {},
   "outputs": [
    {
     "name": "stdout",
     "output_type": "stream",
     "text": [
      "[-11.    3.1   2.   10.    4.    5.    6.    7.   10. ]\n",
      "truncate\n"
     ]
    },
    {
     "ename": "NameError",
     "evalue": "name 'truncate' is not defined",
     "output_type": "error",
     "traceback": [
      "\u001b[0;31m---------------------------------------------------------------------------\u001b[0m",
      "\u001b[0;31mNameError\u001b[0m                                 Traceback (most recent call last)",
      "Cell \u001b[0;32mIn[19], line 5\u001b[0m\n\u001b[1;32m      3\u001b[0m \u001b[39mprint\u001b[39m(alpha)\n\u001b[1;32m      4\u001b[0m \u001b[39mprint\u001b[39m(\u001b[39m'\u001b[39m\u001b[39mtruncate\u001b[39m\u001b[39m'\u001b[39m)\n\u001b[0;32m----> 5\u001b[0m \u001b[39mprint\u001b[39m(truncate(alpha))\n",
      "\u001b[0;31mNameError\u001b[0m: name 'truncate' is not defined"
     ]
    }
   ],
   "source": [
    "alpha = np.array([-11, 3.1, 2, 10, 4, 5, 6, 7, 10])\n",
    "coef = 0.9\n",
    "print(alpha)\n",
    "print('truncate')\n",
    "print(truncate(alpha))"
   ]
  },
  {
   "attachments": {},
   "cell_type": "markdown",
   "metadata": {},
   "source": [
    "### Task4"
   ]
  },
  {
   "cell_type": "code",
   "execution_count": 80,
   "metadata": {},
   "outputs": [],
   "source": [
    "def get_returns(data):\n",
    "    temp = np.lib.stride_tricks.sliding_window_view(data, (1,2))\n",
    "    lambda_returns = lambda x: x[..., 1] / x[..., 0]\n",
    "    returns = lambda_returns(temp).reshape(data_arr.shape[0], data_arr.shape[1] - 1)\n",
    "    return returns"
   ]
  },
  {
   "cell_type": "code",
   "execution_count": 83,
   "metadata": {},
   "outputs": [
    {
     "name": "stdout",
     "output_type": "stream",
     "text": [
      "[[ 20.225   20.858   20.612  ...  47.72    47.682   47.295 ]\n",
      " [ 22.355   22.589   22.637  ...  41.219   40.509   40.116 ]\n",
      " [  9.3094   9.1551   9.0008 ...  17.816   17.388   17.529 ]\n",
      " ...\n",
      " [ 18.69    18.78    18.89   ...  27.525   27.465   27.088 ]\n",
      " [303.66   301.2    302.01   ...  34.65    31.5     32.55  ]\n",
      " [ 12.231   12.305   12.395  ...  14.463   14.493   14.532 ]]\n",
      "get_returns\n",
      "[[1.0312979  0.98820596 1.0034446  ... 0.99561861 0.99920369 0.99188373]\n",
      " [1.01046746 1.00212493 0.98374343 ... 0.99934539 0.98277493 0.99029845]\n",
      " [0.98342536 0.98314601 1.00218869 ... 1.00462389 0.97597665 1.00810904]\n",
      " ...\n",
      " [1.00481541 1.00585729 1.01508735 ... 1.00728244 0.99782016 0.98627344]\n",
      " [0.99189883 1.00268924 0.96923943 ... 0.97058824 0.90909091 1.03333333]\n",
      " [1.0060502  1.0073141  0.99596612 ... 0.99724195 1.00207426 1.00269095]]\n"
     ]
    }
   ],
   "source": [
    "print(data_arr)\n",
    "print('get_returns')\n",
    "print(get_returns(data_arr))"
   ]
  },
  {
   "attachments": {},
   "cell_type": "markdown",
   "metadata": {},
   "source": [
    "### Task5"
   ]
  },
  {
   "cell_type": "code",
   "execution_count": 12,
   "metadata": {},
   "outputs": [],
   "source": [
    "def ranking(alpha):\n",
    "    alpha = scipy.stats.rankdata(alpha, method='ordinal') / (len(alpha) - 1)\n",
    "    return alpha"
   ]
  },
  {
   "cell_type": "code",
   "execution_count": 13,
   "metadata": {},
   "outputs": [
    {
     "name": "stdout",
     "output_type": "stream",
     "text": [
      "[-11.    3.1   2.   10.    4.    5.    6.    7.   10. ]\n",
      "ranking\n",
      "[0.125 0.375 0.25  1.    0.5   0.625 0.75  0.875 1.125]\n"
     ]
    }
   ],
   "source": [
    "alpha = np.array([-11, 3.1, 2, 10, 4, 5, 6, 7, 10])\n",
    "print(alpha)\n",
    "print('ranking')\n",
    "print(ranking(alpha))"
   ]
  },
  {
   "attachments": {},
   "cell_type": "markdown",
   "metadata": {},
   "source": [
    "### Task 6"
   ]
  },
  {
   "cell_type": "code",
   "execution_count": 17,
   "metadata": {},
   "outputs": [],
   "source": [
    "def cut_outliers(alpha, coef):\n",
    "    alpha[alpha < np.quantile(alpha, coef)] = 0\n",
    "    alpha[alpha > np.quantile(alpha, 1 - coef)] = 0\n",
    "    return alpha"
   ]
  },
  {
   "attachments": {},
   "cell_type": "markdown",
   "metadata": {},
   "source": [
    "##### test\n"
   ]
  },
  {
   "cell_type": "code",
   "execution_count": 22,
   "metadata": {},
   "outputs": [
    {
     "name": "stdout",
     "output_type": "stream",
     "text": [
      "[-11.    3.1   2.   10.    4.    5.    6.    7.   10.   12. ]\n",
      "cut_outliers\n",
      "[ 0.   3.1  2.  10.   4.   5.   6.   7.  10.   0. ]\n"
     ]
    }
   ],
   "source": [
    "alpha = np.array([-11, 3.1, 2, 10, 4, 5, 6, 7, 10, 12])\n",
    "coef = 0.01\n",
    "print(alpha)\n",
    "print('cut_outliers')\n",
    "print(cut_outliers(alpha, coef))"
   ]
  },
  {
   "attachments": {},
   "cell_type": "markdown",
   "metadata": {},
   "source": [
    "### Task 7\n"
   ]
  },
  {
   "cell_type": "code",
   "execution_count": 36,
   "metadata": {},
   "outputs": [],
   "source": [
    "def cut_middle(alpha, eps):\n",
    "    alpha[(alpha <= np.mean(alpha) + eps) & (alpha >= np.mean(alpha) - eps)] = 0\n",
    "    return alpha"
   ]
  },
  {
   "cell_type": "code",
   "execution_count": 40,
   "metadata": {},
   "outputs": [
    {
     "name": "stdout",
     "output_type": "stream",
     "text": [
      "[-11.    3.1   2.   10.    4.    5.    6.    7.   10.   12. ]\n",
      "cut_middle\n",
      "[-11.    3.1   2.   10.    0.    0.    6.    7.   10.   12. ]\n"
     ]
    }
   ],
   "source": [
    "alpha = np.array([-11, 3.1, 2, 10, 4, 5, 6, 7, 10, 12])\n",
    "print(alpha)\n",
    "eps = 1\n",
    "print('cut_middle')\n",
    "cut_middle(alpha, eps)\n",
    "print(alpha)"
   ]
  },
  {
   "attachments": {},
   "cell_type": "markdown",
   "metadata": {},
   "source": [
    "### Task 8"
   ]
  },
  {
   "cell_type": "code",
   "execution_count": 39,
   "metadata": {},
   "outputs": [],
   "source": [
    "def apply_function(alpha, func):\n",
    "    new_func = np.vectorize(func)\n",
    "    return new_func(alpha)"
   ]
  },
  {
   "attachments": {},
   "cell_type": "markdown",
   "metadata": {},
   "source": [
    "test"
   ]
  },
  {
   "cell_type": "code",
   "execution_count": 43,
   "metadata": {},
   "outputs": [],
   "source": [
    "def test_func(value):\n",
    "    return np.log(np.sqrt(np.abs(value)) + 1) / np.pi"
   ]
  },
  {
   "cell_type": "code",
   "execution_count": 49,
   "metadata": {},
   "outputs": [
    {
     "name": "stdout",
     "output_type": "stream",
     "text": [
      "[-11.    3.1   2.   10.    4.    5.    6.    7.   10.   12. ]\n",
      "[-11.    3.1   2.   10.    4.    5.    6.    7.   10.   12. ]\n"
     ]
    }
   ],
   "source": [
    "alpha = np.array([-11, 3.1, 2, 10, 4, 5, 6, 7, 10, 12])\n",
    "sign = alpha / abs(alpha)\n",
    "print(alpha)\n",
    "alpha = apply_function(alpha, test_func)\n",
    "print(sign * (np.exp((alpha * np.pi)) - 1) ** 2)"
   ]
  },
  {
   "attachments": {},
   "cell_type": "markdown",
   "metadata": {},
   "source": [
    "### anything"
   ]
  },
  {
   "cell_type": "code",
   "execution_count": 8,
   "metadata": {},
   "outputs": [],
   "source": [
    "data_pd = pd.read_csv('../data/Close.csv').T\n",
    "data_pd.drop(labels='Unnamed: 0', axis=0, inplace=True)"
   ]
  },
  {
   "cell_type": "code",
   "execution_count": 9,
   "metadata": {},
   "outputs": [
    {
     "name": "stderr",
     "output_type": "stream",
     "text": [
      "No artists with labels found to put in legend.  Note that artists whose label start with an underscore are ignored when legend() is called with no argument.\n"
     ]
    },
    {
     "data": {
      "image/png": "[encoded data removed]",
      "text/plain": [
       "<Figure size 1000x500 with 1 Axes>"
      ]
     },
     "metadata": {},
     "output_type": "display_data"
    }
   ],
   "source": [
    "plt.rcParams['font.size'] = '10'\n",
    "fig, ax = plt.subplots()\n",
    "ax.plot()\n",
    "ax.plot(data_pd.index, data_arr[569], linewidth=2, label='')\n",
    "ax.plot(data_pd.index, data_arr[772], linewidth=2, label='')\n",
    "\n",
    "ax.grid(color = 'black', linewidth = 1, linestyle = '-')    \n",
    "plt.legend(loc = 'best', fancybox = True, shadow = True)\n",
    "\n",
    "\n",
    "plt.gca().xaxis.set_major_locator(ticker.MultipleLocator(250))  # интервал написания значений оси OX\n",
    "plt.gca().yaxis.set_major_locator(ticker.MultipleLocator(10))  # интервал написания значений оси OY\n",
    "\n",
    "plt.xticks(rotation=25)\n",
    "\n",
    "fig.set_figwidth(10)\n",
    "fig.set_figheight(5)\n",
    "\n",
    "plt.title(f'Process')\n",
    "plt.show()"
   ]
  },
  {
   "cell_type": "code",
   "execution_count": null,
   "metadata": {},
   "outputs": [],
   "source": []
  }
 ],
 "metadata": {
  "kernelspec": {
   "display_name": "env",
   "language": "python",
   "name": "python3"
  },
  "language_info": {
   "codemirror_mode": {
    "name": "ipython",
    "version": 3
   },
   "file_extension": ".py",
   "mimetype": "text/x-python",
   "name": "python",
   "nbconvert_exporter": "python",
   "pygments_lexer": "ipython3",
   "version": "3.10.9"
  },
  "orig_nbformat": 4,
  "vscode": {
   "interpreter": {
    "hash": "6adf11b20df8b67667ce4d679979abaa8bc2408a2827d6efeadc4d9618f7bafb"
   }
  }
 },
 "nbformat": 4,
 "nbformat_minor": 2
}
