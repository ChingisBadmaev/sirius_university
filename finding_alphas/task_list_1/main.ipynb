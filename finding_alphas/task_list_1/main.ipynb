{
 "cells": [
  {
   "cell_type": "code",
   "execution_count": 1,
   "metadata": {},
   "outputs": [],
   "source": [
    "import pandas as pd\n",
    "import numpy as np\n",
    "from scipy import stats\n",
    "import matplotlib.pyplot as plt\n",
    "import matplotlib.ticker as ticker\n",
    "import scipy"
   ]
  },
  {
   "cell_type": "code",
   "execution_count": 2,
   "metadata": {},
   "outputs": [
    {
     "data": {
      "text/html": [
       "<div>\n",
       "<style scoped>\n",
       "    .dataframe tbody tr th:only-of-type {\n",
       "        vertical-align: middle;\n",
       "    }\n",
       "\n",
       "    .dataframe tbody tr th {\n",
       "        vertical-align: top;\n",
       "    }\n",
       "\n",
       "    .dataframe thead th {\n",
       "        text-align: right;\n",
       "    }\n",
       "</style>\n",
       "<table border=\"1\" class=\"dataframe\">\n",
       "  <thead>\n",
       "    <tr style=\"text-align: right;\">\n",
       "      <th></th>\n",
       "      <th>0</th>\n",
       "      <th>1</th>\n",
       "      <th>2</th>\n",
       "      <th>3</th>\n",
       "      <th>4</th>\n",
       "      <th>5</th>\n",
       "      <th>6</th>\n",
       "      <th>7</th>\n",
       "      <th>8</th>\n",
       "      <th>9</th>\n",
       "      <th>...</th>\n",
       "      <th>2426</th>\n",
       "      <th>2427</th>\n",
       "      <th>2428</th>\n",
       "      <th>2429</th>\n",
       "      <th>2430</th>\n",
       "      <th>2431</th>\n",
       "      <th>2432</th>\n",
       "      <th>2433</th>\n",
       "      <th>2434</th>\n",
       "      <th>2435</th>\n",
       "    </tr>\n",
       "    <tr>\n",
       "      <th>date</th>\n",
       "      <th></th>\n",
       "      <th></th>\n",
       "      <th></th>\n",
       "      <th></th>\n",
       "      <th></th>\n",
       "      <th></th>\n",
       "      <th></th>\n",
       "      <th></th>\n",
       "      <th></th>\n",
       "      <th></th>\n",
       "      <th></th>\n",
       "      <th></th>\n",
       "      <th></th>\n",
       "      <th></th>\n",
       "      <th></th>\n",
       "      <th></th>\n",
       "      <th></th>\n",
       "      <th></th>\n",
       "      <th></th>\n",
       "      <th></th>\n",
       "      <th></th>\n",
       "    </tr>\n",
       "  </thead>\n",
       "  <tbody>\n",
       "    <tr>\n",
       "      <th>2010-01-04</th>\n",
       "      <td>20.225</td>\n",
       "      <td>22.355</td>\n",
       "      <td>9.3094</td>\n",
       "      <td>10.20</td>\n",
       "      <td>3.4959</td>\n",
       "      <td>9.955</td>\n",
       "      <td>26.66</td>\n",
       "      <td>11.898</td>\n",
       "      <td>9.4832</td>\n",
       "      <td>16.594</td>\n",
       "      <td>...</td>\n",
       "      <td>2.9896</td>\n",
       "      <td>21.90</td>\n",
       "      <td>19.270</td>\n",
       "      <td>12.832</td>\n",
       "      <td>17.76</td>\n",
       "      <td>7.7942</td>\n",
       "      <td>33.864</td>\n",
       "      <td>18.690</td>\n",
       "      <td>303.66</td>\n",
       "      <td>12.231</td>\n",
       "    </tr>\n",
       "    <tr>\n",
       "      <th>2010-01-05</th>\n",
       "      <td>20.858</td>\n",
       "      <td>22.589</td>\n",
       "      <td>9.1551</td>\n",
       "      <td>10.25</td>\n",
       "      <td>3.4577</td>\n",
       "      <td>10.022</td>\n",
       "      <td>26.57</td>\n",
       "      <td>11.954</td>\n",
       "      <td>9.5110</td>\n",
       "      <td>16.765</td>\n",
       "      <td>...</td>\n",
       "      <td>3.0673</td>\n",
       "      <td>20.91</td>\n",
       "      <td>19.466</td>\n",
       "      <td>13.234</td>\n",
       "      <td>17.88</td>\n",
       "      <td>7.8400</td>\n",
       "      <td>34.744</td>\n",
       "      <td>18.780</td>\n",
       "      <td>301.20</td>\n",
       "      <td>12.305</td>\n",
       "    </tr>\n",
       "    <tr>\n",
       "      <th>2010-01-06</th>\n",
       "      <td>20.612</td>\n",
       "      <td>22.637</td>\n",
       "      <td>9.0008</td>\n",
       "      <td>10.05</td>\n",
       "      <td>3.3339</td>\n",
       "      <td>10.217</td>\n",
       "      <td>26.92</td>\n",
       "      <td>11.594</td>\n",
       "      <td>9.5150</td>\n",
       "      <td>16.779</td>\n",
       "      <td>...</td>\n",
       "      <td>3.0390</td>\n",
       "      <td>20.80</td>\n",
       "      <td>19.570</td>\n",
       "      <td>13.442</td>\n",
       "      <td>16.68</td>\n",
       "      <td>7.8477</td>\n",
       "      <td>35.070</td>\n",
       "      <td>18.890</td>\n",
       "      <td>302.01</td>\n",
       "      <td>12.395</td>\n",
       "    </tr>\n",
       "    <tr>\n",
       "      <th>2010-01-07</th>\n",
       "      <td>20.683</td>\n",
       "      <td>22.269</td>\n",
       "      <td>9.0205</td>\n",
       "      <td>10.40</td>\n",
       "      <td>3.5341</td>\n",
       "      <td>10.115</td>\n",
       "      <td>26.50</td>\n",
       "      <td>11.695</td>\n",
       "      <td>9.7720</td>\n",
       "      <td>16.454</td>\n",
       "      <td>...</td>\n",
       "      <td>3.2582</td>\n",
       "      <td>21.65</td>\n",
       "      <td>19.613</td>\n",
       "      <td>13.120</td>\n",
       "      <td>17.52</td>\n",
       "      <td>7.8707</td>\n",
       "      <td>34.599</td>\n",
       "      <td>19.175</td>\n",
       "      <td>292.72</td>\n",
       "      <td>12.345</td>\n",
       "    </tr>\n",
       "    <tr>\n",
       "      <th>2010-01-08</th>\n",
       "      <td>21.085</td>\n",
       "      <td>22.192</td>\n",
       "      <td>8.9584</td>\n",
       "      <td>11.35</td>\n",
       "      <td>3.4197</td>\n",
       "      <td>10.149</td>\n",
       "      <td>26.19</td>\n",
       "      <td>11.485</td>\n",
       "      <td>9.8060</td>\n",
       "      <td>16.779</td>\n",
       "      <td>...</td>\n",
       "      <td>3.2016</td>\n",
       "      <td>21.25</td>\n",
       "      <td>19.570</td>\n",
       "      <td>13.106</td>\n",
       "      <td>17.52</td>\n",
       "      <td>7.8785</td>\n",
       "      <td>34.813</td>\n",
       "      <td>19.474</td>\n",
       "      <td>296.55</td>\n",
       "      <td>12.435</td>\n",
       "    </tr>\n",
       "    <tr>\n",
       "      <th>...</th>\n",
       "      <td>...</td>\n",
       "      <td>...</td>\n",
       "      <td>...</td>\n",
       "      <td>...</td>\n",
       "      <td>...</td>\n",
       "      <td>...</td>\n",
       "      <td>...</td>\n",
       "      <td>...</td>\n",
       "      <td>...</td>\n",
       "      <td>...</td>\n",
       "      <td>...</td>\n",
       "      <td>...</td>\n",
       "      <td>...</td>\n",
       "      <td>...</td>\n",
       "      <td>...</td>\n",
       "      <td>...</td>\n",
       "      <td>...</td>\n",
       "      <td>...</td>\n",
       "      <td>...</td>\n",
       "      <td>...</td>\n",
       "      <td>...</td>\n",
       "    </tr>\n",
       "    <tr>\n",
       "      <th>2014-12-24</th>\n",
       "      <td>48.145</td>\n",
       "      <td>41.828</td>\n",
       "      <td>17.0500</td>\n",
       "      <td>17.78</td>\n",
       "      <td>13.2130</td>\n",
       "      <td>7.550</td>\n",
       "      <td>36.50</td>\n",
       "      <td>16.755</td>\n",
       "      <td>13.7540</td>\n",
       "      <td>11.827</td>\n",
       "      <td>...</td>\n",
       "      <td>5.6688</td>\n",
       "      <td>63.86</td>\n",
       "      <td>50.390</td>\n",
       "      <td>15.642</td>\n",
       "      <td>11.88</td>\n",
       "      <td>15.2490</td>\n",
       "      <td>46.497</td>\n",
       "      <td>27.058</td>\n",
       "      <td>35.70</td>\n",
       "      <td>14.444</td>\n",
       "    </tr>\n",
       "    <tr>\n",
       "      <th>2014-12-26</th>\n",
       "      <td>47.930</td>\n",
       "      <td>41.246</td>\n",
       "      <td>17.7340</td>\n",
       "      <td>18.01</td>\n",
       "      <td>13.3830</td>\n",
       "      <td>7.490</td>\n",
       "      <td>36.65</td>\n",
       "      <td>16.391</td>\n",
       "      <td>13.8050</td>\n",
       "      <td>12.041</td>\n",
       "      <td>...</td>\n",
       "      <td>5.6144</td>\n",
       "      <td>65.37</td>\n",
       "      <td>50.634</td>\n",
       "      <td>15.908</td>\n",
       "      <td>11.10</td>\n",
       "      <td>15.3400</td>\n",
       "      <td>45.270</td>\n",
       "      <td>27.326</td>\n",
       "      <td>35.70</td>\n",
       "      <td>14.503</td>\n",
       "    </tr>\n",
       "    <tr>\n",
       "      <th>2014-12-29</th>\n",
       "      <td>47.720</td>\n",
       "      <td>41.219</td>\n",
       "      <td>17.8160</td>\n",
       "      <td>18.65</td>\n",
       "      <td>13.2610</td>\n",
       "      <td>7.720</td>\n",
       "      <td>35.46</td>\n",
       "      <td>16.541</td>\n",
       "      <td>13.8980</td>\n",
       "      <td>12.041</td>\n",
       "      <td>...</td>\n",
       "      <td>5.6235</td>\n",
       "      <td>64.10</td>\n",
       "      <td>52.360</td>\n",
       "      <td>15.678</td>\n",
       "      <td>10.80</td>\n",
       "      <td>15.4430</td>\n",
       "      <td>45.854</td>\n",
       "      <td>27.525</td>\n",
       "      <td>34.65</td>\n",
       "      <td>14.463</td>\n",
       "    </tr>\n",
       "    <tr>\n",
       "      <th>2014-12-30</th>\n",
       "      <td>47.682</td>\n",
       "      <td>40.509</td>\n",
       "      <td>17.3880</td>\n",
       "      <td>18.56</td>\n",
       "      <td>13.1730</td>\n",
       "      <td>7.430</td>\n",
       "      <td>34.83</td>\n",
       "      <td>16.521</td>\n",
       "      <td>13.8300</td>\n",
       "      <td>11.888</td>\n",
       "      <td>...</td>\n",
       "      <td>5.6325</td>\n",
       "      <td>63.36</td>\n",
       "      <td>50.880</td>\n",
       "      <td>15.925</td>\n",
       "      <td>10.92</td>\n",
       "      <td>15.4340</td>\n",
       "      <td>45.374</td>\n",
       "      <td>27.465</td>\n",
       "      <td>31.50</td>\n",
       "      <td>14.493</td>\n",
       "    </tr>\n",
       "    <tr>\n",
       "      <th>2014-12-31</th>\n",
       "      <td>47.295</td>\n",
       "      <td>40.116</td>\n",
       "      <td>17.5290</td>\n",
       "      <td>18.52</td>\n",
       "      <td>12.9750</td>\n",
       "      <td>7.340</td>\n",
       "      <td>34.06</td>\n",
       "      <td>16.408</td>\n",
       "      <td>13.6770</td>\n",
       "      <td>11.711</td>\n",
       "      <td>...</td>\n",
       "      <td>5.5421</td>\n",
       "      <td>62.68</td>\n",
       "      <td>49.959</td>\n",
       "      <td>16.093</td>\n",
       "      <td>11.16</td>\n",
       "      <td>15.1360</td>\n",
       "      <td>45.470</td>\n",
       "      <td>27.088</td>\n",
       "      <td>32.55</td>\n",
       "      <td>14.532</td>\n",
       "    </tr>\n",
       "  </tbody>\n",
       "</table>\n",
       "<p>1257 rows × 2436 columns</p>\n",
       "</div>"
      ],
      "text/plain": [
       "              0       1        2      3        4       5      6       7     \\\n",
       "date                                                                         \n",
       "2010-01-04  20.225  22.355   9.3094  10.20   3.4959   9.955  26.66  11.898   \n",
       "2010-01-05  20.858  22.589   9.1551  10.25   3.4577  10.022  26.57  11.954   \n",
       "2010-01-06  20.612  22.637   9.0008  10.05   3.3339  10.217  26.92  11.594   \n",
       "2010-01-07  20.683  22.269   9.0205  10.40   3.5341  10.115  26.50  11.695   \n",
       "2010-01-08  21.085  22.192   8.9584  11.35   3.4197  10.149  26.19  11.485   \n",
       "...            ...     ...      ...    ...      ...     ...    ...     ...   \n",
       "2014-12-24  48.145  41.828  17.0500  17.78  13.2130   7.550  36.50  16.755   \n",
       "2014-12-26  47.930  41.246  17.7340  18.01  13.3830   7.490  36.65  16.391   \n",
       "2014-12-29  47.720  41.219  17.8160  18.65  13.2610   7.720  35.46  16.541   \n",
       "2014-12-30  47.682  40.509  17.3880  18.56  13.1730   7.430  34.83  16.521   \n",
       "2014-12-31  47.295  40.116  17.5290  18.52  12.9750   7.340  34.06  16.408   \n",
       "\n",
       "               8       9     ...    2426   2427    2428    2429   2430  \\\n",
       "date                         ...                                         \n",
       "2010-01-04   9.4832  16.594  ...  2.9896  21.90  19.270  12.832  17.76   \n",
       "2010-01-05   9.5110  16.765  ...  3.0673  20.91  19.466  13.234  17.88   \n",
       "2010-01-06   9.5150  16.779  ...  3.0390  20.80  19.570  13.442  16.68   \n",
       "2010-01-07   9.7720  16.454  ...  3.2582  21.65  19.613  13.120  17.52   \n",
       "2010-01-08   9.8060  16.779  ...  3.2016  21.25  19.570  13.106  17.52   \n",
       "...             ...     ...  ...     ...    ...     ...     ...    ...   \n",
       "2014-12-24  13.7540  11.827  ...  5.6688  63.86  50.390  15.642  11.88   \n",
       "2014-12-26  13.8050  12.041  ...  5.6144  65.37  50.634  15.908  11.10   \n",
       "2014-12-29  13.8980  12.041  ...  5.6235  64.10  52.360  15.678  10.80   \n",
       "2014-12-30  13.8300  11.888  ...  5.6325  63.36  50.880  15.925  10.92   \n",
       "2014-12-31  13.6770  11.711  ...  5.5421  62.68  49.959  16.093  11.16   \n",
       "\n",
       "               2431    2432    2433    2434    2435  \n",
       "date                                                 \n",
       "2010-01-04   7.7942  33.864  18.690  303.66  12.231  \n",
       "2010-01-05   7.8400  34.744  18.780  301.20  12.305  \n",
       "2010-01-06   7.8477  35.070  18.890  302.01  12.395  \n",
       "2010-01-07   7.8707  34.599  19.175  292.72  12.345  \n",
       "2010-01-08   7.8785  34.813  19.474  296.55  12.435  \n",
       "...             ...     ...     ...     ...     ...  \n",
       "2014-12-24  15.2490  46.497  27.058   35.70  14.444  \n",
       "2014-12-26  15.3400  45.270  27.326   35.70  14.503  \n",
       "2014-12-29  15.4430  45.854  27.525   34.65  14.463  \n",
       "2014-12-30  15.4340  45.374  27.465   31.50  14.493  \n",
       "2014-12-31  15.1360  45.470  27.088   32.55  14.532  \n",
       "\n",
       "[1257 rows x 2436 columns]"
      ]
     },
     "execution_count": 2,
     "metadata": {},
     "output_type": "execute_result"
    }
   ],
   "source": [
    "data = pd.read_csv('../data/Close.csv').T[1:]\n",
    "data.index = data.index.astype('datetime64').rename('date')\n",
    "data = data.astype('float64')\n",
    "data"
   ]
  },
  {
   "attachments": {},
   "cell_type": "markdown",
   "metadata": {},
   "source": [
    "### Task 0"
   ]
  },
  {
   "cell_type": "code",
   "execution_count": 3,
   "metadata": {},
   "outputs": [],
   "source": [
    "# pandas\n",
    "def get_returns(data):\n",
    "    return (data / data.shift(1))"
   ]
  },
  {
   "cell_type": "code",
   "execution_count": 4,
   "metadata": {},
   "outputs": [],
   "source": [
    "# pandas\n",
    "def correct_wrong_values(data, scale):\n",
    "    temp = np.array(get_returns(data)).T\n",
    "    err_coord_low = np.where(temp <= (1 / scale))\n",
    "    err_coord_high = np.where(temp >= scale)\n",
    "    for i in range(len(err_coord_low[0])):\n",
    "        id_low_0 = err_coord_low[0][i]\n",
    "        id_low_1 = err_coord_low[1][i]\n",
    "        \n",
    "        id_high_0 = err_coord_high[0][i]\n",
    "        id_high_1 = err_coord_high[1][i]\n",
    "\n",
    "        if 0.5 < data[id_high_0][id_low_1] / data[id_high_0][id_high_1 + 1] < 2:        # if the price has dropped\n",
    "            data[id_high_0][id_high_1] = data[id_high_0][id_high_1 + 1]\n",
    "\n",
    "        if 0.5 < data[id_high_0][id_high_1] / data[id_high_0][id_low_1 + 1] < 2:        # If the price went up\n",
    "            data[id_high_0][id_low_1] = data[id_high_0][id_low_1 + 1]\n",
    "    return pd.DataFrame(data)"
   ]
  },
  {
   "attachments": {},
   "cell_type": "markdown",
   "metadata": {},
   "source": [
    "##### test "
   ]
  },
  {
   "cell_type": "code",
   "execution_count": 5,
   "metadata": {},
   "outputs": [
    {
     "name": "stdout",
     "output_type": "stream",
     "text": [
      "[ 155  178  256  274  306  567  680  748  856  902  904  983 1047]\n",
      "[1528  592  569  772 1657 1315  185  592 1805  178 2313 2144  565]\n",
      "correct wrong values\n",
      "[256 274]\n",
      "[569 772]\n"
     ]
    }
   ],
   "source": [
    "scale = 9\n",
    "print(np.where(get_returns(data) >= scale)[0])\n",
    "print(np.where(get_returns(data) >= scale)[1])\n",
    "print('correct wrong values')\n",
    "data = correct_wrong_values(data, scale)\n",
    "print(np.where(get_returns(data) >= scale)[0])\n",
    "print(np.where(get_returns(data) >= scale)[1])\n",
    "data.to_csv('../data/Close_correct.csv')"
   ]
  },
  {
   "attachments": {},
   "cell_type": "markdown",
   "metadata": {},
   "source": [
    "### Task 1"
   ]
  },
  {
   "cell_type": "code",
   "execution_count": 6,
   "metadata": {},
   "outputs": [],
   "source": [
    "# numpy\n",
    "def neutralize(alpha):\n",
    "    return alpha - np.mean(alpha)"
   ]
  },
  {
   "attachments": {},
   "cell_type": "markdown",
   "metadata": {},
   "source": [
    "##### test"
   ]
  },
  {
   "cell_type": "code",
   "execution_count": 7,
   "metadata": {},
   "outputs": [
    {
     "name": "stdout",
     "output_type": "stream",
     "text": [
      "[-11.    3.1   2.   10.    4.    5.    6.    7.   10. ]\n",
      "neutralize\n",
      "0.0\n"
     ]
    }
   ],
   "source": [
    "alpha = np.array([-11, 3.1, 2, 10, 4, 5, 6, 7, 10])\n",
    "print(alpha)\n",
    "print('neutralize')\n",
    "print(sum(neutralize(alpha)))"
   ]
  },
  {
   "attachments": {},
   "cell_type": "markdown",
   "metadata": {},
   "source": [
    "### Task 2"
   ]
  },
  {
   "cell_type": "code",
   "execution_count": 8,
   "metadata": {},
   "outputs": [],
   "source": [
    "def normalize(alpha):\n",
    "    return alpha / np.sum(np.abs(alpha))"
   ]
  },
  {
   "attachments": {},
   "cell_type": "markdown",
   "metadata": {},
   "source": [
    "test"
   ]
  },
  {
   "cell_type": "code",
   "execution_count": 9,
   "metadata": {},
   "outputs": [
    {
     "name": "stdout",
     "output_type": "stream",
     "text": [
      "[-11.    3.1   2.   10.    4.    5.    6.    7.   10. ]\n",
      "normalize\n",
      "1.0\n"
     ]
    }
   ],
   "source": [
    "alpha = np.array([-11, 3.1, 2, 10, 4, 5, 6, 7, 10])\n",
    "print(alpha)\n",
    "print('normalize')\n",
    "print(sum(normalize(np.abs(alpha))))"
   ]
  },
  {
   "attachments": {},
   "cell_type": "markdown",
   "metadata": {},
   "source": [
    "### Task 3"
   ]
  },
  {
   "cell_type": "code",
   "execution_count": 10,
   "metadata": {},
   "outputs": [],
   "source": [
    "def truncate(alpha, max_weight, coef):\n",
    "    signs = (alpha / np.abs(alpha))\n",
    "    alpha[np.abs(alpha) > max_weight * coef] = max_weight * coef\n",
    "    alpha = alpha * signs\n",
    "    return alpha"
   ]
  },
  {
   "cell_type": "code",
   "execution_count": 11,
   "metadata": {},
   "outputs": [
    {
     "name": "stdout",
     "output_type": "stream",
     "text": [
      "[-11.    3.1   2.   10.    4.    5.    6.    7.   10. ]\n",
      "truncate\n",
      "[-8.1  3.1  2.   8.1  4.   5.   6.   7.   8.1]\n"
     ]
    }
   ],
   "source": [
    "alpha = np.array([-11, 3.1, 2, 10, 4, 5, 6, 7, 10])\n",
    "coef = 0.9\n",
    "max_weight = 9\n",
    "print(alpha)\n",
    "print('truncate')\n",
    "print(truncate(alpha, max_weight, coef))"
   ]
  },
  {
   "attachments": {},
   "cell_type": "markdown",
   "metadata": {},
   "source": [
    "### Task 4"
   ]
  },
  {
   "cell_type": "code",
   "execution_count": 12,
   "metadata": {},
   "outputs": [],
   "source": [
    "# pandas\n",
    "def get_returns(data):\n",
    "    return (data / data.shift(1)) - 1"
   ]
  },
  {
   "cell_type": "code",
   "execution_count": 13,
   "metadata": {},
   "outputs": [],
   "source": [
    "data_returns = get_returns(data)\n",
    "data_returns.to_csv('../data/data_returns.csv')"
   ]
  },
  {
   "attachments": {},
   "cell_type": "markdown",
   "metadata": {},
   "source": [
    "### Task 5"
   ]
  },
  {
   "cell_type": "code",
   "execution_count": 14,
   "metadata": {},
   "outputs": [],
   "source": [
    "def ranking(alpha):\n",
    "    alpha = scipy.stats.rankdata(alpha, method='ordinal') / (len(alpha) - 1)\n",
    "    return alpha"
   ]
  },
  {
   "cell_type": "code",
   "execution_count": 15,
   "metadata": {},
   "outputs": [
    {
     "name": "stdout",
     "output_type": "stream",
     "text": [
      "[-11.    3.1   2.   10.    4.    5.    6.    7.   10. ]\n",
      "ranking\n",
      "[0.125 0.375 0.25  1.    0.5   0.625 0.75  0.875 1.125]\n"
     ]
    }
   ],
   "source": [
    "alpha = np.array([-11, 3.1, 2, 10, 4, 5, 6, 7, 10])\n",
    "print(alpha)\n",
    "print('ranking')\n",
    "print(ranking(alpha))"
   ]
  },
  {
   "attachments": {},
   "cell_type": "markdown",
   "metadata": {},
   "source": [
    "### Task 6"
   ]
  },
  {
   "cell_type": "code",
   "execution_count": 16,
   "metadata": {},
   "outputs": [],
   "source": [
    "def cut_outliers(alpha, coef):\n",
    "    alpha[alpha < np.quantile(alpha, coef)] = 0\n",
    "    alpha[alpha > np.quantile(alpha, 1 - coef)] = 0\n",
    "    return alpha"
   ]
  },
  {
   "attachments": {},
   "cell_type": "markdown",
   "metadata": {},
   "source": [
    "##### test\n"
   ]
  },
  {
   "cell_type": "code",
   "execution_count": 17,
   "metadata": {},
   "outputs": [
    {
     "name": "stdout",
     "output_type": "stream",
     "text": [
      "[-11.    3.1   2.   10.    4.    5.    6.    7.   10.   12. ]\n",
      "cut_outliers\n",
      "[ 0.   3.1  2.  10.   4.   5.   6.   7.  10.   0. ]\n"
     ]
    }
   ],
   "source": [
    "alpha = np.array([-11, 3.1, 2, 10, 4, 5, 6, 7, 10, 12])\n",
    "coef = 0.01\n",
    "print(alpha)\n",
    "print('cut_outliers')\n",
    "print(cut_outliers(alpha, coef))"
   ]
  },
  {
   "attachments": {},
   "cell_type": "markdown",
   "metadata": {},
   "source": [
    "### Task 7\n"
   ]
  },
  {
   "cell_type": "code",
   "execution_count": 18,
   "metadata": {},
   "outputs": [],
   "source": [
    "def cut_middle(alpha, eps):\n",
    "    alpha[(alpha <= np.mean(alpha) + eps) & (alpha >= np.mean(alpha) - eps)] = 0\n",
    "    return alpha"
   ]
  },
  {
   "cell_type": "code",
   "execution_count": 19,
   "metadata": {},
   "outputs": [
    {
     "name": "stdout",
     "output_type": "stream",
     "text": [
      "[-11.    3.1   2.   10.    4.    5.    6.    7.   10.   12. ]\n",
      "cut_middle\n",
      "[-11.    3.1   2.   10.    0.    0.    6.    7.   10.   12. ]\n"
     ]
    }
   ],
   "source": [
    "alpha = np.array([-11, 3.1, 2, 10, 4, 5, 6, 7, 10, 12])\n",
    "print(alpha)\n",
    "eps = 1\n",
    "print('cut_middle')\n",
    "cut_middle(alpha, eps)\n",
    "print(alpha)"
   ]
  },
  {
   "attachments": {},
   "cell_type": "markdown",
   "metadata": {},
   "source": [
    "### Task 8"
   ]
  },
  {
   "cell_type": "code",
   "execution_count": 20,
   "metadata": {},
   "outputs": [],
   "source": [
    "def apply_function(alpha, func):\n",
    "    new_func = np.vectorize(func)\n",
    "    return new_func(alpha)"
   ]
  },
  {
   "attachments": {},
   "cell_type": "markdown",
   "metadata": {},
   "source": [
    "test"
   ]
  },
  {
   "cell_type": "code",
   "execution_count": 21,
   "metadata": {},
   "outputs": [],
   "source": [
    "def test_func_1(value):\n",
    "    return np.log(np.sqrt(np.abs(value)) + 1) / np.pi"
   ]
  },
  {
   "cell_type": "code",
   "execution_count": 22,
   "metadata": {},
   "outputs": [],
   "source": [
    "def test_func_2(value):\n",
    "    if np.abs(value) > 0.1:\n",
    "        return value * 0.9\n",
    "    return value"
   ]
  },
  {
   "cell_type": "code",
   "execution_count": 23,
   "metadata": {},
   "outputs": [
    {
     "name": "stdout",
     "output_type": "stream",
     "text": [
      "[-11.    3.1   2.   10.    4.    5.    6.    7.   10.   12. ]\n",
      "[-11.    3.1   2.   10.    4.    5.    6.    7.   10.   12. ]\n"
     ]
    }
   ],
   "source": [
    "alpha = np.array([-11, 3.1, 2, 10, 4, 5, 6, 7, 10, 12])\n",
    "sign = alpha / abs(alpha)\n",
    "print(alpha)\n",
    "alpha = apply_function(alpha, test_func_1)\n",
    "print(sign * (np.exp((alpha * np.pi)) - 1) ** 2)"
   ]
  },
  {
   "cell_type": "code",
   "execution_count": 24,
   "metadata": {},
   "outputs": [
    {
     "name": "stdout",
     "output_type": "stream",
     "text": [
      "[-0.15691869  0.04422254  0.02853067  0.14265335  0.05706134  0.07132668\n",
      "  0.08559201  0.09985735  0.14265335  0.17118402]\n",
      "apply_function\n",
      "[-0.01569187  0.          0.          0.01426534  0.          0.\n",
      "  0.          0.          0.01426534  0.0171184 ]\n"
     ]
    }
   ],
   "source": [
    "alpha = np.array([-11, 3.1, 2, 10, 4, 5, 6, 7, 10, 12])\n",
    "alpha = normalize(alpha)\n",
    "print(alpha)\n",
    "print('apply_function')\n",
    "print(alpha - apply_function(alpha, test_func_2))"
   ]
  },
  {
   "attachments": {},
   "cell_type": "markdown",
   "metadata": {},
   "source": [
    "### Task 9"
   ]
  },
  {
   "cell_type": "code",
   "execution_count": 25,
   "metadata": {},
   "outputs": [],
   "source": [
    "def turnover(alphas, option=0):\n",
    "    turnover_days = abs(alphas.diff(periods=1)).sum(axis=1)\n",
    "    if option == 1:\n",
    "        return turnover_days\n",
    "    return turnover_days.groupby(alphas.index.year).mean()"
   ]
  },
  {
   "attachments": {},
   "cell_type": "markdown",
   "metadata": {},
   "source": [
    "test"
   ]
  },
  {
   "cell_type": "code",
   "execution_count": 26,
   "metadata": {},
   "outputs": [],
   "source": [
    "def algh_alpha_reversion(data):\n",
    "    alpha = -(data_returns - 1)\n",
    "    alpha = alpha.T.apply(neutralize).apply(normalize).T\n",
    "    return alpha"
   ]
  },
  {
   "cell_type": "code",
   "execution_count": 27,
   "metadata": {},
   "outputs": [
    {
     "name": "stdout",
     "output_type": "stream",
     "text": [
      "turnover\n",
      "mean_year: \n",
      " date\n",
      "2010    1.439132\n",
      "2011    1.450142\n",
      "2012    1.453622\n",
      "2013    1.455579\n",
      "2014    1.451279\n",
      "dtype: float64\n",
      "days: \n",
      " date\n",
      "2010-01-04    0.000000\n",
      "2010-01-05    0.000000\n",
      "2010-01-06    1.214469\n",
      "2010-01-07    1.490863\n",
      "2010-01-08    1.435943\n",
      "                ...   \n",
      "2014-12-24    1.588333\n",
      "2014-12-26    1.355891\n",
      "2014-12-29    1.491086\n",
      "2014-12-30    1.470270\n",
      "2014-12-31    1.418456\n",
      "Length: 1257, dtype: float64\n"
     ]
    }
   ],
   "source": [
    "alpha_revers = algh_alpha_reversion(data)\n",
    "print('turnover')\n",
    "print('mean_year:', '\\n', turnover(alpha_revers))\n",
    "print('days:', '\\n', turnover(alpha_revers, option=1))"
   ]
  },
  {
   "attachments": {},
   "cell_type": "markdown",
   "metadata": {},
   "source": [
    "### Task 11"
   ]
  },
  {
   "cell_type": "code",
   "execution_count": 28,
   "metadata": {},
   "outputs": [],
   "source": [
    "def get_returns_for_pnl(data):\n",
    "    return (data / data.shift(1))[1:]"
   ]
  },
  {
   "cell_type": "code",
   "execution_count": 29,
   "metadata": {},
   "outputs": [],
   "source": [
    "data_returns = get_returns(data)\n",
    "data_returns.to_csv('../data/data_returns.csv')"
   ]
  },
  {
   "cell_type": "code",
   "execution_count": 30,
   "metadata": {},
   "outputs": [],
   "source": [
    "def get_pnl(returns, alpha, option=0):\n",
    "    pnl = alpha.reset_index(drop=True).mul(returns.reset_index(drop=True), axis=0).sum(axis=1)\n",
    "    ans = pd.DataFrame()\n",
    "    ans['pnl'] = pnl\n",
    "    ans = ans.set_index(alpha.index).shift(1)\n",
    "    if option == 1:\n",
    "        return ans.set_index(alpha.index).groupby(alpha.index.year).sum()\n",
    "    return ans"
   ]
  },
  {
   "cell_type": "code",
   "execution_count": 31,
   "metadata": {},
   "outputs": [
    {
     "name": "stdout",
     "output_type": "stream",
     "text": [
      "years pnl cum: \n",
      "            pnl\n",
      "date          \n",
      "2010  0.280124\n",
      "2011  0.357814\n",
      "2012  0.172696\n",
      "2013  0.108339\n",
      "2014  0.071072\n",
      "\n",
      "days pnl: \n",
      "                  pnl\n",
      "date                \n",
      "2010-01-04       NaN\n",
      "2010-01-05  0.000000\n",
      "2010-01-06 -0.007095\n",
      "2010-01-07 -0.001226\n",
      "2010-01-08 -0.003690\n",
      "...              ...\n",
      "2014-12-24  0.005289\n",
      "2014-12-26 -0.005891\n",
      "2014-12-29  0.003743\n",
      "2014-12-30  0.002756\n",
      "2014-12-31  0.000606\n",
      "\n",
      "[1257 rows x 1 columns]\n"
     ]
    }
   ],
   "source": [
    "#returns = pd.read_csv('../data/data_returns.csv', index_col='date').iloc[1:, :]\n",
    "#returns.index = returns.index.astype('datetime64').rename('date')\n",
    "\n",
    "returns = get_returns_for_pnl(data) - 1\n",
    "years_pnl_cum = get_pnl(returns, alpha_revers, 1)\n",
    "days_pnl = get_pnl(returns, alpha_revers)\n",
    "\n",
    "print('years pnl cum:', '\\n', years_pnl_cum)\n",
    "print()\n",
    "print('days pnl:', '\\n', days_pnl)"
   ]
  },
  {
   "attachments": {},
   "cell_type": "markdown",
   "metadata": {},
   "source": [
    "### Task 12"
   ]
  },
  {
   "cell_type": "code",
   "execution_count": 32,
   "metadata": {},
   "outputs": [],
   "source": [
    "def get_pnl(returns, alpha, option=0):\n",
    "    pnl = alpha.reset_index(drop=True).mul(returns.reset_index(drop=True), axis=0).sum(axis=1)\n",
    "    ans = pd.DataFrame()\n",
    "    ans['pnl'] = pnl\n",
    "    ans = ans.set_index(alpha.index).shift(1)\n",
    "    if option == 1:\n",
    "        return ans.set_index(alpha.index).groupby(alpha.index.year).sum()\n",
    "    return ans"
   ]
  },
  {
   "cell_type": "code",
   "execution_count": 33,
   "metadata": {},
   "outputs": [],
   "source": [
    "def get_sharpe_coef(days_pnl):\n",
    "    ans = pd.DataFrame()\n",
    "    ans['coef_sharpe'] = days_pnl.groupby(days_pnl.index.year).apply(lambda x : np.sqrt(len(x) - 1) * np.mean(x) / np.std(x))\n",
    "    return ans"
   ]
  },
  {
   "attachments": {},
   "cell_type": "markdown",
   "metadata": {},
   "source": [
    "test"
   ]
  },
  {
   "cell_type": "code",
   "execution_count": 34,
   "metadata": {},
   "outputs": [
    {
     "data": {
      "text/html": [
       "<div>\n",
       "<style scoped>\n",
       "    .dataframe tbody tr th:only-of-type {\n",
       "        vertical-align: middle;\n",
       "    }\n",
       "\n",
       "    .dataframe tbody tr th {\n",
       "        vertical-align: top;\n",
       "    }\n",
       "\n",
       "    .dataframe thead th {\n",
       "        text-align: right;\n",
       "    }\n",
       "</style>\n",
       "<table border=\"1\" class=\"dataframe\">\n",
       "  <thead>\n",
       "    <tr style=\"text-align: right;\">\n",
       "      <th></th>\n",
       "      <th>coef_sharpe</th>\n",
       "    </tr>\n",
       "    <tr>\n",
       "      <th>date</th>\n",
       "      <th></th>\n",
       "    </tr>\n",
       "  </thead>\n",
       "  <tbody>\n",
       "    <tr>\n",
       "      <th>2010</th>\n",
       "      <td>3.567025</td>\n",
       "    </tr>\n",
       "    <tr>\n",
       "      <th>2011</th>\n",
       "      <td>2.508784</td>\n",
       "    </tr>\n",
       "    <tr>\n",
       "      <th>2012</th>\n",
       "      <td>3.300480</td>\n",
       "    </tr>\n",
       "    <tr>\n",
       "      <th>2013</th>\n",
       "      <td>1.816916</td>\n",
       "    </tr>\n",
       "    <tr>\n",
       "      <th>2014</th>\n",
       "      <td>1.049495</td>\n",
       "    </tr>\n",
       "  </tbody>\n",
       "</table>\n",
       "</div>"
      ],
      "text/plain": [
       "      coef_sharpe\n",
       "date             \n",
       "2010     3.567025\n",
       "2011     2.508784\n",
       "2012     3.300480\n",
       "2013     1.816916\n",
       "2014     1.049495"
      ]
     },
     "execution_count": 34,
     "metadata": {},
     "output_type": "execute_result"
    }
   ],
   "source": [
    "days_pnl = get_pnl(returns, alpha_revers)\n",
    "coef_sharpe = get_sharpe_coef(days_pnl['pnl'])\n",
    "coef_sharpe"
   ]
  },
  {
   "attachments": {},
   "cell_type": "markdown",
   "metadata": {},
   "source": [
    "### Task 15"
   ]
  },
  {
   "cell_type": "code",
   "execution_count": 35,
   "metadata": {},
   "outputs": [],
   "source": [
    "def corr_btw_alphas(alpha_1, alpha_2):\n",
    "    return scipy.stats.pearsonr(alpha_1, alpha_2)"
   ]
  },
  {
   "cell_type": "code",
   "execution_count": 36,
   "metadata": {},
   "outputs": [
    {
     "name": "stdout",
     "output_type": "stream",
     "text": [
      "PearsonRResult(statistic=0.4343276603136097, pvalue=0.2097596077779171)\n",
      "PearsonRResult(statistic=0.9863939238321437, pvalue=0.0019012746601963688)\n"
     ]
    }
   ],
   "source": [
    "alpha_1 = np.random.rand(10)\n",
    "alpha_2 = np.random.rand(10)\n",
    "print(corr_btw_alphas(alpha_1, alpha_2))\n",
    "alpha_3 = [1, 2, 3, 4, 5]\n",
    "alpha_4 = [2, 3, 4, 5, 7]\n",
    "print(corr_btw_alphas(alpha_3, alpha_4))\n"
   ]
  },
  {
   "attachments": {},
   "cell_type": "markdown",
   "metadata": {},
   "source": [
    "### anything"
   ]
  },
  {
   "cell_type": "code",
   "execution_count": 37,
   "metadata": {},
   "outputs": [
    {
     "name": "stderr",
     "output_type": "stream",
     "text": [
      "No artists with labels found to put in legend.  Note that artists whose label start with an underscore are ignored when legend() is called with no argument.\n"
     ]
    },
    {
     "data": {
      "image/png": "[encoded data removed]",
      "text/plain": [
       "<Figure size 1000x500 with 1 Axes>"
      ]
     },
     "metadata": {},
     "output_type": "display_data"
    }
   ],
   "source": [
    "plt.rcParams['font.size'] = '10'\n",
    "fig, ax = plt.subplots()\n",
    "ax.plot()\n",
    "ax.plot(data[569], linewidth=2, label='')\n",
    "ax.plot(data[772], linewidth=2, label='')\n",
    "\n",
    "ax.grid(color = 'black', linewidth = 1, linestyle = '-')    \n",
    "plt.legend(loc = 'best', fancybox = True, shadow = True)\n",
    "\n",
    "\n",
    "#plt.gca().xaxis.set_major_locator(ticker.MultipleLocator(250))  # интервал написания значений оси OX\n",
    "#plt.gca().yaxis.set_major_locator(ticker.MultipleLocator(10))  # интервал написания значений оси OY\n",
    "\n",
    "plt.xticks(rotation=25)\n",
    "\n",
    "fig.set_figwidth(10)\n",
    "fig.set_figheight(5)\n",
    "\n",
    "plt.title(f'Process')\n",
    "plt.show()"
   ]
  }
 ],
 "metadata": {
  "kernelspec": {
   "display_name": "env",
   "language": "python",
   "name": "python3"
  },
  "language_info": {
   "codemirror_mode": {
    "name": "ipython",
    "version": 3
   },
   "file_extension": ".py",
   "mimetype": "text/x-python",
   "name": "python",
   "nbconvert_exporter": "python",
   "pygments_lexer": "ipython3",
   "version": "3.10.9"
  },
  "orig_nbformat": 4,
  "vscode": {
   "interpreter": {
    "hash": "6adf11b20df8b67667ce4d679979abaa8bc2408a2827d6efeadc4d9618f7bafb"
   }
  }
 },
 "nbformat": 4,
 "nbformat_minor": 2
}
