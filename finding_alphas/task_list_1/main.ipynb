{
 "cells": [
  {
   "cell_type": "code",
   "execution_count": 1,
   "metadata": {},
   "outputs": [],
   "source": [
    "import pandas as pd\n",
    "import numpy as np\n",
    "from scipy import stats\n",
    "import matplotlib.pyplot as plt\n",
    "import matplotlib.ticker as ticker\n",
    "import scipy"
   ]
  },
  {
   "cell_type": "code",
   "execution_count": 2,
   "metadata": {},
   "outputs": [
    {
     "data": {
      "text/plain": [
       "array([['', '2010-01-04', '2010-01-05', ..., '2014-12-29', '2014-12-30',\n",
       "        '2014-12-31'],\n",
       "       ['iba.us', '20.225', '20.858', ..., '47.72', '47.682', '47.295'],\n",
       "       ['wpz.us', '22.355', '22.589', ..., '41.219', '40.509', '40.116'],\n",
       "       ...,\n",
       "       ['atu.us', '18.69', '18.78', ..., '27.525', '27.465', '27.088'],\n",
       "       ['co.us', '303.66', '301.2', ..., '34.65', '31.5', '32.55'],\n",
       "       ['apf.us', '12.231', '12.305', ..., '14.463', '14.493', '14.532']],\n",
       "      dtype='<U11')"
      ]
     },
     "execution_count": 2,
     "metadata": {},
     "output_type": "execute_result"
    }
   ],
   "source": [
    "data_arr = np.loadtxt(\"../data/Close.csv\", delimiter=',', dtype=str)\n",
    "data_arr"
   ]
  },
  {
   "cell_type": "code",
   "execution_count": 3,
   "metadata": {},
   "outputs": [
    {
     "data": {
      "text/plain": [
       "array([[ 20.225 ,  20.858 ,  20.612 , ...,  47.72  ,  47.682 ,  47.295 ],\n",
       "       [ 22.355 ,  22.589 ,  22.637 , ...,  41.219 ,  40.509 ,  40.116 ],\n",
       "       [  9.3094,   9.1551,   9.0008, ...,  17.816 ,  17.388 ,  17.529 ],\n",
       "       ...,\n",
       "       [ 18.69  ,  18.78  ,  18.89  , ...,  27.525 ,  27.465 ,  27.088 ],\n",
       "       [303.66  , 301.2   , 302.01  , ...,  34.65  ,  31.5   ,  32.55  ],\n",
       "       [ 12.231 ,  12.305 ,  12.395 , ...,  14.463 ,  14.493 ,  14.532 ]])"
      ]
     },
     "execution_count": 3,
     "metadata": {},
     "output_type": "execute_result"
    }
   ],
   "source": [
    "data_arr = np.delete(np.delete(data_arr, 0, 0), 0, 1).astype(np.float64)\n",
    "data_arr"
   ]
  },
  {
   "attachments": {},
   "cell_type": "markdown",
   "metadata": {},
   "source": [
    "### Task 0"
   ]
  },
  {
   "cell_type": "code",
   "execution_count": 4,
   "metadata": {},
   "outputs": [],
   "source": [
    "# numpy version\n",
    "def get_returns(data):\n",
    "    temp = np.lib.stride_tricks.sliding_window_view(data, (1,2))\n",
    "    lambda_returns = lambda x: x[..., 1] / x[..., 0]\n",
    "    returns = lambda_returns(temp).reshape(data.shape[0], data.shape[1] - 1)\n",
    "    return returns"
   ]
  },
  {
   "cell_type": "code",
   "execution_count": 5,
   "metadata": {},
   "outputs": [],
   "source": [
    "def correct_wrong_values(data, scale):\n",
    "    err_coord_low = np.where(get_returns(data) <= (1 / scale))\n",
    "    err_coord_high = np.where(get_returns(data) >= scale)\n",
    "    for i in range(len(err_coord_low[0])):\n",
    "        id_low_0 = err_coord_low[0][i]\n",
    "        id_low_1 = err_coord_low[1][i]\n",
    "        \n",
    "        id_high_0 = err_coord_high[0][i]\n",
    "        id_high_1 = err_coord_high[1][i]\n",
    "\n",
    "        if 0.5 < data[id_high_0][id_low_1] / data[id_high_0][id_high_1 + 1] < 2:        # if the price has dropped\n",
    "            data[id_high_0][id_high_1] = data[id_high_0][id_high_1 + 1]\n",
    "\n",
    "        if 0.5 < data[id_high_0][id_high_1] / data[id_high_0][id_low_1 + 1] < 2:        # If the price went up\n",
    "            data[id_high_0][id_low_1] = data[id_high_0][id_low_1 + 1]"
   ]
  },
  {
   "attachments": {},
   "cell_type": "markdown",
   "metadata": {},
   "source": [
    "##### test "
   ]
  },
  {
   "cell_type": "code",
   "execution_count": 6,
   "metadata": {},
   "outputs": [
    {
     "data": {
      "text/plain": [
       "array([[1.0312979 , 0.98820596, 1.0034446 , ..., 0.99561861, 0.99920369,\n",
       "        0.99188373],\n",
       "       [1.01046746, 1.00212493, 0.98374343, ..., 0.99934539, 0.98277493,\n",
       "        0.99029845],\n",
       "       [0.98342536, 0.98314601, 1.00218869, ..., 1.00462389, 0.97597665,\n",
       "        1.00810904],\n",
       "       ...,\n",
       "       [1.00481541, 1.00585729, 1.01508735, ..., 1.00728244, 0.99782016,\n",
       "        0.98627344],\n",
       "       [0.99189883, 1.00268924, 0.96923943, ..., 0.97058824, 0.90909091,\n",
       "        1.03333333],\n",
       "       [1.0060502 , 1.0073141 , 0.99596612, ..., 0.99724195, 1.00207426,\n",
       "        1.00269095]])"
      ]
     },
     "execution_count": 6,
     "metadata": {},
     "output_type": "execute_result"
    }
   ],
   "source": [
    "data_returns = get_returns(data_arr)\n",
    "data_returns"
   ]
  },
  {
   "cell_type": "code",
   "execution_count": 7,
   "metadata": {},
   "outputs": [
    {
     "name": "stdout",
     "output_type": "stream",
     "text": [
      "[ 178  185  565  569  592  592  772 1315 1528 1657 1805 2144 2313]\n",
      "[ 901  679 1046  255  177  747  273  566  154  305  855  982  903]\n",
      "correct wrong values\n",
      "[569 772]\n",
      "[254 272]\n"
     ]
    }
   ],
   "source": [
    "scale = 9\n",
    "print(np.where(get_returns(data_arr) >= scale)[0])\n",
    "print(np.where(get_returns(data_arr) >= scale)[1])\n",
    "print('correct wrong values')\n",
    "correct_wrong_values(data_arr, scale)\n",
    "print(np.where(get_returns(data_arr) >= scale)[0])\n",
    "print(np.where(get_returns(data_arr) >= scale)[1])"
   ]
  },
  {
   "attachments": {},
   "cell_type": "markdown",
   "metadata": {},
   "source": [
    "### Task 1"
   ]
  },
  {
   "cell_type": "code",
   "execution_count": 8,
   "metadata": {},
   "outputs": [],
   "source": [
    "def neutralize(alpha):\n",
    "    return alpha - np.mean(alpha)"
   ]
  },
  {
   "attachments": {},
   "cell_type": "markdown",
   "metadata": {},
   "source": [
    "##### test"
   ]
  },
  {
   "cell_type": "code",
   "execution_count": 9,
   "metadata": {},
   "outputs": [
    {
     "name": "stdout",
     "output_type": "stream",
     "text": [
      "[-11.    3.1   2.   10.    4.    5.    6.    7.   10. ]\n",
      "neutralize\n",
      "0.0\n"
     ]
    }
   ],
   "source": [
    "alpha = np.array([-11, 3.1, 2, 10, 4, 5, 6, 7, 10])\n",
    "print(alpha)\n",
    "print('neutralize')\n",
    "print(sum(neutralize(alpha)))"
   ]
  },
  {
   "attachments": {},
   "cell_type": "markdown",
   "metadata": {},
   "source": [
    "### Task 2"
   ]
  },
  {
   "cell_type": "code",
   "execution_count": 10,
   "metadata": {},
   "outputs": [],
   "source": [
    "def normalize(alpha):\n",
    "    return alpha / np.sum(np.abs(alpha))"
   ]
  },
  {
   "attachments": {},
   "cell_type": "markdown",
   "metadata": {},
   "source": [
    "test"
   ]
  },
  {
   "cell_type": "code",
   "execution_count": 11,
   "metadata": {},
   "outputs": [
    {
     "name": "stdout",
     "output_type": "stream",
     "text": [
      "[-11.    3.1   2.   10.    4.    5.    6.    7.   10. ]\n",
      "normalize\n",
      "1.0\n"
     ]
    }
   ],
   "source": [
    "alpha = np.array([-11, 3.1, 2, 10, 4, 5, 6, 7, 10])\n",
    "print(alpha)\n",
    "print('normalize')\n",
    "print(sum(normalize(np.abs(alpha))))"
   ]
  },
  {
   "attachments": {},
   "cell_type": "markdown",
   "metadata": {},
   "source": [
    "### Task 3"
   ]
  },
  {
   "cell_type": "code",
   "execution_count": 12,
   "metadata": {},
   "outputs": [],
   "source": [
    "def truncate(alpha, max_weight, coef):\n",
    "    signs = (alpha / np.abs(alpha))\n",
    "    alpha[np.abs(alpha) > max_weight * coef] = max_weight * coef\n",
    "    alpha = alpha * signs\n",
    "    return alpha"
   ]
  },
  {
   "cell_type": "code",
   "execution_count": 13,
   "metadata": {},
   "outputs": [
    {
     "name": "stdout",
     "output_type": "stream",
     "text": [
      "[-11.    3.1   2.   10.    4.    5.    6.    7.   10. ]\n",
      "truncate\n",
      "[-8.1  3.1  2.   8.1  4.   5.   6.   7.   8.1]\n"
     ]
    }
   ],
   "source": [
    "alpha = np.array([-11, 3.1, 2, 10, 4, 5, 6, 7, 10])\n",
    "coef = 0.9\n",
    "max_weight = 9\n",
    "print(alpha)\n",
    "print('truncate')\n",
    "print(truncate(alpha, max_weight, coef))"
   ]
  },
  {
   "attachments": {},
   "cell_type": "markdown",
   "metadata": {},
   "source": [
    "### Task 4"
   ]
  },
  {
   "cell_type": "code",
   "execution_count": 14,
   "metadata": {},
   "outputs": [],
   "source": [
    "def get_returns(data):\n",
    "    temp = np.lib.stride_tricks.sliding_window_view(data, (1,2))\n",
    "    lambda_returns = lambda x: x[..., 1] / x[..., 0]\n",
    "    returns = lambda_returns(temp).reshape(data_arr.shape[0], data_arr.shape[1] - 1)\n",
    "    return returns"
   ]
  },
  {
   "cell_type": "code",
   "execution_count": 15,
   "metadata": {},
   "outputs": [
    {
     "name": "stdout",
     "output_type": "stream",
     "text": [
      "[[ 20.225   20.858   20.612  ...  47.72    47.682   47.295 ]\n",
      " [ 22.355   22.589   22.637  ...  41.219   40.509   40.116 ]\n",
      " [  9.3094   9.1551   9.0008 ...  17.816   17.388   17.529 ]\n",
      " ...\n",
      " [ 18.69    18.78    18.89   ...  27.525   27.465   27.088 ]\n",
      " [303.66   301.2    302.01   ...  34.65    31.5     32.55  ]\n",
      " [ 12.231   12.305   12.395  ...  14.463   14.493   14.532 ]]\n",
      "get_returns\n",
      "[[1.0312979  0.98820596 1.0034446  ... 0.99561861 0.99920369 0.99188373]\n",
      " [1.01046746 1.00212493 0.98374343 ... 0.99934539 0.98277493 0.99029845]\n",
      " [0.98342536 0.98314601 1.00218869 ... 1.00462389 0.97597665 1.00810904]\n",
      " ...\n",
      " [1.00481541 1.00585729 1.01508735 ... 1.00728244 0.99782016 0.98627344]\n",
      " [0.99189883 1.00268924 0.96923943 ... 0.97058824 0.90909091 1.03333333]\n",
      " [1.0060502  1.0073141  0.99596612 ... 0.99724195 1.00207426 1.00269095]]\n"
     ]
    }
   ],
   "source": [
    "print(data_arr)\n",
    "print('get_returns')\n",
    "print(get_returns(data_arr))\n",
    "np.save('../data/returns', get_returns(data_arr))"
   ]
  },
  {
   "attachments": {},
   "cell_type": "markdown",
   "metadata": {},
   "source": [
    "### Task 5"
   ]
  },
  {
   "cell_type": "code",
   "execution_count": 16,
   "metadata": {},
   "outputs": [],
   "source": [
    "def ranking(alpha):\n",
    "    alpha = scipy.stats.rankdata(alpha, method='ordinal') / (len(alpha) - 1)\n",
    "    return alpha"
   ]
  },
  {
   "cell_type": "code",
   "execution_count": 17,
   "metadata": {},
   "outputs": [
    {
     "name": "stdout",
     "output_type": "stream",
     "text": [
      "[-11.    3.1   2.   10.    4.    5.    6.    7.   10. ]\n",
      "ranking\n",
      "[0.125 0.375 0.25  1.    0.5   0.625 0.75  0.875 1.125]\n"
     ]
    }
   ],
   "source": [
    "alpha = np.array([-11, 3.1, 2, 10, 4, 5, 6, 7, 10])\n",
    "print(alpha)\n",
    "print('ranking')\n",
    "print(ranking(alpha))"
   ]
  },
  {
   "attachments": {},
   "cell_type": "markdown",
   "metadata": {},
   "source": [
    "### Task 6"
   ]
  },
  {
   "cell_type": "code",
   "execution_count": 18,
   "metadata": {},
   "outputs": [],
   "source": [
    "def cut_outliers(alpha, coef):\n",
    "    alpha[alpha < np.quantile(alpha, coef)] = 0\n",
    "    alpha[alpha > np.quantile(alpha, 1 - coef)] = 0\n",
    "    return alpha"
   ]
  },
  {
   "attachments": {},
   "cell_type": "markdown",
   "metadata": {},
   "source": [
    "##### test\n"
   ]
  },
  {
   "cell_type": "code",
   "execution_count": 19,
   "metadata": {},
   "outputs": [
    {
     "name": "stdout",
     "output_type": "stream",
     "text": [
      "[-11.    3.1   2.   10.    4.    5.    6.    7.   10.   12. ]\n",
      "cut_outliers\n",
      "[ 0.   3.1  2.  10.   4.   5.   6.   7.  10.   0. ]\n"
     ]
    }
   ],
   "source": [
    "alpha = np.array([-11, 3.1, 2, 10, 4, 5, 6, 7, 10, 12])\n",
    "coef = 0.01\n",
    "print(alpha)\n",
    "print('cut_outliers')\n",
    "print(cut_outliers(alpha, coef))"
   ]
  },
  {
   "attachments": {},
   "cell_type": "markdown",
   "metadata": {},
   "source": [
    "### Task 7\n"
   ]
  },
  {
   "cell_type": "code",
   "execution_count": 20,
   "metadata": {},
   "outputs": [],
   "source": [
    "def cut_middle(alpha, eps):\n",
    "    alpha[(alpha <= np.mean(alpha) + eps) & (alpha >= np.mean(alpha) - eps)] = 0\n",
    "    return alpha"
   ]
  },
  {
   "cell_type": "code",
   "execution_count": 21,
   "metadata": {},
   "outputs": [
    {
     "name": "stdout",
     "output_type": "stream",
     "text": [
      "[-11.    3.1   2.   10.    4.    5.    6.    7.   10.   12. ]\n",
      "cut_middle\n",
      "[-11.    3.1   2.   10.    0.    0.    6.    7.   10.   12. ]\n"
     ]
    }
   ],
   "source": [
    "alpha = np.array([-11, 3.1, 2, 10, 4, 5, 6, 7, 10, 12])\n",
    "print(alpha)\n",
    "eps = 1\n",
    "print('cut_middle')\n",
    "cut_middle(alpha, eps)\n",
    "print(alpha)"
   ]
  },
  {
   "attachments": {},
   "cell_type": "markdown",
   "metadata": {},
   "source": [
    "### Task 8"
   ]
  },
  {
   "cell_type": "code",
   "execution_count": 22,
   "metadata": {},
   "outputs": [],
   "source": [
    "def apply_function(alpha, func):\n",
    "    new_func = np.vectorize(func)\n",
    "    return new_func(alpha)"
   ]
  },
  {
   "attachments": {},
   "cell_type": "markdown",
   "metadata": {},
   "source": [
    "test"
   ]
  },
  {
   "cell_type": "code",
   "execution_count": 23,
   "metadata": {},
   "outputs": [],
   "source": [
    "def test_func_1(value):\n",
    "    return np.log(np.sqrt(np.abs(value)) + 1) / np.pi"
   ]
  },
  {
   "cell_type": "code",
   "execution_count": 24,
   "metadata": {},
   "outputs": [],
   "source": [
    "def test_func_2(value):\n",
    "    if np.abs(value) > 0.1:\n",
    "        return value * 0.9\n",
    "    return value"
   ]
  },
  {
   "cell_type": "code",
   "execution_count": 25,
   "metadata": {},
   "outputs": [
    {
     "name": "stdout",
     "output_type": "stream",
     "text": [
      "[-11.    3.1   2.   10.    4.    5.    6.    7.   10.   12. ]\n",
      "[-11.    3.1   2.   10.    4.    5.    6.    7.   10.   12. ]\n"
     ]
    }
   ],
   "source": [
    "alpha = np.array([-11, 3.1, 2, 10, 4, 5, 6, 7, 10, 12])\n",
    "sign = alpha / abs(alpha)\n",
    "print(alpha)\n",
    "alpha = apply_function(alpha, test_func_1)\n",
    "print(sign * (np.exp((alpha * np.pi)) - 1) ** 2)"
   ]
  },
  {
   "cell_type": "code",
   "execution_count": 26,
   "metadata": {},
   "outputs": [
    {
     "name": "stdout",
     "output_type": "stream",
     "text": [
      "[-0.15691869  0.04422254  0.02853067  0.14265335  0.05706134  0.07132668\n",
      "  0.08559201  0.09985735  0.14265335  0.17118402]\n",
      "apply_function\n",
      "[-0.01569187  0.          0.          0.01426534  0.          0.\n",
      "  0.          0.          0.01426534  0.0171184 ]\n"
     ]
    }
   ],
   "source": [
    "alpha = np.array([-11, 3.1, 2, 10, 4, 5, 6, 7, 10, 12])\n",
    "alpha = normalize(alpha)\n",
    "print(alpha)\n",
    "print('apply_function')\n",
    "print(alpha - apply_function(alpha, test_func_2))"
   ]
  },
  {
   "attachments": {},
   "cell_type": "markdown",
   "metadata": {},
   "source": [
    "### Task 9"
   ]
  },
  {
   "cell_type": "code",
   "execution_count": 27,
   "metadata": {},
   "outputs": [
    {
     "data": {
      "text/html": [
       "<div>\n",
       "<style scoped>\n",
       "    .dataframe tbody tr th:only-of-type {\n",
       "        vertical-align: middle;\n",
       "    }\n",
       "\n",
       "    .dataframe tbody tr th {\n",
       "        vertical-align: top;\n",
       "    }\n",
       "\n",
       "    .dataframe thead th {\n",
       "        text-align: right;\n",
       "    }\n",
       "</style>\n",
       "<table border=\"1\" class=\"dataframe\">\n",
       "  <thead>\n",
       "    <tr style=\"text-align: right;\">\n",
       "      <th></th>\n",
       "      <th>0</th>\n",
       "      <th>1</th>\n",
       "      <th>2</th>\n",
       "      <th>3</th>\n",
       "      <th>4</th>\n",
       "      <th>5</th>\n",
       "      <th>6</th>\n",
       "      <th>7</th>\n",
       "      <th>8</th>\n",
       "      <th>9</th>\n",
       "      <th>...</th>\n",
       "      <th>2426</th>\n",
       "      <th>2427</th>\n",
       "      <th>2428</th>\n",
       "      <th>2429</th>\n",
       "      <th>2430</th>\n",
       "      <th>2431</th>\n",
       "      <th>2432</th>\n",
       "      <th>2433</th>\n",
       "      <th>2434</th>\n",
       "      <th>2435</th>\n",
       "    </tr>\n",
       "  </thead>\n",
       "  <tbody>\n",
       "    <tr>\n",
       "      <th>2010-01-04</th>\n",
       "      <td>20.225</td>\n",
       "      <td>22.355</td>\n",
       "      <td>9.3094</td>\n",
       "      <td>10.2</td>\n",
       "      <td>3.4959</td>\n",
       "      <td>9.955</td>\n",
       "      <td>26.66</td>\n",
       "      <td>11.898</td>\n",
       "      <td>9.4832</td>\n",
       "      <td>16.594</td>\n",
       "      <td>...</td>\n",
       "      <td>2.9896</td>\n",
       "      <td>21.9</td>\n",
       "      <td>19.27</td>\n",
       "      <td>12.832</td>\n",
       "      <td>17.76</td>\n",
       "      <td>7.7942</td>\n",
       "      <td>33.864</td>\n",
       "      <td>18.69</td>\n",
       "      <td>303.66</td>\n",
       "      <td>12.231</td>\n",
       "    </tr>\n",
       "    <tr>\n",
       "      <th>2010-01-05</th>\n",
       "      <td>20.858</td>\n",
       "      <td>22.589</td>\n",
       "      <td>9.1551</td>\n",
       "      <td>10.25</td>\n",
       "      <td>3.4577</td>\n",
       "      <td>10.022</td>\n",
       "      <td>26.57</td>\n",
       "      <td>11.954</td>\n",
       "      <td>9.511</td>\n",
       "      <td>16.765</td>\n",
       "      <td>...</td>\n",
       "      <td>3.0673</td>\n",
       "      <td>20.91</td>\n",
       "      <td>19.466</td>\n",
       "      <td>13.234</td>\n",
       "      <td>17.88</td>\n",
       "      <td>7.84</td>\n",
       "      <td>34.744</td>\n",
       "      <td>18.78</td>\n",
       "      <td>301.2</td>\n",
       "      <td>12.305</td>\n",
       "    </tr>\n",
       "    <tr>\n",
       "      <th>2010-01-06</th>\n",
       "      <td>20.612</td>\n",
       "      <td>22.637</td>\n",
       "      <td>9.0008</td>\n",
       "      <td>10.05</td>\n",
       "      <td>3.3339</td>\n",
       "      <td>10.217</td>\n",
       "      <td>26.92</td>\n",
       "      <td>11.594</td>\n",
       "      <td>9.515</td>\n",
       "      <td>16.779</td>\n",
       "      <td>...</td>\n",
       "      <td>3.039</td>\n",
       "      <td>20.8</td>\n",
       "      <td>19.57</td>\n",
       "      <td>13.442</td>\n",
       "      <td>16.68</td>\n",
       "      <td>7.8477</td>\n",
       "      <td>35.07</td>\n",
       "      <td>18.89</td>\n",
       "      <td>302.01</td>\n",
       "      <td>12.395</td>\n",
       "    </tr>\n",
       "    <tr>\n",
       "      <th>2010-01-07</th>\n",
       "      <td>20.683</td>\n",
       "      <td>22.269</td>\n",
       "      <td>9.0205</td>\n",
       "      <td>10.4</td>\n",
       "      <td>3.5341</td>\n",
       "      <td>10.115</td>\n",
       "      <td>26.5</td>\n",
       "      <td>11.695</td>\n",
       "      <td>9.772</td>\n",
       "      <td>16.454</td>\n",
       "      <td>...</td>\n",
       "      <td>3.2582</td>\n",
       "      <td>21.65</td>\n",
       "      <td>19.613</td>\n",
       "      <td>13.12</td>\n",
       "      <td>17.52</td>\n",
       "      <td>7.8707</td>\n",
       "      <td>34.599</td>\n",
       "      <td>19.175</td>\n",
       "      <td>292.72</td>\n",
       "      <td>12.345</td>\n",
       "    </tr>\n",
       "    <tr>\n",
       "      <th>2010-01-08</th>\n",
       "      <td>21.085</td>\n",
       "      <td>22.192</td>\n",
       "      <td>8.9584</td>\n",
       "      <td>11.35</td>\n",
       "      <td>3.4197</td>\n",
       "      <td>10.149</td>\n",
       "      <td>26.19</td>\n",
       "      <td>11.485</td>\n",
       "      <td>9.806</td>\n",
       "      <td>16.779</td>\n",
       "      <td>...</td>\n",
       "      <td>3.2016</td>\n",
       "      <td>21.25</td>\n",
       "      <td>19.57</td>\n",
       "      <td>13.106</td>\n",
       "      <td>17.52</td>\n",
       "      <td>7.8785</td>\n",
       "      <td>34.813</td>\n",
       "      <td>19.474</td>\n",
       "      <td>296.55</td>\n",
       "      <td>12.435</td>\n",
       "    </tr>\n",
       "    <tr>\n",
       "      <th>...</th>\n",
       "      <td>...</td>\n",
       "      <td>...</td>\n",
       "      <td>...</td>\n",
       "      <td>...</td>\n",
       "      <td>...</td>\n",
       "      <td>...</td>\n",
       "      <td>...</td>\n",
       "      <td>...</td>\n",
       "      <td>...</td>\n",
       "      <td>...</td>\n",
       "      <td>...</td>\n",
       "      <td>...</td>\n",
       "      <td>...</td>\n",
       "      <td>...</td>\n",
       "      <td>...</td>\n",
       "      <td>...</td>\n",
       "      <td>...</td>\n",
       "      <td>...</td>\n",
       "      <td>...</td>\n",
       "      <td>...</td>\n",
       "      <td>...</td>\n",
       "    </tr>\n",
       "    <tr>\n",
       "      <th>2014-12-24</th>\n",
       "      <td>48.145</td>\n",
       "      <td>41.828</td>\n",
       "      <td>17.05</td>\n",
       "      <td>17.78</td>\n",
       "      <td>13.213</td>\n",
       "      <td>7.55</td>\n",
       "      <td>36.5</td>\n",
       "      <td>16.755</td>\n",
       "      <td>13.754</td>\n",
       "      <td>11.827</td>\n",
       "      <td>...</td>\n",
       "      <td>5.6688</td>\n",
       "      <td>63.86</td>\n",
       "      <td>50.39</td>\n",
       "      <td>15.642</td>\n",
       "      <td>11.88</td>\n",
       "      <td>15.249</td>\n",
       "      <td>46.497</td>\n",
       "      <td>27.058</td>\n",
       "      <td>35.7</td>\n",
       "      <td>14.444</td>\n",
       "    </tr>\n",
       "    <tr>\n",
       "      <th>2014-12-26</th>\n",
       "      <td>47.93</td>\n",
       "      <td>41.246</td>\n",
       "      <td>17.734</td>\n",
       "      <td>18.01</td>\n",
       "      <td>13.383</td>\n",
       "      <td>7.49</td>\n",
       "      <td>36.65</td>\n",
       "      <td>16.391</td>\n",
       "      <td>13.805</td>\n",
       "      <td>12.041</td>\n",
       "      <td>...</td>\n",
       "      <td>5.6144</td>\n",
       "      <td>65.37</td>\n",
       "      <td>50.634</td>\n",
       "      <td>15.908</td>\n",
       "      <td>11.1</td>\n",
       "      <td>15.34</td>\n",
       "      <td>45.27</td>\n",
       "      <td>27.326</td>\n",
       "      <td>35.7</td>\n",
       "      <td>14.503</td>\n",
       "    </tr>\n",
       "    <tr>\n",
       "      <th>2014-12-29</th>\n",
       "      <td>47.72</td>\n",
       "      <td>41.219</td>\n",
       "      <td>17.816</td>\n",
       "      <td>18.65</td>\n",
       "      <td>13.261</td>\n",
       "      <td>7.72</td>\n",
       "      <td>35.46</td>\n",
       "      <td>16.541</td>\n",
       "      <td>13.898</td>\n",
       "      <td>12.041</td>\n",
       "      <td>...</td>\n",
       "      <td>5.6235</td>\n",
       "      <td>64.1</td>\n",
       "      <td>52.36</td>\n",
       "      <td>15.678</td>\n",
       "      <td>10.8</td>\n",
       "      <td>15.443</td>\n",
       "      <td>45.854</td>\n",
       "      <td>27.525</td>\n",
       "      <td>34.65</td>\n",
       "      <td>14.463</td>\n",
       "    </tr>\n",
       "    <tr>\n",
       "      <th>2014-12-30</th>\n",
       "      <td>47.682</td>\n",
       "      <td>40.509</td>\n",
       "      <td>17.388</td>\n",
       "      <td>18.56</td>\n",
       "      <td>13.173</td>\n",
       "      <td>7.43</td>\n",
       "      <td>34.83</td>\n",
       "      <td>16.521</td>\n",
       "      <td>13.83</td>\n",
       "      <td>11.888</td>\n",
       "      <td>...</td>\n",
       "      <td>5.6325</td>\n",
       "      <td>63.36</td>\n",
       "      <td>50.88</td>\n",
       "      <td>15.925</td>\n",
       "      <td>10.92</td>\n",
       "      <td>15.434</td>\n",
       "      <td>45.374</td>\n",
       "      <td>27.465</td>\n",
       "      <td>31.5</td>\n",
       "      <td>14.493</td>\n",
       "    </tr>\n",
       "    <tr>\n",
       "      <th>2014-12-31</th>\n",
       "      <td>47.295</td>\n",
       "      <td>40.116</td>\n",
       "      <td>17.529</td>\n",
       "      <td>18.52</td>\n",
       "      <td>12.975</td>\n",
       "      <td>7.34</td>\n",
       "      <td>34.06</td>\n",
       "      <td>16.408</td>\n",
       "      <td>13.677</td>\n",
       "      <td>11.711</td>\n",
       "      <td>...</td>\n",
       "      <td>5.5421</td>\n",
       "      <td>62.68</td>\n",
       "      <td>49.959</td>\n",
       "      <td>16.093</td>\n",
       "      <td>11.16</td>\n",
       "      <td>15.136</td>\n",
       "      <td>45.47</td>\n",
       "      <td>27.088</td>\n",
       "      <td>32.55</td>\n",
       "      <td>14.532</td>\n",
       "    </tr>\n",
       "  </tbody>\n",
       "</table>\n",
       "<p>1257 rows × 2436 columns</p>\n",
       "</div>"
      ],
      "text/plain": [
       "              0       1       2      3       4       5      6       7     \\\n",
       "2010-01-04  20.225  22.355  9.3094   10.2  3.4959   9.955  26.66  11.898   \n",
       "2010-01-05  20.858  22.589  9.1551  10.25  3.4577  10.022  26.57  11.954   \n",
       "2010-01-06  20.612  22.637  9.0008  10.05  3.3339  10.217  26.92  11.594   \n",
       "2010-01-07  20.683  22.269  9.0205   10.4  3.5341  10.115   26.5  11.695   \n",
       "2010-01-08  21.085  22.192  8.9584  11.35  3.4197  10.149  26.19  11.485   \n",
       "...            ...     ...     ...    ...     ...     ...    ...     ...   \n",
       "2014-12-24  48.145  41.828   17.05  17.78  13.213    7.55   36.5  16.755   \n",
       "2014-12-26   47.93  41.246  17.734  18.01  13.383    7.49  36.65  16.391   \n",
       "2014-12-29   47.72  41.219  17.816  18.65  13.261    7.72  35.46  16.541   \n",
       "2014-12-30  47.682  40.509  17.388  18.56  13.173    7.43  34.83  16.521   \n",
       "2014-12-31  47.295  40.116  17.529  18.52  12.975    7.34  34.06  16.408   \n",
       "\n",
       "              8       9     ...    2426   2427    2428    2429   2430    2431  \\\n",
       "2010-01-04  9.4832  16.594  ...  2.9896   21.9   19.27  12.832  17.76  7.7942   \n",
       "2010-01-05   9.511  16.765  ...  3.0673  20.91  19.466  13.234  17.88    7.84   \n",
       "2010-01-06   9.515  16.779  ...   3.039   20.8   19.57  13.442  16.68  7.8477   \n",
       "2010-01-07   9.772  16.454  ...  3.2582  21.65  19.613   13.12  17.52  7.8707   \n",
       "2010-01-08   9.806  16.779  ...  3.2016  21.25   19.57  13.106  17.52  7.8785   \n",
       "...            ...     ...  ...     ...    ...     ...     ...    ...     ...   \n",
       "2014-12-24  13.754  11.827  ...  5.6688  63.86   50.39  15.642  11.88  15.249   \n",
       "2014-12-26  13.805  12.041  ...  5.6144  65.37  50.634  15.908   11.1   15.34   \n",
       "2014-12-29  13.898  12.041  ...  5.6235   64.1   52.36  15.678   10.8  15.443   \n",
       "2014-12-30   13.83  11.888  ...  5.6325  63.36   50.88  15.925  10.92  15.434   \n",
       "2014-12-31  13.677  11.711  ...  5.5421  62.68  49.959  16.093  11.16  15.136   \n",
       "\n",
       "              2432    2433    2434    2435  \n",
       "2010-01-04  33.864   18.69  303.66  12.231  \n",
       "2010-01-05  34.744   18.78   301.2  12.305  \n",
       "2010-01-06   35.07   18.89  302.01  12.395  \n",
       "2010-01-07  34.599  19.175  292.72  12.345  \n",
       "2010-01-08  34.813  19.474  296.55  12.435  \n",
       "...            ...     ...     ...     ...  \n",
       "2014-12-24  46.497  27.058    35.7  14.444  \n",
       "2014-12-26   45.27  27.326    35.7  14.503  \n",
       "2014-12-29  45.854  27.525   34.65  14.463  \n",
       "2014-12-30  45.374  27.465    31.5  14.493  \n",
       "2014-12-31   45.47  27.088   32.55  14.532  \n",
       "\n",
       "[1257 rows x 2436 columns]"
      ]
     },
     "execution_count": 27,
     "metadata": {},
     "output_type": "execute_result"
    }
   ],
   "source": [
    "data_pd = pd.read_csv('../data/Close.csv').T.drop(labels='Unnamed: 0', axis=0)\n",
    "data_pd.index = data_pd.index.astype('datetime64')\n",
    "data_pd"
   ]
  },
  {
   "cell_type": "code",
   "execution_count": 28,
   "metadata": {},
   "outputs": [],
   "source": [
    "def alpha_reversion(data):\n",
    "    alpha = -data.rolling(2).apply(lambda x: x.iloc[1] / x.iloc[0] - 1)\n",
    "    alpha = alpha.T.apply(neutralize).apply(normalize).T\n",
    "    return alpha"
   ]
  },
  {
   "cell_type": "code",
   "execution_count": 42,
   "metadata": {},
   "outputs": [],
   "source": [
    "data_little = data_pd[240:260][[x for x in range(3)]]\n",
    "data_little.to_csv('../data/data_little.csv')"
   ]
  },
  {
   "cell_type": "code",
   "execution_count": 43,
   "metadata": {},
   "outputs": [
    {
     "data": {
      "text/html": [
       "<div>\n",
       "<style scoped>\n",
       "    .dataframe tbody tr th:only-of-type {\n",
       "        vertical-align: middle;\n",
       "    }\n",
       "\n",
       "    .dataframe tbody tr th {\n",
       "        vertical-align: top;\n",
       "    }\n",
       "\n",
       "    .dataframe thead th {\n",
       "        text-align: right;\n",
       "    }\n",
       "</style>\n",
       "<table border=\"1\" class=\"dataframe\">\n",
       "  <thead>\n",
       "    <tr style=\"text-align: right;\">\n",
       "      <th></th>\n",
       "      <th>0</th>\n",
       "      <th>1</th>\n",
       "      <th>2</th>\n",
       "    </tr>\n",
       "  </thead>\n",
       "  <tbody>\n",
       "    <tr>\n",
       "      <th>2010-12-15</th>\n",
       "      <td>NaN</td>\n",
       "      <td>NaN</td>\n",
       "      <td>NaN</td>\n",
       "    </tr>\n",
       "    <tr>\n",
       "      <th>2010-12-16</th>\n",
       "      <td>-0.500000</td>\n",
       "      <td>0.189123</td>\n",
       "      <td>0.310877</td>\n",
       "    </tr>\n",
       "    <tr>\n",
       "      <th>2010-12-17</th>\n",
       "      <td>0.283653</td>\n",
       "      <td>-0.500000</td>\n",
       "      <td>0.216347</td>\n",
       "    </tr>\n",
       "    <tr>\n",
       "      <th>2010-12-20</th>\n",
       "      <td>0.494299</td>\n",
       "      <td>0.005701</td>\n",
       "      <td>-0.500000</td>\n",
       "    </tr>\n",
       "    <tr>\n",
       "      <th>2010-12-21</th>\n",
       "      <td>-0.176414</td>\n",
       "      <td>0.500000</td>\n",
       "      <td>-0.323586</td>\n",
       "    </tr>\n",
       "    <tr>\n",
       "      <th>2010-12-22</th>\n",
       "      <td>0.276795</td>\n",
       "      <td>0.223205</td>\n",
       "      <td>-0.500000</td>\n",
       "    </tr>\n",
       "    <tr>\n",
       "      <th>2010-12-23</th>\n",
       "      <td>0.437558</td>\n",
       "      <td>-0.500000</td>\n",
       "      <td>0.062442</td>\n",
       "    </tr>\n",
       "    <tr>\n",
       "      <th>2010-12-27</th>\n",
       "      <td>0.500000</td>\n",
       "      <td>-0.122068</td>\n",
       "      <td>-0.377932</td>\n",
       "    </tr>\n",
       "    <tr>\n",
       "      <th>2010-12-28</th>\n",
       "      <td>0.184245</td>\n",
       "      <td>-0.500000</td>\n",
       "      <td>0.315755</td>\n",
       "    </tr>\n",
       "    <tr>\n",
       "      <th>2010-12-29</th>\n",
       "      <td>-0.500000</td>\n",
       "      <td>0.171307</td>\n",
       "      <td>0.328693</td>\n",
       "    </tr>\n",
       "    <tr>\n",
       "      <th>2010-12-30</th>\n",
       "      <td>0.144771</td>\n",
       "      <td>-0.500000</td>\n",
       "      <td>0.355229</td>\n",
       "    </tr>\n",
       "    <tr>\n",
       "      <th>2010-12-31</th>\n",
       "      <td>-0.500000</td>\n",
       "      <td>0.076449</td>\n",
       "      <td>0.423551</td>\n",
       "    </tr>\n",
       "    <tr>\n",
       "      <th>2011-01-03</th>\n",
       "      <td>0.500000</td>\n",
       "      <td>-0.467630</td>\n",
       "      <td>-0.032370</td>\n",
       "    </tr>\n",
       "    <tr>\n",
       "      <th>2011-01-04</th>\n",
       "      <td>-0.500000</td>\n",
       "      <td>0.192749</td>\n",
       "      <td>0.307251</td>\n",
       "    </tr>\n",
       "    <tr>\n",
       "      <th>2011-01-05</th>\n",
       "      <td>-0.402517</td>\n",
       "      <td>0.500000</td>\n",
       "      <td>-0.097483</td>\n",
       "    </tr>\n",
       "    <tr>\n",
       "      <th>2011-01-06</th>\n",
       "      <td>-0.500000</td>\n",
       "      <td>0.226036</td>\n",
       "      <td>0.273964</td>\n",
       "    </tr>\n",
       "    <tr>\n",
       "      <th>2011-01-07</th>\n",
       "      <td>-0.500000</td>\n",
       "      <td>0.090674</td>\n",
       "      <td>0.409326</td>\n",
       "    </tr>\n",
       "    <tr>\n",
       "      <th>2011-01-10</th>\n",
       "      <td>-0.213768</td>\n",
       "      <td>-0.286232</td>\n",
       "      <td>0.500000</td>\n",
       "    </tr>\n",
       "    <tr>\n",
       "      <th>2011-01-11</th>\n",
       "      <td>0.040689</td>\n",
       "      <td>0.459311</td>\n",
       "      <td>-0.500000</td>\n",
       "    </tr>\n",
       "    <tr>\n",
       "      <th>2011-01-12</th>\n",
       "      <td>0.084266</td>\n",
       "      <td>0.415734</td>\n",
       "      <td>-0.500000</td>\n",
       "    </tr>\n",
       "  </tbody>\n",
       "</table>\n",
       "</div>"
      ],
      "text/plain": [
       "                   0         1         2\n",
       "2010-12-15       NaN       NaN       NaN\n",
       "2010-12-16 -0.500000  0.189123  0.310877\n",
       "2010-12-17  0.283653 -0.500000  0.216347\n",
       "2010-12-20  0.494299  0.005701 -0.500000\n",
       "2010-12-21 -0.176414  0.500000 -0.323586\n",
       "2010-12-22  0.276795  0.223205 -0.500000\n",
       "2010-12-23  0.437558 -0.500000  0.062442\n",
       "2010-12-27  0.500000 -0.122068 -0.377932\n",
       "2010-12-28  0.184245 -0.500000  0.315755\n",
       "2010-12-29 -0.500000  0.171307  0.328693\n",
       "2010-12-30  0.144771 -0.500000  0.355229\n",
       "2010-12-31 -0.500000  0.076449  0.423551\n",
       "2011-01-03  0.500000 -0.467630 -0.032370\n",
       "2011-01-04 -0.500000  0.192749  0.307251\n",
       "2011-01-05 -0.402517  0.500000 -0.097483\n",
       "2011-01-06 -0.500000  0.226036  0.273964\n",
       "2011-01-07 -0.500000  0.090674  0.409326\n",
       "2011-01-10 -0.213768 -0.286232  0.500000\n",
       "2011-01-11  0.040689  0.459311 -0.500000\n",
       "2011-01-12  0.084266  0.415734 -0.500000"
      ]
     },
     "execution_count": 43,
     "metadata": {},
     "output_type": "execute_result"
    }
   ],
   "source": [
    "alpha_revers_little = alpha_reversion(data_little)\n",
    "alpha_revers_little"
   ]
  },
  {
   "cell_type": "code",
   "execution_count": 44,
   "metadata": {},
   "outputs": [
    {
     "name": "stdout",
     "output_type": "stream",
     "text": [
      "-5.551115123125783e-17\n",
      "1.0\n"
     ]
    }
   ],
   "source": [
    "print(sum(alpha_revers_little.iloc[5]))\n",
    "print(sum(abs(alpha_revers_little.iloc[5])))"
   ]
  },
  {
   "cell_type": "code",
   "execution_count": 45,
   "metadata": {},
   "outputs": [],
   "source": [
    "def turnover(alphas, option=0):\n",
    "    turnover_days = abs(alphas.diff(periods=1)).sum(axis=1)\n",
    "    if option == 1:\n",
    "        return turnover_days\n",
    "    return turnover_days.groupby(alphas.index.year).mean()"
   ]
  },
  {
   "attachments": {},
   "cell_type": "markdown",
   "metadata": {},
   "source": [
    "\n",
    "test"
   ]
  },
  {
   "cell_type": "code",
   "execution_count": 46,
   "metadata": {},
   "outputs": [
    {
     "name": "stdout",
     "output_type": "stream",
     "text": [
      "turnover\n",
      "mean_year: 2010    1.080252\n",
      "2011    1.083006\n",
      "dtype: float64\n",
      "days: 2010-12-15    0.000000\n",
      "2010-12-16    0.000000\n",
      "2010-12-17    1.567305\n",
      "2010-12-20    1.432695\n",
      "2010-12-21    1.341427\n",
      "2010-12-22    0.906418\n",
      "2010-12-23    1.446410\n",
      "2010-12-27    0.880749\n",
      "2010-12-28    1.387373\n",
      "2010-12-29    1.368491\n",
      "2010-12-30    1.342614\n",
      "2010-12-31    1.289542\n",
      "2011-01-03    2.000000\n",
      "2011-01-04    2.000000\n",
      "2011-01-05    0.809467\n",
      "2011-01-06    0.742893\n",
      "2011-01-07    0.270725\n",
      "2011-01-10    0.753811\n",
      "2011-01-11    2.000000\n",
      "2011-01-12    0.087154\n",
      "dtype: float64\n"
     ]
    }
   ],
   "source": [
    "print('turnover')\n",
    "print('mean_year:',turnover(alpha_revers_little))\n",
    "print('days:',turnover(alpha_revers_little, option=1))"
   ]
  },
  {
   "attachments": {},
   "cell_type": "markdown",
   "metadata": {},
   "source": [
    "### Task 11"
   ]
  },
  {
   "cell_type": "code",
   "execution_count": 47,
   "metadata": {},
   "outputs": [],
   "source": [
    "def get_returns(data):\n",
    "    return data.rolling(2).apply(lambda x: x.iloc[1] / x.iloc[0]).iloc[1:, :]"
   ]
  },
  {
   "cell_type": "code",
   "execution_count": 48,
   "metadata": {},
   "outputs": [
    {
     "name": "stdout",
     "output_type": "stream",
     "text": [
      "(19, 3)\n"
     ]
    },
    {
     "data": {
      "text/html": [
       "<div>\n",
       "<style scoped>\n",
       "    .dataframe tbody tr th:only-of-type {\n",
       "        vertical-align: middle;\n",
       "    }\n",
       "\n",
       "    .dataframe tbody tr th {\n",
       "        vertical-align: top;\n",
       "    }\n",
       "\n",
       "    .dataframe thead th {\n",
       "        text-align: right;\n",
       "    }\n",
       "</style>\n",
       "<table border=\"1\" class=\"dataframe\">\n",
       "  <thead>\n",
       "    <tr style=\"text-align: right;\">\n",
       "      <th></th>\n",
       "      <th>0</th>\n",
       "      <th>1</th>\n",
       "      <th>2</th>\n",
       "    </tr>\n",
       "  </thead>\n",
       "  <tbody>\n",
       "    <tr>\n",
       "      <th>2010-12-16</th>\n",
       "      <td>1.032448</td>\n",
       "      <td>0.995351</td>\n",
       "      <td>0.988797</td>\n",
       "    </tr>\n",
       "    <tr>\n",
       "      <th>2010-12-17</th>\n",
       "      <td>0.996120</td>\n",
       "      <td>1.020820</td>\n",
       "      <td>0.998242</td>\n",
       "    </tr>\n",
       "    <tr>\n",
       "      <th>2010-12-20</th>\n",
       "      <td>0.974269</td>\n",
       "      <td>0.991866</td>\n",
       "      <td>1.010078</td>\n",
       "    </tr>\n",
       "    <tr>\n",
       "      <th>2010-12-21</th>\n",
       "      <td>1.006737</td>\n",
       "      <td>0.998523</td>\n",
       "      <td>1.008525</td>\n",
       "    </tr>\n",
       "    <tr>\n",
       "      <th>2010-12-22</th>\n",
       "      <td>0.988222</td>\n",
       "      <td>0.989703</td>\n",
       "      <td>1.009701</td>\n",
       "    </tr>\n",
       "  </tbody>\n",
       "</table>\n",
       "</div>"
      ],
      "text/plain": [
       "                   0         1         2\n",
       "2010-12-16  1.032448  0.995351  0.988797\n",
       "2010-12-17  0.996120  1.020820  0.998242\n",
       "2010-12-20  0.974269  0.991866  1.010078\n",
       "2010-12-21  1.006737  0.998523  1.008525\n",
       "2010-12-22  0.988222  0.989703  1.009701"
      ]
     },
     "execution_count": 48,
     "metadata": {},
     "output_type": "execute_result"
    }
   ],
   "source": [
    "returns = get_returns(data_little)\n",
    "print(returns.shape)\n",
    "returns.head()"
   ]
  },
  {
   "cell_type": "code",
   "execution_count": 49,
   "metadata": {},
   "outputs": [
    {
     "name": "stdout",
     "output_type": "stream",
     "text": [
      "(20, 3)\n"
     ]
    },
    {
     "data": {
      "text/html": [
       "<div>\n",
       "<style scoped>\n",
       "    .dataframe tbody tr th:only-of-type {\n",
       "        vertical-align: middle;\n",
       "    }\n",
       "\n",
       "    .dataframe tbody tr th {\n",
       "        vertical-align: top;\n",
       "    }\n",
       "\n",
       "    .dataframe thead th {\n",
       "        text-align: right;\n",
       "    }\n",
       "</style>\n",
       "<table border=\"1\" class=\"dataframe\">\n",
       "  <thead>\n",
       "    <tr style=\"text-align: right;\">\n",
       "      <th></th>\n",
       "      <th>0</th>\n",
       "      <th>1</th>\n",
       "      <th>2</th>\n",
       "    </tr>\n",
       "  </thead>\n",
       "  <tbody>\n",
       "    <tr>\n",
       "      <th>2010-12-15</th>\n",
       "      <td>NaN</td>\n",
       "      <td>NaN</td>\n",
       "      <td>NaN</td>\n",
       "    </tr>\n",
       "    <tr>\n",
       "      <th>2010-12-16</th>\n",
       "      <td>-0.500000</td>\n",
       "      <td>0.189123</td>\n",
       "      <td>0.310877</td>\n",
       "    </tr>\n",
       "    <tr>\n",
       "      <th>2010-12-17</th>\n",
       "      <td>0.283653</td>\n",
       "      <td>-0.500000</td>\n",
       "      <td>0.216347</td>\n",
       "    </tr>\n",
       "    <tr>\n",
       "      <th>2010-12-20</th>\n",
       "      <td>0.494299</td>\n",
       "      <td>0.005701</td>\n",
       "      <td>-0.500000</td>\n",
       "    </tr>\n",
       "    <tr>\n",
       "      <th>2010-12-21</th>\n",
       "      <td>-0.176414</td>\n",
       "      <td>0.500000</td>\n",
       "      <td>-0.323586</td>\n",
       "    </tr>\n",
       "  </tbody>\n",
       "</table>\n",
       "</div>"
      ],
      "text/plain": [
       "                   0         1         2\n",
       "2010-12-15       NaN       NaN       NaN\n",
       "2010-12-16 -0.500000  0.189123  0.310877\n",
       "2010-12-17  0.283653 -0.500000  0.216347\n",
       "2010-12-20  0.494299  0.005701 -0.500000\n",
       "2010-12-21 -0.176414  0.500000 -0.323586"
      ]
     },
     "execution_count": 49,
     "metadata": {},
     "output_type": "execute_result"
    }
   ],
   "source": [
    "print(alpha_revers_little.shape)\n",
    "alpha_revers_little.head()"
   ]
  },
  {
   "cell_type": "code",
   "execution_count": 50,
   "metadata": {},
   "outputs": [],
   "source": [
    "def get_pnl_days(data, option=0):\n",
    "    alpha = alpha_reversion(data)\n",
    "    returns = get_returns(data)\n",
    "    pnl = alpha.reset_index().drop(columns='index').mul(returns.reset_index().drop(columns='index'), axis=0).sum(axis=1)\n",
    "    if option == 1:\n",
    "        ans = pd.DataFrame()\n",
    "        ans['pnl'] = pnl\n",
    "        ans = ans.set_index(alpha.index)\n",
    "        return ans\n",
    "    return pnl"
   ]
  },
  {
   "cell_type": "code",
   "execution_count": 51,
   "metadata": {},
   "outputs": [],
   "source": [
    "def get_pnl_cum(dataframe):\n",
    "    p_and_l = []\n",
    "    for i in range(len(dataframe)):\n",
    "        p_and_l.append(dataframe.head(i).sum())\n",
    "    return np.array(p_and_l)[-1]"
   ]
  },
  {
   "cell_type": "code",
   "execution_count": 52,
   "metadata": {},
   "outputs": [],
   "source": [
    "def get_pnl(data, option=0):\n",
    "    if option == 1:\n",
    "        return get_pnl_days(data, 1).groupby(get_pnl_days(data, 1).index.year).apply(get_pnl_cum)\n",
    "    return get_pnl_days(data)"
   ]
  },
  {
   "attachments": {},
   "cell_type": "markdown",
   "metadata": {},
   "source": [
    "test pnl for real data"
   ]
  },
  {
   "cell_type": "code",
   "execution_count": 55,
   "metadata": {},
   "outputs": [
    {
     "name": "stdout",
     "output_type": "stream",
     "text": [
      "years pnl cum: \n",
      " 2010    [-0.023129203083331315]\n",
      "2011    [-0.012681140687721734]\n",
      "dtype: object\n",
      "\n",
      "days pnl: \n",
      " 0     0.000000\n",
      "1     0.005331\n",
      "2    -0.001051\n",
      "3    -0.000940\n",
      "4    -0.006210\n",
      "5     0.000198\n",
      "6    -0.021428\n",
      "7    -0.000631\n",
      "8     0.001900\n",
      "9     0.000223\n",
      "10   -0.000521\n",
      "11    0.002678\n",
      "12    0.014094\n",
      "13   -0.002448\n",
      "14   -0.003992\n",
      "15   -0.007625\n",
      "16   -0.015614\n",
      "17    0.008897\n",
      "18   -0.005993\n",
      "19    0.000000\n",
      "dtype: float64\n"
     ]
    }
   ],
   "source": [
    "print('years pnl cum:', '\\n', get_pnl(data_little, 1))\n",
    "print()\n",
    "print('days pnl:', '\\n', get_pnl(data_little))"
   ]
  },
  {
   "attachments": {},
   "cell_type": "markdown",
   "metadata": {},
   "source": [
    "### Task 15"
   ]
  },
  {
   "cell_type": "code",
   "execution_count": 63,
   "metadata": {},
   "outputs": [],
   "source": [
    "def corr_btw_alphas(alpha_1, alpha_2):\n",
    "    return scipy.stats.pearsonr(alpha_1, alpha_2)"
   ]
  },
  {
   "cell_type": "code",
   "execution_count": 64,
   "metadata": {},
   "outputs": [
    {
     "name": "stdout",
     "output_type": "stream",
     "text": [
      "PearsonRResult(statistic=0.005528588903225884, pvalue=0.9879065814176226)\n",
      "PearsonRResult(statistic=0.9863939238321437, pvalue=0.0019012746601963688)\n"
     ]
    }
   ],
   "source": [
    "alpha_1 = np.random.rand(10)\n",
    "alpha_2 = np.random.rand(10)\n",
    "print(corr_btw_alphas(alpha_1, alpha_2))\n",
    "alpha_3 = [1, 2, 3, 4, 5]\n",
    "alpha_4 = [2, 3, 4, 5, 7]\n",
    "print(corr_btw_alphas(alpha_3, alpha_4))\n"
   ]
  },
  {
   "attachments": {},
   "cell_type": "markdown",
   "metadata": {},
   "source": [
    "### anything"
   ]
  },
  {
   "cell_type": "code",
   "execution_count": 41,
   "metadata": {},
   "outputs": [
    {
     "name": "stderr",
     "output_type": "stream",
     "text": [
      "No artists with labels found to put in legend.  Note that artists whose label start with an underscore are ignored when legend() is called with no argument.\n"
     ]
    },
    {
     "data": {
      "image/png": "[encoded data removed]",
      "text/plain": [
       "<Figure size 1000x500 with 1 Axes>"
      ]
     },
     "metadata": {},
     "output_type": "display_data"
    }
   ],
   "source": [
    "plt.rcParams['font.size'] = '10'\n",
    "fig, ax = plt.subplots()\n",
    "ax.plot()\n",
    "ax.plot(data_pd.index, data_arr[569], linewidth=2, label='')\n",
    "ax.plot(data_pd.index, data_arr[772], linewidth=2, label='')\n",
    "\n",
    "ax.grid(color = 'black', linewidth = 1, linestyle = '-')    \n",
    "plt.legend(loc = 'best', fancybox = True, shadow = True)\n",
    "\n",
    "\n",
    "plt.gca().xaxis.set_major_locator(ticker.MultipleLocator(250))  # интервал написания значений оси OX\n",
    "plt.gca().yaxis.set_major_locator(ticker.MultipleLocator(10))  # интервал написания значений оси OY\n",
    "\n",
    "plt.xticks(rotation=25)\n",
    "\n",
    "fig.set_figwidth(10)\n",
    "fig.set_figheight(5)\n",
    "\n",
    "plt.title(f'Process')\n",
    "plt.show()"
   ]
  },
  {
   "cell_type": "code",
   "execution_count": null,
   "metadata": {},
   "outputs": [],
   "source": []
  }
 ],
 "metadata": {
  "kernelspec": {
   "display_name": "env",
   "language": "python",
   "name": "python3"
  },
  "language_info": {
   "codemirror_mode": {
    "name": "ipython",
    "version": 3
   },
   "file_extension": ".py",
   "mimetype": "text/x-python",
   "name": "python",
   "nbconvert_exporter": "python",
   "pygments_lexer": "ipython3",
   "version": "3.10.9"
  },
  "orig_nbformat": 4,
  "vscode": {
   "interpreter": {
    "hash": "6adf11b20df8b67667ce4d679979abaa8bc2408a2827d6efeadc4d9618f7bafb"
   }
  }
 },
 "nbformat": 4,
 "nbformat_minor": 2
}
