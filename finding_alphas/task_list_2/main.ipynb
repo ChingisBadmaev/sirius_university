{
 "cells": [
  {
   "cell_type": "code",
   "execution_count": 1,
   "metadata": {},
   "outputs": [],
   "source": [
    "import pandas as pd\n",
    "import numpy as np\n",
    "from scipy import stats\n",
    "import matplotlib.pyplot as plt\n",
    "import matplotlib.ticker as ticker\n",
    "import scipy\n",
    "from tqdm import tqdm\n",
    "from tabulate import tabulate\n",
    "pd.options.display.expand_frame_repr = False"
   ]
  },
  {
   "cell_type": "code",
   "execution_count": 2,
   "metadata": {},
   "outputs": [],
   "source": [
    "import warnings\n",
    "warnings.filterwarnings(\"ignore\")"
   ]
  },
  {
   "cell_type": "code",
   "execution_count": 3,
   "metadata": {},
   "outputs": [],
   "source": [
    "data_close = pd.read_csv('../data_correct/Close_correct.csv', index_col='date')\n",
    "data_close.index = data_close.index.astype('datetime64').rename('date')\n",
    "\n",
    "data_open = pd.read_csv('../data_correct/Open_correct.csv', index_col='date')\n",
    "data_open.index = data_open.index.astype('datetime64').rename('date')\n",
    "\n",
    "data_low = pd.read_csv('../data_correct/Low_correct.csv', index_col='date')\n",
    "data_low.index = data_low.index.astype('datetime64').rename('date')\n",
    "\n",
    "data_high = pd.read_csv('../data_correct/High_correct.csv', index_col='date')\n",
    "data_high.index = data_high.index.astype('datetime64').rename('date')\n",
    "\n",
    "data_volume = pd.read_csv('../data/Volume.csv').T[1:]\n",
    "data_volume.index = data_volume.index.astype('datetime64').rename('date')\n",
    "data_volume = data_volume.astype('float64')\n"
   ]
  },
  {
   "cell_type": "code",
   "execution_count": 4,
   "metadata": {},
   "outputs": [
    {
     "data": {
      "text/html": [
       "<div>\n",
       "<style scoped>\n",
       "    .dataframe tbody tr th:only-of-type {\n",
       "        vertical-align: middle;\n",
       "    }\n",
       "\n",
       "    .dataframe tbody tr th {\n",
       "        vertical-align: top;\n",
       "    }\n",
       "\n",
       "    .dataframe thead th {\n",
       "        text-align: right;\n",
       "    }\n",
       "</style>\n",
       "<table border=\"1\" class=\"dataframe\">\n",
       "  <thead>\n",
       "    <tr style=\"text-align: right;\">\n",
       "      <th></th>\n",
       "      <th>0</th>\n",
       "      <th>1</th>\n",
       "      <th>2</th>\n",
       "      <th>3</th>\n",
       "      <th>4</th>\n",
       "      <th>5</th>\n",
       "      <th>6</th>\n",
       "      <th>7</th>\n",
       "      <th>8</th>\n",
       "      <th>9</th>\n",
       "      <th>...</th>\n",
       "      <th>2426</th>\n",
       "      <th>2427</th>\n",
       "      <th>2428</th>\n",
       "      <th>2429</th>\n",
       "      <th>2430</th>\n",
       "      <th>2431</th>\n",
       "      <th>2432</th>\n",
       "      <th>2433</th>\n",
       "      <th>2434</th>\n",
       "      <th>2435</th>\n",
       "    </tr>\n",
       "    <tr>\n",
       "      <th>date</th>\n",
       "      <th></th>\n",
       "      <th></th>\n",
       "      <th></th>\n",
       "      <th></th>\n",
       "      <th></th>\n",
       "      <th></th>\n",
       "      <th></th>\n",
       "      <th></th>\n",
       "      <th></th>\n",
       "      <th></th>\n",
       "      <th></th>\n",
       "      <th></th>\n",
       "      <th></th>\n",
       "      <th></th>\n",
       "      <th></th>\n",
       "      <th></th>\n",
       "      <th></th>\n",
       "      <th></th>\n",
       "      <th></th>\n",
       "      <th></th>\n",
       "      <th></th>\n",
       "    </tr>\n",
       "  </thead>\n",
       "  <tbody>\n",
       "    <tr>\n",
       "      <th>2010-01-04</th>\n",
       "      <td>NaN</td>\n",
       "      <td>NaN</td>\n",
       "      <td>NaN</td>\n",
       "      <td>NaN</td>\n",
       "      <td>NaN</td>\n",
       "      <td>NaN</td>\n",
       "      <td>NaN</td>\n",
       "      <td>NaN</td>\n",
       "      <td>NaN</td>\n",
       "      <td>NaN</td>\n",
       "      <td>...</td>\n",
       "      <td>NaN</td>\n",
       "      <td>NaN</td>\n",
       "      <td>NaN</td>\n",
       "      <td>NaN</td>\n",
       "      <td>NaN</td>\n",
       "      <td>NaN</td>\n",
       "      <td>NaN</td>\n",
       "      <td>NaN</td>\n",
       "      <td>NaN</td>\n",
       "      <td>NaN</td>\n",
       "    </tr>\n",
       "    <tr>\n",
       "      <th>2010-01-05</th>\n",
       "      <td>0.031298</td>\n",
       "      <td>0.010467</td>\n",
       "      <td>-0.016575</td>\n",
       "      <td>0.004902</td>\n",
       "      <td>-0.010927</td>\n",
       "      <td>0.006730</td>\n",
       "      <td>-0.003376</td>\n",
       "      <td>0.004707</td>\n",
       "      <td>0.002931</td>\n",
       "      <td>0.010305</td>\n",
       "      <td>...</td>\n",
       "      <td>0.025990</td>\n",
       "      <td>-0.045205</td>\n",
       "      <td>0.010171</td>\n",
       "      <td>0.031328</td>\n",
       "      <td>0.006757</td>\n",
       "      <td>0.005876</td>\n",
       "      <td>0.025986</td>\n",
       "      <td>0.004815</td>\n",
       "      <td>-0.008101</td>\n",
       "      <td>0.006050</td>\n",
       "    </tr>\n",
       "    <tr>\n",
       "      <th>2010-01-06</th>\n",
       "      <td>-0.011794</td>\n",
       "      <td>0.002125</td>\n",
       "      <td>-0.016854</td>\n",
       "      <td>-0.019512</td>\n",
       "      <td>-0.035804</td>\n",
       "      <td>0.019457</td>\n",
       "      <td>0.013173</td>\n",
       "      <td>-0.030115</td>\n",
       "      <td>0.000421</td>\n",
       "      <td>0.000835</td>\n",
       "      <td>...</td>\n",
       "      <td>-0.009226</td>\n",
       "      <td>-0.005261</td>\n",
       "      <td>0.005343</td>\n",
       "      <td>0.015717</td>\n",
       "      <td>-0.067114</td>\n",
       "      <td>0.000982</td>\n",
       "      <td>0.009383</td>\n",
       "      <td>0.005857</td>\n",
       "      <td>0.002689</td>\n",
       "      <td>0.007314</td>\n",
       "    </tr>\n",
       "    <tr>\n",
       "      <th>2010-01-07</th>\n",
       "      <td>0.003445</td>\n",
       "      <td>-0.016257</td>\n",
       "      <td>0.002189</td>\n",
       "      <td>0.034826</td>\n",
       "      <td>0.060050</td>\n",
       "      <td>-0.009983</td>\n",
       "      <td>-0.015602</td>\n",
       "      <td>0.008711</td>\n",
       "      <td>0.027010</td>\n",
       "      <td>-0.019369</td>\n",
       "      <td>...</td>\n",
       "      <td>0.072129</td>\n",
       "      <td>0.040865</td>\n",
       "      <td>0.002197</td>\n",
       "      <td>-0.023955</td>\n",
       "      <td>0.050360</td>\n",
       "      <td>0.002931</td>\n",
       "      <td>-0.013430</td>\n",
       "      <td>0.015087</td>\n",
       "      <td>-0.030761</td>\n",
       "      <td>-0.004034</td>\n",
       "    </tr>\n",
       "    <tr>\n",
       "      <th>2010-01-08</th>\n",
       "      <td>0.019436</td>\n",
       "      <td>-0.003458</td>\n",
       "      <td>-0.006884</td>\n",
       "      <td>0.091346</td>\n",
       "      <td>-0.032370</td>\n",
       "      <td>0.003361</td>\n",
       "      <td>-0.011698</td>\n",
       "      <td>-0.017956</td>\n",
       "      <td>0.003479</td>\n",
       "      <td>0.019752</td>\n",
       "      <td>...</td>\n",
       "      <td>-0.017372</td>\n",
       "      <td>-0.018476</td>\n",
       "      <td>-0.002192</td>\n",
       "      <td>-0.001067</td>\n",
       "      <td>0.000000</td>\n",
       "      <td>0.000991</td>\n",
       "      <td>0.006185</td>\n",
       "      <td>0.015593</td>\n",
       "      <td>0.013084</td>\n",
       "      <td>0.007290</td>\n",
       "    </tr>\n",
       "  </tbody>\n",
       "</table>\n",
       "<p>5 rows × 2436 columns</p>\n",
       "</div>"
      ],
      "text/plain": [
       "                   0         1         2         3         4         5         6         7         8         9  ...      2426      2427      2428      2429      2430      2431      2432      2433      2434      2435\n",
       "date                                                                                                            ...                                                                                                    \n",
       "2010-01-04       NaN       NaN       NaN       NaN       NaN       NaN       NaN       NaN       NaN       NaN  ...       NaN       NaN       NaN       NaN       NaN       NaN       NaN       NaN       NaN       NaN\n",
       "2010-01-05  0.031298  0.010467 -0.016575  0.004902 -0.010927  0.006730 -0.003376  0.004707  0.002931  0.010305  ...  0.025990 -0.045205  0.010171  0.031328  0.006757  0.005876  0.025986  0.004815 -0.008101  0.006050\n",
       "2010-01-06 -0.011794  0.002125 -0.016854 -0.019512 -0.035804  0.019457  0.013173 -0.030115  0.000421  0.000835  ... -0.009226 -0.005261  0.005343  0.015717 -0.067114  0.000982  0.009383  0.005857  0.002689  0.007314\n",
       "2010-01-07  0.003445 -0.016257  0.002189  0.034826  0.060050 -0.009983 -0.015602  0.008711  0.027010 -0.019369  ...  0.072129  0.040865  0.002197 -0.023955  0.050360  0.002931 -0.013430  0.015087 -0.030761 -0.004034\n",
       "2010-01-08  0.019436 -0.003458 -0.006884  0.091346 -0.032370  0.003361 -0.011698 -0.017956  0.003479  0.019752  ... -0.017372 -0.018476 -0.002192 -0.001067  0.000000  0.000991  0.006185  0.015593  0.013084  0.007290\n",
       "\n",
       "[5 rows x 2436 columns]"
      ]
     },
     "execution_count": 4,
     "metadata": {},
     "output_type": "execute_result"
    }
   ],
   "source": [
    "data_returns = pd.read_csv('../data/data_returns.csv', index_col='date')\n",
    "data_returns.index = data_returns.index.astype('datetime64').rename('date')\n",
    "data_returns.head()"
   ]
  },
  {
   "cell_type": "code",
   "execution_count": 5,
   "metadata": {},
   "outputs": [],
   "source": [
    "# numpy\n",
    "def neutralize(alpha):\n",
    "    return alpha - np.mean(alpha)"
   ]
  },
  {
   "cell_type": "code",
   "execution_count": 6,
   "metadata": {},
   "outputs": [],
   "source": [
    "def normalize(alpha):\n",
    "    return alpha / np.sum(np.abs(alpha))"
   ]
  },
  {
   "cell_type": "code",
   "execution_count": 7,
   "metadata": {},
   "outputs": [],
   "source": [
    "def truncate(alpha, max_weight, coef):\n",
    "    signs = (alpha / np.abs(alpha))\n",
    "    alpha[np.abs(alpha) > max_weight * coef] = max_weight * coef\n",
    "    alpha = alpha * signs\n",
    "    return alpha"
   ]
  },
  {
   "cell_type": "code",
   "execution_count": 8,
   "metadata": {},
   "outputs": [],
   "source": [
    "# pandas\n",
    "def get_returns(data):\n",
    "    return (data / data.shift(1)) - 1"
   ]
  },
  {
   "cell_type": "code",
   "execution_count": 9,
   "metadata": {},
   "outputs": [],
   "source": [
    "def get_rank(alpha):\n",
    "    return scipy.stats.rankdata(alpha, method='ordinal') / (len(alpha) - 1)"
   ]
  },
  {
   "cell_type": "code",
   "execution_count": 10,
   "metadata": {},
   "outputs": [],
   "source": [
    "def cut_outliers(alpha, coef=0.01):\n",
    "    alpha[alpha < np.quantile(alpha, coef)] = 0\n",
    "    alpha[alpha > np.quantile(alpha, 1 - coef)] = 0\n",
    "    return alpha"
   ]
  },
  {
   "cell_type": "code",
   "execution_count": 11,
   "metadata": {},
   "outputs": [],
   "source": [
    "def cut_middle(alpha, coef=0.01):\n",
    "    alpha[(alpha < np.quantile(alpha, 0.5 + coef)) & (alpha > np.quantile(alpha, 0.5 - coef))] = 0\n",
    "    return alpha"
   ]
  },
  {
   "cell_type": "code",
   "execution_count": 12,
   "metadata": {},
   "outputs": [],
   "source": [
    "def turnover(alphas, option=0):\n",
    "    turnover_days = abs(alphas.diff(periods=1)).sum(axis=1)\n",
    "    if option == 1:\n",
    "        return turnover_days\n",
    "    return turnover_days.groupby(alphas.index.year).mean()"
   ]
  },
  {
   "cell_type": "code",
   "execution_count": 13,
   "metadata": {},
   "outputs": [],
   "source": [
    "def get_sharpe_coef(days_pnl):\n",
    "    ans = pd.DataFrame()\n",
    "    ans['coef_sharpe'] = days_pnl.groupby(days_pnl.index.year).apply(lambda x : np.sqrt(len(x) - 1) * np.mean(x) / np.std(x))\n",
    "    return ans"
   ]
  },
  {
   "cell_type": "code",
   "execution_count": 14,
   "metadata": {},
   "outputs": [],
   "source": [
    "def get_drawdown_t_2(pnl_cum):\n",
    "    pnl_cum_index =  pnl_cum.index\n",
    "    pnl_cum = np.array(pnl_cum)\n",
    "    max_drawdown = -1\n",
    "    for i in range(0, len(pnl_cum)):\n",
    "        for j in range(i + 1, len(pnl_cum)):\n",
    "            if ((pnl_cum[i] - pnl_cum[j]) / pnl_cum[i] > max_drawdown) and (pnl_cum[i] - pnl_cum[j]) > 0:\n",
    "                if (pnl_cum[i] - pnl_cum[j]) / pnl_cum[i] != np.inf:\n",
    "                    max_drawdown = (pnl_cum[i] - pnl_cum[j]) / pnl_cum[i]\n",
    "                    days_i = i\n",
    "                    days_j = j\n",
    "    return max_drawdown, pnl_cum_index[days_i].strftime(\"%d.%m.%Y\"), pnl_cum_index[days_j].strftime(\"%d.%m.%Y\")"
   ]
  },
  {
   "cell_type": "code",
   "execution_count": 15,
   "metadata": {},
   "outputs": [],
   "source": [
    "def get_drawdown_years(pnl_cum):\n",
    "    return pnl_cum.groupby(pnl_cum.index.year).apply(lambda x: get_drawdown_t_2(x))"
   ]
  },
  {
   "cell_type": "code",
   "execution_count": 16,
   "metadata": {},
   "outputs": [],
   "source": [
    "def get_pnl(data_returns, alpha, option=0):\n",
    "    data_returns = data_returns.iloc[2:]\n",
    "    pnl = alpha.reset_index(drop=True).mul(data_returns.reset_index(drop=True), axis=0).sum(axis=1)\n",
    "    ans = pd.DataFrame()\n",
    "    ans['pnl'] = pnl\n",
    "    ans = ans.set_index(alpha.index).shift(2)\n",
    "    if option == 1:\n",
    "        return ans.set_index(alpha.index).groupby(alpha.index.year).sum()\n",
    "    return ans"
   ]
  },
  {
   "attachments": {},
   "cell_type": "markdown",
   "metadata": {},
   "source": [
    "##### Generate alpha and statistics"
   ]
  },
  {
   "cell_type": "code",
   "execution_count": 17,
   "metadata": {},
   "outputs": [],
   "source": [
    "def alpha_stats(data_returns, alpha):\n",
    "    days_pnl = get_pnl(data_returns, alpha)['pnl']\n",
    "    returns_table = pd.DataFrame()\n",
    "    returns_table['years_pnl_cum'] = get_pnl(data_returns, alpha, 1)\n",
    "    returns_table['turnover'] = turnover(alpha)\n",
    "    returns_table['sharpe_coef'] = get_sharpe_coef(days_pnl)\n",
    "    returns_table['drawdown'] = get_drawdown_years(days_pnl.cumsum()).apply(lambda x: x[0])\n",
    "    returns_table['drawdown_day_start'] = get_drawdown_years(days_pnl.cumsum()).apply(lambda x: x[1])\n",
    "    returns_table['drawdown_day_end'] = get_drawdown_years(days_pnl.cumsum()).apply(lambda x: x[2])\n",
    "    return returns_table"
   ]
  },
  {
   "cell_type": "code",
   "execution_count": 18,
   "metadata": {},
   "outputs": [],
   "source": [
    "def generate_alphas(data_returns, algh_alpha, max_n=1, data_close=0, data_open=0, data_high=0, data_low=0, volume=0, cut_middle_coef=0, cut_outliers_coef=0, ranking=False, filename=0):\n",
    "    with open(filename, \"w\") as external_file:\n",
    "        for n in range(1, max_n + 1):\n",
    "            text = 'n =', n, 'cut_middle_coef = 0,   cut_outliers_coef = 0,   ranking = False'\n",
    "            print(text, file=external_file)\n",
    "            print(alpha_stats(data_returns, algh_alpha(n, data_close, data_open, data_high, data_low, volume, cut_middle_coef=0, cut_outliers_coef=0, ranking=False)), file=external_file)\n",
    "            print('\\n', file=external_file)\n",
    "\n",
    "        \n",
    "        for n in range(1, max_n + 1):\n",
    "            text = 'n =', n, 'cut_middle_coef = 0.01,   cut_outliers_coef = 0.01,   ranking = False'\n",
    "            print(text, file=external_file)\n",
    "            print(alpha_stats(data_returns, algh_alpha(n, data_close, data_open, data_high, data_low, volume, cut_middle_coef=0.01, cut_outliers_coef=0.01, ranking=False)), file=external_file)\n",
    "            print('\\n', file=external_file)\n",
    "\n",
    "\n",
    "        for n in range(1, max_n + 1):\n",
    "            text = 'n =', n, 'cut_middle_coef = 0.01,   cut_outliers_coef = 0.01,   ranking = True'\n",
    "            print(text, file=external_file)\n",
    "            print(alpha_stats(data_returns, algh_alpha(n, data_close, data_open, data_high, data_low, volume, cut_middle_coef=0.01, cut_outliers_coef=0.01, ranking=True)), file=external_file)\n",
    "            print('\\n', file=external_file)"
   ]
  },
  {
   "attachments": {},
   "cell_type": "markdown",
   "metadata": {},
   "source": [
    "#### Task 1    \n",
    "Alpha: reversion\n",
    "$$ kernel(d) = -\\left({close(d) \\over close(d - n))} - 1\\right) $$\n",
    "$$ return(d) = {close(d) \\over close(d - 1)} - 1 $$\n",
    "$$ pnl(d) = \\alpha(d - 2) * return(d)$$\n"
   ]
  },
  {
   "cell_type": "code",
   "execution_count": 19,
   "metadata": {},
   "outputs": [],
   "source": [
    "def algh_alpha_reversion(n=1, data_close=0, data_open=0, data_high=0, data_low=0, volume=0, cut_middle_coef=0, cut_outliers_coef=0, ranking=False):\n",
    "    kernel = -(data_close / data_close.shift(n) - 1)\n",
    "    if ranking == True:\n",
    "        kernel = kernel.T.apply(lambda x: get_rank(x)).T\n",
    "    alpha = alpha.T.apply(lambda x: cut_outliers(x, cut_outliers_coef)).apply(lambda x: cut_middle(x, cut_middle_coef)).apply(neutralize).apply(normalize).T\n",
    "    return alpha"
   ]
  },
  {
   "cell_type": "code",
   "execution_count": 20,
   "metadata": {},
   "outputs": [
    {
     "ename": "UnboundLocalError",
     "evalue": "local variable 'alpha' referenced before assignment",
     "output_type": "error",
     "traceback": [
      "\u001b[0;31m---------------------------------------------------------------------------\u001b[0m",
      "\u001b[0;31mUnboundLocalError\u001b[0m                         Traceback (most recent call last)",
      "Cell \u001b[0;32mIn[20], line 1\u001b[0m\n\u001b[0;32m----> 1\u001b[0m generate_alphas(data_returns, algh_alpha_reversion, data_close\u001b[39m=\u001b[39;49mdata_close, max_n\u001b[39m=\u001b[39;49m\u001b[39m6\u001b[39;49m, cut_middle_coef\u001b[39m=\u001b[39;49m\u001b[39m0.01\u001b[39;49m, cut_outliers_coef\u001b[39m=\u001b[39;49m\u001b[39m0.01\u001b[39;49m, filename\u001b[39m=\u001b[39;49m\u001b[39m'\u001b[39;49m\u001b[39mstats_alpha_reversion.txt\u001b[39;49m\u001b[39m'\u001b[39;49m)\n",
      "Cell \u001b[0;32mIn[18], line 6\u001b[0m, in \u001b[0;36mgenerate_alphas\u001b[0;34m(data_returns, algh_alpha, max_n, data_close, data_open, data_high, data_low, volume, cut_middle_coef, cut_outliers_coef, ranking, filename)\u001b[0m\n\u001b[1;32m      4\u001b[0m     text \u001b[39m=\u001b[39m \u001b[39m'\u001b[39m\u001b[39mn =\u001b[39m\u001b[39m'\u001b[39m, n, \u001b[39m'\u001b[39m\u001b[39mcut_middle_coef = 0,   cut_outliers_coef = 0,   ranking = False\u001b[39m\u001b[39m'\u001b[39m\n\u001b[1;32m      5\u001b[0m     \u001b[39mprint\u001b[39m(text, file\u001b[39m=\u001b[39mexternal_file)\n\u001b[0;32m----> 6\u001b[0m     \u001b[39mprint\u001b[39m(alpha_stats(data_returns, algh_alpha(n, data_close, data_open, data_high, data_low, volume, cut_middle_coef\u001b[39m=\u001b[39;49m\u001b[39m0\u001b[39;49m, cut_outliers_coef\u001b[39m=\u001b[39;49m\u001b[39m0\u001b[39;49m, ranking\u001b[39m=\u001b[39;49m\u001b[39mFalse\u001b[39;49;00m)), file\u001b[39m=\u001b[39mexternal_file)\n\u001b[1;32m      7\u001b[0m     \u001b[39mprint\u001b[39m(\u001b[39m'\u001b[39m\u001b[39m\\n\u001b[39;00m\u001b[39m'\u001b[39m, file\u001b[39m=\u001b[39mexternal_file)\n\u001b[1;32m     10\u001b[0m \u001b[39mfor\u001b[39;00m n \u001b[39min\u001b[39;00m \u001b[39mrange\u001b[39m(\u001b[39m1\u001b[39m, max_n \u001b[39m+\u001b[39m \u001b[39m1\u001b[39m):\n",
      "Cell \u001b[0;32mIn[19], line 5\u001b[0m, in \u001b[0;36malgh_alpha_reversion\u001b[0;34m(n, data_close, data_open, data_high, data_low, volume, cut_middle_coef, cut_outliers_coef, ranking)\u001b[0m\n\u001b[1;32m      3\u001b[0m \u001b[39mif\u001b[39;00m ranking \u001b[39m==\u001b[39m \u001b[39mTrue\u001b[39;00m:\n\u001b[1;32m      4\u001b[0m     kernel \u001b[39m=\u001b[39m kernel\u001b[39m.\u001b[39mT\u001b[39m.\u001b[39mapply(\u001b[39mlambda\u001b[39;00m x: get_rank(x))\u001b[39m.\u001b[39mT\n\u001b[0;32m----> 5\u001b[0m alpha \u001b[39m=\u001b[39m alpha\u001b[39m.\u001b[39mT\u001b[39m.\u001b[39mapply(\u001b[39mlambda\u001b[39;00m x: cut_outliers(x, cut_outliers_coef))\u001b[39m.\u001b[39mapply(\u001b[39mlambda\u001b[39;00m x: cut_middle(x, cut_middle_coef))\u001b[39m.\u001b[39mapply(neutralize)\u001b[39m.\u001b[39mapply(normalize)\u001b[39m.\u001b[39mT\n\u001b[1;32m      6\u001b[0m \u001b[39mreturn\u001b[39;00m alpha\n",
      "\u001b[0;31mUnboundLocalError\u001b[0m: local variable 'alpha' referenced before assignment"
     ]
    }
   ],
   "source": [
    "generate_alphas(data_returns, algh_alpha_reversion, data_close=data_close, max_n=6, cut_middle_coef=0.01, cut_outliers_coef=0.01, filename='stats_alpha_reversion.txt')"
   ]
  },
  {
   "attachments": {},
   "cell_type": "markdown",
   "metadata": {},
   "source": [
    "#### Task 2\n",
    "$$ kernel (d) = {high(d) - low(d)} $$\n",
    "$$ \\alpha (d) = {high(d) - low(d) \\over open(d)} $$\n"
   ]
  },
  {
   "cell_type": "code",
   "execution_count": null,
   "metadata": {},
   "outputs": [],
   "source": [
    "def algh_alpha_high_minus_low(n=1, data_close=0, data_open=0, data_high=0, data_low=0, volume=0, cut_middle_coef=0, cut_outliers_coef=0, ranking=False):\n",
    "    kernel = (data_high - data_low) / data_open \n",
    "    if ranking ==True:\n",
    "        kernel = kernel.T.apply(lambda x: get_rank(x)).T\n",
    "    alpha = alpha.T.apply(lambda x: cut_outliers(x, cut_outliers_coef)).apply(lambda x: cut_middle(x, cut_middle_coef)).apply(neutralize).apply(normalize).T\n",
    "    return alpha"
   ]
  },
  {
   "cell_type": "code",
   "execution_count": null,
   "metadata": {},
   "outputs": [],
   "source": [
    "generate_alphas(data_returns, algh_alpha_high_minus_low, data_open=data_open, data_high=data_high, data_low=data_low, cut_middle_coef=0.01, cut_outliers_coef=0.01, filename='stats_alpha_high_minus_low.txt')"
   ]
  },
  {
   "attachments": {},
   "cell_type": "markdown",
   "metadata": {},
   "source": [
    "####\n",
    "$$ kernel (d) = {high(d) \\over low(d)} $$\n",
    "$$ \\alpha (d) = kernel - 1 $$\n"
   ]
  },
  {
   "cell_type": "code",
   "execution_count": null,
   "metadata": {},
   "outputs": [],
   "source": [
    "def algh_alpha_high_over_low(n=1, data_close=0, data_open=0, data_high=0, data_low=0, volume=0, cut_middle_coef=0, cut_outliers_coef=0, ranking=False):\n",
    "    kernel = data_high / data_low - 1\n",
    "    if ranking ==True:\n",
    "        kernel = kernel.T.apply(lambda x: get_rank(x)).T\n",
    "    alpha = alpha.T.apply(lambda x: cut_outliers(x, cut_outliers_coef)).apply(lambda x: cut_middle(x, cut_middle_coef)).apply(neutralize).apply(normalize).T\n",
    "    return alpha"
   ]
  },
  {
   "cell_type": "code",
   "execution_count": null,
   "metadata": {},
   "outputs": [],
   "source": [
    "generate_alphas(data_returns, algh_alpha_high_over_low, data_high=data_high, data_low=data_low, cut_middle_coef=0.01, cut_outliers_coef=0.01, filename='stats_alpha_high_over_low.txt')"
   ]
  },
  {
   "attachments": {},
   "cell_type": "markdown",
   "metadata": {},
   "source": [
    "#### Task 3"
   ]
  },
  {
   "attachments": {},
   "cell_type": "markdown",
   "metadata": {},
   "source": [
    "$$ kernel(d) = high(d) + low(d) - 2*close(d)$$ \n",
    "$$ alpha(d) = kernel(d) "
   ]
  },
  {
   "cell_type": "code",
   "execution_count": null,
   "metadata": {},
   "outputs": [],
   "source": [
    "def algh_alpha_high_plus_low_minus_two_close(n=1, data_close=0, data_open=0, data_high=0, data_low=0, volume=0, cut_middle_coef=0, cut_outliers_coef=0, ranking=False):\n",
    "    kernel = data_high + data_low - 2 * data_close\n",
    "    if ranking ==True:\n",
    "        kernel = kernel.T.apply(lambda x: get_rank(x)).T\n",
    "    alpha = alpha.T.apply(lambda x: cut_outliers(x, cut_outliers_coef)).apply(lambda x: cut_middle(x, cut_middle_coef)).apply(neutralize).apply(normalize).T\n",
    "    return alpha"
   ]
  },
  {
   "cell_type": "code",
   "execution_count": null,
   "metadata": {},
   "outputs": [],
   "source": [
    "generate_alphas(data_returns, algh_alpha_high_plus_low_minus_two_close, data_close=data_close, data_high=data_high, data_low=data_low, cut_middle_coef=0.01, cut_outliers_coef=0.01, filename='stats_high_plus_low_minus_two_close.txt')"
   ]
  },
  {
   "attachments": {},
   "cell_type": "markdown",
   "metadata": {},
   "source": [
    "$$ kernel(d) = {high(d) * low(d) \\over close^2(d)} $$\n",
    "$$ \\alpha(d) = \\ln(kernel)"
   ]
  },
  {
   "cell_type": "code",
   "execution_count": null,
   "metadata": {},
   "outputs": [],
   "source": [
    "def algh_alpha_high_mul_low_over_close2(n=1, data_close=0, data_open=0, data_high=0, data_low=0, volume=0, cut_middle_coef=0, cut_outliers_coef=0, ranking=False):\n",
    "    kernel = np.log((data_high * data_low) / data_close ** 2)\n",
    "    if ranking == True:\n",
    "        kernel = kernel.T.apply(lambda x: get_rank(x)).T\n",
    "    alpha = alpha.T.apply(lambda x: cut_outliers(x, cut_outliers_coef)).apply(lambda x: cut_middle(x, cut_middle_coef)).apply(neutralize).apply(normalize).T\n",
    "    return alpha"
   ]
  },
  {
   "cell_type": "code",
   "execution_count": null,
   "metadata": {},
   "outputs": [],
   "source": [
    "generate_alphas(data_returns, algh_alpha_high_mul_low_over_close2, data_close=data_close, data_high=data_high, data_low=data_low, cut_middle_coef=0.01, cut_outliers_coef=0.01, filename='stats_alpha_high_mul_low_over_close2.txt')"
   ]
  },
  {
   "attachments": {},
   "cell_type": "markdown",
   "metadata": {},
   "source": [
    "$$ kernel(d) = {high(d) + low(d) \\over 2} < close(d)?    1:-1 $$\n",
    "$$ \\alpha(d) = kernel(d) * \\left({close(d) \\over close(d - n)}\\right)"
   ]
  },
  {
   "cell_type": "code",
   "execution_count": null,
   "metadata": {},
   "outputs": [],
   "source": [
    "def algh_high_plus_low_less_two_close(n=1, data_close=0, data_open=0, data_high=0, data_low=0, volume=0, cut_middle_coef=0, cut_outliers_coef=0, ranking=False):\n",
    "    kernel = (data_high + data_low < 2 * data_close).replace({True: 1, False: -1})\n",
    "    alpha = kernel * (data_close / data_close.shift(n) - 1)\n",
    "    if ranking ==True:\n",
    "        kernel = kernel.T.apply(lambda x: get_rank(x)).T\n",
    "    alpha = alpha.T.apply(lambda x: cut_outliers(x, cut_outliers_coef)).apply(lambda x: cut_middle(x, cut_middle_coef)).apply(neutralize).apply(normalize).T\n",
    "    return alpha"
   ]
  },
  {
   "cell_type": "code",
   "execution_count": null,
   "metadata": {},
   "outputs": [],
   "source": [
    "generate_alphas(data_returns, algh_high_plus_low_less_two_close, data_close=data_close, data_high=data_high, data_low=data_low, cut_middle_coef=0.01, cut_outliers_coef=0.01, filename='stats_high_plus_low_less_two_close.txt')"
   ]
  },
  {
   "attachments": {},
   "cell_type": "markdown",
   "metadata": {},
   "source": [
    "#### Task 4\n",
    "$$ kernel(d) = {open(d) \\over close(d)} $$\n",
    "$$ \\alpha(d) = kernel(d) - 1"
   ]
  },
  {
   "cell_type": "code",
   "execution_count": null,
   "metadata": {},
   "outputs": [],
   "source": [
    "def algh_open_over_close(n=1, data_close=0, data_open=0, data_high=0, data_low=0, volume=0, cut_middle_coef=0, cut_outliers_coef=0, ranking=False):\n",
    "    kernel = data_open / data_close\n",
    "    alpha = kernel - 1\n",
    "    if ranking ==True:\n",
    "        kernel = kernel.T.apply(lambda x: get_rank(x)).T\n",
    "    alpha = alpha.T.apply(lambda x: cut_outliers(x, cut_outliers_coef)).apply(lambda x: cut_middle(x, cut_middle_coef)).apply(neutralize).apply(normalize).T\n",
    "    return alpha"
   ]
  },
  {
   "cell_type": "code",
   "execution_count": null,
   "metadata": {},
   "outputs": [],
   "source": [
    "generate_alphas(data_returns, algh_open_over_close, data_close=data_close, data_open=data_open, cut_middle_coef=0.01, cut_outliers_coef=0.01, filename='stats_open_over_close.txt')"
   ]
  },
  {
   "attachments": {},
   "cell_type": "markdown",
   "metadata": {},
   "source": [
    "$$ kernel(d) = {high(d) - low(d) \\over close(d)} $$\n",
    "$$ \\alpha(d) = {close(d) - open(d) \\over kernel(d) * close(d)} + 0.001$$"
   ]
  },
  {
   "cell_type": "code",
   "execution_count": null,
   "metadata": {},
   "outputs": [],
   "source": [
    "def algh_high_minus_law_over_close(n=1, data_close=0, data_open=0, data_high=0, data_low=0, volume=0, cut_middle_coef=0, cut_outliers_coef=0, ranking=False):\n",
    "    kernel = (data_low - data_high)\n",
    "    alpha = (data_close - data_open) / (kernel + 0.001)\n",
    "    if ranking ==True:\n",
    "        kernel = kernel.T.apply(lambda x: get_rank(x)).T\n",
    "    alpha = alpha.T.apply(lambda x: cut_outliers(x, cut_outliers_coef)).apply(lambda x: cut_middle(x, cut_middle_coef)).apply(neutralize).apply(normalize).T\n",
    "    return alpha"
   ]
  },
  {
   "cell_type": "code",
   "execution_count": null,
   "metadata": {},
   "outputs": [],
   "source": [
    "generate_alphas(data_returns, algh_high_minus_law_over_close, data_close=data_close, data_open=data_open, data_high=data_high, data_low=data_low, cut_middle_coef=0.01, cut_outliers_coef=0.01, filename='stats_high_minus_law_over_close.txt')"
   ]
  },
  {
   "attachments": {},
   "cell_type": "markdown",
   "metadata": {},
   "source": [
    "#### Task 5"
   ]
  },
  {
   "attachments": {},
   "cell_type": "markdown",
   "metadata": {},
   "source": [
    "$$ kernel(d) = {close(d) - low(d) \\over high(d) - low(d)}"
   ]
  },
  {
   "cell_type": "code",
   "execution_count": null,
   "metadata": {},
   "outputs": [],
   "source": [
    "def algh_close_minus_low_over_high_minus_low(n=1, data_close=0, data_open=0, data_high=0, data_low=0, volume=0, cut_middle_coef=0, cut_outliers_coef=0, ranking=False):\n",
    "    kernel = (data_close - data_low) / (data_high - data_low)\n",
    "    alpha = - kernel\n",
    "    if ranking ==True:\n",
    "        kernel = kernel.T.apply(lambda x: get_rank(x)).T\n",
    "    alpha = alpha.T.apply(lambda x: cut_outliers(x, cut_outliers_coef)).apply(lambda x: cut_middle(x, cut_middle_coef)).apply(neutralize).apply(normalize).T\n",
    "    return alpha"
   ]
  },
  {
   "cell_type": "code",
   "execution_count": null,
   "metadata": {},
   "outputs": [],
   "source": [
    "generate_alphas(data_returns, algh_close_minus_low_over_high_minus_low, data_close=data_close, data_open=data_open, data_high=data_high, data_low=data_low, cut_middle_coef=0.01, cut_outliers_coef=0.01, filename='stats_close_minus_low_over_high_minus_low.txt')"
   ]
  },
  {
   "attachments": {},
   "cell_type": "markdown",
   "metadata": {},
   "source": [
    "$$ kernel(d) = {close(d) - low(d) \\over high(d) - low(d)} < 0.5 ? 1 :-1$$"
   ]
  },
  {
   "cell_type": "code",
   "execution_count": 22,
   "metadata": {},
   "outputs": [],
   "source": [
    "def algh_close_minus_low_over_high_minus_low_less_half(n=1, data_close=0, data_open=0, data_high=0, data_low=0, volume=0, cut_middle_coef=0, cut_outliers_coef=0, ranking=False):\n",
    "    kernel = ((data_close - data_low) / (data_high - data_low) < 0.5).replace({True: 1, False: -1})\n",
    "    alpha = kernel * (data_close / data_close.shift(n) - 1)\n",
    "    if ranking ==True:\n",
    "        kernel = kernel.T.apply(lambda x: get_rank(x)).T\n",
    "    alpha = alpha.T.apply(lambda x: cut_outliers(x, cut_outliers_coef)).apply(lambda x: cut_middle(x, cut_middle_coef)).apply(neutralize).apply(normalize).T\n",
    "    return alpha"
   ]
  },
  {
   "cell_type": "code",
   "execution_count": 23,
   "metadata": {},
   "outputs": [],
   "source": [
    "generate_alphas(data_returns, algh_close_minus_low_over_high_minus_low_less_half, data_close=data_close, data_open=data_open, data_high=data_high, data_low=data_low, cut_middle_coef=0.01, cut_outliers_coef=0.01, filename='stats_close_minus_low_over_high_minus_low_less_half.txt')"
   ]
  }
 ],
 "metadata": {
  "kernelspec": {
   "display_name": "env",
   "language": "python",
   "name": "python3"
  },
  "language_info": {
   "codemirror_mode": {
    "name": "ipython",
    "version": 3
   },
   "file_extension": ".py",
   "mimetype": "text/x-python",
   "name": "python",
   "nbconvert_exporter": "python",
   "pygments_lexer": "ipython3",
   "version": "3.10.9"
  },
  "orig_nbformat": 4,
  "vscode": {
   "interpreter": {
    "hash": "6adf11b20df8b67667ce4d679979abaa8bc2408a2827d6efeadc4d9618f7bafb"
   }
  }
 },
 "nbformat": 4,
 "nbformat_minor": 2
}
