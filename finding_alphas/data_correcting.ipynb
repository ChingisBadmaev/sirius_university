{
 "cells": [
  {
   "cell_type": "code",
   "execution_count": 1,
   "metadata": {},
   "outputs": [],
   "source": [
    "import pandas as pd\n",
    "import numpy as np"
   ]
  },
  {
   "cell_type": "code",
   "execution_count": 37,
   "metadata": {},
   "outputs": [],
   "source": [
    "data_close = pd.read_csv('data/Close.csv').T[1:]\n",
    "data_close.index = data_close.index.astype('datetime64').rename('date')\n",
    "data_close = data_close.astype('float64')\n",
    "\n",
    "data_open = pd.read_csv('data/Open.csv').T[1:]\n",
    "data_open.index = data_open.index.astype('datetime64').rename('date')\n",
    "data_open = data_open.astype('float64')\n",
    "\n",
    "data_low = pd.read_csv('data/Low.csv').T[1:]\n",
    "data_low.index = data_low.index.astype('datetime64').rename('date')\n",
    "data_low = data_low.astype('float64')\n",
    "\n",
    "data_high = pd.read_csv('data/High.csv').T[1:]\n",
    "data_high.index = data_high.index.astype('datetime64').rename('date')\n",
    "data_high = data_high.astype('float64')\n"
   ]
  },
  {
   "cell_type": "code",
   "execution_count": 7,
   "metadata": {},
   "outputs": [],
   "source": [
    "def get_returns(data):\n",
    "    return (data / data.shift(1))"
   ]
  },
  {
   "cell_type": "code",
   "execution_count": 8,
   "metadata": {},
   "outputs": [],
   "source": [
    "def correct_wrong_values(data, scale):\n",
    "    temp = np.array(get_returns(data)).T\n",
    "    err_coord_low = np.where(temp <= (1 / scale))\n",
    "    err_coord_high = np.where(temp >= scale)\n",
    "    for i in range(len(err_coord_low[0])):\n",
    "        id_low_0 = err_coord_low[0][i]\n",
    "        id_low_1 = err_coord_low[1][i]\n",
    "        \n",
    "        id_high_0 = err_coord_high[0][i]\n",
    "        id_high_1 = err_coord_high[1][i]\n",
    "\n",
    "        if 0.5 < data[id_high_0][id_low_1] / data[id_high_0][id_high_1 + 1] < 2:        # if the price has dropped\n",
    "            data[id_high_0][id_high_1] = data[id_high_0][id_high_1 + 1]\n",
    "\n",
    "        if 0.5 < data[id_high_0][id_high_1] / data[id_high_0][id_low_1 + 1] < 2:        # If the price went up\n",
    "            data[id_high_0][id_low_1] = data[id_high_0][id_low_1 + 1]\n",
    "    return pd.DataFrame(data)"
   ]
  },
  {
   "cell_type": "code",
   "execution_count": 33,
   "metadata": {},
   "outputs": [],
   "source": [
    "def get_correct_value(data, newname):\n",
    "    scale = 9\n",
    "    print(np.where(get_returns(data) >= scale)[0])\n",
    "    print(np.where(get_returns(data) >= scale)[1])\n",
    "    print('correct wrong values')\n",
    "    data = correct_wrong_values(data, scale)\n",
    "    print(np.where(get_returns(data) >= scale)[0])\n",
    "    print(np.where(get_returns(data) >= scale)[1])\n",
    "    data.to_csv('data_correct/' + newname + '_correct.csv')"
   ]
  },
  {
   "cell_type": "code",
   "execution_count": 34,
   "metadata": {},
   "outputs": [
    {
     "name": "stdout",
     "output_type": "stream",
     "text": [
      "[ 155  178  256  274  306  567  680  748  856  902  904  983 1047]\n",
      "[1528  592  569  772 1657 1315  185  592 1805  178 2313 2144  565]\n",
      "correct wrong values\n",
      "[256 274]\n",
      "[569 772]\n"
     ]
    }
   ],
   "source": [
    "get_correct_value(data_close, 'Close')"
   ]
  },
  {
   "cell_type": "code",
   "execution_count": 35,
   "metadata": {},
   "outputs": [
    {
     "name": "stdout",
     "output_type": "stream",
     "text": [
      "[ 227  256  274  364  879  887 1019]\n",
      "[544 569 772 592 842 185 178]\n",
      "correct wrong values\n",
      "[256 274]\n",
      "[569 772]\n"
     ]
    }
   ],
   "source": [
    "get_correct_value(data_open, 'Open')"
   ]
  },
  {
   "cell_type": "code",
   "execution_count": 38,
   "metadata": {},
   "outputs": [
    {
     "name": "stdout",
     "output_type": "stream",
     "text": [
      "[  17   51  146  156  156  158  174  227  256  274  476  484  588  776\n",
      "  888  894 1063]\n",
      "[ 921  544 1844  129  544 2232  695  544  569  772 2144 2144 1315 2144\n",
      "  185  185  611]\n",
      "correct wrong values\n",
      "[158 256 274]\n",
      "[2232  569  772]\n"
     ]
    }
   ],
   "source": [
    "get_correct_value(data_low, 'Low')"
   ]
  },
  {
   "cell_type": "code",
   "execution_count": 42,
   "metadata": {},
   "outputs": [
    {
     "name": "stdout",
     "output_type": "stream",
     "text": [
      "[101 256 274 431 589 591 663 725 754 867 886 959]\n",
      "[ 544  569  772 2158 1315 1157  178  592  178 1805  185 1178]\n",
      "correct wrong values\n",
      "[256 274 591]\n",
      "[ 569  772 1157]\n"
     ]
    }
   ],
   "source": [
    "get_correct_value(data_high, 'High')"
   ]
  }
 ],
 "metadata": {
  "kernelspec": {
   "display_name": "env",
   "language": "python",
   "name": "python3"
  },
  "language_info": {
   "codemirror_mode": {
    "name": "ipython",
    "version": 3
   },
   "file_extension": ".py",
   "mimetype": "text/x-python",
   "name": "python",
   "nbconvert_exporter": "python",
   "pygments_lexer": "ipython3",
   "version": "3.10.9"
  },
  "orig_nbformat": 4,
  "vscode": {
   "interpreter": {
    "hash": "6adf11b20df8b67667ce4d679979abaa8bc2408a2827d6efeadc4d9618f7bafb"
   }
  }
 },
 "nbformat": 4,
 "nbformat_minor": 2
}
