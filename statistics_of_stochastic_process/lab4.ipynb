{
 "cells": [
  {
   "cell_type": "code",
   "execution_count": 1,
   "metadata": {},
   "outputs": [],
   "source": [
    "import numpy as np\n",
    "import pandas as pd\n",
    "import matplotlib.pyplot as plt\n",
    "import random\n",
    "from tqdm import tqdm\n",
    "import matplotlib.ticker as ticker\n",
    "from scipy.stats import norm\n",
    "%matplotlib inline"
   ]
  },
  {
   "attachments": {},
   "cell_type": "markdown",
   "metadata": {},
   "source": [
    "### Task 1, 2"
   ]
  },
  {
   "cell_type": "code",
   "execution_count": 2,
   "metadata": {},
   "outputs": [],
   "source": [
    "def OU(X, kappa, alpha, sigma, dW, dt):\n",
    "    dX = kappa * (alpha - X) * dt + sigma * dW\n",
    "    return dX"
   ]
  },
  {
   "cell_type": "code",
   "execution_count": 59,
   "metadata": {},
   "outputs": [],
   "source": [
    "def beta_1(X, n):\n",
    "    first_term = sum(X[i] * X[i - 1] for i in range(1, n)) / n\n",
    "    second_term = (sum(X) - X[0]) * (sum(X) - X[-1]) / (n ** 2)\n",
    "    third_term = (sum(X ** 2) - (X[-1] ** 2)) / n\n",
    "    fouth_term = ((sum(X) - X[-1]) ** 2) / (n ** 2)\n",
    "    b_1 = (first_term - second_term) / (third_term - fouth_term)\n",
    "    return b_1"
   ]
  },
  {
   "cell_type": "code",
   "execution_count": 63,
   "metadata": {},
   "outputs": [
    {
     "data": {
      "text/plain": [
       "0.9996959388005175"
      ]
     },
     "execution_count": 63,
     "metadata": {},
     "output_type": "execute_result"
    }
   ],
   "source": [
    "beta_1(X_ou, len(X_ou))"
   ]
  },
  {
   "cell_type": "code",
   "execution_count": 4,
   "metadata": {},
   "outputs": [],
   "source": [
    "def beta_2(X, n, b_1):\n",
    "    b_2 = sum(X[i] - b_1 * X[i - 1] for i in range(1, n)) / (n * (1 - b_1))\n",
    "    return b_2"
   ]
  },
  {
   "cell_type": "code",
   "execution_count": 5,
   "metadata": {},
   "outputs": [],
   "source": [
    "def beta_3(X, n, b_1, b_2):\n",
    "    b_3 = sum((X[i] - b_1 * X[i - 1] - b_2 * (1 - b_1)) ** 2 for i in range(1, n)) / n\n",
    "    return b_3"
   ]
  },
  {
   "cell_type": "code",
   "execution_count": 45,
   "metadata": {},
   "outputs": [],
   "source": [
    "def theta_2_n(X, delta, n):\n",
    "    first_part = sum(X[i] * X[i - 1] for i in range(1, n))\n",
    "    second_part = sum(X[i - 1] ** 2 for i in range(1, n))\n",
    "    t_2_n = -np.log(first_part / second_part) / delta\n",
    "    return t_2_n"
   ]
  },
  {
   "cell_type": "code",
   "execution_count": 46,
   "metadata": {},
   "outputs": [],
   "source": [
    "def theta_3_n(X, delta, n, t_2_n):\n",
    "    first_part = sum((X[i] - X[i - 1] * np.exp(-delta * t_2_n)) ** 2 for i in range(1, n))\n",
    "    second_part = (2 * t_2_n) / (n * (1 - np.exp(-2 * delta * t_2_n)))\n",
    "    return first_part * second_part"
   ]
  },
  {
   "cell_type": "code",
   "execution_count": 61,
   "metadata": {},
   "outputs": [
    {
     "name": "stderr",
     "output_type": "stream",
     "text": [
      "100%|██████████| 200/200 [00:06<00:00, 30.67it/s]\n"
     ]
    }
   ],
   "source": [
    "kappa = 3\n",
    "alpha = 100\n",
    "sigma = 2\n",
    "N = 10000\n",
    "delta = 1 / N\n",
    "dW = np.random.normal(0, np.sqrt(1 / N), N)\n",
    "M = 200\n",
    "theta_new = np.zeros((M, 3))\n",
    "\n",
    "for j in tqdm(range(M)):\n",
    "    X_ou = np.zeros(N)\n",
    "    X_ou[0] = 10\n",
    "    for i in range(1, N):\n",
    "        dX = OU(X_ou[i - 1], kappa, alpha, sigma, dW[i], 1 / N)\n",
    "        X_ou[i] = X_ou[i - 1] + dX\n",
    "\n",
    "    b_1 = beta_1(X_ou, len(X_ou))\n",
    "    b_2 = beta_2(X_ou, len(X_ou), b_1)\n",
    "    b_3 = beta_3(X_ou, len(X_ou), b_1, b_2)\n",
    "\n",
    "    kappa_new = (-1 / delta) * np.log(b_1)\n",
    "    alpha_new = b_2\n",
    "    sigma_new = np.sqrt(2 * kappa_new * b_3 / (1 - b_1 ** 2))\n",
    "    theta_new[j] = kappa_new, alpha_new, sigma_new"
   ]
  },
  {
   "cell_type": "code",
   "execution_count": 62,
   "metadata": {},
   "outputs": [
    {
     "name": "stdout",
     "output_type": "stream",
     "text": [
      "[ 3.04107435 99.36489002  2.02956855]\n",
      "-0.7797966984794227\n",
      "2.2328422166451762\n"
     ]
    }
   ],
   "source": [
    "print(np.mean(theta_new, axis=0))\n",
    "print(theta_2_n(X_ou ,delta, len(X_ou)))\n",
    "print(np.sqrt(theta_3_n(X_ou ,delta, len(X_ou), theta_2_n(X_ou ,delta, len(X_ou)))))"
   ]
  },
  {
   "cell_type": "code",
   "execution_count": 52,
   "metadata": {},
   "outputs": [
    {
     "name": "stderr",
     "output_type": "stream",
     "text": [
      "100%|██████████| 200/200 [00:06<00:00, 29.26it/s]\n"
     ]
    }
   ],
   "source": [
    "kappa = 3\n",
    "alpha = 1\n",
    "sigma = 2\n",
    "N = 10000\n",
    "delta = 1 / N\n",
    "dW = np.random.normal(0, np.sqrt(1 / N), N)\n",
    "M = 200\n",
    "theta_new = np.zeros((M, 3))\n",
    "\n",
    "for j in tqdm(range(M)):\n",
    "    X_ou = np.zeros(N)\n",
    "    X_ou[0] = 10\n",
    "    for i in range(1, N):\n",
    "        dX = OU(X_ou[i - 1], kappa, alpha, sigma, dW[i], 1 / N)\n",
    "        X_ou[i] = X_ou[i - 1] + dX\n",
    "\n",
    "    b_1 = beta_1(X_ou, len(X_ou))\n",
    "    b_2 = beta_2(X_ou, len(X_ou), b_1)\n",
    "    b_3 = beta_3(X_ou, len(X_ou), b_1, b_2)\n",
    "\n",
    "    kappa_new = (-1 / delta) * np.log(b_1)\n",
    "    alpha_new = b_2\n",
    "    sigma_new = np.sqrt(2 * kappa_new * b_3 / (1 - b_1 ** 2))\n",
    "    theta_new[j] = kappa_new, alpha_new, sigma_new"
   ]
  },
  {
   "cell_type": "code",
   "execution_count": 53,
   "metadata": {},
   "outputs": [
    {
     "name": "stdout",
     "output_type": "stream",
     "text": [
      "[3.66522017 1.68724395 2.00342413]\n"
     ]
    }
   ],
   "source": [
    "print(np.mean(theta_new, axis=0))"
   ]
  },
  {
   "cell_type": "code",
   "execution_count": 8,
   "metadata": {},
   "outputs": [],
   "source": [
    "# X_{t - 1}\n",
    "def func_mu(X_t, kappa, alpha, sigma, delta, n):\n",
    "    expected_value = X_t * np.exp(-kappa * delta) + alpha * (1 - np.exp(-kappa * delta))\n",
    "    return expected_value"
   ]
  },
  {
   "cell_type": "code",
   "execution_count": 9,
   "metadata": {},
   "outputs": [],
   "source": [
    "def func_vi(X_t, kappa, alpha, sigma, delta, n):\n",
    "    variance = 0.5 * (sigma) * (1 - np.exp(-2 * kappa * delta)) / kappa\n",
    "    return variance"
   ]
  },
  {
   "cell_type": "code",
   "execution_count": 10,
   "metadata": {},
   "outputs": [],
   "source": [
    "def likelihood_function(X, X_0, kappa, alpha, sigma, delta, n):\n",
    "    first_multiplier = norm(0, 1).cdf(np.sqrt(2 * kappa) * (X_0 - alpha) / np.sqrt(sigma))\n",
    "    second_multiplier = 1\n",
    "    for i in range(1, n):\n",
    "        mu = func_mu(X[i], kappa, alpha, sigma, delta, n)\n",
    "        vi = func_vi(X[i - 1], kappa, alpha, sigma, delta, n)\n",
    "        second_multiplier *= np.prod(norm(0, 1).cdf((X[i] - mu * X[i - 1]) / np.sqrt(vi * X[i - 1])))\n",
    "    return first_multiplier * second_multiplier"
   ]
  }
 ],
 "metadata": {
  "kernelspec": {
   "display_name": "env",
   "language": "python",
   "name": "python3"
  },
  "language_info": {
   "codemirror_mode": {
    "name": "ipython",
    "version": 3
   },
   "file_extension": ".py",
   "mimetype": "text/x-python",
   "name": "python",
   "nbconvert_exporter": "python",
   "pygments_lexer": "ipython3",
   "version": "3.10.8"
  },
  "orig_nbformat": 4,
  "vscode": {
   "interpreter": {
    "hash": "6d258ca27b2b4bfd6bdbeb226aa62dce269031adb78b88c5b175e24356cd95e9"
   }
  }
 },
 "nbformat": 4,
 "nbformat_minor": 2
}
